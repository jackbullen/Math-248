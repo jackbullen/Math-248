{
 "cells": [
  {
   "cell_type": "markdown",
   "metadata": {},
   "source": [
    "### Libraries"
   ]
  },
  {
   "cell_type": "code",
   "execution_count": 1,
   "metadata": {},
   "outputs": [],
   "source": [
    "import math\n",
    "\n",
    "import numpy as np\n",
    "import matplotlib.pyplot as plt\n",
    "\n",
    "import pandas as pd\n",
    "import scipy as sp\n",
    "\n",
    "from scipy.optimize import fsolve, root_scalar"
   ]
  },
  {
   "cell_type": "markdown",
   "metadata": {},
   "source": [
    "# Root Finding"
   ]
  },
  {
   "cell_type": "markdown",
   "metadata": {},
   "source": [
    "Newtons Method: $$ x_{n+1} = x_n - \\frac {f(x_n)}{f'(x_n)}$$"
   ]
  },
  {
   "cell_type": "markdown",
   "metadata": {},
   "source": [
    "with a for loop"
   ]
  },
  {
   "cell_type": "code",
   "execution_count": 2,
   "metadata": {},
   "outputs": [],
   "source": [
    "r=2\n",
    "\n",
    "f = lambda x: 1-x-np.exp(-r*x)\n",
    "fp = lambda x: -1+r*np.exp(-r*x)\n",
    "\n",
    "tol = 1e-08\n",
    "root = 0.4\n",
    "for i in range(100000):\n",
    "    root = root-f(root)/fp(root)  \n",
    "    \n",
    "# print(f\"the root is {root}\")"
   ]
  },
  {
   "cell_type": "markdown",
   "metadata": {},
   "source": [
    "# Difference Equations"
   ]
  },
  {
   "cell_type": "code",
   "execution_count": 3,
   "metadata": {},
   "outputs": [],
   "source": [
    "def logistic(x, r=3.9):\n",
    "    return r*x*(1-x)\n",
    "\n",
    "# logistic map for a few values of r\n",
    "\n",
    "rs = [2.5, 3, 3.5, 3.9, 4.0, 4.1]\n",
    "# rs = np.linspace(2.5, 4.0, 6)\n",
    "\n",
    "# plt.figure(figsize=(12, 8))\n",
    "\n",
    "for r in rs:\n",
    "    xs = [0.1]\n",
    "\n",
    "    for i in range(60):\n",
    "        xs.append(logistic(xs[-1], r))\n",
    "        \n",
    "    # plt.subplot(2, 3, rs.index(r)+1)\n",
    "    # plt.plot(xs, '--x')\n",
    "    # plt.title(f\"Logistic map with r={r}\")"
   ]
  },
  {
   "cell_type": "code",
   "execution_count": 4,
   "metadata": {},
   "outputs": [],
   "source": [
    "# bifurcation diagram for logistic map\n",
    "\n",
    "rs = np.linspace(2, 4, 1000)\n",
    "\n",
    "# plt.figure(figsize=(12, 8))\n",
    "\n",
    "for r in rs:\n",
    "    xs = [0.1]\n",
    "    for i in range(1000):\n",
    "        xs.append(logistic(xs[-1], r=r))\n",
    "\n",
    "    # plt.plot([r]*len(xs[-20:]), xs[-20:], '.', markersize=1)"
   ]
  },
  {
   "cell_type": "code",
   "execution_count": 24,
   "metadata": {},
   "outputs": [],
   "source": [
    "# finding 10-periodic solutions of the logistic map. these are groups\n",
    "\n",
    "from scipy.optimize import fsolve\n",
    "from functools import reduce \n",
    "\n",
    "period = 10\n",
    "\n",
    "\n",
    "####################### NEED TO UNDERSTAND THIS ##########################\n",
    "compose = lambda f, g: ( lambda x: f(g(x)) )\n",
    "identity = lambda x : x\n",
    "composite = lambda f, n: identity if n == 0 else reduce(compose, [f] * n)\n",
    "####################### NEED TO UNDERSTAND THIS ##########################\n",
    "\n",
    "\n",
    "x = fsolve(lambda x: composite(logistic, period)(x)-x, 0.2)\n",
    "\n",
    "# for i in range(period+1):\n",
    "#     print(composite(logistic, i)(x))"
   ]
  },
  {
   "cell_type": "markdown",
   "metadata": {},
   "source": [
    "# Numerical Differentiation"
   ]
  },
  {
   "cell_type": "code",
   "execution_count": null,
   "metadata": {},
   "outputs": [],
   "source": []
  },
  {
   "cell_type": "code",
   "execution_count": null,
   "metadata": {},
   "outputs": [],
   "source": []
  },
  {
   "cell_type": "code",
   "execution_count": null,
   "metadata": {},
   "outputs": [],
   "source": []
  },
  {
   "cell_type": "markdown",
   "metadata": {},
   "source": [
    "## remove the below once they are memorized"
   ]
  },
  {
   "cell_type": "markdown",
   "metadata": {},
   "source": [
    "forget them, think long time before looking up"
   ]
  },
  {
   "cell_type": "code",
   "execution_count": 6,
   "metadata": {},
   "outputs": [],
   "source": [
    "# should know this by now. delete it from here\n",
    "\n",
    "# numbers from 0 to 1 and step size is 0.001\n",
    "xs1 = np.arange(0,1,0.001)"
   ]
  },
  {
   "cell_type": "code",
   "execution_count": 7,
   "metadata": {},
   "outputs": [],
   "source": [
    "# should know this by now. delete it from here\n",
    "\n",
    "# 1000 numbers from 0 to 1 linearly spaced\n",
    "xs2 = np.linspace(0,1,1000)"
   ]
  },
  {
   "cell_type": "code",
   "execution_count": 8,
   "metadata": {},
   "outputs": [
    {
     "name": "stdout",
     "output_type": "stream",
     "text": [
      "[0, 1, 2, 3, 4, 5, 6, 7, 8]\n",
      "[1, 2, 3, 4, 5, 6, 7, 8]\n",
      "[0, 1, 2, 3, 4, 5, 6, 7, 8, 9]\n",
      "[9, 8, 7, 6, 5, 4, 3, 2, 1, 0]\n",
      "[0, 3, 6, 9]\n"
     ]
    }
   ],
   "source": [
    "# remove this cell if you are comfortable with python lists and slicing them\n",
    "\n",
    "# list slicing.\n",
    "xs = [0, 1, 2, 3, 4, 5, 6, 7, 8, 9]\n",
    "\n",
    "# everything but last element\n",
    "print(xs[:-1])\n",
    "\n",
    "# neither first nor last\n",
    "print(xs[1:-1])\n",
    "\n",
    "# slice everything\n",
    "print(xs[:])\n",
    "\n",
    "# in reverse\n",
    "print(xs[::-1])\n",
    "\n",
    "# everything in steps of three\n",
    "print(xs[::3])\n",
    "\n"
   ]
  },
  {
   "cell_type": "code",
   "execution_count": 9,
   "metadata": {},
   "outputs": [
    {
     "name": "stdout",
     "output_type": "stream",
     "text": [
      "[1 2 3]\n",
      "[1 4 7]\n",
      "[[1 2 3]\n",
      " [4 5 6]]\n",
      "[[2 3]\n",
      " [5 6]\n",
      " [8 9]]\n"
     ]
    },
    {
     "data": {
      "text/plain": [
       "array([[1, 2, 3],\n",
       "       [4, 5, 6],\n",
       "       [7, 8, 9]])"
      ]
     },
     "execution_count": 9,
     "metadata": {},
     "output_type": "execute_result"
    }
   ],
   "source": [
    "# remove this cell if you are comfortable with numpy matrices and slicing them\n",
    "\n",
    "# matrix slicing\n",
    "A = np.array([[1,2,3],[4,5,6],[7,8,9]])\n",
    "\n",
    "# first row. think of it like index the first row and grab everything\n",
    "print(A[0,:])\n",
    "\n",
    "# first column\n",
    "print(A[:,0])\n",
    "\n",
    "# first two rows\n",
    "print(A[:2,:])\n",
    "\n",
    "# last two columns\n",
    "print(A[:,-2:])\n",
    "\n",
    "A"
   ]
  },
  {
   "cell_type": "code",
   "execution_count": 10,
   "metadata": {},
   "outputs": [
    {
     "data": {
      "text/plain": [
       "[<matplotlib.lines.Line2D at 0x123b89f90>]"
      ]
     },
     "execution_count": 10,
     "metadata": {},
     "output_type": "execute_result"
    },
    {
     "data": {
      "image/png": "[encoded data removed]",
      "text/plain": [
       "<Figure size 640x480 with 1 Axes>"
      ]
     },
     "metadata": {},
     "output_type": "display_data"
    }
   ],
   "source": [
    "# remove this cell if you are comfortable with plotting\n",
    "\n",
    "# basic plt.plot(): plotting sin(x), 100  x values from 0 to pi. \n",
    "\n",
    "xs = np.linspace(0,np.pi,i)\n",
    "ys = np.sin(xs)\n",
    "\n",
    "plt.plot(xs,ys)"
   ]
  },
  {
   "cell_type": "code",
   "execution_count": 11,
   "metadata": {},
   "outputs": [
    {
     "name": "stdout",
     "output_type": "stream",
     "text": [
      "0\n",
      "2\n",
      "4\n",
      "6\n",
      "8\n"
     ]
    }
   ],
   "source": [
    "# condition for even number. mod2 == 0. ie can remove 2 some number of times and left with 0.\n",
    "\n",
    "for x in range(10):\n",
    "    if x%2==0:\n",
    "        print(x)"
   ]
  }
 ],
 "metadata": {
  "kernelspec": {
   "display_name": "Python 3",
   "language": "python",
   "name": "python3"
  },
  "language_info": {
   "codemirror_mode": {
    "name": "ipython",
    "version": 3
   },
   "file_extension": ".py",
   "mimetype": "text/x-python",
   "name": "python",
   "nbconvert_exporter": "python",
   "pygments_lexer": "ipython3",
   "version": "3.11.4"
  },
  "orig_nbformat": 4
 },
 "nbformat": 4,
 "nbformat_minor": 2
}
