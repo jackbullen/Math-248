{
 "cells": [
  {
   "cell_type": "markdown",
   "metadata": {},
   "source": [
    "### Libraries"
   ]
  },
  {
   "cell_type": "code",
   "execution_count": 2,
   "metadata": {},
   "outputs": [],
   "source": [
    "import math\n",
    "\n",
    "import numpy as np\n",
    "import matplotlib.pyplot as plt\n",
    "\n",
    "import pandas as pd\n",
    "import scipy as sp\n",
    "\n",
    "from scipy.optimize import fsolve, root_scalar\n",
    "\n",
    "from scipy.integrate import quad, dblquad, tplquad, nquad\n",
    "\n"
   ]
  },
  {
   "cell_type": "markdown",
   "metadata": {},
   "source": [
    "# Root Finding"
   ]
  },
  {
   "cell_type": "markdown",
   "metadata": {},
   "source": [
    "Newtons Method: $$ x_{n+1} = x_n - \\frac {f(x_n)}{f'(x_n)}$$"
   ]
  },
  {
   "cell_type": "markdown",
   "metadata": {},
   "source": [
    "with a for loop"
   ]
  },
  {
   "cell_type": "code",
   "execution_count": 2,
   "metadata": {},
   "outputs": [],
   "source": [
    "r=2\n",
    "\n",
    "f = lambda x: 1-x-np.exp(-r*x)\n",
    "fp = lambda x: -1+r*np.exp(-r*x)\n",
    "\n",
    "tol = 1e-08\n",
    "root = 0.4\n",
    "for i in range(100000):\n",
    "    root = root-f(root)/fp(root)  \n",
    "    \n",
    "# print(f\"the root is {root}\")"
   ]
  },
  {
   "cell_type": "markdown",
   "metadata": {},
   "source": [
    "# Difference Equations"
   ]
  },
  {
   "cell_type": "code",
   "execution_count": 3,
   "metadata": {},
   "outputs": [],
   "source": [
    "def logistic(x, r=3.9):\n",
    "    return r*x*(1-x)\n",
    "\n",
    "# logistic map for a few values of r\n",
    "\n",
    "rs = [2.5, 3, 3.5, 3.9, 4.0, 4.1]\n",
    "# rs = np.linspace(2.5, 4.0, 6)\n",
    "\n",
    "# plt.figure(figsize=(12, 8))\n",
    "\n",
    "for r in rs:\n",
    "    xs = [0.1]\n",
    "\n",
    "    for i in range(60):\n",
    "        xs.append(logistic(xs[-1], r))\n",
    "        \n",
    "    # plt.subplot(2, 3, rs.index(r)+1)\n",
    "    # plt.plot(xs, '--x')\n",
    "    # plt.title(f\"Logistic map with r={r}\")"
   ]
  },
  {
   "cell_type": "code",
   "execution_count": 4,
   "metadata": {},
   "outputs": [],
   "source": [
    "# bifurcation diagram for logistic map\n",
    "\n",
    "rs = np.linspace(2, 4, 1000)\n",
    "\n",
    "# plt.figure(figsize=(12, 8))\n",
    "\n",
    "for r in rs:\n",
    "    xs = [0.1]\n",
    "    for i in range(1000):\n",
    "        xs.append(logistic(xs[-1], r=r))\n",
    "\n",
    "    # plt.plot([r]*len(xs[-20:]), xs[-20:], '.', markersize=1)"
   ]
  },
  {
   "cell_type": "code",
   "execution_count": 5,
   "metadata": {},
   "outputs": [],
   "source": [
    "# finding 10-periodic solutions of the logistic map\n",
    "from scipy.optimize import fsolve\n",
    "from functools import reduce \n",
    "\n",
    "period = 10\n",
    "\n",
    "def composite(f, n):\n",
    "    # no compositions, return identity\n",
    "    if n == 0:\n",
    "        return lambda x: x\n",
    "    \n",
    "    # apply composition recursively over [f, f, ..., f] (n times)\n",
    "    return reduce(lambda f, g: lambda x: f(g(x)), [f]*n)\n",
    "\n",
    "\n",
    "x = fsolve(lambda x: composite(logistic, period)(x)-x, 0.2)\n",
    "\n",
    "# for i in range(period+1):\n",
    "#     print(composite(logistic, i)(x))"
   ]
  },
  {
   "cell_type": "markdown",
   "metadata": {},
   "source": [
    "# Numerical Differentiation"
   ]
  },
  {
   "cell_type": "code",
   "execution_count": 6,
   "metadata": {},
   "outputs": [],
   "source": [
    "def fwd_diff(f, x, h=1e-8):\n",
    "    return (f(x+h) - f(x)) / h\n",
    "\n",
    "def ct_diff(f, x, h=1e-8):\n",
    "    return (f(x+h) - f(x-h)) / (2*h)"
   ]
  },
  {
   "cell_type": "markdown",
   "metadata": {},
   "source": [
    "# Interpolation"
   ]
  },
  {
   "cell_type": "code",
   "execution_count": 4,
   "metadata": {},
   "outputs": [],
   "source": [
    "N = 20\n",
    "\n",
    "xs = np.linspace(0, 0.6, N)\n",
    "ys = np.sin(2*np.pi*xs) + 0.2*np.random.randn(N)\n",
    "\n",
    "# the matrix containing the nth degree polynomials as rows evaluated at the xs\n",
    "vandermond = lambda xs,n: np.matrix([[x**i for i in range(n)] for x in xs])\n",
    "V = vandermond(xs, len(xs))\n",
    "\n",
    "# solve for the coefficients of the polynomial\n",
    "c = np.linalg.solve(V, ys)\n",
    "\n",
    "# evaluate the polynomial at the xs\n",
    "def poly(c,x):\n",
    "    if x is np.ndarray:\n",
    "        return np.array([sum([c[i]*x**i for i in range(len(c))]) for x in x])\n",
    "    return sum([c[i]*x**i for i in range(len(c))])\n",
    "\n",
    "# plot the polynomial\n",
    "x_range = np.linspace(0, 0.6, 1000)\n",
    "y_range = poly(c, x_range)\n",
    "\n",
    "# plt.plot(x_range, y_range)\n",
    "# plt.plot(xs, ys, '.')\n",
    "# plt.ylim(-1.5, 1.5)"
   ]
  },
  {
   "cell_type": "markdown",
   "metadata": {},
   "source": [
    "# Regression"
   ]
  },
  {
   "cell_type": "code",
   "execution_count": null,
   "metadata": {},
   "outputs": [],
   "source": [
    "def line(c,x):\n",
    "    if x is np.ndarray:\n",
    "        return np.array([c[0]*x + c[1] for x in x])\n",
    "    return c[0]*x + c[1]\n",
    "\n",
    "def llsq(pts):\n",
    "    '''\n",
    "        Returns the coefficients of the linear least squares fit of the points\n",
    "    '''\n",
    "    if type(pts) != np.ndarray:\n",
    "        # could further handle if shape is wrong. if not right shape, transpose it.\n",
    "        print('pts is not an array')\n",
    "        pts = np.array(pts).T\n",
    "        pts = np.array([pts[:,0], np.ones(len(pts))]).T\n",
    "        ys = pts[:,1]\n",
    "    else:\n",
    "        # could further handle if shape is wrong. if not right shape, transpose it.\n",
    "        ys = pts[:,1]\n",
    "        pts = np.array([pts[:,0], np.ones(len(pts))]).T\n",
    "    \n",
    "    c = np.linalg.solve(pts.T@pts, pts.T@ys)\n",
    "    plt.title('Linear Least Squares Demo')\n",
    "    plt.plot(pts[:,0], line(c, pts[:,0]), label=f'slope = {c[0]:0.0f}, intercept = {c[1]:0.1f}')\n",
    "    plt.plot(pts[:,0], ys, '.', label='data')\n",
    "    plt.grid()\n",
    "    plt.legend()\n",
    "    return c"
   ]
  },
  {
   "cell_type": "markdown",
   "metadata": {},
   "source": [
    "# PCA"
   ]
  },
  {
   "cell_type": "code",
   "execution_count": null,
   "metadata": {},
   "outputs": [],
   "source": [
    "def pax(X):\n",
    "    '''\n",
    "        Return eigenvalues and eigenvectors of the covariance matrix\n",
    "    '''\n",
    "    cov = X.T@X\n",
    "    vals, e = np.linalg.eig(cov)\n",
    "\n",
    "    plt.plot(X[:, 0], X[:, 1], '.')\n",
    "    plt.plot([0, e[0, 0]], [0, e[1, 0]], 'r')\n",
    "    plt.plot([0, e[0, 1]], [0, e[1, 1]], 'g')\n",
    "    plt.axis('equal')\n",
    "    return vals, e"
   ]
  },
  {
   "cell_type": "markdown",
   "metadata": {},
   "source": [
    "# Random"
   ]
  },
  {
   "cell_type": "code",
   "execution_count": 20,
   "metadata": {},
   "outputs": [
    {
     "name": "stdout",
     "output_type": "stream",
     "text": [
      "equal\n",
      "equal\n",
      "equal\n",
      "equal\n",
      "equal\n",
      "equal\n",
      "equal\n"
     ]
    }
   ],
   "source": [
    "def run_brownian(ts, sigma, B0):\n",
    "    bs = [B0]\n",
    "    diff = ts[1] - ts[0]\n",
    "    for t in ts:\n",
    "        bs.append(bs[-1] + sigma * np.random.normal(0, 1) * np.sqrt(diff))\n",
    "    return np.array(bs)\n",
    "\n",
    "# exponential of brownian motion\n",
    "S0 = 10\n",
    "ts = np.linspace(1, 10, 1000)\n",
    "S = np.exp(run_brownian(ts, 0.01, 0)) * S0\n",
    "\n",
    "# plt.plot(S)"
   ]
  },
  {
   "cell_type": "code",
   "execution_count": null,
   "metadata": {},
   "outputs": [],
   "source": [
    "# Binomial process\n",
    "from numpy.random import binomial as B\n",
    "\n",
    "for i in range(100):\n",
    "    if sum(B(1, 0.5, 100)) == B(100, 0.5, 1):\n",
    "        print('equal')"
   ]
  },
  {
   "cell_type": "code",
   "execution_count": 7,
   "metadata": {},
   "outputs": [],
   "source": [
    "# 2d version\n",
    "\n",
    "sigma = 1\n",
    "B0 = [0, 0]\n",
    "h = 0.1\n",
    "\n",
    "X = [0,0]\n",
    "Xs = [X]\n",
    "\n",
    "for _ in range(1000):\n",
    "    \n",
    "    theta = np.random.random()*2*np.pi\n",
    "    r = np.random.normal(0, np.sqrt(h)*sigma)\n",
    "\n",
    "    X[0] = X[0] + r*np.cos(theta)\n",
    "    X[1] = X[1] + r*np.sin(theta)\n",
    "\n",
    "    Xs.append((X[0], X[1]))    \n",
    "\n",
    "# plt.plot(*np.array(Xs).T)"
   ]
  },
  {
   "cell_type": "markdown",
   "metadata": {},
   "source": [
    "# Numerical Integration"
   ]
  },
  {
   "cell_type": "code",
   "execution_count": 9,
   "metadata": {},
   "outputs": [],
   "source": [
    "def rie(N, a, b, mesh=10):\n",
    "    xs = np.linspace(a,b,mesh)\n",
    "    tally = 0\n",
    "    for i, x in enumerate(xs):\n",
    "        if i==0 or i==len(xs)-1:\n",
    "            continue\n",
    "        dx = xs[i+1] - xs[i]\n",
    "        yi = N(xs[i])\n",
    "        tally += yi*dx\n",
    "        plt.plot([x, x+dx], [yi, yi], 'r')\n",
    "        for i,l in enumerate(np.linspace(x,x+dx, 4)):\n",
    "            plt.plot([l, l], [0, yi], 'r')\n",
    "    return tally\n",
    "\n",
    "# rie(lambda x: np.sin(x), 0, np.pi, mesh=100)"
   ]
  },
  {
   "cell_type": "code",
   "execution_count": 14,
   "metadata": {},
   "outputs": [],
   "source": [
    "from scipy.integrate import quad, dblquad, tplquad, nquad"
   ]
  },
  {
   "cell_type": "markdown",
   "metadata": {},
   "source": [
    "# Common SymPy"
   ]
  },
  {
   "cell_type": "code",
   "execution_count": 12,
   "metadata": {},
   "outputs": [
    {
     "data": {
      "text/plain": [
       "1.7278759594743864"
      ]
     },
     "execution_count": 12,
     "metadata": {},
     "output_type": "execute_result"
    }
   ],
   "source": [
    "from sympy import *\n",
    "\n",
    "##################################################\n",
    "# Spherical coordinates\n",
    "rho, theta, phi = symbols('rho theta phi')\n",
    "\n",
    "x = rho * sin(phi) * cos(theta)\n",
    "y = rho * sin(phi) * sin(theta)\n",
    "z = rho * cos(phi)\n",
    "\n",
    "D = Matrix([x, y, z]).jacobian([rho, phi, theta])\n",
    "##################################################\n",
    "\n",
    "##################################################\n",
    "# Solve\n",
    "x, y = symbols('x y', real=True)\n",
    "level_curve = Eq(y**2-y+x**2, 0.3)\n",
    "funcs = []\n",
    "for sol in solve(level_curve, y):\n",
    "    funcs.append(sol)\n",
    "# for func in funcs:\n",
    "    # plot(func, (x,-10,10))\n",
    "r1, r2 = solve(funcs[0]-funcs[1], x) # intersection points\n",
    "float(integrate(funcs[1]-funcs[0], (x, r1, r2)))\n",
    "##################################################\n"
   ]
  },
  {
   "cell_type": "markdown",
   "metadata": {},
   "source": [
    "# fsolve examples"
   ]
  },
  {
   "cell_type": "code",
   "execution_count": 15,
   "metadata": {},
   "outputs": [],
   "source": [
    "from scipy.optimize import fsolve"
   ]
  }
 ],
 "metadata": {
  "kernelspec": {
   "display_name": "Python 3",
   "language": "python",
   "name": "python3"
  },
  "language_info": {
   "codemirror_mode": {
    "name": "ipython",
    "version": 3
   },
   "file_extension": ".py",
   "mimetype": "text/x-python",
   "name": "python",
   "nbconvert_exporter": "python",
   "pygments_lexer": "ipython3",
   "version": "3.11.5"
  },
  "orig_nbformat": 4
 },
 "nbformat": 4,
 "nbformat_minor": 2
}
