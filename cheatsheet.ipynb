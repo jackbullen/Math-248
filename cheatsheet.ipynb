{
 "cells": [
  {
   "cell_type": "markdown",
   "metadata": {},
   "source": [
    "### Libraries"
   ]
  },
  {
   "cell_type": "code",
   "execution_count": 1,
   "metadata": {},
   "outputs": [],
   "source": [
    "import math\n",
    "\n",
    "import numpy as np\n",
    "import matplotlib.pyplot as plt\n",
    "\n",
    "import pandas as pd\n",
    "import scipy as sp\n",
    "\n",
    "from scipy.optimize import fsolve, root_scalar"
   ]
  },
  {
   "cell_type": "markdown",
   "metadata": {},
   "source": [
    "# Root Finding"
   ]
  },
  {
   "cell_type": "markdown",
   "metadata": {},
   "source": [
    "Newtons Method: $$ x_{n+1} = x_n - \\frac {f(x_n)}{f'(x_n)}$$"
   ]
  },
  {
   "cell_type": "markdown",
   "metadata": {},
   "source": [
    "with a for loop"
   ]
  },
  {
   "cell_type": "code",
   "execution_count": 2,
   "metadata": {},
   "outputs": [],
   "source": [
    "r=2\n",
    "\n",
    "f = lambda x: 1-x-np.exp(-r*x)\n",
    "fp = lambda x: -1+r*np.exp(-r*x)\n",
    "\n",
    "tol = 1e-08\n",
    "root = 0.4\n",
    "for i in range(100000):\n",
    "    root = root-f(root)/fp(root)  \n",
    "    \n",
    "# print(f\"the root is {root}\")"
   ]
  },
  {
   "cell_type": "markdown",
   "metadata": {},
   "source": [
    "# Difference Equations"
   ]
  },
  {
   "cell_type": "code",
   "execution_count": 3,
   "metadata": {},
   "outputs": [],
   "source": [
    "def logistic(x, r=3.9):\n",
    "    return r*x*(1-x)\n",
    "\n",
    "# logistic map for a few values of r\n",
    "\n",
    "rs = [2.5, 3, 3.5, 3.9, 4.0, 4.1]\n",
    "# rs = np.linspace(2.5, 4.0, 6)\n",
    "\n",
    "# plt.figure(figsize=(12, 8))\n",
    "\n",
    "for r in rs:\n",
    "    xs = [0.1]\n",
    "\n",
    "    for i in range(60):\n",
    "        xs.append(logistic(xs[-1], r))\n",
    "        \n",
    "    # plt.subplot(2, 3, rs.index(r)+1)\n",
    "    # plt.plot(xs, '--x')\n",
    "    # plt.title(f\"Logistic map with r={r}\")"
   ]
  },
  {
   "cell_type": "code",
   "execution_count": 4,
   "metadata": {},
   "outputs": [],
   "source": [
    "# bifurcation diagram for logistic map\n",
    "\n",
    "rs = np.linspace(2, 4, 1000)\n",
    "\n",
    "# plt.figure(figsize=(12, 8))\n",
    "\n",
    "for r in rs:\n",
    "    xs = [0.1]\n",
    "    for i in range(1000):\n",
    "        xs.append(logistic(xs[-1], r=r))\n",
    "\n",
    "    # plt.plot([r]*len(xs[-20:]), xs[-20:], '.', markersize=1)"
   ]
  },
  {
   "cell_type": "code",
   "execution_count": 5,
   "metadata": {},
   "outputs": [],
   "source": [
    "# finding 10-periodic solutions of the logistic map. these are groups\n",
    "\n",
    "from scipy.optimize import fsolve\n",
    "from functools import reduce \n",
    "\n",
    "period = 10\n",
    "\n",
    "\n",
    "def composite(f, n):\n",
    "    if n == 0:\n",
    "        return lambda x: x\n",
    "    return reduce(lambda f, g: lambda x: f(g(x)), [f]*n)\n",
    "\n",
    "\n",
    "x = fsolve(lambda x: composite(logistic, period)(x)-x, 0.2)\n",
    "\n",
    "# for i in range(period+1):\n",
    "#     print(composite(logistic, i)(x))"
   ]
  },
  {
   "cell_type": "markdown",
   "metadata": {},
   "source": [
    "# Numerical Differentiation"
   ]
  },
  {
   "cell_type": "code",
   "execution_count": 6,
   "metadata": {},
   "outputs": [],
   "source": [
    "def fwd_diff(f, x, h=1e-8):\n",
    "    return (f(x+h) - f(x)) / h\n",
    "\n",
    "def ct_diff(f, x, h=1e-8):\n",
    "    return (f(x+h) - f(x-h)) / (2*h)"
   ]
  },
  {
   "cell_type": "markdown",
   "metadata": {},
   "source": [
    "# Regression"
   ]
  },
  {
   "cell_type": "code",
   "execution_count": null,
   "metadata": {},
   "outputs": [],
   "source": [
    "def line(c,x):\n",
    "    if x is np.ndarray:\n",
    "        return np.array([c[0]*x + c[1] for x in x])\n",
    "    return c[0]*x + c[1]\n",
    "\n",
    "def llsq(pts):\n",
    "    '''\n",
    "        Returns the coefficients of the linear least squares fit of the points\n",
    "    '''\n",
    "    if type(pts) != np.ndarray:\n",
    "        # could further handle if shape is wrong. if not right shape, transpose it.\n",
    "        print('pts is not an array')\n",
    "        pts = np.array(pts).T\n",
    "        pts = np.array([pts[:,0], np.ones(len(pts))]).T\n",
    "        ys = pts[:,1]\n",
    "    else:\n",
    "        # could further handle if shape is wrong. if not right shape, transpose it.\n",
    "        ys = pts[:,1]\n",
    "        pts = np.array([pts[:,0], np.ones(len(pts))]).T\n",
    "    \n",
    "    c = np.linalg.solve(pts.T@pts, pts.T@ys)\n",
    "    plt.title('Linear Least Squares Demo')\n",
    "    plt.plot(pts[:,0], line(c, pts[:,0]), label=f'slope = {c[0]:0.0f}, intercept = {c[1]:0.1f}')\n",
    "    plt.plot(pts[:,0], ys, '.', label='data')\n",
    "    plt.grid()\n",
    "    plt.legend()\n",
    "    return c"
   ]
  },
  {
   "cell_type": "markdown",
   "metadata": {},
   "source": [
    "# PCA"
   ]
  },
  {
   "cell_type": "code",
   "execution_count": null,
   "metadata": {},
   "outputs": [],
   "source": [
    "def pax(X):\n",
    "    '''\n",
    "        Return eigenvalues and eigenvectors of the covariance matrix\n",
    "    '''\n",
    "    cov = X.T@X\n",
    "    vals, e = np.linalg.eig(cov)\n",
    "\n",
    "    plt.plot(X[:, 0], X[:, 1], '.')\n",
    "    plt.plot([0, e[0, 0]], [0, e[1, 0]], 'r')\n",
    "    plt.plot([0, e[0, 1]], [0, e[1, 1]], 'g')\n",
    "    plt.axis('equal')\n",
    "    return vals, e"
   ]
  }
 ],
 "metadata": {
  "kernelspec": {
   "display_name": "Python 3",
   "language": "python",
   "name": "python3"
  },
  "language_info": {
   "codemirror_mode": {
    "name": "ipython",
    "version": 3
   },
   "file_extension": ".py",
   "mimetype": "text/x-python",
   "name": "python",
   "nbconvert_exporter": "python",
   "pygments_lexer": "ipython3",
   "version": "3.11.4"
  },
  "orig_nbformat": 4
 },
 "nbformat": 4,
 "nbformat_minor": 2
}
