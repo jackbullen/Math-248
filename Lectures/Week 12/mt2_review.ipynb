{
 "cells": [
  {
   "cell_type": "markdown",
   "metadata": {},
   "source": [
    "1. reading csv files\n",
    "2. solving linear system\n",
    "3. random simulations\n",
    "4. plotting\n",
    "5. symbolic computations\n",
    "6. solving differential equations"
   ]
  },
  {
   "cell_type": "markdown",
   "metadata": {},
   "source": [
    "```python\n",
    "import numpy as np\n",
    "import pandas as pd\n",
    "import matplotlib.pyplot as plt\n",
    "```"
   ]
  },
  {
   "cell_type": "markdown",
   "metadata": {},
   "source": [
    "## csv\n",
    "\n",
    "```python\n",
    "pd.read_csv()\n",
    "```"
   ]
  },
  {
   "cell_type": "markdown",
   "metadata": {},
   "source": [
    "## system of linear algebraic equations\n",
    "\n",
    "```python\n",
    "np.linalg.solve(A, b)\n",
    " ```"
   ]
  },
  {
   "cell_type": "markdown",
   "metadata": {},
   "source": [
    "\n",
    "## random\n",
    "```python\n",
    "np.random.binomial(n, p, size)\n",
    "\n",
    "np.random.normal(mu, sigma, size)\n",
    "\n",
    "np.random.uniform(low, high, size)\n",
    "```"
   ]
  },
  {
   "cell_type": "markdown",
   "metadata": {},
   "source": [
    "\n",
    "## plotting\n",
    "```python\n",
    "plt.plot(x, y)\n",
    "```"
   ]
  },
  {
   "cell_type": "markdown",
   "metadata": {},
   "source": [
    "\n",
    "## sympy (symbolic calculations)\n",
    "```python\n",
    "sp.diff(f, x, n)\n",
    "\n",
    "sp.diff(f, x, x, ..., x)  (n times)\n",
    "\n",
    "sp.integrate(f, x)\n",
    "sp.integrate(f, (x, a, b))\n",
    "\n",
    "sp.solve(f, x)\n",
    "\n",
    "sp.lambdify(x, f)\n",
    "```"
   ]
  },
  {
   "cell_type": "markdown",
   "metadata": {},
   "source": [
    "- critical point criteria: f'=0 \n",
    "\n",
    "- inflection point criteria: f''=0\n",
    "\n",
    "- increasing/decreasing criteria: f'>0 or f'<0\n",
    "\n",
    "- concave up/down criteria: f''>0 or f''<0"
   ]
  }
 ],
 "metadata": {
  "language_info": {
   "name": "python"
  }
 },
 "nbformat": 4,
 "nbformat_minor": 2
}
