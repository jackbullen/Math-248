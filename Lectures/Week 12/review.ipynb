{
 "cells": [
  {
   "cell_type": "markdown",
   "metadata": {},
   "source": [
    "# csv file review"
   ]
  },
  {
   "cell_type": "code",
   "execution_count": 2,
   "metadata": {},
   "outputs": [],
   "source": [
    "import pandas as pd"
   ]
  },
  {
   "cell_type": "code",
   "execution_count": 4,
   "metadata": {},
   "outputs": [
    {
     "data": {
      "text/html": [
       "<div>\n",
       "<style scoped>\n",
       "    .dataframe tbody tr th:only-of-type {\n",
       "        vertical-align: middle;\n",
       "    }\n",
       "\n",
       "    .dataframe tbody tr th {\n",
       "        vertical-align: top;\n",
       "    }\n",
       "\n",
       "    .dataframe thead th {\n",
       "        text-align: right;\n",
       "    }\n",
       "</style>\n",
       "<table border=\"1\" class=\"dataframe\">\n",
       "  <thead>\n",
       "    <tr style=\"text-align: right;\">\n",
       "      <th></th>\n",
       "      <th>Unnamed: 0</th>\n",
       "      <th>timeseries_id</th>\n",
       "      <th>Conductivity</th>\n",
       "      <th>depth</th>\n",
       "      <th>Temperature</th>\n",
       "      <th>latitude</th>\n",
       "      <th>time</th>\n",
       "      <th>longitude</th>\n",
       "      <th>salinity</th>\n",
       "    </tr>\n",
       "  </thead>\n",
       "  <tbody>\n",
       "    <tr>\n",
       "      <th>2033</th>\n",
       "      <td>2033</td>\n",
       "      <td>mobilesurface_1205949</td>\n",
       "      <td>3.64228</td>\n",
       "      <td>3.0</td>\n",
       "      <td>14.2231</td>\n",
       "      <td>49.196055</td>\n",
       "      <td>2019-11-15T21:07:26.712Z</td>\n",
       "      <td>-123.955511</td>\n",
       "      <td>29.7394</td>\n",
       "    </tr>\n",
       "    <tr>\n",
       "      <th>19682</th>\n",
       "      <td>19682</td>\n",
       "      <td>mobilesurface_1205949</td>\n",
       "      <td>3.67844</td>\n",
       "      <td>3.0</td>\n",
       "      <td>13.3836</td>\n",
       "      <td>49.195880</td>\n",
       "      <td>2019-11-16T02:01:47.530Z</td>\n",
       "      <td>-123.955385</td>\n",
       "      <td>30.7323</td>\n",
       "    </tr>\n",
       "    <tr>\n",
       "      <th>19683</th>\n",
       "      <td>19683</td>\n",
       "      <td>mobilesurface_1205949</td>\n",
       "      <td>3.73219</td>\n",
       "      <td>3.0</td>\n",
       "      <td>15.2015</td>\n",
       "      <td>49.195914</td>\n",
       "      <td>2019-11-16T02:01:48.532Z</td>\n",
       "      <td>-123.955383</td>\n",
       "      <td>29.7979</td>\n",
       "    </tr>\n",
       "    <tr>\n",
       "      <th>34651</th>\n",
       "      <td>34651</td>\n",
       "      <td>mobilesurface_1205949</td>\n",
       "      <td>3.70746</td>\n",
       "      <td>3.0</td>\n",
       "      <td>12.4915</td>\n",
       "      <td>49.195990</td>\n",
       "      <td>2019-11-16T06:11:16.545Z</td>\n",
       "      <td>-123.955368</td>\n",
       "      <td>31.7412</td>\n",
       "    </tr>\n",
       "    <tr>\n",
       "      <th>34655</th>\n",
       "      <td>34655</td>\n",
       "      <td>mobilesurface_1205949</td>\n",
       "      <td>3.68557</td>\n",
       "      <td>3.0</td>\n",
       "      <td>14.6182</td>\n",
       "      <td>49.196146</td>\n",
       "      <td>2019-11-16T06:11:20.547Z</td>\n",
       "      <td>-123.955358</td>\n",
       "      <td>29.8266</td>\n",
       "    </tr>\n",
       "    <tr>\n",
       "      <th>34656</th>\n",
       "      <td>34656</td>\n",
       "      <td>mobilesurface_1205949</td>\n",
       "      <td>3.77290</td>\n",
       "      <td>3.0</td>\n",
       "      <td>15.6679</td>\n",
       "      <td>49.196186</td>\n",
       "      <td>2019-11-16T06:11:21.547Z</td>\n",
       "      <td>-123.955356</td>\n",
       "      <td>29.8042</td>\n",
       "    </tr>\n",
       "    <tr>\n",
       "      <th>34659</th>\n",
       "      <td>34659</td>\n",
       "      <td>mobilesurface_1205949</td>\n",
       "      <td>3.83693</td>\n",
       "      <td>3.0</td>\n",
       "      <td>16.4791</td>\n",
       "      <td>49.196309</td>\n",
       "      <td>2019-11-16T06:11:24.545Z</td>\n",
       "      <td>-123.955349</td>\n",
       "      <td>29.7540</td>\n",
       "    </tr>\n",
       "    <tr>\n",
       "      <th>34661</th>\n",
       "      <td>34661</td>\n",
       "      <td>mobilesurface_1205949</td>\n",
       "      <td>3.83191</td>\n",
       "      <td>3.0</td>\n",
       "      <td>16.5876</td>\n",
       "      <td>49.196393</td>\n",
       "      <td>2019-11-16T06:11:26.546Z</td>\n",
       "      <td>-123.955346</td>\n",
       "      <td>29.6303</td>\n",
       "    </tr>\n",
       "  </tbody>\n",
       "</table>\n",
       "</div>"
      ],
      "text/plain": [
       "       Unnamed: 0          timeseries_id  Conductivity  depth  Temperature  \\\n",
       "2033         2033  mobilesurface_1205949       3.64228    3.0      14.2231   \n",
       "19682       19682  mobilesurface_1205949       3.67844    3.0      13.3836   \n",
       "19683       19683  mobilesurface_1205949       3.73219    3.0      15.2015   \n",
       "34651       34651  mobilesurface_1205949       3.70746    3.0      12.4915   \n",
       "34655       34655  mobilesurface_1205949       3.68557    3.0      14.6182   \n",
       "34656       34656  mobilesurface_1205949       3.77290    3.0      15.6679   \n",
       "34659       34659  mobilesurface_1205949       3.83693    3.0      16.4791   \n",
       "34661       34661  mobilesurface_1205949       3.83191    3.0      16.5876   \n",
       "\n",
       "        latitude                      time   longitude  salinity  \n",
       "2033   49.196055  2019-11-15T21:07:26.712Z -123.955511   29.7394  \n",
       "19682  49.195880  2019-11-16T02:01:47.530Z -123.955385   30.7323  \n",
       "19683  49.195914  2019-11-16T02:01:48.532Z -123.955383   29.7979  \n",
       "34651  49.195990  2019-11-16T06:11:16.545Z -123.955368   31.7412  \n",
       "34655  49.196146  2019-11-16T06:11:20.547Z -123.955358   29.8266  \n",
       "34656  49.196186  2019-11-16T06:11:21.547Z -123.955356   29.8042  \n",
       "34659  49.196309  2019-11-16T06:11:24.545Z -123.955349   29.7540  \n",
       "34661  49.196393  2019-11-16T06:11:26.546Z -123.955346   29.6303  "
      ]
     },
     "execution_count": 4,
     "metadata": {},
     "output_type": "execute_result"
    }
   ],
   "source": [
    "df = pd.read_csv('./mobilesurface_1205949.csv')\n",
    "\n",
    "df[df['salinity'] > 29.6]"
   ]
  },
  {
   "cell_type": "code",
   "execution_count": 4,
   "metadata": {},
   "outputs": [
    {
     "data": {
      "text/plain": [
       "<Axes: xlabel='time'>"
      ]
     },
     "execution_count": 4,
     "metadata": {},
     "output_type": "execute_result"
    },
    {
     "data": {
      "image/png": "[encoded data removed]",
      "text/plain": [
       "<Figure size 640x480 with 1 Axes>"
      ]
     },
     "metadata": {},
     "output_type": "display_data"
    },
    {
     "data": {
      "image/png": "[encoded data removed]",
      "text/plain": [
       "<Figure size 640x480 with 1 Axes>"
      ]
     },
     "metadata": {},
     "output_type": "display_data"
    }
   ],
   "source": [
    "# plotting\n",
    "\n",
    "df.plot(x='time', y='Temperature', kind='line')\n",
    "df.plot(x='time', y='salinity', kind='line')"
   ]
  },
  {
   "cell_type": "markdown",
   "metadata": {},
   "source": [
    "# solving a linear system"
   ]
  },
  {
   "cell_type": "markdown",
   "metadata": {},
   "source": [
    "**solve the system with matrix in: `system_of_linear_equations.csv`**"
   ]
  },
  {
   "cell_type": "markdown",
   "metadata": {},
   "source": [
    "$$ Ax = b $$"
   ]
  },
  {
   "cell_type": "code",
   "execution_count": 31,
   "metadata": {},
   "outputs": [
    {
     "data": {
      "text/html": [
       "<div>\n",
       "<style scoped>\n",
       "    .dataframe tbody tr th:only-of-type {\n",
       "        vertical-align: middle;\n",
       "    }\n",
       "\n",
       "    .dataframe tbody tr th {\n",
       "        vertical-align: top;\n",
       "    }\n",
       "\n",
       "    .dataframe thead th {\n",
       "        text-align: right;\n",
       "    }\n",
       "</style>\n",
       "<table border=\"1\" class=\"dataframe\">\n",
       "  <thead>\n",
       "    <tr style=\"text-align: right;\">\n",
       "      <th></th>\n",
       "      <th>0</th>\n",
       "      <th>1</th>\n",
       "      <th>2</th>\n",
       "      <th>3</th>\n",
       "      <th>4</th>\n",
       "      <th>5</th>\n",
       "      <th>6</th>\n",
       "      <th>7</th>\n",
       "      <th>8</th>\n",
       "      <th>9</th>\n",
       "    </tr>\n",
       "  </thead>\n",
       "  <tbody>\n",
       "    <tr>\n",
       "      <th>0</th>\n",
       "      <td>3</td>\n",
       "      <td>0</td>\n",
       "      <td>1</td>\n",
       "      <td>3</td>\n",
       "      <td>0</td>\n",
       "      <td>1</td>\n",
       "      <td>1</td>\n",
       "      <td>4</td>\n",
       "      <td>5</td>\n",
       "      <td>5</td>\n",
       "    </tr>\n",
       "    <tr>\n",
       "      <th>1</th>\n",
       "      <td>1</td>\n",
       "      <td>0</td>\n",
       "      <td>0</td>\n",
       "      <td>0</td>\n",
       "      <td>-1</td>\n",
       "      <td>0</td>\n",
       "      <td>1</td>\n",
       "      <td>2</td>\n",
       "      <td>3</td>\n",
       "      <td>5</td>\n",
       "    </tr>\n",
       "    <tr>\n",
       "      <th>2</th>\n",
       "      <td>0</td>\n",
       "      <td>-1</td>\n",
       "      <td>7</td>\n",
       "      <td>3</td>\n",
       "      <td>1</td>\n",
       "      <td>1</td>\n",
       "      <td>1</td>\n",
       "      <td>1</td>\n",
       "      <td>0</td>\n",
       "      <td>3</td>\n",
       "    </tr>\n",
       "    <tr>\n",
       "      <th>3</th>\n",
       "      <td>1</td>\n",
       "      <td>0</td>\n",
       "      <td>0</td>\n",
       "      <td>3</td>\n",
       "      <td>1</td>\n",
       "      <td>1</td>\n",
       "      <td>1</td>\n",
       "      <td>0</td>\n",
       "      <td>4</td>\n",
       "      <td>2</td>\n",
       "    </tr>\n",
       "    <tr>\n",
       "      <th>4</th>\n",
       "      <td>0</td>\n",
       "      <td>-1</td>\n",
       "      <td>0</td>\n",
       "      <td>3</td>\n",
       "      <td>1</td>\n",
       "      <td>1</td>\n",
       "      <td>7</td>\n",
       "      <td>3</td>\n",
       "      <td>5</td>\n",
       "      <td>0</td>\n",
       "    </tr>\n",
       "    <tr>\n",
       "      <th>5</th>\n",
       "      <td>2</td>\n",
       "      <td>5</td>\n",
       "      <td>2</td>\n",
       "      <td>3</td>\n",
       "      <td>1</td>\n",
       "      <td>1</td>\n",
       "      <td>7</td>\n",
       "      <td>3</td>\n",
       "      <td>12</td>\n",
       "      <td>3</td>\n",
       "    </tr>\n",
       "    <tr>\n",
       "      <th>6</th>\n",
       "      <td>3</td>\n",
       "      <td>6</td>\n",
       "      <td>7</td>\n",
       "      <td>3</td>\n",
       "      <td>1</td>\n",
       "      <td>1</td>\n",
       "      <td>1</td>\n",
       "      <td>0</td>\n",
       "      <td>0</td>\n",
       "      <td>2</td>\n",
       "    </tr>\n",
       "    <tr>\n",
       "      <th>7</th>\n",
       "      <td>-3</td>\n",
       "      <td>5</td>\n",
       "      <td>0</td>\n",
       "      <td>3</td>\n",
       "      <td>1</td>\n",
       "      <td>1</td>\n",
       "      <td>5</td>\n",
       "      <td>2</td>\n",
       "      <td>1</td>\n",
       "      <td>-2</td>\n",
       "    </tr>\n",
       "    <tr>\n",
       "      <th>8</th>\n",
       "      <td>3</td>\n",
       "      <td>1</td>\n",
       "      <td>1</td>\n",
       "      <td>3</td>\n",
       "      <td>1</td>\n",
       "      <td>1</td>\n",
       "      <td>4</td>\n",
       "      <td>5</td>\n",
       "      <td>3</td>\n",
       "      <td>-10</td>\n",
       "    </tr>\n",
       "  </tbody>\n",
       "</table>\n",
       "</div>"
      ],
      "text/plain": [
       "   0  1  2  3  4  5  6  7   8   9\n",
       "0  3  0  1  3  0  1  1  4   5   5\n",
       "1  1  0  0  0 -1  0  1  2   3   5\n",
       "2  0 -1  7  3  1  1  1  1   0   3\n",
       "3  1  0  0  3  1  1  1  0   4   2\n",
       "4  0 -1  0  3  1  1  7  3   5   0\n",
       "5  2  5  2  3  1  1  7  3  12   3\n",
       "6  3  6  7  3  1  1  1  0   0   2\n",
       "7 -3  5  0  3  1  1  5  2   1  -2\n",
       "8  3  1  1  3  1  1  4  5   3 -10"
      ]
     },
     "execution_count": 31,
     "metadata": {},
     "output_type": "execute_result"
    }
   ],
   "source": [
    "import pandas as pd\n",
    "data = pd.read_csv('system_of_linear_equations.csv', header=None)\n",
    "data"
   ]
  },
  {
   "cell_type": "code",
   "execution_count": 34,
   "metadata": {},
   "outputs": [],
   "source": [
    "A = data.to_numpy().T[:-1]\n",
    "b = data.to_numpy().T[-1]\n",
    "\n",
    "x = np.linalg.solve(A, b)\n"
   ]
  },
  {
   "cell_type": "code",
   "execution_count": 37,
   "metadata": {},
   "outputs": [
    {
     "data": {
      "text/plain": [
       "array([27., -1.,  5.,  6.,  4.,  5., -2., 10.,  2.])"
      ]
     },
     "execution_count": 37,
     "metadata": {},
     "output_type": "execute_result"
    }
   ],
   "source": [
    "A@x - b"
   ]
  },
  {
   "cell_type": "code",
   "execution_count": 38,
   "metadata": {},
   "outputs": [
    {
     "data": {
      "text/plain": [
       "array([[  3,   0,   1,   3,   0,   1,   1,   4,   5,   5],\n",
       "       [  1,   0,   0,   0,  -1,   0,   1,   2,   3,   5],\n",
       "       [  0,  -1,   7,   3,   1,   1,   1,   1,   0,   3],\n",
       "       [  1,   0,   0,   3,   1,   1,   1,   0,   4,   2],\n",
       "       [  0,  -1,   0,   3,   1,   1,   7,   3,   5,   0],\n",
       "       [  2,   5,   2,   3,   1,   1,   7,   3,  12,   3],\n",
       "       [  3,   6,   7,   3,   1,   1,   1,   0,   0,   2],\n",
       "       [ -3,   5,   0,   3,   1,   1,   5,   2,   1,  -2],\n",
       "       [  3,   1,   1,   3,   1,   1,   4,   5,   3, -10]])"
      ]
     },
     "execution_count": 38,
     "metadata": {},
     "output_type": "execute_result"
    }
   ],
   "source": [
    "import numpy as np\n",
    "with open('system_of_linear_equations.csv', 'r') as f:\n",
    "    system = np.array(list(map(lambda x: x.split(','), f.read().split('\\n'))))\n",
    "\n",
    "system = system.astype(int)\n",
    "\n",
    "system"
   ]
  },
  {
   "cell_type": "code",
   "execution_count": 39,
   "metadata": {},
   "outputs": [],
   "source": [
    "LHS = system[:, :-1]\n",
    "RHS = system[:, -1]\n",
    "\n",
    "x = np.linalg.solve(LHS, RHS)"
   ]
  },
  {
   "cell_type": "code",
   "execution_count": 40,
   "metadata": {},
   "outputs": [
    {
     "data": {
      "text/plain": [
       "array([-6.18974613e+16, -1.85692384e+17, -7.42769536e+16, -7.42769536e+16,\n",
       "       -2.47589845e+16, -2.47589845e+16, -2.47589845e+17, -1.11415430e+17,\n",
       "       -3.96143753e+17])"
      ]
     },
     "execution_count": 40,
     "metadata": {},
     "output_type": "execute_result"
    }
   ],
   "source": [
    "A@x - RHS"
   ]
  },
  {
   "cell_type": "code",
   "execution_count": 41,
   "metadata": {},
   "outputs": [
    {
     "data": {
      "text/plain": [
       "(array([  6.36015897,   7.36612022,   5.57426726,   3.32588177,\n",
       "         -3.04570293,   7.18628912,  -3.42573274,  -7.13859911,\n",
       "        -13.60009935]),\n",
       " array([  5,   5,   3,   2,   0,   3,   2,  -2, -10]))"
      ]
     },
     "execution_count": 41,
     "metadata": {},
     "output_type": "execute_result"
    }
   ],
   "source": [
    "np.matmul(LHS,x), RHS"
   ]
  },
  {
   "cell_type": "code",
   "execution_count": 42,
   "metadata": {},
   "outputs": [
    {
     "data": {
      "text/plain": [
       "1.685223416656619e+17"
      ]
     },
     "execution_count": 42,
     "metadata": {},
     "output_type": "execute_result"
    }
   ],
   "source": [
    "np.linalg.cond(LHS)"
   ]
  },
  {
   "cell_type": "markdown",
   "metadata": {},
   "source": [
    "always check your answer, and use `np.linalg.solve(A, b)` to solve the matrix equation $Ax=b$."
   ]
  },
  {
   "cell_type": "markdown",
   "metadata": {},
   "source": [
    "# Simulation of random events"
   ]
  },
  {
   "cell_type": "code",
   "execution_count": 46,
   "metadata": {},
   "outputs": [],
   "source": [
    "from numpy.random import binomial as B"
   ]
  },
  {
   "cell_type": "code",
   "execution_count": 48,
   "metadata": {},
   "outputs": [
    {
     "data": {
      "text/plain": [
       "array([1, 0, 1, 1, 0, 1, 1, 0, 0, 1, 0, 0, 0, 1, 1, 1, 0, 1, 1, 0, 1, 1,\n",
       "       1, 0, 1, 1, 0, 1, 1, 1, 0, 0, 1, 1, 1, 0, 1, 0, 1, 0, 1, 1, 0, 1,\n",
       "       0, 1, 1, 0, 1, 0, 0, 0, 1, 1, 0, 0, 1, 0, 1, 1, 0, 0, 1, 0, 0, 0,\n",
       "       1, 1, 0, 1, 0, 1, 1, 0, 0, 1, 1, 0, 0, 0, 1, 1, 1, 0, 0, 1, 0, 0,\n",
       "       0, 1, 0, 1, 0, 0, 0, 0, 0, 0, 0, 1])"
      ]
     },
     "execution_count": 48,
     "metadata": {},
     "output_type": "execute_result"
    }
   ],
   "source": [
    "# 50/50 coin flip one hundred times, aka binomial distribution with n=100, p=0.5, aka 100 bernoulli trials with p=0.5\n",
    "\n",
    "B(1, 0.5, 100)"
   ]
  },
  {
   "cell_type": "code",
   "execution_count": 62,
   "metadata": {},
   "outputs": [
    {
     "data": {
      "text/plain": [
       "[<matplotlib.lines.Line2D at 0x7fec8c3fd1b0>]"
      ]
     },
     "execution_count": 62,
     "metadata": {},
     "output_type": "execute_result"
    },
    {
     "data": {
      "image/png": "[encoded data removed]",
      "text/plain": [
       "<Figure size 640x480 with 1 Axes>"
      ]
     },
     "metadata": {},
     "output_type": "display_data"
    }
   ],
   "source": [
    "rw = np.cumsum(B(1, 0.5, 1000)* 2 - 1)\n",
    "plt.plot(rw)"
   ]
  },
  {
   "cell_type": "code",
   "execution_count": 63,
   "metadata": {},
   "outputs": [
    {
     "data": {
      "text/plain": [
       "[<matplotlib.lines.Line2D at 0x7fec8c463fa0>]"
      ]
     },
     "execution_count": 63,
     "metadata": {},
     "output_type": "execute_result"
    },
    {
     "data": {
      "image/png": "[encoded data removed]",
      "text/plain": [
       "<Figure size 640x480 with 1 Axes>"
      ]
     },
     "metadata": {},
     "output_type": "display_data"
    }
   ],
   "source": [
    "plt.plot(np.exp(rw))"
   ]
  },
  {
   "cell_type": "code",
   "execution_count": 49,
   "metadata": {},
   "outputs": [
    {
     "data": {
      "text/plain": [
       "array([ 6.08690435e-01, -1.21841420e+00, -4.64986249e-01,  6.80164643e-01,\n",
       "        4.90571434e-01,  1.32285996e+00,  4.17807272e-01,  1.57854980e+00,\n",
       "       -3.87700654e-01, -1.25679895e+00,  2.80438742e-01,  7.37748040e-01,\n",
       "       -4.51180524e-01, -9.42795324e-01, -1.59444750e-01, -8.77517425e-01,\n",
       "        1.05907369e+00, -1.21610258e+00,  4.91640565e-01, -1.65837069e-01,\n",
       "       -6.16846202e-02, -3.38115081e-01, -6.86408922e-01, -3.00899394e-01,\n",
       "       -1.17256017e+00,  6.27886478e-01, -1.62826025e+00, -4.88803038e-01,\n",
       "       -1.09239584e+00,  7.17570765e-01, -8.69719573e-02,  5.76752355e-01,\n",
       "        4.82503373e-01,  5.00754234e-01,  7.13251129e-01,  1.54158934e+00,\n",
       "       -2.87901379e+00, -6.82676707e-01, -3.63372705e-01, -4.68137602e-01,\n",
       "        1.75774802e+00, -4.83132182e-02, -5.08264359e-01,  2.22098766e+00,\n",
       "       -4.45489353e-01,  1.32667059e+00, -6.00149283e-01, -1.39050029e-03,\n",
       "        1.43797723e+00,  1.29142739e-01, -8.76950229e-02,  9.30919431e-01,\n",
       "       -1.34980548e+00,  6.61687447e-01, -3.56873364e-01, -2.97277938e-01,\n",
       "        1.51861364e+00,  8.78753671e-02,  2.62261349e+00,  5.58433908e-01,\n",
       "        6.25599318e-03, -8.29034070e-01,  1.62239598e-01,  1.21520482e+00,\n",
       "       -3.46782187e-01, -6.66315709e-01,  5.14767147e-01, -6.54130754e-01,\n",
       "        6.52480688e-01,  2.69927498e-01,  8.00230829e-01,  1.23041285e+00,\n",
       "        4.52347385e-01,  3.33757617e-01, -1.23220612e+00, -7.07762702e-01,\n",
       "       -1.98223718e+00, -3.72346511e-01, -7.25598237e-01,  1.94299534e-01,\n",
       "       -7.79069415e-01,  5.21789132e-01,  1.10860119e+00,  5.68582314e-01,\n",
       "        1.67537556e-01,  7.96027221e-01,  1.42299461e-01,  2.64564475e-01,\n",
       "       -4.78151888e-01, -2.82342081e-02, -4.16743414e-01, -1.07976610e+00,\n",
       "        1.14535981e+00,  6.46488292e-01,  3.09212713e+00, -9.43043051e-01,\n",
       "        4.42198121e-01, -6.42254682e-02, -4.35187387e-01, -1.51539910e+00])"
      ]
     },
     "execution_count": 49,
     "metadata": {},
     "output_type": "execute_result"
    }
   ],
   "source": [
    "from numpy.random import normal as N\n",
    "\n",
    "N(0, 1, 100)"
   ]
  },
  {
   "cell_type": "code",
   "execution_count": 51,
   "metadata": {},
   "outputs": [
    {
     "data": {
      "text/plain": [
       "[<matplotlib.lines.Line2D at 0x7fec8e0b97e0>]"
      ]
     },
     "execution_count": 51,
     "metadata": {},
     "output_type": "execute_result"
    },
    {
     "data": {
      "image/png": "[encoded data removed]",
      "text/plain": [
       "<Figure size 640x480 with 1 Axes>"
      ]
     },
     "metadata": {},
     "output_type": "display_data"
    }
   ],
   "source": [
    "rm = np.cumsum(N(0, 1, 100))\n",
    "plt.plot(rm)"
   ]
  },
  {
   "cell_type": "code",
   "execution_count": 53,
   "metadata": {},
   "outputs": [
    {
     "data": {
      "text/plain": [
       "[<matplotlib.lines.Line2D at 0x7fec8df643d0>]"
      ]
     },
     "execution_count": 53,
     "metadata": {},
     "output_type": "execute_result"
    },
    {
     "data": {
      "image/png": "[encoded data removed]",
      "text/plain": [
       "<Figure size 640x480 with 1 Axes>"
      ]
     },
     "metadata": {},
     "output_type": "display_data"
    }
   ],
   "source": [
    "plt.plot(np.exp(rm))"
   ]
  },
  {
   "cell_type": "markdown",
   "metadata": {},
   "source": [
    "# symbolic calculation"
   ]
  },
  {
   "cell_type": "markdown",
   "metadata": {},
   "source": [
    "**examples:**\n",
    "1. polar coordinates\n",
    "2. spherical coordinates\n",
    "3. derivative (critical / inflection points, how to check your answer?)\n",
    "4. integration\n",
    "5. integration and derivative\n",
    "6. integration and derivative, and fsolve\n",
    "7. Equilibrium points\n",
    "8. finding moments\n"
   ]
  },
  {
   "cell_type": "code",
   "execution_count": 1,
   "metadata": {},
   "outputs": [],
   "source": [
    "from sympy import *\n",
    "from sympy.abc import x, y, z, rho, phi, theta, r, t"
   ]
  },
  {
   "cell_type": "markdown",
   "metadata": {},
   "source": [
    "let's get a symbolic expression for the roots of $\\cos x$ ($n\\pi$)"
   ]
  },
  {
   "cell_type": "code",
   "execution_count": 5,
   "metadata": {},
   "outputs": [
    {
     "data": {
      "text/plain": [
       "[0, pi]"
      ]
     },
     "execution_count": 5,
     "metadata": {},
     "output_type": "execute_result"
    }
   ],
   "source": [
    "y = sin(x)\n",
    "solve(y, x)"
   ]
  },
  {
   "cell_type": "code",
   "execution_count": 10,
   "metadata": {},
   "outputs": [
    {
     "data": {
      "text/latex": [
       "$\\displaystyle \\left\\{2 n \\pi\\; \\middle|\\; n \\in \\mathbb{Z}\\right\\} \\cup \\left\\{2 n \\pi + \\pi\\; \\middle|\\; n \\in \\mathbb{Z}\\right\\}$"
      ],
      "text/plain": [
       "Union(ImageSet(Lambda(_n, 2*_n*pi + pi), Integers), ImageSet(Lambda(_n, 2*_n*pi), Integers))"
      ]
     },
     "execution_count": 10,
     "metadata": {},
     "output_type": "execute_result"
    }
   ],
   "source": [
    "y = sin(x)\n",
    "solveset(y, x) # not sure about the union, but OK.. sure"
   ]
  },
  {
   "cell_type": "code",
   "execution_count": 14,
   "metadata": {},
   "outputs": [
    {
     "data": {
      "text/latex": [
       "$\\displaystyle \\left[\\begin{matrix}\\cos{\\left(\\theta \\right)} & - r \\sin{\\left(\\theta \\right)}\\\\\\sin{\\left(\\theta \\right)} & r \\cos{\\left(\\theta \\right)}\\end{matrix}\\right]$"
      ],
      "text/plain": [
       "Matrix([\n",
       "[cos(theta), -r*sin(theta)],\n",
       "[sin(theta),  r*cos(theta)]])"
      ]
     },
     "metadata": {},
     "output_type": "display_data"
    },
    {
     "data": {
      "text/latex": [
       "$\\displaystyle r$"
      ],
      "text/plain": [
       "r"
      ]
     },
     "metadata": {},
     "output_type": "display_data"
    }
   ],
   "source": [
    "# polar coordinates\n",
    "\n",
    "x = r*cos(theta)\n",
    "y = r*sin(theta)\n",
    "\n",
    "D = Matrix([x, y]).jacobian([r, theta])\n",
    "\n",
    "display(D, simplify(D.det()))"
   ]
  },
  {
   "cell_type": "code",
   "execution_count": 16,
   "metadata": {},
   "outputs": [
    {
     "data": {
      "text/latex": [
       "$\\displaystyle \\left[\\begin{matrix}\\sin{\\left(\\phi \\right)} \\cos{\\left(\\theta \\right)} & \\rho \\cos{\\left(\\phi \\right)} \\cos{\\left(\\theta \\right)} & - \\rho \\sin{\\left(\\phi \\right)} \\sin{\\left(\\theta \\right)}\\\\\\sin{\\left(\\phi \\right)} \\sin{\\left(\\theta \\right)} & \\rho \\sin{\\left(\\theta \\right)} \\cos{\\left(\\phi \\right)} & \\rho \\sin{\\left(\\phi \\right)} \\cos{\\left(\\theta \\right)}\\\\\\cos{\\left(\\phi \\right)} & - \\rho \\sin{\\left(\\phi \\right)} & 0\\end{matrix}\\right]$"
      ],
      "text/plain": [
       "Matrix([\n",
       "[sin(phi)*cos(theta), rho*cos(phi)*cos(theta), -rho*sin(phi)*sin(theta)],\n",
       "[sin(phi)*sin(theta), rho*sin(theta)*cos(phi),  rho*sin(phi)*cos(theta)],\n",
       "[           cos(phi),           -rho*sin(phi),                        0]])"
      ]
     },
     "metadata": {},
     "output_type": "display_data"
    },
    {
     "data": {
      "text/latex": [
       "$\\displaystyle \\rho^{2} \\sin{\\left(\\phi \\right)}$"
      ],
      "text/plain": [
       "rho**2*sin(phi)"
      ]
     },
     "metadata": {},
     "output_type": "display_data"
    }
   ],
   "source": [
    "# spherical coordinates\n",
    "\n",
    "x = rho*sin(phi)*cos(theta)\n",
    "y = rho*sin(phi)*sin(theta)\n",
    "z = rho*cos(phi)\n",
    "\n",
    "D = Matrix([x, y, z]).jacobian([rho, phi, theta])\n",
    "\n",
    "display(D, simplify(D.det()))"
   ]
  },
  {
   "cell_type": "code",
   "execution_count": 19,
   "metadata": {},
   "outputs": [
    {
     "data": {
      "text/latex": [
       "$\\displaystyle \\left[\\begin{matrix}\\cos{\\left(\\theta \\right)} & - r \\sin{\\left(\\theta \\right)} & 0\\\\\\sin{\\left(\\theta \\right)} & r \\cos{\\left(\\theta \\right)} & 0\\\\0 & 0 & 1\\end{matrix}\\right]$"
      ],
      "text/plain": [
       "Matrix([\n",
       "[cos(theta), -r*sin(theta), 0],\n",
       "[sin(theta),  r*cos(theta), 0],\n",
       "[         0,             0, 1]])"
      ]
     },
     "execution_count": 19,
     "metadata": {},
     "output_type": "execute_result"
    }
   ],
   "source": [
    "# cylindrical coordinates\n",
    "\n",
    "x = r*cos(theta)\n",
    "y = r*sin(theta)\n",
    "z = z\n",
    "\n",
    "D = Matrix([x, y, z]).jacobian([r, theta, z])\n",
    "\n",
    "D"
   ]
  },
  {
   "cell_type": "code",
   "execution_count": 3,
   "metadata": {},
   "outputs": [
    {
     "data": {
      "text/plain": [
       "[(0, pi/2),\n",
       " (0, 3*pi/2),\n",
       " (pi/2, 0),\n",
       " (pi/2, pi),\n",
       " (pi, pi/2),\n",
       " (pi, 3*pi/2),\n",
       " (3*pi/2, 0),\n",
       " (3*pi/2, pi)]"
      ]
     },
     "execution_count": 3,
     "metadata": {},
     "output_type": "execute_result"
    }
   ],
   "source": [
    "# derivative: critical point\n",
    "\n",
    "f = sin(x)*cos(y)\n",
    "\n",
    "D = Matrix([f]).jacobian([x, y])\n",
    "\n",
    "solve(D, [x, y])"
   ]
  },
  {
   "cell_type": "code",
   "execution_count": 6,
   "metadata": {},
   "outputs": [
    {
     "name": "stdout",
     "output_type": "stream",
     "text": [
      "0 0\n",
      "0 0\n",
      "0 0\n",
      "0 0\n",
      "0 0\n",
      "0 0\n",
      "0 0\n",
      "0 0\n"
     ]
    }
   ],
   "source": [
    "for crit_pt in [(0, pi/2),(0, 3*pi/2),(pi/2, 0),(pi/2, pi),(pi, pi/2),(pi, 3*pi/2),(3*pi/2, 0),(3*pi/2, pi)]:\n",
    "    print(diff(f, x).subs({x: crit_pt[0], y: crit_pt[1]}), diff(f, y).subs({x: crit_pt[0], y: crit_pt[1]}))"
   ]
  },
  {
   "cell_type": "code",
   "execution_count": 7,
   "metadata": {},
   "outputs": [],
   "source": [
    "# inflection point is second derivative"
   ]
  },
  {
   "cell_type": "code",
   "execution_count": 14,
   "metadata": {},
   "outputs": [
    {
     "data": {
      "text/latex": [
       "$\\displaystyle x^{3} - 3 x + 1$"
      ],
      "text/plain": [
       "x**3 - 3*x + 1"
      ]
     },
     "metadata": {},
     "output_type": "display_data"
    },
    {
     "data": {
      "text/latex": [
       "$\\displaystyle \\frac{t^{4}}{4} - \\frac{3 t^{2}}{2} + t$"
      ],
      "text/plain": [
       "t**4/4 - 3*t**2/2 + t"
      ]
     },
     "metadata": {},
     "output_type": "display_data"
    },
    {
     "data": {
      "text/latex": [
       "$\\displaystyle t^{3} - 3 t + 1$"
      ],
      "text/plain": [
       "t**3 - 3*t + 1"
      ]
     },
     "metadata": {},
     "output_type": "display_data"
    }
   ],
   "source": [
    "# integration\n",
    "\n",
    "f = x**3 - 3*x + 1\n",
    "\n",
    "F = integrate(f, (x, 0, t)) \n",
    "\n",
    "display(f, F, diff(F, t))"
   ]
  },
  {
   "cell_type": "code",
   "execution_count": 24,
   "metadata": {},
   "outputs": [
    {
     "data": {
      "text/plain": [
       "array([7.64096606])"
      ]
     },
     "execution_count": 24,
     "metadata": {},
     "output_type": "execute_result"
    }
   ],
   "source": [
    "# let's integrate a random polynomial from 0 to t, and we want to know at what value t, the integral is 42069\n",
    "\n",
    "random_polynomial = 8*x**4 + 3*x**2 - 2*x + 1\n",
    "rp = lambdify(x, random_polynomial)\n",
    "from scipy.optimize import fsolve\n",
    "fsolve(lambda t: integrate(random_polynomial, (x, 0, t)) - 42069, 10000)"
   ]
  },
  {
   "cell_type": "code",
   "execution_count": 26,
   "metadata": {},
   "outputs": [
    {
     "data": {
      "text/latex": [
       "$\\displaystyle 42068.9999404337$"
      ],
      "text/plain": [
       "42068.9999404337"
      ]
     },
     "execution_count": 26,
     "metadata": {},
     "output_type": "execute_result"
    }
   ],
   "source": [
    "# check answer\n",
    "\n",
    "integrate(random_polynomial, (x, 0, 7.64096606))"
   ]
  },
  {
   "cell_type": "markdown",
   "metadata": {},
   "source": [
    "we could have just as easily done this without sympy"
   ]
  },
  {
   "cell_type": "code",
   "execution_count": 32,
   "metadata": {},
   "outputs": [
    {
     "data": {
      "text/plain": [
       "array([0.])"
      ]
     },
     "execution_count": 32,
     "metadata": {},
     "output_type": "execute_result"
    }
   ],
   "source": [
    "random_polynomial = lambda x: 8*x**4 + 3*x**2 - 2*x + 1\n",
    "fsolve(lambda t: quad(random_polynomial, 0, t)[0], 10000)"
   ]
  },
  {
   "cell_type": "markdown",
   "metadata": {},
   "source": [
    "why is the above not working?\n",
    "\n",
    "how do we know the above is not working?"
   ]
  },
  {
   "cell_type": "markdown",
   "metadata": {},
   "source": [
    "# numerical integration"
   ]
  },
  {
   "cell_type": "code",
   "execution_count": 16,
   "metadata": {},
   "outputs": [],
   "source": [
    "from scipy.integrate import quad, dblquad, tplquad, nquad"
   ]
  },
  {
   "cell_type": "code",
   "execution_count": null,
   "metadata": {},
   "outputs": [],
   "source": []
  }
 ],
 "metadata": {
  "kernelspec": {
   "display_name": "Python 3",
   "language": "python",
   "name": "python3"
  },
  "language_info": {
   "codemirror_mode": {
    "name": "ipython",
    "version": 3
   },
   "file_extension": ".py",
   "mimetype": "text/x-python",
   "name": "python",
   "nbconvert_exporter": "python",
   "pygments_lexer": "ipython3",
   "version": "3.10.8"
  }
 },
 "nbformat": 4,
 "nbformat_minor": 2
}
