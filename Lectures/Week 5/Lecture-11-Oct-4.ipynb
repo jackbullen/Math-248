{
 "cells": [
  {
   "cell_type": "code",
   "execution_count": 1,
   "metadata": {},
   "outputs": [],
   "source": [
    "import numpy as np\n",
    "import matplotlib.pyplot as plt\n",
    "\n",
    "import numdifftools as nd\n",
    "\n",
    "from scipy.optimize import minimize, fsolve"
   ]
  },
  {
   "cell_type": "markdown",
   "metadata": {},
   "source": [
    "# $n$-Dimensional Root Finding and Least Squares\n",
    "\n",
    "## Introduction\n",
    "\n",
    "In this educational Jupyter notebook, we will root finding in higher dimensions and least square.\n",
    "\n",
    "Nonlinear systems of equations are abacus in science, engineering, and economics, and many other fields. They often represent complex relationships where variables interact in nonlinear ways. Solving such systems is crucial for understanding and predicting real-world phenomena.\n",
    "\n",
    "Linear least square fitting, is technique approximating linear relationship.\n",
    "\n",
    "### $n$-Dimensional Root Finding with Linearization Method\n",
    "\n",
    "$$\n",
    "f: \\mathbb{R}^n \\rightarrow \\mathbb{R}^n\n",
    "$$\n",
    "\n",
    "$$\n",
    "f(x) = 0\n",
    "$$\n",
    "\n",
    "This method of locating roots is a numerical technique used to find approximate solutions to equations. It stands as a cornerstone of numerical analysis and plays a pivotal role in solving nonlinear systems. The core principles of this method revolve around iterative refinement and the linearization of the function.\n",
    "\n",
    "$$\n",
    "x_{n+1} = x_n - (Df)^{-1}(x_n)f(x_n)\n",
    "$$\n",
    "\n",
    "Notice the similarity between this equation and the one-dimensional version\n",
    "\n",
    "$$\n",
    "x_{n+1} = x_n - \\frac{f(x_n)}{f'(x_n)}\n",
    "$$"
   ]
  },
  {
   "cell_type": "code",
   "execution_count": 3,
   "metadata": {},
   "outputs": [],
   "source": [
    "def root_solve(f, x0, tol=1e-05,iterations=100):\n",
    "    '''\n",
    "   Return approximation of a root of f using the initial guess x0.\n",
    "    '''\n",
    "    Df = nd.Jacobian(f)\n",
    "    for i in range(iterations):\n",
    "        f_val = f(x0)\n",
    "        Df_val = Df(x0)\n",
    "\n",
    "        delta = np.linalg.inv(Df_val).dot(f_val)\n",
    "        x0 = x0 - delta\n",
    "\n",
    "        if np.linalg.norm(delta, 2) < tol or np.linalg.norm(f(x0), 2) < tol:\n",
    "            print(f\"{i} iterations completed\\n\")\n",
    "            return x0\n",
    "        \n",
    "    # if we did not meet the tolerance in i iterations, raise an error\n",
    "    raise ValueError(\"Newton-Raphson did not converge after {} iterations\".format(iterations))"
   ]
  },
  {
   "cell_type": "markdown",
   "metadata": {},
   "source": [
    "### Example\n",
    "Solve\n",
    "\\begin{align}\n",
    "  x^2 + y^2 = 2\\\\\n",
    "  xy = 1\n",
    "\\end{align}\n",
    "\n",
    "$$\\vec{X_0} = <50,1>$$"
   ]
  },
  {
   "cell_type": "code",
   "execution_count": 4,
   "metadata": {},
   "outputs": [
    {
     "name": "stdout",
     "output_type": "stream",
     "text": [
      "13 iterations completed\n",
      "\n",
      "Solution: [1.00149536 0.99850464]\n",
      "|f(solution)| = 5.000083906554612e-06\n",
      "[1.00000001 0.99999999]\n"
     ]
    }
   ],
   "source": [
    "def f(x):\n",
    "    return np.array([\n",
    "        x[0]**2 + x[1]**2 - 2,\n",
    "        x[0]*x[1] - 1, \n",
    "    ])\n",
    "\n",
    "x0 = np.array([50.0, 1])\n",
    "\n",
    "solution = root_solve(f, x0)\n",
    "print(f\"Solution: {solution}\")\n",
    "print(f\"|f(solution)| = {np.linalg.norm(f(solution))}\")\n",
    "\n",
    "print(fsolve(f, x0))"
   ]
  },
  {
   "cell_type": "markdown",
   "metadata": {},
   "source": [
    "### Example\n",
    "Solve\n",
    "\\begin{align}\n",
    "  x^2 + y^2 + z^2 = 1 \\\\\n",
    "  xy = 5 \\\\\n",
    "  xyz = 0\n",
    "\\end{align}\n",
    "\n",
    "$$\\vec{X_0} = <2,5,0>$$"
   ]
  },
  {
   "cell_type": "code",
   "execution_count": 5,
   "metadata": {},
   "outputs": [
    {
     "name": "stdout",
     "output_type": "stream",
     "text": [
      "3 iterations completed\n",
      "\n",
      "Solution: [6.20809924 1.20809924 0.        ]\n",
      "f(solution) = 4.945208033268568e-11\n"
     ]
    }
   ],
   "source": [
    "def f(x):\n",
    "    return np.array([\n",
    "        x[0]**2 + x[1]**2 + x[2]**2 - 40,\n",
    "        x[0]*x[1] - 7.5,  # 5 * 1.5\n",
    "        x[0]*x[1]*x[2]\n",
    "    ])\n",
    "\n",
    "x0 = np.array([5.0, 1.5, 0.0])\n",
    "\n",
    "solution = root_solve(f, x0)\n",
    "print(f\"Solution: {solution}\")\n",
    "print(f\"f(solution) = {np.linalg.norm(f(solution))}\")"
   ]
  },
  {
   "cell_type": "markdown",
   "metadata": {},
   "source": [
    "### Example\n",
    "Solve\n",
    "$$\n",
    "\\begin{align}\n",
    "  x^2 + y^2 + z^2 = 3\\\\\n",
    "  x^2 y^2 - z = 2 \\\\\n",
    "  xyz = 1\n",
    "\n",
    "\\end{align}\n",
    "$$\n",
    "\n",
    "$$\\vec{X_0} = <20, 40, 60>$$"
   ]
  },
  {
   "cell_type": "code",
   "execution_count": 9,
   "metadata": {},
   "outputs": [
    {
     "name": "stdout",
     "output_type": "stream",
     "text": [
      "42 iterations completed\n",
      "\n",
      "Solution: [ 1.00107847 -0.99892153 -1.        ]\n",
      "|f(solution)| = 3.489309463002016e-06\n",
      "[ 1.00000001 -0.99999999 -1.        ]\n"
     ]
    }
   ],
   "source": [
    "def f(x):\n",
    "    return np.array([\n",
    "        x[0]**2 + x[1]**2 + x[2]**2 - 3,\n",
    "        x[0]**2 * x[1]**2 - x[2] - 2,\n",
    "        x[0] * x[1] * x[2] - 1\n",
    "    ])\n",
    "\n",
    "x0 = np.array([20, 40, 60])\n",
    "\n",
    "solution = root_solve(f, x0)\n",
    "print(f\"Solution: {solution}\")\n",
    "print(f\"|f(solution)| = {np.linalg.norm(f(solution))}\")\n",
    "\n",
    "print(fsolve(f, x0))"
   ]
  },
  {
   "cell_type": "markdown",
   "metadata": {},
   "source": [
    "### Example\n",
    "Solve\n",
    "$$\n",
    "\\begin{align}\n",
    "  x^2 + y^2 - z^2 = 5\\\\\n",
    "  y + z^2 - x^2 = 1 \\\\\n",
    "  z + x^2 - y^2 = 0\n",
    "\n",
    "\\end{align}\n",
    "$$\n",
    "\n",
    "$$\\vec{X_0} = <2,2,1>$$"
   ]
  },
  {
   "cell_type": "code",
   "execution_count": 7,
   "metadata": {},
   "outputs": [
    {
     "name": "stdout",
     "output_type": "stream",
     "text": [
      "2 iterations completed\n",
      "\n",
      "Solution: [2.00257974 2.37362947 1.62379079]\n",
      "|f(solution)| = 5.955934526422652e-07\n",
      "[2.00257981 2.37362943 1.62379077]\n"
     ]
    }
   ],
   "source": [
    "def f(x):\n",
    "    return np.array([\n",
    "        x[0] + x[1]**2 - x[2]**2 - 5,\n",
    "        x[1] + x[2]**2 - x[0]**2 - 1,\n",
    "        x[2] + x[0]**2 - x[1]**2\n",
    "    ])\n",
    "\n",
    "x0 = np.array([2.0, 2.0, 1.0])\n",
    "\n",
    "solution = root_solve(f, x0)\n",
    "print(f\"Solution: {solution}\")\n",
    "print(f\"|f(solution)| = {np.linalg.norm(f(solution))}\")\n",
    "\n",
    "print(fsolve(f, x0))"
   ]
  },
  {
   "cell_type": "markdown",
   "metadata": {},
   "source": [
    "### An example with fsolve"
   ]
  },
  {
   "cell_type": "markdown",
   "metadata": {},
   "source": [
    "$$\n",
    "f_1(x, y) = x^2 + y^2 - 4 = 0\n",
    "$$\n",
    "\n",
    "$$\n",
    "f_2(x, y) = x - y = 0\n",
    "$$"
   ]
  },
  {
   "cell_type": "code",
   "execution_count": 7,
   "metadata": {},
   "outputs": [],
   "source": [
    "def f(xy):\n",
    "    x, y = xy\n",
    "    f1 = x**2 + y**2 - 4\n",
    "    f2 = x - y\n",
    "    return np.array([f1, f2])"
   ]
  },
  {
   "cell_type": "code",
   "execution_count": 8,
   "metadata": {},
   "outputs": [
    {
     "name": "stdout",
     "output_type": "stream",
     "text": [
      "Solution found:\n",
      "x = 1.4142135623730947, y = 1.4142135623730947\n",
      "\n",
      "Function value at solution:\n",
      "f(solution) = [-1.77635684e-15  0.00000000e+00]\n"
     ]
    }
   ],
   "source": [
    "initial_guess = [1.0, 1.0]\n",
    "\n",
    "solutions = fsolve(f, initial_guess)\n",
    "\n",
    "x_solution, y_solution = solutions\n",
    "\n",
    "print(\"Solution found:\")\n",
    "print(f\"x = {x_solution}, y = {y_solution}\")\n",
    "print(\"\\nFunction value at solution:\")\n",
    "print(f\"f(solution) = {f(solutions)}\")\n"
   ]
  },
  {
   "cell_type": "markdown",
   "metadata": {},
   "source": [
    "## Least Squares"
   ]
  },
  {
   "cell_type": "markdown",
   "metadata": {},
   "source": [
    "Let's explore another example, this time from the field of chemistry. Consider a chemical reaction with the following rate equation\n",
    "\n",
    "$$\n",
    "\\text{Rate} = k A^2 B\n",
    "$$\n",
    "\n",
    "Here, Rate is the reaction rate, k is the rate constant, and A and B are the concentrations of reactants A and B, respectively. We want to find the rate constant k that best fits experimental data.\n",
    "\n"
   ]
  },
  {
   "cell_type": "code",
   "execution_count": 9,
   "metadata": {},
   "outputs": [],
   "source": [
    "concentrations_A = np.array([1.0, 2.0, 3.0])\n",
    "concentrations_B = np.array([0.5, 1.0, 1.5])\n",
    "\n",
    "experimental_rates = np.array([0.1, 0.4, 0.9])\n",
    "\n",
    "def rate_equation(k):\n",
    "    predicted_rates = k * concentrations_A**2 * concentrations_B\n",
    "    \n",
    "    residuals = experimental_rates - predicted_rates\n",
    "    \n",
    "    return np.sum(residuals**2)\n"
   ]
  },
  {
   "cell_type": "code",
   "execution_count": 10,
   "metadata": {},
   "outputs": [
    {
     "name": "stdout",
     "output_type": "stream",
     "text": [
      "Optimized rate constant found: 0.06953125000000007\n"
     ]
    },
    {
     "data": {
      "text/plain": [
       "<matplotlib.legend.Legend at 0x125e1f790>"
      ]
     },
     "execution_count": 10,
     "metadata": {},
     "output_type": "execute_result"
    },
    {
     "data": {
      "image/png": "[encoded data removed]",
      "text/plain": [
       "<Figure size 640x480 with 1 Axes>"
      ]
     },
     "metadata": {},
     "output_type": "display_data"
    }
   ],
   "source": [
    "initial_guess = 0.1\n",
    "\n",
    "result = minimize(rate_equation, initial_guess, method='Nelder-Mead')\n",
    "\n",
    "optimized_k = result.x[0]\n",
    "\n",
    "print(\"Optimized rate constant found:\", optimized_k)\n",
    "xs = np.linspace(0.0, 3.0, 100)\n",
    "ys = optimized_k * xs**2 * 1.5\n",
    "plt.plot(xs, ys, label='Predicted rates')\n",
    "plt.plot(concentrations_A, experimental_rates, 'o', label='Experimental rates')\n",
    "plt.xlabel('Concentration of A')\n",
    "plt.ylabel('Rate')\n",
    "plt.legend()\n"
   ]
  },
  {
   "cell_type": "markdown",
   "metadata": {},
   "source": [
    "## Linear Least Squares\n",
    "\n",
    "Linear least square fitting is a powerful mathematical and statistical technique used to model linear relationships between variables. It is widely applied in data science, statistics, economics, physics, and various other fields. In this section, we will explore the fundamental principles, mathematical formulation, and practical implementation of linear least squares fitting using NumPy.\n"
   ]
  },
  {
   "cell_type": "markdown",
   "metadata": {},
   "source": [
    "Let's illustrate the concept of linear least square fitting with a detailed example. Consider a scenario where we have experimental data points representing a relationship between two variables, $X$ and $Y$. We want to fit a linear model to this data to describe the relationship and make predictions."
   ]
  },
  {
   "cell_type": "markdown",
   "metadata": {},
   "source": [
    "#### Mathematical Formulation\n",
    "\n",
    "The linear model we want to fit has the following form $y=mx+b$."
   ]
  },
  {
   "cell_type": "markdown",
   "metadata": {},
   "source": [
    "\n",
    "In this equation:\n",
    "- $Y$ represents the dependent variable (the one we want to predict).\n",
    "- $X$ represents the independent variable (the one used for prediction).\n",
    "- $m$ is the slope of the line (the coefficient that measures the rate of change).\n",
    "- $b$ is the y-intercept (the value of $Y$ when $X$ is 0)."
   ]
  },
  {
   "cell_type": "markdown",
   "metadata": {},
   "source": [
    "\n",
    "Our goal is to find the values of $m$ and $b$ that best fit the data. To do this, we will use the method of least squares.\n"
   ]
  },
  {
   "cell_type": "markdown",
   "metadata": {},
   "source": [
    "#### The Method of Least Squares\n",
    "The method of least squares aims to minimize the sum of the squared differences between the observed $Y$ values and the predicted $Y$ values. Define the **SSE** as follows:\n"
   ]
  },
  {
   "cell_type": "markdown",
   "metadata": {},
   "source": [
    "\n",
    "$$SSE = \\Sigma (Y_\\text{observed} - Y_\\text{predicted})^2$$"
   ]
  },
  {
   "cell_type": "markdown",
   "metadata": {},
   "source": [
    "\n",
    "Thus to find the line best-fit we want $m$ and $b$ minimizing SSE. For the line the SSE is\n",
    "\n",
    "$$ y(x_i) - y_i = m x_i + b - y_i$$\n",
    "\n",
    "$$ SSE = \\Sigma (m x_i + b - y_i)^2$$\n",
    "\n",
    "$$ \n",
    "\\frac{\\partial SSE}{\\partial m} = 2 \\Sigma (m x_i + b - y_i) x_i = 2 \\Sigma (m x_i^2 + b - x_iy_i)\n",
    "$$\n",
    "\n",
    "$$ \\frac{\\partial SSE}{\\partial b} = 2 \\Sigma (m x_i + b - y_i)$$\n",
    "\n",
    "Set the derivatives to zero and solve for $m$ and $b$"
   ]
  },
  {
   "cell_type": "markdown",
   "metadata": {},
   "source": [
    "$$\n",
    "  \\left[\\begin{array}{cc}\n",
    "      \\sum_{i=0}^nx_i^2 &  \\sum_{i=0}^nx_i\\\\\n",
    "      \\sum_{i=0}^nx_i & n+1\n",
    "  \\end{array}\\right] \n",
    "  \\left[\\begin{array}{c}\n",
    "      m \\\\ b\n",
    "  \\end{array}\\right] =\n",
    "  \\left[\\begin{array}{cc}\n",
    "      \\sum_{i=0}^nx_i y_i\\\\\n",
    "      \\sum_{i=0}^ny_i\n",
    "  \\end{array}\\right] \n",
    "$$\n",
    "\n",
    "Solve the system using `numpy.linalg.solve()`"
   ]
  },
  {
   "cell_type": "markdown",
   "metadata": {},
   "source": [
    "Implement linear least square fitting by solving the above matrix equation with `np.linalg.solve()` and `scipy.optimize.minimize()`.\n",
    "1. Prepare the data: Create NumPy arrays to store the observed $X$ and $Y$ values.\n",
    "2. Define the linear model: Create a function that represents the linear model $Y = mX + b$.\n",
    "3. Define the objective function: Create an objective function that calculates SSE given $m$ and $b$.\n",
    "4. Find the values of $m$ and $b$ that minimize SSE using `scipy.optimize.minimize()`.\n"
   ]
  },
  {
   "cell_type": "markdown",
   "metadata": {},
   "source": [
    "- **numpy matrix operations**"
   ]
  },
  {
   "cell_type": "code",
   "execution_count": 11,
   "metadata": {},
   "outputs": [],
   "source": [
    "def llsq(X, Y):\n",
    "    return np.array([[sum([x**2 for x in X]), sum([x for x in X])], [sum([x for x in X]), len(X)]])"
   ]
  },
  {
   "cell_type": "code",
   "execution_count": 12,
   "metadata": {},
   "outputs": [
    {
     "data": {
      "text/plain": [
       "array([ 2.03, -0.11])"
      ]
     },
     "execution_count": 12,
     "metadata": {},
     "output_type": "execute_result"
    }
   ],
   "source": [
    "X_observed = np.array([1, 2, 3, 4, 5])\n",
    "Y_observed = np.array([2, 3.8, 6.1, 7.9, 10.1])\n",
    "\n",
    "np.linalg.inv(llsq(X_observed, Y_observed)).dot(np.array([sum([x*y for x, y in zip(X_observed, Y_observed)]), sum(Y_observed)]))"
   ]
  },
  {
   "cell_type": "markdown",
   "metadata": {},
   "source": [
    "- **scipy.optimize()**"
   ]
  },
  {
   "cell_type": "code",
   "execution_count": 13,
   "metadata": {},
   "outputs": [
    {
     "data": {
      "text/plain": [
       "(2.0299930378045064, -0.10997147555045433)"
      ]
     },
     "execution_count": 13,
     "metadata": {},
     "output_type": "execute_result"
    }
   ],
   "source": [
    "X_observed = np.array([1, 2, 3, 4, 5])\n",
    "Y_observed = np.array([2, 3.8, 6.1, 7.9, 10.1])\n",
    "\n",
    "def linear_model(params, X):\n",
    "    m, b = params\n",
    "    return m * X + b\n",
    "\n",
    "def objective_function(params):\n",
    "    predicted_Y = linear_model(params, X_observed)\n",
    "    residuals = Y_observed - predicted_Y\n",
    "    return np.sum(residuals**2)\n",
    "\n",
    "initial_guess = [1.0, 1.0] # m, b\n",
    "result = minimize(objective_function, initial_guess, method='Nelder-Mead')\n",
    "\n",
    "m, b = result.x\n",
    "\n",
    "m,b\n"
   ]
  },
  {
   "cell_type": "markdown",
   "metadata": {},
   "source": [
    "#### Interpretation and Visualization\n",
    "\n",
    "The optimized parameters $m$ and $b$ represent the slope and y-intercept of the best-fitting line ar model. We can use these values to make predictions\n"
   ]
  },
  {
   "cell_type": "code",
   "execution_count": 14,
   "metadata": {},
   "outputs": [
    {
     "data": {
      "image/png": "[encoded data removed]",
      "text/plain": [
       "<Figure size 640x480 with 1 Axes>"
      ]
     },
     "metadata": {},
     "output_type": "display_data"
    }
   ],
   "source": [
    "predicted_Y = linear_model([m, b], X_observed)\n",
    "\n",
    "plt.scatter(X_observed, Y_observed, label=\"Observed Data\", color='blue')\n",
    "plt.plot(X_observed, predicted_Y, label=\"Best-Fitting Linear Model\", color='red')\n",
    "plt.xlabel(\"X\")\n",
    "plt.ylabel(\"Y\")\n",
    "plt.legend()\n",
    "plt.title(\"Linear Least Square Fitting\")\n",
    "plt.show()\n"
   ]
  },
  {
   "cell_type": "markdown",
   "metadata": {},
   "source": [
    "\n",
    "# Exercises <a name=\"exercises\"></a>\n",
    "\n",
    "Reinforce your learning with exercises and quizzes:\n",
    "\n",
    "### Exercise 1: Solve a Nonlinear System\n",
    "\n",
    "Apply the Newton-Raphson method to solve a challenging nonlinear system.\n",
    "\n",
    "### Exercise 2: Linear Least Square Fitting\n",
    "\n",
    "Practice your linear least square fitting skills by fitting a model to real-world data.\n",
    "\n",
    "# Quiz\n",
    "\n",
    "Test your knowledge with a comprehensive quiz covering the topics discussed in this notebook.\n"
   ]
  },
  {
   "cell_type": "markdown",
   "metadata": {},
   "source": [
    "---\n",
    "\n",
    "**Exercises Section**\n",
    "\n",
    "---\n",
    "\n",
    "### Exercise 1: Newton-Raphson Method in Higher Dimensions\n",
    "\n",
    "Given the system of equations:\n",
    "\n",
    "- $x^2 + y^2 = 5$\n",
    "\n",
    "- $x - 2y + z = 2$\n",
    "\n",
    "- $z - y^2 = 1$\n",
    "\n",
    "Use the Newton-Raphson method to find the roots of this system. \n",
    "\n",
    "**Hint:** Start with an initial guess of $x_0 = [1,1,1]$. \n",
    "\n",
    "---\n",
    "\n",
    "### Exercise 2: Linear Least Squares Fitting\n",
    "\n",
    "You have collected data that represents the relationship between the age of a tree (in years) and its height (in meters). \n",
    "\n",
    "Age: [1, 3, 5, 7, 9]\n",
    "Height: [2.5, 8.5, 14.2, 20.1, 25.5]\n",
    "\n",
    "Fit a linear model to this data using the method of linear least squares. \n",
    "\n",
    "**Hint:** Your model is $y = mx + b$, where $y$ is the height, $x$ is the age, $m$ is the slope, and $b$ is the y-intercept.\n",
    "\n",
    "---\n",
    "\n",
    "### Exercise 3: Evaluating the Model\n",
    "\n",
    "Using the linear model you derived in Exercise 2, predict the height of the tree when its age is 6 years. Then, calculate the residual for this prediction based on the actual height value from the given data.\n",
    "\n",
    "---\n",
    "\n",
    "### Quiz\n",
    "\n",
    "#### 1. What is the purpose of the Jacobian matrix in the Newton-Raphson method for multidimensional root-finding?\n",
    "\n",
    "**a)** To approximate the function values\n",
    "\n",
    "**b)** To represent linear approximations of the functions\n",
    "\n",
    "**c)** To provide an initial guess for the roots\n",
    "\n",
    "**d)** To ensure convergence of the method\n",
    "\n",
    "#### 2. In the context of least squares fitting, what does the term \"residual\" refer to?\n",
    "\n",
    "**a)** The difference between the observed value and the predicted value\n",
    "\n",
    "**b)** The slope of the best fit line\n",
    "\n",
    "**c)** The y-intercept of the model\n",
    "\n",
    "**d)** The square of the difference between the observed and predicted values\n",
    "\n",
    "\n",
    "#### 3. How can we fit to a general quadratic function $y = ax^2 + bx + c$ using linear least squares?\n",
    "\n",
    "**a)** By using a linear transformation\n",
    "\n",
    "**b)** By using a nonlinear transformation\n",
    "\n",
    "**c)** By using a logarithmic transformation\n",
    "\n",
    "**d)** By using a polynomial transformation\n",
    "\n",
    "#### 4. What is the SSE?\n",
    "\n",
    "**a)** $SSE = \\Sigma (Y_\\text{observed}^2 - Y_\\text{predicted}^2)$\n",
    "\n",
    "**b)** $SSE = \\Sigma \\sqrt{(Y_\\text{observed} - Y_\\text{predicted})}$\n",
    "\n",
    "**c)** $SSE = \\Sigma (Y_\\text{observed} + Y_\\text{predicted})^2$\n",
    "\n",
    "**d)** $SSE = \\exp^{\\Sigma (Y_\\text{observed} + Y_\\text{predicted})}$\n",
    "\n",
    "#### 5. Which is the objective function for linear least squares fitting\n",
    "\n",
    "**I)** \n",
    "$$\n",
    "  SSE = \\left[\\begin{array}{cc}\n",
    "      \\sum_{i=0}^nx_i^2 &  \\sum_{i=0}^nx_i\\\\\n",
    "      \\sum_{i=0}^nx_i & n+1\n",
    "  \\end{array}\\right] \n",
    "  \\left[\\begin{array}{c}\n",
    "      m \\\\ b\n",
    "  \\end{array}\\right] =\n",
    "  \\left[\\begin{array}{cc}\n",
    "      \\sum_{i=0}^nx_i y_i\\\\\n",
    "      \\sum_{i=0}^ny_i\n",
    "  \\end{array}\\right] \n",
    "$$\n",
    "**II)**\n",
    "$$\n",
    "  SSE = \\left[\\begin{array}{cc}\n",
    "      \\sum_{i=1}^nx_i^2 &  \\sum_{i=1}^nx_i\\\\\n",
    "      \\sum_{i=1}^nx_i & n\n",
    "  \\end{array}\\right] \n",
    "  \\left[\\begin{array}{c}\n",
    "      m \\\\ b\n",
    "  \\end{array}\\right] =\n",
    "  \\left[\\begin{array}{cc}\n",
    "      \\sum_{i=1}^nx_i y_i\\\\\n",
    "      \\sum_{i=1}^ny_i\n",
    "  \\end{array}\\right] \n",
    "$$\n",
    "\n",
    "---\n",
    "\n"
   ]
  }
 ],
 "metadata": {
  "kernelspec": {
   "display_name": "Python 3",
   "language": "python",
   "name": "python3"
  },
  "language_info": {
   "codemirror_mode": {
    "name": "ipython",
    "version": 3
   },
   "file_extension": ".py",
   "mimetype": "text/x-python",
   "name": "python",
   "nbconvert_exporter": "python",
   "pygments_lexer": "ipython3",
   "version": "3.11.5"
  }
 },
 "nbformat": 4,
 "nbformat_minor": 2
}
