{
 "cells": [
  {
   "cell_type": "markdown",
   "metadata": {},
   "source": [
    "# Review\n",
    "\n",
    "- fsolve\n",
    "- SIR like models"
   ]
  },
  {
   "cell_type": "code",
   "execution_count": 33,
   "metadata": {},
   "outputs": [],
   "source": [
    "from scipy.optimize import minimize, fsolve\n",
    "import numpy as np\n",
    "import matplotlib.pyplot as plt"
   ]
  },
  {
   "cell_type": "markdown",
   "metadata": {},
   "source": [
    "Find the roots of $x^2-1$"
   ]
  },
  {
   "cell_type": "code",
   "execution_count": 34,
   "metadata": {},
   "outputs": [
    {
     "name": "stdout",
     "output_type": "stream",
     "text": [
      "[1.]\n",
      "[-1.]\n"
     ]
    }
   ],
   "source": [
    "print(fsolve(lambda x: x**2 - 1, 0.5))\n",
    "print(fsolve(lambda x: x**2 - 1, -0.5))"
   ]
  },
  {
   "cell_type": "markdown",
   "metadata": {},
   "source": [
    "## MT1 Q1\n",
    "\n",
    "$$P_{n+1}-P_{n}=\\frac{r}{12}P_{n}+x$$\n",
    "\n",
    "Regular monthly deposit of $x$\n",
    "\n",
    "Interest is compounded monthly at the end of each month with an annual rate $r$\n",
    "\n",
    "$P_{n}$ is the balance at the end of month $n$"
   ]
  },
  {
   "cell_type": "code",
   "execution_count": 67,
   "metadata": {},
   "outputs": [],
   "source": [
    "def f(P, r, x):\n",
    "    return P + (r/12)*P + x"
   ]
  },
  {
   "cell_type": "code",
   "execution_count": 68,
   "metadata": {},
   "outputs": [
    {
     "data": {
      "text/plain": [
       "15312.5"
      ]
     },
     "execution_count": 68,
     "metadata": {},
     "output_type": "execute_result"
    }
   ],
   "source": [
    "f(15000, 0.05, 250)"
   ]
  },
  {
   "cell_type": "code",
   "execution_count": 69,
   "metadata": {},
   "outputs": [],
   "source": [
    "def run(T, P0, r, x):\n",
    "    Ps = [P0]\n",
    "    for _ in range(T):\n",
    "        Ps.append(f(Ps[-1], r, x))\n",
    "    return Ps"
   ]
  },
  {
   "cell_type": "code",
   "execution_count": 70,
   "metadata": {},
   "outputs": [
    {
     "data": {
      "text/plain": [
       "(11830.130224503268, 830.1302245032675, 6000)"
      ]
     },
     "execution_count": 70,
     "metadata": {},
     "output_type": "execute_result"
    }
   ],
   "source": [
    "run(12*5, 5000, 0.02, 100)[-1], run(12*5, 5000, 0.02, 100)[-1] - 5000 - 100*12*5, 100*12*5"
   ]
  },
  {
   "cell_type": "markdown",
   "metadata": {},
   "source": [
    "**Question:**\n",
    "\n",
    "What deposits amount is required to get 1 000 000 \\$ in 20 years if the interest rate is 5% and `started from the bottom` (0)?"
   ]
  },
  {
   "cell_type": "code",
   "execution_count": 37,
   "metadata": {},
   "outputs": [
    {
     "data": {
      "text/plain": [
       "array([2432.8907255])"
      ]
     },
     "execution_count": 37,
     "metadata": {},
     "output_type": "execute_result"
    }
   ],
   "source": [
    "fsolve(lambda x: run(12*20, 0, 0.05, x)[-1] - 1000000, 1000000)"
   ]
  },
  {
   "cell_type": "code",
   "execution_count": 38,
   "metadata": {},
   "outputs": [],
   "source": [
    "# function that takes in number 0 to 11 and returns the month\n",
    "def m(i):\n",
    "    return ['Jan', 'Feb', 'Mar', 'Apr', 'May', 'Jun', 'Jul', 'Aug', 'Sep', 'Oct', 'Nov', 'Dec'][i]"
   ]
  },
  {
   "cell_type": "code",
   "execution_count": 39,
   "metadata": {},
   "outputs": [
    {
     "name": "stdout",
     "output_type": "stream",
     "text": [
      "Jan 2023: 0$\n",
      "Feb 2023: 2433$\n",
      "Mar 2023: 4876$\n",
      "Apr 2023: 7329$\n",
      "May 2023: 9793$\n",
      "Jun 2023: 12266$\n",
      "Jul 2023: 14750$\n",
      "Aug 2023: 17245$\n",
      "Sep 2023: 19749$\n",
      "Oct 2023: 22265$\n",
      "Nov 2023: 24790$\n",
      "Dec 2023: 27326$\n",
      "Jan 2024: 29873$\n",
      "Feb 2024: 32431$\n",
      "Mar 2024: 34999$\n",
      "Apr 2024: 37577$\n",
      "May 2024: 40167$\n",
      "Jun 2024: 42767$\n",
      "Jul 2024: 45378$\n",
      "Aug 2024: 48000$\n",
      "Sep 2024: 50633$\n",
      "Oct 2024: 53277$\n",
      "Nov 2024: 55932$\n",
      "Dec 2024: 58598$\n",
      "Jan 2025: 61275$\n",
      "Feb 2025: 63963$\n",
      "Mar 2025: 66662$\n",
      "Apr 2025: 69373$\n",
      "May 2025: 72095$\n",
      "Jun 2025: 74828$\n",
      "Jul 2025: 77573$\n",
      "Aug 2025: 80329$\n",
      "Sep 2025: 83097$\n",
      "Oct 2025: 85876$\n",
      "Nov 2025: 88667$\n",
      "Dec 2025: 91469$\n",
      "Jan 2026: 94283$\n",
      "Feb 2026: 97109$\n",
      "Mar 2026: 99946$\n",
      "Apr 2026: 102796$\n",
      "May 2026: 105657$\n",
      "Jun 2026: 108530$\n",
      "Jul 2026: 111415$\n",
      "Aug 2026: 114312$\n",
      "Sep 2026: 117221$\n",
      "Oct 2026: 120143$\n",
      "Nov 2026: 123076$\n",
      "Dec 2026: 126022$\n",
      "Jan 2027: 128980$\n",
      "Feb 2027: 131950$\n",
      "Mar 2027: 134933$\n",
      "Apr 2027: 137928$\n",
      "May 2027: 140936$\n",
      "Jun 2027: 143956$\n",
      "Jul 2027: 146988$\n",
      "Aug 2027: 150034$\n",
      "Sep 2027: 153092$\n",
      "Oct 2027: 156163$\n",
      "Nov 2027: 159246$\n",
      "Dec 2027: 162343$\n",
      "Jan 2028: 165452$\n",
      "Feb 2028: 168574$\n",
      "Mar 2028: 171710$\n",
      "Apr 2028: 174858$\n",
      "May 2028: 178019$\n",
      "Jun 2028: 181194$\n",
      "Jul 2028: 184382$\n",
      "Aug 2028: 187583$\n",
      "Sep 2028: 190798$\n",
      "Oct 2028: 194025$\n",
      "Nov 2028: 197267$\n",
      "Dec 2028: 200522$\n",
      "Jan 2029: 203790$\n",
      "Feb 2029: 207072$\n",
      "Mar 2029: 210368$\n",
      "Apr 2029: 213677$\n",
      "May 2029: 217000$\n",
      "Jun 2029: 220338$\n",
      "Jul 2029: 223688$\n",
      "Aug 2029: 227053$\n",
      "Sep 2029: 230432$\n",
      "Oct 2029: 233825$\n",
      "Nov 2029: 237233$\n",
      "Dec 2029: 240654$\n",
      "Jan 2030: 244090$\n",
      "Feb 2030: 247540$\n",
      "Mar 2030: 251004$\n",
      "Apr 2030: 254483$\n",
      "May 2030: 257976$\n",
      "Jun 2030: 261484$\n",
      "Jul 2030: 265006$\n",
      "Aug 2030: 268543$\n",
      "Sep 2030: 272095$\n",
      "Oct 2030: 275662$\n",
      "Nov 2030: 279243$\n",
      "Dec 2030: 282839$\n",
      "Jan 2031: 286451$\n",
      "Feb 2031: 290077$\n",
      "Mar 2031: 293719$\n",
      "Apr 2031: 297376$\n",
      "May 2031: 301048$\n",
      "Jun 2031: 304735$\n",
      "Jul 2031: 308437$\n",
      "Aug 2031: 312156$\n",
      "Sep 2031: 315889$\n",
      "Oct 2031: 319638$\n",
      "Nov 2031: 323403$\n",
      "Dec 2031: 327183$\n",
      "Jan 2032: 330979$\n",
      "Feb 2032: 334791$\n",
      "Mar 2032: 338619$\n",
      "Apr 2032: 342463$\n",
      "May 2032: 346323$\n",
      "Jun 2032: 350199$\n",
      "Jul 2032: 354091$\n",
      "Aug 2032: 357999$\n",
      "Sep 2032: 361924$\n",
      "Oct 2032: 365865$\n",
      "Nov 2032: 369822$\n",
      "Dec 2032: 373796$\n",
      "Jan 2033: 377786$\n",
      "Feb 2033: 381793$\n",
      "Mar 2033: 385817$\n",
      "Apr 2033: 389857$\n",
      "May 2033: 393915$\n",
      "Jun 2033: 397989$\n",
      "Jul 2033: 402080$\n",
      "Aug 2033: 406188$\n",
      "Sep 2033: 410314$\n",
      "Oct 2033: 414456$\n",
      "Nov 2033: 418616$\n",
      "Dec 2033: 422793$\n",
      "Jan 2034: 426988$\n",
      "Feb 2034: 431200$\n",
      "Mar 2034: 435429$\n",
      "Apr 2034: 439677$\n",
      "May 2034: 443941$\n",
      "Jun 2034: 448224$\n",
      "Jul 2034: 452525$\n",
      "Aug 2034: 456843$\n",
      "Sep 2034: 461179$\n",
      "Oct 2034: 465534$\n",
      "Nov 2034: 469906$\n",
      "Dec 2034: 474297$\n",
      "Jan 2035: 478706$\n",
      "Feb 2035: 483134$\n",
      "Mar 2035: 487580$\n",
      "Apr 2035: 492044$\n",
      "May 2035: 496528$\n",
      "Jun 2035: 501029$\n",
      "Jul 2035: 505550$\n",
      "Aug 2035: 510089$\n",
      "Sep 2035: 514647$\n",
      "Oct 2035: 519225$\n",
      "Nov 2035: 523821$\n",
      "Dec 2035: 528437$\n",
      "Jan 2036: 533071$\n",
      "Feb 2036: 537725$\n",
      "Mar 2036: 542399$\n",
      "Apr 2036: 547092$\n",
      "May 2036: 551804$\n",
      "Jun 2036: 556536$\n",
      "Jul 2036: 561288$\n",
      "Aug 2036: 566060$\n",
      "Sep 2036: 570851$\n",
      "Oct 2036: 575662$\n",
      "Nov 2036: 580494$\n",
      "Dec 2036: 585346$\n",
      "Jan 2037: 590217$\n",
      "Feb 2037: 595110$\n",
      "Mar 2037: 600022$\n",
      "Apr 2037: 604955$\n",
      "May 2037: 609909$\n",
      "Jun 2037: 614883$\n",
      "Jul 2037: 619878$\n",
      "Aug 2037: 624893$\n",
      "Sep 2037: 629930$\n",
      "Oct 2037: 634988$\n",
      "Nov 2037: 640066$\n",
      "Dec 2037: 645166$\n",
      "Jan 2038: 650287$\n",
      "Feb 2038: 655430$\n",
      "Mar 2038: 660594$\n",
      "Apr 2038: 665779$\n",
      "May 2038: 670986$\n",
      "Jun 2038: 676215$\n",
      "Jul 2038: 681465$\n",
      "Aug 2038: 686737$\n",
      "Sep 2038: 692032$\n",
      "Oct 2038: 697348$\n",
      "Nov 2038: 702687$\n",
      "Dec 2038: 708047$\n",
      "Jan 2039: 713430$\n",
      "Feb 2039: 718836$\n",
      "Mar 2039: 724264$\n",
      "Apr 2039: 729715$\n",
      "May 2039: 735188$\n",
      "Jun 2039: 740684$\n",
      "Jul 2039: 746203$\n",
      "Aug 2039: 751745$\n",
      "Sep 2039: 757311$\n",
      "Oct 2039: 762899$\n",
      "Nov 2039: 768511$\n",
      "Dec 2039: 774146$\n",
      "Jan 2040: 779804$\n",
      "Feb 2040: 785486$\n",
      "Mar 2040: 791192$\n",
      "Apr 2040: 796921$\n",
      "May 2040: 802675$\n",
      "Jun 2040: 808452$\n",
      "Jul 2040: 814254$\n",
      "Aug 2040: 820079$\n",
      "Sep 2040: 825929$\n",
      "Oct 2040: 831804$\n",
      "Nov 2040: 837702$\n",
      "Dec 2040: 843626$\n",
      "Jan 2041: 849574$\n",
      "Feb 2041: 855546$\n",
      "Mar 2041: 861544$\n",
      "Apr 2041: 867567$\n",
      "May 2041: 873614$\n",
      "Jun 2041: 879687$\n",
      "Jul 2041: 885786$\n",
      "Aug 2041: 891909$\n",
      "Sep 2041: 898059$\n",
      "Oct 2041: 904233$\n",
      "Nov 2041: 910434$\n",
      "Dec 2041: 916660$\n",
      "Jan 2042: 922913$\n",
      "Feb 2042: 929191$\n",
      "Mar 2042: 935496$\n",
      "Apr 2042: 941826$\n",
      "May 2042: 948183$\n",
      "Jun 2042: 954567$\n",
      "Jul 2042: 960977$\n",
      "Aug 2042: 967414$\n",
      "Sep 2042: 973878$\n",
      "Oct 2042: 980369$\n",
      "Nov 2042: 986887$\n",
      "Dec 2042: 993432$\n",
      "Jan 2043: 1000004$\n"
     ]
    }
   ],
   "source": [
    "for month, balance in enumerate(run(12*20, 0, 0.05, 2432.9)):\n",
    "    print(f\"{m(month%12)} {2023 + int(month/12)}: {balance:.0f}$\")"
   ]
  },
  {
   "cell_type": "code",
   "execution_count": 50,
   "metadata": {},
   "outputs": [
    {
     "data": {
      "text/plain": [
       "416107.8121318007"
      ]
     },
     "execution_count": 50,
     "metadata": {},
     "output_type": "execute_result"
    }
   ],
   "source": [
    "run(12*20, 0, 0.05, 2432.9)[-1] - 2432.9*12*20"
   ]
  },
  {
   "cell_type": "markdown",
   "metadata": {},
   "source": [
    "**Question: EASY** \n",
    "\n",
    "What initial balance is required to get 1 000 000 \\$ in 20 years if the interest rate is 5% and `started from the bottom` (0)?"
   ]
  },
  {
   "cell_type": "code",
   "execution_count": null,
   "metadata": {},
   "outputs": [],
   "source": []
  },
  {
   "cell_type": "markdown",
   "metadata": {},
   "source": [
    "**Question: MODERATE** \n",
    "\n",
    "What initial balance is required to get 1 000 000 \\$ in 20 years if the interest rate is 5%, and depositing 800\\$ and `started from the bottom` (0)?"
   ]
  },
  {
   "cell_type": "code",
   "execution_count": null,
   "metadata": {},
   "outputs": [],
   "source": []
  },
  {
   "cell_type": "markdown",
   "metadata": {},
   "source": [
    "**Question: IMPOSSIBLE** \n",
    "\n",
    "What initial balance is required to get 1 000 000 \\$ in 20 years if the interest rate is variable, depositing 800\\$ and `started from the bottom` (0)?"
   ]
  },
  {
   "cell_type": "code",
   "execution_count": null,
   "metadata": {},
   "outputs": [],
   "source": []
  },
  {
   "cell_type": "markdown",
   "metadata": {},
   "source": [
    "**QUESTION: NOW WE HERE**\n",
    "\n",
    "Now we are here, we have made it to 1 million dollrs. What amount can we sustainably withdraw each month for the next 20 years if the interest rate is 5% and `started from the bottom` (0)?"
   ]
  },
  {
   "cell_type": "code",
   "execution_count": null,
   "metadata": {},
   "outputs": [],
   "source": []
  },
  {
   "cell_type": "markdown",
   "metadata": {},
   "source": [
    "# SIR like models"
   ]
  },
  {
   "cell_type": "markdown",
   "metadata": {},
   "source": [
    "![started from the bottom](./started_from_the_bottom.png)"
   ]
  },
  {
   "cell_type": "markdown",
   "metadata": {},
   "source": [
    "$$\\frac{dS}{dt} = -\\frac{\\beta S I}{N}$$\n",
    "\n",
    "$$\\frac{dI}{dt} = \\frac{\\beta S I}{N} - \\gamma I$$\n",
    "\n",
    "$$\\frac{dR}{dt} = \\gamma I$$\n",
    "\n",
    "$S_0 = 0.99$\n",
    "\n",
    "$I_0 =  0.01$ \n",
    "\n",
    "$R_0 = 0$\n",
    "\n",
    "$\\beta = 0.2$ and $\\gamma = 0.1$"
   ]
  },
  {
   "cell_type": "code",
   "execution_count": 54,
   "metadata": {},
   "outputs": [],
   "source": [
    "beta = 0.2\n",
    "gamma = 0.1\n",
    "\n",
    "def dS(S, I):\n",
    "    return -beta*S*I\n",
    "\n",
    "def dI(S, I):\n",
    "    return beta*S*I - gamma*I\n",
    "\n",
    "def dR(I):\n",
    "    return gamma*I"
   ]
  },
  {
   "cell_type": "code",
   "execution_count": 55,
   "metadata": {},
   "outputs": [
    {
     "data": {
      "text/plain": [
       "<matplotlib.legend.Legend at 0x11f89a250>"
      ]
     },
     "execution_count": 55,
     "metadata": {},
     "output_type": "execute_result"
    },
    {
     "data": {
      "image/png": "[encoded data removed]",
      "text/plain": [
       "<Figure size 640x480 with 1 Axes>"
      ]
     },
     "metadata": {},
     "output_type": "display_data"
    }
   ],
   "source": [
    "from scipy.integrate import solve_ivp\n",
    "\n",
    "def SIR(t, y):\n",
    "    S, I, R = y\n",
    "    return [dS(S, I), dI(S, I), dR(I)]\n",
    "\n",
    "y0 = [0.99, 0.01, 0]\n",
    "t = np.linspace(0, 128, 1000)\n",
    "\n",
    "sol = solve_ivp(SIR, [0, 128], y0, t_eval=t)\n",
    "\n",
    "plt.figure()\n",
    "plt.plot(sol.t, sol.y[0], label='S(t)')\n",
    "plt.plot(sol.t, sol.y[1], label='I(t)')\n",
    "plt.plot(sol.t, sol.y[2], label='R(t)')\n",
    "plt.grid()\n",
    "plt.legend()"
   ]
  },
  {
   "cell_type": "markdown",
   "metadata": {},
   "source": [
    "# these two code cells are very flexible and can easily be modified to change the model."
   ]
  },
  {
   "cell_type": "markdown",
   "metadata": {},
   "source": [
    "*sympy: symbolic python*\n",
    "\n",
    "scipy: scientific python\n",
    "\n",
    "numpy: numerical python\n",
    "\n",
    "matplotlib: plotting python\n",
    "\n",
    "pandas: data analysis python"
   ]
  },
  {
   "cell_type": "code",
   "execution_count": 59,
   "metadata": {},
   "outputs": [],
   "source": [
    "from sympy import symbols, solve, Eq, simplify, lambdify"
   ]
  },
  {
   "cell_type": "code",
   "execution_count": 60,
   "metadata": {},
   "outputs": [
    {
     "data": {
      "text/plain": [
       "{x: 1/2, y: 1/2}"
      ]
     },
     "execution_count": 60,
     "metadata": {},
     "output_type": "execute_result"
    }
   ],
   "source": [
    "x, y = symbols('x y')\n",
    "\n",
    "solve([Eq(x + y, 1), Eq(x - y, 0)], [x, y])"
   ]
  },
  {
   "cell_type": "code",
   "execution_count": 61,
   "metadata": {},
   "outputs": [
    {
     "data": {
      "text/plain": [
       "5"
      ]
     },
     "execution_count": 61,
     "metadata": {},
     "output_type": "execute_result"
    }
   ],
   "source": [
    "# example using simplify and lambdify\n",
    "\n",
    "x, y = symbols('x y')\n",
    "\n",
    "solve([Eq(x**2 + y**2, 1), Eq(x - y, 0)], [x, y])\n",
    "\n",
    "simplify(x**2 + y**2)\n",
    "\n",
    "f = lambdify([x, y], x**2 + y**2)\n",
    "\n",
    "f(1, 2)"
   ]
  },
  {
   "cell_type": "code",
   "execution_count": 62,
   "metadata": {},
   "outputs": [
    {
     "name": "stdout",
     "output_type": "stream",
     "text": [
      "Lab-27-Oct-30.ipynb\n",
      "Lab-28-Oct-30.ipynb\n",
      "\u001b[34mLab-29-Oct-31\u001b[m\u001b[m\n",
      "Lab-30-Nov-1.ipynb\n",
      "started_from_the_bottom.png\n",
      "sym.py\n"
     ]
    },
    {
     "data": {
      "text/plain": [
       "0"
      ]
     },
     "execution_count": 62,
     "metadata": {},
     "output_type": "execute_result"
    }
   ],
   "source": [
    "import os \n",
    "\n",
    "os.system('ls')"
   ]
  },
  {
   "cell_type": "code",
   "execution_count": 63,
   "metadata": {},
   "outputs": [
    {
     "name": "stdout",
     "output_type": "stream",
     "text": [
      "/Users/jackbullen/Math-248/Labs/Week 10\n"
     ]
    },
    {
     "data": {
      "text/plain": [
       "0"
      ]
     },
     "execution_count": 63,
     "metadata": {},
     "output_type": "execute_result"
    }
   ],
   "source": [
    "os.system('pwd')"
   ]
  },
  {
   "cell_type": "code",
   "execution_count": 65,
   "metadata": {},
   "outputs": [
    {
     "name": "stdout",
     "output_type": "stream",
     "text": [
      "Matrix: Matrix([[-N*P*m/(N + 1) + N*(1 - N/K)], [N*P*m/(N + 1) - P*c]])\n",
      "Derivative Matrix([[N*P*m/(N + 1)**2 - P*m/(N + 1) + 1 - 2*N/K, -N*m/(N + 1)], [-N*P*m/(N + 1)**2 + P*m/(N + 1), N*m/(N + 1) - c]])\n",
      "Equilibrium points: [(0, 0), (K, 0), (-c/(c - m), (-K*c + K*m - c)/(K*(c - m)**2))]\n",
      "Matrix([[1, 0], [0, -c]])\n",
      "Matrix([[-1, -K*m/(K + 1)], [0, K*m/(K + 1) - c]])\n",
      "Matrix([[1 - c*m*(-K*c + K*m - c)/(K*(c - m)**3*(-c/(c - m) + 1)**2) + 2*c/(K*(c - m)) - m*(-K*c + K*m - c)/(K*(c - m)**2*(-c/(c - m) + 1)), c*m/((c - m)*(-c/(c - m) + 1))], [c*m*(-K*c + K*m - c)/(K*(c - m)**3*(-c/(c - m) + 1)**2) + m*(-K*c + K*m - c)/(K*(c - m)**2*(-c/(c - m) + 1)), -c*m/((c - m)*(-c/(c - m) + 1)) - c]])\n"
     ]
    },
    {
     "data": {
      "text/plain": [
       "0"
      ]
     },
     "execution_count": 65,
     "metadata": {},
     "output_type": "execute_result"
    }
   ],
   "source": [
    "os.system('python3 sym.py')"
   ]
  }
 ],
 "metadata": {
  "kernelspec": {
   "display_name": "Python 3",
   "language": "python",
   "name": "python3"
  },
  "language_info": {
   "codemirror_mode": {
    "name": "ipython",
    "version": 3
   },
   "file_extension": ".py",
   "mimetype": "text/x-python",
   "name": "python",
   "nbconvert_exporter": "python",
   "pygments_lexer": "ipython3",
   "version": "3.11.5"
  }
 },
 "nbformat": 4,
 "nbformat_minor": 2
}
