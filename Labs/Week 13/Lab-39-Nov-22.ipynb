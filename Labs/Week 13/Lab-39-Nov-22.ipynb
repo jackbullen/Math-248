{
 "cells": [
  {
   "cell_type": "markdown",
   "metadata": {},
   "source": [
    "# Linear Programming\n",
    "\n",
    "We seek to do the following\n",
    "\n",
    "- minimize \n",
    "\n",
    "```python\n",
    "c @ x\n",
    "```\n",
    "\n",
    "- such that\n",
    "\n",
    "1. $A_{\\text{ub}} x \\leq b_{\\text{ub}}$\n",
    "2. $A_{\\text{eq}} x = b_{\\text{eq}}$\n",
    "3. $lb \\leq x \\leq ub$\n"
   ]
  },
  {
   "cell_type": "markdown",
   "metadata": {},
   "source": [
    "```python\n",
    "from scipy.optimize import linprog\n",
    "\n",
    "linprog(c, A_ub, b_ub, A_eq, b_eq, bounds)\n",
    "```"
   ]
  },
  {
   "cell_type": "markdown",
   "metadata": {},
   "source": [
    "# SciPy Docs Example\n",
    "\n",
    "$$\n",
    "\\begin{align*}\n",
    "\\min_{x} \\quad & -x_1 + 4x_2 \\\\\n",
    "\\text{subject to} \\quad & -3x_1 + x_2 \\leq 6, \\\\\n",
    "& x_1 + 2x_2 \\leq 4, \\\\\n",
    "& x_1 \\text{ is unrestricted}, \\\\\n",
    "& -3 \\leq x_2.\n",
    "\\end{align*}\n",
    "$$"
   ]
  },
  {
   "cell_type": "code",
   "execution_count": 5,
   "metadata": {},
   "outputs": [
    {
     "data": {
      "text/plain": [
       "(-22.0,\n",
       " array([10., -3.]),\n",
       " 'Optimization terminated successfully. (HiGHS Status 7: Optimal)')"
      ]
     },
     "execution_count": 5,
     "metadata": {},
     "output_type": "execute_result"
    }
   ],
   "source": [
    "from scipy.optimize import linprog\n",
    "import numpy as np\n",
    "c = (-1)**2*np.array([-1, 4])\n",
    "A = [[-3, 1], [1, 2]]\n",
    "b = [6, 4]\n",
    "x1_bounds = (None, None)\n",
    "x2_bounds = (-3, None)\n",
    "res = linprog(c, A_ub=A, b_ub=b, bounds=[x1_bounds, x2_bounds])\n",
    "res.fun, res.x, res.message"
   ]
  },
  {
   "cell_type": "markdown",
   "metadata": {},
   "source": [
    "## **linprog** function in Python's scipy.optimize library is versatile \n",
    "\n",
    "and can handle various types of constraints. Here's a brief guide on how to use it when dealing with different kinds of constraints:\n",
    "\n",
    "#### Only Equality Constraints (A_eq, b_eq)\n",
    "If your problem only involves equality constraints, you would use the A_eq and b_eq parameters.\n",
    "\n",
    "A_eq: Coefficient matrix for the equality constraints.\n",
    "b_eq: Constant terms on the right-hand side of the equality constraints.\n",
    "Example:\n",
    "\n",
    "```python\n",
    "from scipy.optimize import linprog\n",
    "\n",
    "c = [coefficients for objective function]\n",
    "A_eq = [coefficient matrix for equality constraints]\n",
    "b_eq = [constants for equality constraints]\n",
    "\n",
    "result = linprog(c, A_eq=A_eq, b_eq=b_eq, bounds=bounds)\n",
    "```\n",
    "\n",
    "#### Only Inequality Constraints (A_ub, b_ub)\n",
    "When the problem only has inequality constraints, you'll use A_ub and b_ub.\n",
    "\n",
    "Example:\n",
    "\n",
    "```python\n",
    "c = [coefficients for objective function]\n",
    "A_ub = [coefficient matrix for inequality constraints]\n",
    "b_ub = [constants for inequality constraints]\n",
    "\n",
    "result = linprog(c, A_ub=A_ub, b_ub=b_ub, bounds=bounds)\n",
    "```\n",
    "\n",
    "#### Both Equality and Inequality Constraints\n",
    "You can combine both A_eq, b_eq and A_ub, b_ub for problems that have both equality and inequality constraints.\n",
    "\n",
    "Example:\n",
    "\n",
    "```python\n",
    "c = [coefficients for objective function]\n",
    "A_eq = [coefficient matrix for equality constraints]\n",
    "b_eq = [constants for equality constraints]\n",
    "A_ub = [coefficient matrix for inequality constraints]\n",
    "b_ub = [constants for inequality constraints]\n",
    "\n",
    "result = linprog(c, A_ub=A_ub, b_ub=b_ub, A_eq=A_eq, b_eq=b_eq, bounds=bounds)\n",
    "```\n",
    "\n",
    "#### No Constraints\n",
    "If there are no constraints, you can simply omit the A_ub, b_ub, A_eq, and b_eq parameters. However, linear programming without any constraints is rare and often not very meaningful.\n",
    "\n",
    "Example:\n",
    "\n",
    "```python\n",
    "c = [coefficients for objective function]\n",
    "\n",
    "result = linprog(c, bounds=bounds)\n",
    "```"
   ]
  },
  {
   "cell_type": "markdown",
   "metadata": {},
   "source": [
    "#### Try playing around with the examples, removing and including various constraints, and see how that impacts the output."
   ]
  },
  {
   "cell_type": "markdown",
   "metadata": {},
   "source": [
    "## Example 1\n",
    "Amazon has two major product categories in its distribution center: small electronics and books. \n",
    "\n",
    "The facility operates on a strict schedule to ensure timely deliveries.\n",
    "\n",
    "## Problem Details\n",
    "\n",
    "#### **Production Rate**:\n",
    "   - The facility can process 200 orders of small electronics in 4 hours.\n",
    "   - It can process 300 orders of books in 3 hours.\n",
    "\n",
    "#### **Scheduled Working Hours**:\n",
    "   - The distribution center operates 70 hours per week.\n",
    "\n",
    "#### **Storage Space**:\n",
    "   - Available storage space in the distribution center is 20,000 cubic feet.\n",
    "   - An order of small electronics requires 15 cubic feet of storage space.\n",
    "   - An order of books requires 5 cubic feet.\n",
    "\n",
    "#### **Profit and Market Capacity**:\n",
    "   - Profit from an order of small electronics is CAD 10.00.\n",
    "   - Profit from an order of books is CAD 2.00.\n",
    "   - The market capacity for small electronics is 1000 orders per week.\n",
    "   - There is no market capacity limit for books.\n",
    "\n",
    "## Objective\n",
    "Determine how many orders of each product category should be processed each week to maximize total profit, while considering the constraints of production rate, working hours, storage space, and market capacity.\n"
   ]
  },
  {
   "cell_type": "markdown",
   "metadata": {},
   "source": [
    "# Solution"
   ]
  },
  {
   "cell_type": "code",
   "execution_count": 19,
   "metadata": {},
   "outputs": [
    {
     "name": "stdout",
     "output_type": "stream",
     "text": [
      "Optimal order quantities: [1000. 1000.]\n",
      "Maximum Profit: 12000.0\n"
     ]
    }
   ],
   "source": [
    "from scipy.optimize import linprog\n",
    "\n",
    "# Objective function coefficients\n",
    "c = [-10, -2] \n",
    "\n",
    "# Inequality constraints (A_ub * x <= b_ub)\n",
    "A_ub = [[0.02, 0],  # Processing time constraint for electronics\n",
    "        [0, 0.01], # Processing time constraint for books\n",
    "        [15, 5]]    # Storage space constraint\n",
    "\n",
    "b_ub = [70, 70, 20000] # Right-hand side of the inequality constraints\n",
    "\n",
    "# Bounds for each variable (0 to market capacity for electronics, 0 to inf for books)\n",
    "bounds = [(0, 1000), (0, None)]\n",
    "\n",
    "result = linprog(c, A_ub=A_ub, b_ub=b_ub, bounds=bounds, method='highs')\n",
    "print(\"Optimal order quantities:\", result.x)\n",
    "print(\"Maximum Profit:\", -result.fun)"
   ]
  },
  {
   "cell_type": "code",
   "execution_count": null,
   "metadata": {},
   "outputs": [],
   "source": []
  }
 ],
 "metadata": {
  "kernelspec": {
   "display_name": "Python 3",
   "language": "python",
   "name": "python3"
  },
  "language_info": {
   "codemirror_mode": {
    "name": "ipython",
    "version": 3
   },
   "file_extension": ".py",
   "mimetype": "text/x-python",
   "name": "python",
   "nbconvert_exporter": "python",
   "pygments_lexer": "ipython3",
   "version": "3.11.5"
  }
 },
 "nbformat": 4,
 "nbformat_minor": 2
}
