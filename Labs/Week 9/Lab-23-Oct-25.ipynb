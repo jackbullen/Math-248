{
 "cells": [
  {
   "cell_type": "code",
   "execution_count": 1,
   "metadata": {},
   "outputs": [],
   "source": [
    "import matplotlib.pyplot as plt\n",
    "import numpy as np"
   ]
  },
  {
   "cell_type": "code",
   "execution_count": 2,
   "metadata": {},
   "outputs": [
    {
     "data": {
      "text/plain": [
       "0.21977776168721375"
      ]
     },
     "execution_count": 2,
     "metadata": {},
     "output_type": "execute_result"
    }
   ],
   "source": [
    "np.random.random()"
   ]
  },
  {
   "cell_type": "markdown",
   "metadata": {},
   "source": [
    "# Simulation: Suspect-Infect-Recover Model\n",
    "\n",
    "Because the total population $N$ is a constant, we only need to simulate $I(t)$."
   ]
  },
  {
   "cell_type": "code",
   "execution_count": 3,
   "metadata": {},
   "outputs": [],
   "source": [
    "def infection_probability(beta, I, N):\n",
    "    return 1 - np.exp(-beta * I / N)"
   ]
  },
  {
   "cell_type": "code",
   "execution_count": 6,
   "metadata": {},
   "outputs": [],
   "source": [
    "def SIR(t, I, b, g, N):\n",
    "    Is = [I]\n",
    "    Ss = [N - I]\n",
    "    S = N-I\n",
    "    for t in range(t):\n",
    "        p = infection_probability(b, I, N)\n",
    "        I = np.random.binomial(S, p)\n",
    "        R = np.random.binomial(I, g)\n",
    "        S = N - I + R\n",
    "        Is.append(I)\n",
    "        Ss.append(S)\n",
    "    return np.array(Is), np.array(Ss)\n"
   ]
  },
  {
   "cell_type": "code",
   "execution_count": 7,
   "metadata": {},
   "outputs": [
    {
     "data": {
      "text/plain": [
       "[<matplotlib.lines.Line2D at 0x108aa5390>]"
      ]
     },
     "execution_count": 7,
     "metadata": {},
     "output_type": "execute_result"
    },
    {
     "data": {
      "image/png": "[encoded data removed]",
      "text/plain": [
       "<Figure size 640x480 with 1 Axes>"
      ]
     },
     "metadata": {},
     "output_type": "display_data"
    }
   ],
   "source": [
    "dat = SIR(100, 10, 1.8, 0.2, 1000)\n",
    "\n",
    "plt.plot(dat[0], label=\"Infected\", color=\"red\")\n",
    "plt.plot(dat[1], label=\"Susceptible\", color=\"blue\")"
   ]
  },
  {
   "cell_type": "markdown",
   "metadata": {},
   "source": [
    "# Group assignment\n",
    "Consider the following $16\\times 16$ matrices. "
   ]
  },
  {
   "cell_type": "code",
   "execution_count": 8,
   "metadata": {},
   "outputs": [],
   "source": [
    "B = np.array([\n",
    "                    [1, 1, 1, 1, 1, 1, 1, 1, 0, 1],\n",
    "                    [1, 1, 1, 1, 1, 1, 1, 1, 0, 1],\n",
    "                    [1, 1, 1, 1, 1, 1, 1, 0, 0, 1],\n",
    "                    [1, 1, 1, 1, 1, 1, 1, 0, 0, 1],\n",
    "                    [1, 1, 1, 1, 1, 1, 0, 0, 0, 1],\n",
    "                    [1, 1, 1, 1, 1, 1, 0, 0, 1, 1],\n",
    "                    [1, 1, 1, 1, 0, 0, 0, 0, 1, 1],\n",
    "                    [1, 1, 0, 0, 0, 0, 0, 1, 1, 1],\n",
    "                    [0, 0, 0, 0, 0, 1, 1, 1, 1, 1],\n",
    "                    [1, 1, 1, 1, 1, 1, 1, 1, 1, 1],\n",
    "])\n",
    "\n",
    "A = np.array([\n",
    "                    [1, 1, 1, 1, 1, 1, 1, 1, 1, 1],\n",
    "                    [1, 1, 1, 1, 1, 1, 1, 1, 1, 1],\n",
    "                    [1, 1, 1, 1, 1, 1, 1, 1, 1, 1],\n",
    "                    [1, 1, 1, 1, 1, 1, 1, 1, 1, 1],\n",
    "                    [0, 0, 1, 1, 1, 1, 1, 1, 0, 0],\n",
    "                    [0, 0, 1, 1, 1, 1, 1, 1, 0, 0],\n",
    "                    [1, 0, 0, 1, 1, 1, 1, 0, 0, 1],\n",
    "                    [1, 1, 0, 0, 0, 0, 0, 0, 1, 1],\n",
    "                    [1, 1, 1, 0, 0, 0, 0, 1, 1, 1],\n",
    "                    [1, 1, 1, 1, 1, 1, 1, 1, 1, 1],\n",
    "])"
   ]
  },
  {
   "cell_type": "markdown",
   "metadata": {},
   "source": [
    "## Question 1\n",
    "Find the matrix that maps from B to A."
   ]
  },
  {
   "cell_type": "code",
   "execution_count": null,
   "metadata": {},
   "outputs": [],
   "source": [
    "here_is_my_java_code = \"\"\"\n",
    "\n",
    "int main () {\n",
    "    int a = 10;\n",
    "    int b = 20;\n",
    "    int c = a + b;\n",
    "    return c;\n",
    "}\n",
    "\n",
    "\"\"\""
   ]
  },
  {
   "cell_type": "markdown",
   "metadata": {},
   "source": [
    "## Question 2\n",
    "Make an imshow plot of all of the matrices.\n"
   ]
  },
  {
   "cell_type": "code",
   "execution_count": null,
   "metadata": {},
   "outputs": [],
   "source": [
    "here_is_my_java_code = \"\"\"\n",
    "\n",
    "int main () {\n",
    "    int a = 10;\n",
    "    int b = 20;\n",
    "    int c = a + b;\n",
    "    return c;\n",
    "}\n",
    "\n",
    "\"\"\""
   ]
  }
 ],
 "metadata": {
  "kernelspec": {
   "display_name": "Python 3 (ipykernel)",
   "language": "python",
   "name": "python3"
  },
  "language_info": {
   "codemirror_mode": {
    "name": "ipython",
    "version": 3
   },
   "file_extension": ".py",
   "mimetype": "text/x-python",
   "name": "python",
   "nbconvert_exporter": "python",
   "pygments_lexer": "ipython3",
   "version": "3.11.5"
  }
 },
 "nbformat": 4,
 "nbformat_minor": 4
}
