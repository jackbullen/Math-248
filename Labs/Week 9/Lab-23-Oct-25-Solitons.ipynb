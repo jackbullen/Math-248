{
 "cells": [
  {
   "cell_type": "code",
   "execution_count": 2,
   "metadata": {},
   "outputs": [],
   "source": [
    "import matplotlib.pyplot as plt\n",
    "import numpy as np"
   ]
  },
  {
   "cell_type": "markdown",
   "metadata": {},
   "source": [
    "# Group assignment\n",
    "Consider the following $16\\times 16$ matrices. "
   ]
  },
  {
   "cell_type": "code",
   "execution_count": 16,
   "metadata": {},
   "outputs": [
    {
     "data": {
      "text/plain": [
       "<matplotlib.image.AxesImage at 0x11bb37c90>"
      ]
     },
     "execution_count": 16,
     "metadata": {},
     "output_type": "execute_result"
    },
    {
     "data": {
      "image/png": "[encoded data removed]",
      "text/plain": [
       "<Figure size 640x480 with 3 Axes>"
      ]
     },
     "metadata": {},
     "output_type": "display_data"
    }
   ],
   "source": [
    "B = np.array([\n",
    "                    [1, 1, 1, 1, 1, 1, 1, 1, 0, 1],\n",
    "                    [1, 1, 1, 1, 1, 1, 1, 1, 0, 1],\n",
    "                    [1, 1, 1, 1, 1, 1, 1, 0, 0, 1],\n",
    "                    [1, 1, 1, 1, 1, 1, 1, 0, 0, 1],\n",
    "                    [1, 1, 1, 1, 1, 1, 0, 0, 0, 1],\n",
    "                    [1, 1, 1, 1, 1, 1, 0, 0, 1, 1],\n",
    "                    [1, 1, 1, 1, 0, 0, 0, 0, 1, 1],\n",
    "                    [1, 1, 0, 0, 0, 0, 0, 1, 1, 1],\n",
    "                    [0, 0, 0, 0, 0, 1, 1, 1, 1, 1],\n",
    "                    [1, 1, 1, 1, 1, 1, 1, 1, 1, 1],\n",
    "])\n",
    "\n",
    "A = np.array([\n",
    "                    [1, 1, 1, 1, 1, 1, 1, 1, 1, 1],\n",
    "                    [1, 1, 1, 1, 1, 1, 1, 1, 1, 1],\n",
    "                    [1, 1, 1, 1, 1, 1, 1, 1, 1, 1],\n",
    "                    [1, 1, 1, 1, 1, 1, 1, 1, 1, 1],\n",
    "                    [0, 0, 1, 1, 1, 1, 1, 1, 0, 0],\n",
    "                    [0, 0, 1, 1, 1, 1, 1, 1, 0, 0],\n",
    "                    [1, 0, 0, 1, 1, 1, 1, 0, 0, 1],\n",
    "                    [1, 1, 0, 0, 0, 0, 0, 0, 1, 1],\n",
    "                    [1, 1, 1, 0, 0, 0, 0, 1, 1, 1],\n",
    "                    [1, 1, 1, 1, 1, 1, 1, 1, 1, 1],\n",
    "])\n",
    "\n",
    "B_pseudo_inv = np.linalg.pinv(B)\n",
    "X = B_pseudo_inv @ A\n",
    "\n",
    "plt.subplot(1, 3, 2)\n",
    "plt.imshow(X, cmap='gray')\n",
    "plt.subplot(1, 3, 3)\n",
    "plt.imshow(A, cmap='gray')\n",
    "plt.subplot(1, 3, 1)\n",
    "plt.imshow(B, cmap='gray')"
   ]
  }
 ],
 "metadata": {
  "kernelspec": {
   "display_name": "Python 3 (ipykernel)",
   "language": "python",
   "name": "python3"
  },
  "language_info": {
   "codemirror_mode": {
    "name": "ipython",
    "version": 3
   },
   "file_extension": ".py",
   "mimetype": "text/x-python",
   "name": "python",
   "nbconvert_exporter": "python",
   "pygments_lexer": "ipython3",
   "version": "3.11.5"
  }
 },
 "nbformat": 4,
 "nbformat_minor": 4
}
