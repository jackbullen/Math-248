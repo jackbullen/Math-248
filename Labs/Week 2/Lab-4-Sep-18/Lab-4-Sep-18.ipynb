{
 "cells": [
  {
   "cell_type": "markdown",
   "metadata": {},
   "source": [
    "# Lab 4\n",
    "\n",
    "*Written by Jack Bullen*\n",
    "\n",
    "*Monday, September 18th, 2023*"
   ]
  },
  {
   "cell_type": "markdown",
   "metadata": {},
   "source": [
    "## Objectives\n",
    "\n",
    "#### 1. Reading and writing files\n",
    "#### 2. JSON and CSV file formats\n",
    "#### 3. Basic regular expressions\n",
    "#### 4. Built-in libraries collections, time, and json"
   ]
  },
  {
   "cell_type": "code",
   "execution_count": 1,
   "metadata": {},
   "outputs": [],
   "source": [
    "# Libraries we will use\n",
    "\n",
    "from collections import Counter, defaultdict\n",
    "import pandas as pd\n",
    "import time\n",
    "import json\n",
    "import csv\n",
    "import re"
   ]
  },
  {
   "cell_type": "markdown",
   "metadata": {},
   "source": [
    "# Reading and writing files"
   ]
  },
  {
   "cell_type": "markdown",
   "metadata": {},
   "source": [
    "I/O (input/output) in python revolves around the built-in function `open()`. The most basic usage of this function involves passing it two arguments. \n",
    "\n",
    "1. A string that contains a path to the file you want to open.\n",
    "2. A string that contains the mode that we wish to open the file with. \n",
    "\n",
    "The first argument should make immediate sense. The mode will make more sense after reading further."
   ]
  },
  {
   "cell_type": "markdown",
   "metadata": {},
   "source": [
    "## Reading\n",
    "\n",
    "To read use the `open()` function and set the mode to `'r'` or `'a'`\n",
    "\n",
    "```python\n",
    "with open('file.txt', 'r') as file:\n",
    "    text = file.read()\n",
    "```\n",
    "\n",
    "This opens the file file.txt and saves its entire contents into the variable text as a string."
   ]
  },
  {
   "cell_type": "code",
   "execution_count": 2,
   "metadata": {},
   "outputs": [
    {
     "name": "stdout",
     "output_type": "stream",
     "text": [
      "here is some random text on the first line\n",
      "some new line characters \\n \\n\n",
      "these are escaped so python knows whats what\n",
      "here is some more on the fourth line\n",
      "\n",
      "\n",
      "this is the 7th line\n",
      "\n",
      "8th line is followed by three new lines\n",
      "\n",
      "\n",
      "\n"
     ]
    }
   ],
   "source": [
    "# Example 1: .read() \n",
    "\n",
    "with open('random_text.txt', 'r') as f:\n",
    "    random_text = f.read()\n",
    "print(random_text)"
   ]
  },
  {
   "cell_type": "code",
   "execution_count": 3,
   "metadata": {},
   "outputs": [
    {
     "name": "stdout",
     "output_type": "stream",
     "text": [
      "['here is some random text on the first line\\n', 'some new line characters \\\\n \\\\n\\n', 'these are escaped so python knows whats what\\n', 'here is some more on the fourth line\\n', '\\n', '\\n', 'this is the 7th line\\n', '\\n', '8th line is followed by three new lines\\n', '\\n', '\\n']\n"
     ]
    }
   ],
   "source": [
    "# Example 2: .readlines()\n",
    "\n",
    "with open('random_text.txt', 'r') as f:\n",
    "    random_text = f.readlines()\n",
    "print(random_text)\n",
    "\n",
    "# notice the \\\\n vs \\n"
   ]
  },
  {
   "cell_type": "markdown",
   "metadata": {},
   "source": [
    "we can also manually close the file. **be careful doing this way in jupyter notebook!**\n",
    "\n",
    "make sure to close files in the same cell you open them if you choose to do this."
   ]
  },
  {
   "cell_type": "code",
   "execution_count": 4,
   "metadata": {},
   "outputs": [
    {
     "name": "stdout",
     "output_type": "stream",
     "text": [
      "here is some random text on the first line\n",
      "\n",
      "some new line characters \\n \\n\n",
      "\n",
      "these are escaped so python knows whats what\n",
      "\n",
      "here is some more on the fourth line\n",
      "\n",
      "this is the 7th line\n",
      "\n",
      "8th line is followed by three new lines\n",
      "\n"
     ]
    }
   ],
   "source": [
    "# Example 3: looping over the file\n",
    "\n",
    "f = open('random_text.txt', 'r')\n",
    "\n",
    "for line in f:\n",
    "    if line=='\\n':\n",
    "        #skip empty lines\n",
    "        continue\n",
    "    print(line)\n",
    "\n",
    "f.close()\n",
    "\n",
    "# notice extra new line compared before. why is happening?"
   ]
  },
  {
   "cell_type": "markdown",
   "metadata": {},
   "source": [
    "The mode `'a'` can be used to append to "
   ]
  },
  {
   "cell_type": "markdown",
   "metadata": {},
   "source": [
    "## Writing\n",
    "\n",
    "To write a file we call the file path to open and the mode is `'w'` or `'x'`.\n",
    "\n",
    "```python\n",
    "text = 'hello world!'\n",
    "with open('file.ext', 'w') as f:\n",
    "    f.write(text)\n",
    "```\n",
    "\n",
    "This will create (or overwrite) the file file.ext and write hello world! to it.\n",
    "\n",
    "The mode `'x'` is useful sometimes when you do not want to overwrite data. As it will throw an error if the file already exists."
   ]
  },
  {
   "cell_type": "code",
   "execution_count": 5,
   "metadata": {},
   "outputs": [],
   "source": [
    "# Example 4: reading then writing as text and as bytes\n",
    "\n",
    "with open('random_text.txt', 'r') as f:\n",
    "    text = f.readlines()\n",
    "\n",
    "# writing random_text.txt as text in one line\n",
    "with open('one_line.txt', 'w') as f:\n",
    "    f.write(' '.join([line[:-1] for line in text]))\n",
    "\n",
    "# writing the original text as bytes\n",
    "with open('bytes', 'wb') as f:\n",
    "    f.write(bytes(''.join(text), 'utf-8'))"
   ]
  },
  {
   "cell_type": "code",
   "execution_count": 6,
   "metadata": {},
   "outputs": [
    {
     "ename": "FileExistsError",
     "evalue": "[Errno 17] File exists: 'random_text.txt'",
     "output_type": "error",
     "traceback": [
      "\u001b[0;31m---------------------------------------------------------------------------\u001b[0m",
      "\u001b[0;31mFileExistsError\u001b[0m                           Traceback (most recent call last)",
      "\u001b[1;32m/workspaces/codespaces-jupyter/Labs/Week 2/Lab-4-Sep-18/Lab-4-Sep-18.ipynb Cell 14\u001b[0m line \u001b[0;36m3\n\u001b[1;32m      <a href='vscode-notebook-cell://codespaces%2Bturbo-guacamole-pg9q5g47qjgc7wvq/workspaces/codespaces-jupyter/Labs/Week%202/Lab-4-Sep-18/Lab-4-Sep-18.ipynb#X16sdnNjb2RlLXJlbW90ZQ%3D%3D?line=0'>1</a>\u001b[0m \u001b[39m# Example 5: 'x' mode throwing error when writing to an existing file\u001b[39;00m\n\u001b[0;32m----> <a href='vscode-notebook-cell://codespaces%2Bturbo-guacamole-pg9q5g47qjgc7wvq/workspaces/codespaces-jupyter/Labs/Week%202/Lab-4-Sep-18/Lab-4-Sep-18.ipynb#X16sdnNjb2RlLXJlbW90ZQ%3D%3D?line=2'>3</a>\u001b[0m \u001b[39mwith\u001b[39;00m \u001b[39mopen\u001b[39;49m(\u001b[39m'\u001b[39;49m\u001b[39mrandom_text.txt\u001b[39;49m\u001b[39m'\u001b[39;49m, \u001b[39m'\u001b[39;49m\u001b[39mx\u001b[39;49m\u001b[39m'\u001b[39;49m) \u001b[39mas\u001b[39;00m f:\n\u001b[1;32m      <a href='vscode-notebook-cell://codespaces%2Bturbo-guacamole-pg9q5g47qjgc7wvq/workspaces/codespaces-jupyter/Labs/Week%202/Lab-4-Sep-18/Lab-4-Sep-18.ipynb#X16sdnNjb2RlLXJlbW90ZQ%3D%3D?line=3'>4</a>\u001b[0m     f\u001b[39m.\u001b[39mwrite(\u001b[39m'\u001b[39m\u001b[39mthis wont work\u001b[39m\u001b[39m'\u001b[39m) \n",
      "File \u001b[0;32m~/.local/lib/python3.10/site-packages/IPython/core/interactiveshell.py:286\u001b[0m, in \u001b[0;36m_modified_open\u001b[0;34m(file, *args, **kwargs)\u001b[0m\n\u001b[1;32m    279\u001b[0m \u001b[39mif\u001b[39;00m file \u001b[39min\u001b[39;00m {\u001b[39m0\u001b[39m, \u001b[39m1\u001b[39m, \u001b[39m2\u001b[39m}:\n\u001b[1;32m    280\u001b[0m     \u001b[39mraise\u001b[39;00m \u001b[39mValueError\u001b[39;00m(\n\u001b[1;32m    281\u001b[0m         \u001b[39mf\u001b[39m\u001b[39m\"\u001b[39m\u001b[39mIPython won\u001b[39m\u001b[39m'\u001b[39m\u001b[39mt let you open fd=\u001b[39m\u001b[39m{\u001b[39;00mfile\u001b[39m}\u001b[39;00m\u001b[39m by default \u001b[39m\u001b[39m\"\u001b[39m\n\u001b[1;32m    282\u001b[0m         \u001b[39m\"\u001b[39m\u001b[39mas it is likely to crash IPython. If you know what you are doing, \u001b[39m\u001b[39m\"\u001b[39m\n\u001b[1;32m    283\u001b[0m         \u001b[39m\"\u001b[39m\u001b[39myou can use builtins\u001b[39m\u001b[39m'\u001b[39m\u001b[39m open.\u001b[39m\u001b[39m\"\u001b[39m\n\u001b[1;32m    284\u001b[0m     )\n\u001b[0;32m--> 286\u001b[0m \u001b[39mreturn\u001b[39;00m io_open(file, \u001b[39m*\u001b[39;49margs, \u001b[39m*\u001b[39;49m\u001b[39m*\u001b[39;49mkwargs)\n",
      "\u001b[0;31mFileExistsError\u001b[0m: [Errno 17] File exists: 'random_text.txt'"
     ]
    }
   ],
   "source": [
    "# Example 5: 'x' mode throwing error when writing to an existing file\n",
    "\n",
    "with open('random_text.txt', 'x') as f:\n",
    "    f.write('this wont work') "
   ]
  },
  {
   "cell_type": "markdown",
   "metadata": {},
   "source": [
    "Take a look at the various files in /Labs/Week\\ 2/Lab-4-Sep-18/: \n",
    "- `random_text.txt`\n",
    "- `one_line.txt`\n",
    "- `bytes`\n",
    "\n",
    "Notice how the bytes file is no different from random_text.txt."
   ]
  },
  {
   "cell_type": "markdown",
   "metadata": {},
   "source": [
    "**If you would like more detailed information for I/O check out the [python docs section 7.2](https://docs.python.org/3/tutorial/inputoutput.html#reading-and-writing-files)**\n",
    "\n",
    "This link further explains the some [open() modes](https://stackoverflow.com/questions/1466000/difference-between-modes-a-a-w-w-and-r-in-built-in-open-function):\n",
    "\n",
    " ``r`` -  Open text file for reading.  The stream is positioned at the\n",
    "         beginning of the file.\n",
    "\n",
    " ``r+`` - Open for reading and writing.  The stream is positioned at the\n",
    "         beginning of the file.\n",
    "\n",
    " ``w`` -  Truncate file to zero length or create text file for writing.\n",
    "         The stream is positioned at the beginning of the file.\n",
    "\n",
    " ``w+``  -  Open for reading and writing.  The file is created if it does not\n",
    "         exist, otherwise it is truncated.  The stream is positioned at\n",
    "         the beginning of the file.\n",
    "\n",
    " ``a`` -  Open for writing.  The file is created if it does not exist.  The\n",
    "         stream is positioned at the end of the file.  Subsequent writes\n",
    "         to the file will always end up at the then current end of file,\n",
    "         irrespective of any intervening fseek(3) or similar.\n",
    "\n",
    " ``a+``  -  Open for reading and writing.  The file is created if it does not\n",
    "         exist.  The stream is positioned at the end of the file.  Subse-\n",
    "         quent writes to the file will always end up at the then current\n",
    "         end of file, irrespective of any intervening fseek(3) or similar.\n",
    "\n",
    "There are others. `'rb'` and `'wb'` are for working with individual bytes."
   ]
  },
  {
   "cell_type": "markdown",
   "metadata": {},
   "source": [
    "## JSON and CSV"
   ]
  },
  {
   "cell_type": "markdown",
   "metadata": {},
   "source": [
    "JSON and CSV are common file formats for storing data.\n",
    "\n",
    "### JSON: JavaScript Object Notation (.json)\n",
    "- Commonly used for web applications\n",
    "- What is typically served by APIs \n",
    "- Essentially a Python dictionary in plain text\n",
    "\n",
    "\n",
    "### CSV: Comma Seperated Values (.csv)\n",
    "- Text that contains data seperate by commas and new lines.\n",
    "- First line contains the data headers and rest is the data.\n",
    "- There is also TSV which uses Tabs instead of Commas.\n",
    "- Can import csv files easily with the pandas library"
   ]
  },
  {
   "cell_type": "code",
   "execution_count": 7,
   "metadata": {},
   "outputs": [
    {
     "data": {
      "text/html": [
       "<div>\n",
       "<style scoped>\n",
       "    .dataframe tbody tr th:only-of-type {\n",
       "        vertical-align: middle;\n",
       "    }\n",
       "\n",
       "    .dataframe tbody tr th {\n",
       "        vertical-align: top;\n",
       "    }\n",
       "\n",
       "    .dataframe thead th {\n",
       "        text-align: right;\n",
       "    }\n",
       "</style>\n",
       "<table border=\"1\" class=\"dataframe\">\n",
       "  <thead>\n",
       "    <tr style=\"text-align: right;\">\n",
       "      <th></th>\n",
       "      <th>ID</th>\n",
       "      <th>CODE</th>\n",
       "      <th>C_CODE</th>\n",
       "      <th>TYPE</th>\n",
       "      <th>AROPORT_T</th>\n",
       "      <th>TYPE_CODE</th>\n",
       "      <th>AIRPORT_AROPORT</th>\n",
       "      <th>CITY</th>\n",
       "      <th>PROV</th>\n",
       "      <th>PROVINCE_FR</th>\n",
       "      <th>LAT</th>\n",
       "      <th>LONG</th>\n",
       "    </tr>\n",
       "  </thead>\n",
       "  <tbody>\n",
       "    <tr>\n",
       "      <th>0</th>\n",
       "      <td>177</td>\n",
       "      <td>YXY</td>\n",
       "      <td>CYXY</td>\n",
       "      <td>Control Tower</td>\n",
       "      <td>Tour de contr�le</td>\n",
       "      <td>1</td>\n",
       "      <td>Erik Nielsen Whitehorse</td>\n",
       "      <td>Whitehorse</td>\n",
       "      <td>Yukon</td>\n",
       "      <td>Yukon</td>\n",
       "      <td>60.716666</td>\n",
       "      <td>-135.066666</td>\n",
       "    </tr>\n",
       "    <tr>\n",
       "      <th>1</th>\n",
       "      <td>185</td>\n",
       "      <td>YYJ</td>\n",
       "      <td>CYYJ</td>\n",
       "      <td>Control Tower</td>\n",
       "      <td>Tour de contr�le</td>\n",
       "      <td>1</td>\n",
       "      <td>Victoria International</td>\n",
       "      <td>Victoria</td>\n",
       "      <td>British Columbia</td>\n",
       "      <td>Colombie-Britannique</td>\n",
       "      <td>48.650000</td>\n",
       "      <td>-123.433333</td>\n",
       "    </tr>\n",
       "    <tr>\n",
       "      <th>2</th>\n",
       "      <td>188</td>\n",
       "      <td>YYT</td>\n",
       "      <td>CYYT</td>\n",
       "      <td>Control Tower</td>\n",
       "      <td>Tour de contr�le</td>\n",
       "      <td>1</td>\n",
       "      <td>St John's Intl</td>\n",
       "      <td>Saint John</td>\n",
       "      <td>Newfoundland and Labrador</td>\n",
       "      <td>Terre-Neuve-et-Labrador</td>\n",
       "      <td>47.616666</td>\n",
       "      <td>-52.750000</td>\n",
       "    </tr>\n",
       "    <tr>\n",
       "      <th>3</th>\n",
       "      <td>121</td>\n",
       "      <td>YQX</td>\n",
       "      <td>CYQX</td>\n",
       "      <td>Control Tower</td>\n",
       "      <td>Tour de contr�le</td>\n",
       "      <td>1</td>\n",
       "      <td>Gander International</td>\n",
       "      <td>Gander</td>\n",
       "      <td>Newfoundland and Labrador</td>\n",
       "      <td>Terre-Neuve-et-Labrador</td>\n",
       "      <td>48.933333</td>\n",
       "      <td>-54.566666</td>\n",
       "    </tr>\n",
       "    <tr>\n",
       "      <th>4</th>\n",
       "      <td>71</td>\n",
       "      <td>YHZ</td>\n",
       "      <td>CYHZ</td>\n",
       "      <td>Control Tower</td>\n",
       "      <td>Tour de contr�le</td>\n",
       "      <td>1</td>\n",
       "      <td>Halifax Robert L. Stanfield International</td>\n",
       "      <td>Halifax</td>\n",
       "      <td>Nova Scotia</td>\n",
       "      <td>Nouvelle-�cosse</td>\n",
       "      <td>44.883333</td>\n",
       "      <td>-63.516666</td>\n",
       "    </tr>\n",
       "  </tbody>\n",
       "</table>\n",
       "</div>"
      ],
      "text/plain": [
       "    ID CODE C_CODE           TYPE         AROPORT_T  TYPE_CODE  \\\n",
       "0  177  YXY   CYXY  Control Tower  Tour de contr�le          1   \n",
       "1  185  YYJ   CYYJ  Control Tower  Tour de contr�le          1   \n",
       "2  188  YYT   CYYT  Control Tower  Tour de contr�le          1   \n",
       "3  121  YQX   CYQX  Control Tower  Tour de contr�le          1   \n",
       "4   71  YHZ   CYHZ  Control Tower  Tour de contr�le          1   \n",
       "\n",
       "                             AIRPORT_AROPORT        CITY  \\\n",
       "0                    Erik Nielsen Whitehorse  Whitehorse   \n",
       "1                     Victoria International    Victoria   \n",
       "2                             St John's Intl  Saint John   \n",
       "3                       Gander International      Gander   \n",
       "4  Halifax Robert L. Stanfield International     Halifax   \n",
       "\n",
       "                        PROV              PROVINCE_FR        LAT        LONG  \n",
       "0                      Yukon                    Yukon  60.716666 -135.066666  \n",
       "1           British Columbia     Colombie-Britannique  48.650000 -123.433333  \n",
       "2  Newfoundland and Labrador  Terre-Neuve-et-Labrador  47.616666  -52.750000  \n",
       "3  Newfoundland and Labrador  Terre-Neuve-et-Labrador  48.933333  -54.566666  \n",
       "4                Nova Scotia          Nouvelle-�cosse  44.883333  -63.516666  "
      ]
     },
     "execution_count": 7,
     "metadata": {},
     "output_type": "execute_result"
    }
   ],
   "source": [
    "# Example 6: Reading csv data with pandas function .read_csv()\n",
    "\n",
    "airports = pd.read_csv('data/airports.csv')\n",
    "\n",
    "airports.head() # .head() is a method on the pandas Dataframe object. It gives you a preview of the data."
   ]
  },
  {
   "cell_type": "code",
   "execution_count": 8,
   "metadata": {},
   "outputs": [
    {
     "name": "stdout",
     "output_type": "stream",
     "text": [
      "(48.464284484363276, -123.3099313530692)\n",
      "Number of rooms = 45\n"
     ]
    }
   ],
   "source": [
    "# Example 7: Reading json data with json library.\n",
    "\n",
    "with open('data/buildings.json', 'r') as f:\n",
    "    buildings = json.load(f)\n",
    "\n",
    "CLE = buildings['Clearihue Building']\n",
    "print(f\"({CLE['lat']}, {CLE['long']})\\nNumber of rooms = {len(CLE['rooms'])}\")"
   ]
  },
  {
   "cell_type": "markdown",
   "metadata": {},
   "source": [
    "[Here are is this (latitude, longitude) in google maps](https://www.google.com/maps/place/48%C2%B027'51.4%22N+123%C2%B018'35.8%22W/@48.4642845,-123.3125063,17z/data=!3m1!4b1!4m4!3m3!8m2!3d48.4642845!4d-123.3099314?entry=ttu)"
   ]
  },
  {
   "cell_type": "markdown",
   "metadata": {},
   "source": [
    "## Regular Expressions\n",
    "\n",
    "- Regular expressions are a collection of tools for pattern matching. They can look very scary at first glance.\n",
    "\n",
    "- They can be difficult to read, but basic ones aren't difficult to write, and they can be very useful.\n",
    "\n",
    "- Python has the `re` library for regular expressions.\n",
    "\n",
    "- We will only look at one function, `re.findall()`, from this library, and the exercises only require a basic regex.\n",
    "\n",
    "To use this function we pass a regular expression as first input and then the text we are trying to find the pattern in as second input.\n",
    "\n",
    "```python\n",
    "re.findall(r'REGEX_GOES_HERE', text)\n",
    "```\n",
    "\n",
    "Notice that the first input has an r in front of the string. This is called a raw string. Similar notation to f-strings. When we use regular expressions it is important to write them as raw strings. [Don't worry about why, just do it](https://note.nkmk.me/en/python-raw-string-escape/#:~:text=In%20Python%2C%20raw%20strings%20are,paths%20or%20regular%20expression%20patterns.)."
   ]
  },
  {
   "cell_type": "code",
   "execution_count": 9,
   "metadata": {},
   "outputs": [
    {
     "name": "stdout",
     "output_type": "stream",
     "text": [
      "['l', 'l', 'o', 'o', 'c', 't', 'c', 'l', 'e', 'e', 'e', 'e', 'i', 'i']\n"
     ]
    }
   ],
   "source": [
    "# Example 8: Find all occurences of two of the same character in text\n",
    "\n",
    "text = \"Hello, this is some text we will look at. We are looking for occurences of two of the same letter. The word occurence has two c's \\\n",
    "        so we have two atleast. There are even some more. Also i will write the word three a few times because it has two e's \\\n",
    "        three three three niiiiiiiine niiiiiiiine\"\n",
    "\n",
    "print(re.findall(r'(\\w)\\1+', text))"
   ]
  },
  {
   "cell_type": "markdown",
   "metadata": {},
   "source": [
    "The above example is using the regular expression `(\\w)\\1+` and matching against the text in the string `text`"
   ]
  },
  {
   "cell_type": "markdown",
   "metadata": {},
   "source": [
    "I wont lie, I did not come up with that regex. It uses something called groups as [explained here](https://stackoverflow.com/questions/644714/what-regex-can-match-sequences-of-the-same-character). Don't worry about how it works. I will stick to more basic regex.\n",
    "\n",
    "#### The important things to understand are:\n",
    "\n",
    "1. How to import `re` module and call `re.findall()` with a particular regex and text to match against.\n",
    "2. That you can look on the internet for the regex you want. Chatgpt does surprisingly well at this, but I'd recommend google first as most regex you can ever need have been asked on stack before.\n",
    "\n",
    "#### Now a few basic regex patterns\n",
    "#### They will make sense once you start using them\n",
    "\n",
    "- `[A-Z]` matches capital letters\n",
    "\n",
    "- `[a-z]` matches lower-case letters\n",
    "\n",
    "- `[a-zA-Z]` matches both upper-case and lower-case letters\n",
    "\n",
    "- `\\d` matches a digit 0-9\n",
    "\n",
    "### ? (optional)\n",
    "\n",
    "You can put a `?` after any of the above to indicate that it can or cannot be in the text\n",
    "\n",
    "- `[A-Z][a-z]?` matches one capital letter that is may or may not be followed by a lower case letter\n",
    "\n",
    "### * (kleene star)\n",
    "You can put a `*` after any of the above to indicate that you want 0 or many occurences of it\n",
    "- `\\d*` matches 0 or many digits\n",
    "\n",
    "### + (kleene star but not 0)\n",
    "You can put a `+` after any of the above to indicate that you want 1 or many occurences of it\n",
    "- `\\d+` matches 1 or many digits\n",
    "\n",
    "### {} (kind of like a finite kleene star)\n",
    "\n",
    "You can put `{}` after any of the above and put in a single number or a range of numbers to indicate you want to match that many occurences\n",
    "- `\\d{5,8}` matches 5 to 8 occurences of digits\n",
    "\n",
    "**This is more than what you need to answer the below exercise.**\n",
    "\n",
    "[Here are some more examples and more in-depth explanations](https://cs.lmu.edu/~ray/notes/regex/)"
   ]
  },
  {
   "cell_type": "markdown",
   "metadata": {},
   "source": [
    "# Exercises"
   ]
  },
  {
   "cell_type": "markdown",
   "metadata": {},
   "source": [
    "#### 1. Open the data in `./data/courses.json` and store it to a variable."
   ]
  },
  {
   "cell_type": "markdown",
   "metadata": {},
   "source": [
    "#### 2. Find the Math 248 course. What is the pid for this course?"
   ]
  },
  {
   "cell_type": "markdown",
   "metadata": {},
   "source": [
    "#### 3. Find your degree in `./data/degrees.json` *(don't just open the json file and Ctrl+f...)*"
   ]
  },
  {
   "cell_type": "markdown",
   "metadata": {},
   "source": [
    "#### 4. Determine the number of required courses from each progam (Math, CSC, etc)"
   ]
  },
  {
   "cell_type": "markdown",
   "metadata": {},
   "source": [
    "#### 5. Parse the requirements to remove the HTML tags and store them in a file called requirements.txt"
   ]
  }
 ],
 "metadata": {
  "kernelspec": {
   "display_name": "Python 3",
   "language": "python",
   "name": "python3"
  },
  "language_info": {
   "codemirror_mode": {
    "name": "ipython",
    "version": 3
   },
   "file_extension": ".py",
   "mimetype": "text/x-python",
   "name": "python",
   "nbconvert_exporter": "python",
   "pygments_lexer": "ipython3",
   "version": "3.10.8"
  },
  "orig_nbformat": 4
 },
 "nbformat": 4,
 "nbformat_minor": 2
}
