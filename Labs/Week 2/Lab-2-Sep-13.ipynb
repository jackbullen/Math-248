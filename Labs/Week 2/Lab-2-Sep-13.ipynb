{
 "cells": [
  {
   "cell_type": "markdown",
   "metadata": {},
   "source": [
    "# Lab 2\n",
    "\n",
    "*Modified from course materials*\n",
    "\n",
    "*Wednesday, September 13th, 2023*"
   ]
  },
  {
   "cell_type": "code",
   "execution_count": 18,
   "metadata": {},
   "outputs": [],
   "source": [
    "import math"
   ]
  },
  {
   "cell_type": "markdown",
   "metadata": {},
   "source": [
    "\n",
    "### Example\n",
    "What is the largest $n$ such that $n!<69420$? \n",
    "\n"
   ]
  },
  {
   "cell_type": "code",
   "execution_count": 31,
   "metadata": {},
   "outputs": [],
   "source": [
    "# this recursion\n",
    "\n",
    "def compute_factorial(n):\n",
    "    if n==0 or n==1:\n",
    "        return 1\n",
    "    return n*compute_factorial(n-1)"
   ]
  },
  {
   "cell_type": "code",
   "execution_count": 35,
   "metadata": {},
   "outputs": [
    {
     "name": "stdout",
     "output_type": "stream",
     "text": [
      "40320\n",
      "t = 9\n"
     ]
    }
   ],
   "source": [
    "t = 0\n",
    "while compute_factorial(t) < 69420:\n",
    "    wait_till_we_leave_while_loop_to_print_this_horribly_named_variable = compute_factorial(t)\n",
    "    t+=1\n",
    "\n",
    "print(wait_till_we_leave_while_loop_to_print_this_horribly_named_variable)\n",
    "\n",
    "# so what is t? be careful because it's not 9 even though\n",
    "\n",
    "print(\"t =\",t)\n"
   ]
  },
  {
   "cell_type": "markdown",
   "metadata": {},
   "source": [
    "or just use math library and guess"
   ]
  },
  {
   "cell_type": "code",
   "execution_count": 26,
   "metadata": {},
   "outputs": [
    {
     "name": "stdout",
     "output_type": "stream",
     "text": [
      "93326215443944152681699238856266700490715968264381621468592963895217599993229915608941463976156518286253697920827223758251185210916864000000000000000000000000\n",
      "30414093201713378043612608166064768844377641568960512000000000000\n",
      "3628800\n",
      "120\n",
      "40320\n",
      "362880\n"
     ]
    }
   ],
   "source": [
    "print(math.factorial(100))\n",
    "print(math.factorial(50))\n",
    "print(math.factorial(10))\n",
    "print(math.factorial(5))\n",
    "print(math.factorial(8))\n",
    "print(math.factorial(9))\n",
    "# its 8."
   ]
  },
  {
   "cell_type": "markdown",
   "metadata": {},
   "source": [
    "## Example\n",
    "For the integers $n=1,2, \\dots, 10$, is there a value such that\n",
    "$\\sum_i{i=1}^n \\sin i$<0?\n",
    "\n",
    "## Solution"
   ]
  },
  {
   "cell_type": "markdown",
   "metadata": {},
   "source": [
    "$ \\sum_i i = 1^n \\sin i < 0$\n",
    "\n",
    "what is this $1^n$... also what even is this asking? clean it up and make a guess what the question(s) is:\n"
   ]
  },
  {
   "cell_type": "markdown",
   "metadata": {},
   "source": [
    "\n",
    "Let $i \\in \\{1, 2, ..., 10\\}$\n",
    "\n",
    "### A) Are there i such that\n",
    "\n",
    "$ \\sum_i i = \\sin i $\n",
    "\n",
    "Obviously no. Unless $0 \\in $\n",
    "\n",
    "### B) Are there i such that\n",
    "\n",
    "$ \\sin i < 0$"
   ]
  },
  {
   "cell_type": "code",
   "execution_count": 27,
   "metadata": {},
   "outputs": [
    {
     "name": "stdout",
     "output_type": "stream",
     "text": [
      "sin(4) = -0.7568024953079282\n",
      "sin(5) = -0.9589242746631385\n",
      "sin(6) = -0.27941549819892586\n",
      "sin(10) = -0.5440211108893698\n"
     ]
    }
   ],
   "source": [
    "nums = list(range(11))\n",
    "\n",
    "for num in nums:\n",
    "    if math.sin(num) < 0:\n",
    "        print(f\"sin({num}) = {math.sin(num)}\")"
   ]
  },
  {
   "cell_type": "markdown",
   "metadata": {},
   "source": [
    "### Another question"
   ]
  },
  {
   "cell_type": "markdown",
   "metadata": {},
   "source": [
    "Is there an $i\\in \\{1,2, ..., 10 \\}$ such that $\\sum_0^i \\sin i < 0$"
   ]
  },
  {
   "cell_type": "code",
   "execution_count": 48,
   "metadata": {},
   "outputs": [
    {
     "name": "stdout",
     "output_type": "stream",
     "text": [
      "6 -0.10325384847654717\n"
     ]
    }
   ],
   "source": [
    "tally = 0\n",
    "for i in range(1, 11):\n",
    "    tally += math.sin(i)\n",
    "    if tally < 0:\n",
    "        print(i, tally)\n"
   ]
  },
  {
   "cell_type": "code",
   "execution_count": 47,
   "metadata": {},
   "outputs": [
    {
     "data": {
      "text/plain": [
       "0.1761616497223787"
      ]
     },
     "execution_count": 47,
     "metadata": {},
     "output_type": "execute_result"
    }
   ],
   "source": [
    "from functools import reduce\n",
    "\n",
    "reduce(lambda a,b: a+math.sin(b), list(range(0,6)))"
   ]
  },
  {
   "cell_type": "markdown",
   "metadata": {},
   "source": [
    "# Exercise\n",
    "\n",
    "Find the roots of $\\log |x|$"
   ]
  },
  {
   "cell_type": "code",
   "execution_count": 49,
   "metadata": {},
   "outputs": [
    {
     "name": "stdout",
     "output_type": "stream",
     "text": [
      "0.0 0.0\n"
     ]
    }
   ],
   "source": [
    "# recall that e^0=1\n",
    "\n",
    "print(math.log(abs(1)), math.log(abs(-1)))"
   ]
  }
 ],
 "metadata": {
  "kernelspec": {
   "display_name": "Python 3 (ipykernel)",
   "language": "python",
   "name": "python3"
  },
  "language_info": {
   "codemirror_mode": {
    "name": "ipython",
    "version": 3
   },
   "file_extension": ".py",
   "mimetype": "text/x-python",
   "name": "python",
   "nbconvert_exporter": "python",
   "pygments_lexer": "ipython3",
   "version": "3.10.8"
  }
 },
 "nbformat": 4,
 "nbformat_minor": 4
}
