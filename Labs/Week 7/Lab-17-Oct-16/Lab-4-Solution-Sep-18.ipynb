{
 "cells": [
  {
   "cell_type": "markdown",
   "metadata": {},
   "source": [
    "# Lab 4\n",
    "\n",
    "*Written by Jack Bullen*\n",
    "\n",
    "*Monday, September 18th, 2023*"
   ]
  },
  {
   "cell_type": "code",
   "execution_count": 1,
   "metadata": {},
   "outputs": [],
   "source": [
    "# Libraries we will use\n",
    "\n",
    "from collections import Counter, defaultdict\n",
    "import pandas as pd\n",
    "import time\n",
    "import json\n",
    "import csv\n",
    "import re"
   ]
  },
  {
   "cell_type": "markdown",
   "metadata": {},
   "source": [
    "# Exercises"
   ]
  },
  {
   "cell_type": "markdown",
   "metadata": {},
   "source": [
    "#### 1. Open the data in `./data/courses.json` and store it to a variable."
   ]
  },
  {
   "cell_type": "code",
   "execution_count": 2,
   "metadata": {},
   "outputs": [],
   "source": [
    "with open('./data/courses.json', 'r') as f:\n",
    "    courses = json.load(f)"
   ]
  },
  {
   "cell_type": "markdown",
   "metadata": {},
   "source": [
    "#### 2. Find the Math 248 course. What is the pid for this course?"
   ]
  },
  {
   "cell_type": "code",
   "execution_count": 3,
   "metadata": {},
   "outputs": [
    {
     "data": {
      "text/plain": [
       "{'pid': 'HyVe3daQV',\n",
       " 'subject_code': 'MATH',\n",
       " 'subject': 'Mathematics (MATH)',\n",
       " 'title': 'Computer Assisted Mathematics',\n",
       " 'course_number': '248',\n",
       " 'description': '<p>Use of a high-level computer language for mathematical and scientific experimentation, simulation, and calculation. Programming of mathematics using available functions and routines and also writing short programs for symbolic and numerical computations, visualization, graphical output, and data management. The goal is to become competent with a high-level programming language and to practice programming in such a language. Emphasis on hands-on coding for experimentation in a variety of mathematical and applied contexts.</p>',\n",
       " 'notes': '<ul><li>Credit will be granted for only one of MATH 248, PHYS 248.</li></ul>',\n",
       " 'credit': '1.5',\n",
       " 'hours': '3-3-0',\n",
       " 'link': 'https://www.uvic.ca/calendar/future/undergrad/index.php#/courses/HyVe3daQV',\n",
       " 'sections': [{'term': '202309',\n",
       "   'crn': '12168',\n",
       "   'subject_code': 'MATH',\n",
       "   'subject': 'Math',\n",
       "   'course_number': '248',\n",
       "   'course_title': 'Computer Assisted Mathematics',\n",
       "   'sequence': 'A01',\n",
       "   'type': 'Lecture',\n",
       "   'credit': 1.5,\n",
       "   'faculty': {'449249': {'name': 'Junling Ma',\n",
       "     'contact': 'junlingm@uvic.ca'}},\n",
       "   'meetings': [{'start': '1430',\n",
       "     'end': '1520',\n",
       "     'building': 'Cornett Building',\n",
       "     'room': 'A121',\n",
       "     'monday': True,\n",
       "     'tuesday': False,\n",
       "     'wednesday': True,\n",
       "     'thursday': True,\n",
       "     'friday': False,\n",
       "     'saturday': False,\n",
       "     'sunday': False}],\n",
       "   'campus': 'Main',\n",
       "   'delivery': 'F2F'},\n",
       "  {'term': '202309',\n",
       "   'crn': '12169',\n",
       "   'subject_code': 'MATH',\n",
       "   'subject': 'Math',\n",
       "   'course_number': '248',\n",
       "   'course_title': 'Computer Assisted Mathematics',\n",
       "   'sequence': 'B01',\n",
       "   'type': 'Lab',\n",
       "   'credit': 0,\n",
       "   'faculty': {},\n",
       "   'meetings': [{'start': '1530',\n",
       "     'end': '1620',\n",
       "     'building': 'Clearihue Building',\n",
       "     'room': 'A031',\n",
       "     'monday': True,\n",
       "     'tuesday': False,\n",
       "     'wednesday': True,\n",
       "     'thursday': True,\n",
       "     'friday': False,\n",
       "     'saturday': False,\n",
       "     'sunday': False}],\n",
       "   'campus': 'Main',\n",
       "   'delivery': 'F2F'},\n",
       "  {'term': '202309',\n",
       "   'crn': '12170',\n",
       "   'subject_code': 'MATH',\n",
       "   'subject': 'Math',\n",
       "   'course_number': '248',\n",
       "   'course_title': 'Computer Assisted Mathematics',\n",
       "   'sequence': 'B02',\n",
       "   'type': 'Lab',\n",
       "   'credit': 0,\n",
       "   'faculty': {},\n",
       "   'meetings': [{'start': '1630',\n",
       "     'end': '1720',\n",
       "     'building': 'Clearihue Building',\n",
       "     'room': 'A108',\n",
       "     'monday': True,\n",
       "     'tuesday': False,\n",
       "     'wednesday': True,\n",
       "     'thursday': True,\n",
       "     'friday': False,\n",
       "     'saturday': False,\n",
       "     'sunday': False}],\n",
       "   'campus': 'Main',\n",
       "   'delivery': 'F2F'}]}"
      ]
     },
     "execution_count": 3,
     "metadata": {},
     "output_type": "execute_result"
    }
   ],
   "source": [
    "courses['MATH248']"
   ]
  },
  {
   "cell_type": "markdown",
   "metadata": {},
   "source": [
    "#### 3. Find your degree in `./data/degrees.json` *(don't just open the json file and Ctrl+f...)*"
   ]
  },
  {
   "cell_type": "code",
   "execution_count": 4,
   "metadata": {},
   "outputs": [],
   "source": [
    "with open('./data/degrees.json', 'r') as f:\n",
    "    degrees = json.load(f)"
   ]
  },
  {
   "cell_type": "code",
   "execution_count": 5,
   "metadata": {},
   "outputs": [
    {
     "data": {
      "text/plain": [
       "{'code': 'BSC-CTSC',\n",
       " 'type': 'Bachelor of Science - Combined Major',\n",
       " 'description': '<p>For a BSc degree in Combined Computer Science and Mathematics, students may take a Major or Honours program. These programs are not joint degrees in Computer Science and Mathematics, but a single degree program composed of selected courses from each of the departments. These combined programs are offered through the Faculty of Science. Students should contact an adviser in Computer Science for advice regarding CSC or SENG courses and an adviser in Mathematics and Statistics for advice regarding MATH or STAT courses, and for advice regarding the programs. Students considering future graduate work in Computer Science, Mathematics or Statistics should consult with advisers prior to making their choice of elective courses.</p> <br />',\n",
       " 'subject': 'MATH',\n",
       " 'requirements': '<div><section><header data-test=\"grouping-0-header\"><div><h2 data-testid=\"grouping-label\"><span>Year 1</span></h2></div><div><div><button aria-label=\"Collapse\"><i></i></button></div></div></header><div><div><ul><li><span>Complete <!-- -->all<!-- --> of the following</span><ul><li data-test=\"ruleView-A\"><div data-test=\"ruleView-A-result\">Complete all of: <div><ul style=\"margin-top:5px;margin-bottom:5px\"><li><span><a href=\"#/courses/view/5cbdf4e356bbef2400c2efcf\" target=\"_blank\">CSC110</a> <!-- -->-<!-- --> <!-- -->Fundamentals of Programming I<!-- --> <span style=\"margin-left:5px\">(1.5)</span></span></li><li><span><a href=\"#/courses/view/5cbdf4e567a5c324003b0bb6\" target=\"_blank\">CSC115</a> <!-- -->-<!-- --> <!-- -->Fundamentals of Programming II<!-- --> <span style=\"margin-left:5px\">(1.5)</span></span></li></ul></div></div></li><li data-test=\"ruleView-B\"><div data-test=\"ruleView-B-result\">Complete <span>1</span> of: <div><ul style=\"margin-top:5px;margin-bottom:5px\"><li><span><a href=\"#/courses/view/63168b42bee727d381e640aa\" target=\"_blank\">MATH100</a> <!-- -->-<!-- --> <!-- -->Calculus I<!-- --> <span style=\"margin-left:5px\">(1.5)</span></span></li><li><span><a href=\"#/courses/view/63168d043e376f0b1f621ffd\" target=\"_blank\">MATH109</a> <!-- -->-<!-- --> <!-- -->Introduction to Calculus<!-- --> <span style=\"margin-left:5px\">(1.5)</span></span></li></ul></div></div></li><li data-test=\"ruleView-C\"><div data-test=\"ruleView-C-result\">Complete all of: <div><ul style=\"margin-top:5px;margin-bottom:5px\"><li><span><a href=\"#/courses/view/5d1f72acd2bc1524008cb36a\" target=\"_blank\">MATH101</a> <!-- -->-<!-- --> <!-- -->Calculus II<!-- --> <span style=\"margin-left:5px\">(1.5)</span></span></li><li><span><a href=\"#/courses/view/63168e29779b405456c8250c\" target=\"_blank\">MATH122</a> <!-- -->-<!-- --> <!-- -->Logic and Foundations<!-- --> <span style=\"margin-left:5px\">(1.5)</span></span></li></ul></div></div></li><li data-test=\"ruleView-D\"><div data-test=\"ruleView-D-result\">Complete <span>1</span> of: <div><ul style=\"margin-top:5px;margin-bottom:5px\"><li><span><a href=\"#/courses/view/63168fab578b6df3d6c07ace\" target=\"_blank\">MATH211</a> <!-- -->-<!-- --> <!-- -->Matrix Algebra I<!-- --> <span style=\"margin-left:5px\">(1.5)</span></span></li><li><span><a href=\"#/courses/view/5e615e517eb8e0250078b7da\" target=\"_blank\">STAT260</a> <!-- -->-<!-- --> <!-- -->Introduction to Probability and Statistics I<!-- --> <span style=\"margin-left:5px\">(1.5)</span></span></li></ul></div></div></li><li data-test=\"ruleView-E\"><div data-test=\"ruleView-E-result\">Complete <span>6.0</span> units of: <div>electives (students who have not satisfied the Academic Writing Requirement (AWR) should choose 1.5 units from ATWP 135, ENSH 101, ENSH 102)</div></div></li></ul></li></ul></div><div><section><div><header><div><h2>Note</h2></div><div><button aria-label=\"Collapse\"><i></i></button></div></header><div><div><ul><li data-test=\"ruleView-A\"><div data-test=\"ruleView-A-result\"><div>MATH 211 may be replaced by MATH 110.</div></div></li></ul></div></div></div></section></div></div></section><section><header data-test=\"grouping-1-header\"><div><h2 data-testid=\"grouping-label\"><span>Year 2</span></h2></div><div><div><button aria-label=\"Collapse\"><i></i></button></div></div></header><div><div><ul><li><span>Complete <!-- -->all<!-- --> of the following</span><ul><li data-test=\"ruleView-A\"><div data-test=\"ruleView-A-result\">Complete all of: <div><ul style=\"margin-top:5px;margin-bottom:5px\"><li><span><a href=\"#/courses/view/5cbdf4ea67a5c324003b0bbd\" target=\"_blank\">CSC225</a> <!-- -->-<!-- --> <!-- -->Algorithms and Data Structures I<!-- --> <span style=\"margin-left:5px\">(1.5)</span></span></li><li><span><a href=\"#/courses/view/6307b1bdfe51a12031b36bfa\" target=\"_blank\">CSC226</a> <!-- -->-<!-- --> <!-- -->Algorithms and Data Structures II<!-- --> <span style=\"margin-left:5px\">(1.5)</span></span></li><li><span><a href=\"#/courses/view/5cbdf4ec67a5c324003b0bc3\" target=\"_blank\">CSC230</a> <!-- -->-<!-- --> <!-- -->Introduction to Computer Architecture<!-- --> <span style=\"margin-left:5px\">(1.5)</span></span></li></ul></div></div></li><li data-test=\"ruleView-B\"><div data-test=\"ruleView-B-result\">Complete all of: <div><ul style=\"margin-top:5px;margin-bottom:5px\"><li><span><a href=\"#/courses/view/5d1f76e5d2bc1524008cb6b4\" target=\"_blank\">MATH200</a> <!-- -->-<!-- --> <!-- -->Calculus III<!-- --> <span style=\"margin-left:5px\">(1.5)</span></span></li><li><span><a href=\"#/courses/view/5d1f71b694e82e2400a236df\" target=\"_blank\">MATH204</a> <!-- -->-<!-- --> <!-- -->Calculus IV<!-- --> <span style=\"margin-left:5px\">(1.5)</span></span></li><li><span><a href=\"#/courses/view/6398fba3b1079f610ee46ae0\" target=\"_blank\">MATH222</a> <!-- -->-<!-- --> <!-- -->Discrete and Combinatorial Mathematics<!-- --> <span style=\"margin-left:5px\">(1.5)</span></span></li></ul></div></div></li><li data-test=\"ruleView-F\"><div data-test=\"ruleView-F-result\">Complete <span>1</span> of: <div><ul style=\"margin-top:5px;margin-bottom:5px\"><li><span><a href=\"#/courses/view/63168fab578b6df3d6c07ace\" target=\"_blank\">MATH211</a> <!-- -->-<!-- --> <!-- -->Matrix Algebra I<!-- --> <span style=\"margin-left:5px\">(1.5)</span></span></li><li><span><a href=\"#/courses/view/5e615e517eb8e0250078b7da\" target=\"_blank\">STAT260</a> <!-- -->-<!-- --> <!-- -->Introduction to Probability and Statistics I<!-- --> <span style=\"margin-left:5px\">(1.5)</span></span></li></ul></div></div></li><li data-test=\"ruleView-C\"><div data-test=\"ruleView-C-result\">Complete <span>1</span> of: <div><ul style=\"margin-top:5px;margin-bottom:5px\"><li><span><a href=\"#/courses/view/5d1f6f9a89944f24002ad394\" target=\"_blank\">MATH212</a> <!-- -->-<!-- --> <!-- -->Introduction to Algebra<!-- --> <span style=\"margin-left:5px\">(1.5)</span></span></li><li><span><a href=\"#/courses/view/5d1f76e9fb68f3240022d7da\" target=\"_blank\">MATH236</a> <!-- -->-<!-- --> <!-- -->Introduction to Real Analysis<!-- --> <span style=\"margin-left:5px\">(1.5)</span></span></li></ul></div></div></li><li data-test=\"ruleView-D\"><div data-test=\"ruleView-D-result\">Complete all of: <div><ul style=\"margin-top:5px;margin-bottom:5px\"><li><span><a href=\"#/courses/view/5cbdf65404ce072400156009\" target=\"_blank\">SENG265</a> <!-- -->-<!-- --> <!-- -->Software Development Methods<!-- --> <span style=\"margin-left:5px\">(1.5)</span></span></li></ul></div></div></li><li data-test=\"ruleView-E\"><div data-test=\"ruleView-E-result\">Complete <span>1.5</span> units of: <div>electives (students planning to take STAT 350 in Year 3 should register in STAT 261)</div></div></li></ul></li></ul></div><div><section><div><header><div><h2>Note</h2></div><div><button aria-label=\"Collapse\"><i></i></button></div></header><div><div><ul><li data-test=\"ruleView-A\"><div data-test=\"ruleView-A-result\"><div>MATH 211 may be replaced by MATH 110.</div></div></li></ul></div></div></div></section></div></div></section><section><header data-test=\"grouping-2-header\"><div><h2 data-testid=\"grouping-label\"><span>Year 3</span></h2></div><div><div><button aria-label=\"Collapse\"><i></i></button></div></div></header><div><div><ul><li><span>Complete <!-- -->all<!-- --> of the following</span><ul><li data-test=\"ruleView-B\"><div data-test=\"ruleView-B-result\">Complete all of: <div><ul style=\"margin-top:5px;margin-bottom:5px\"><li><span><a href=\"#/courses/view/5cbdf4ef67a5c324003b0bc6\" target=\"_blank\">CSC320</a> <!-- -->-<!-- --> <!-- -->Foundations of Computer Science<!-- --> <span style=\"margin-left:5px\">(1.5)</span></span></li></ul></div></div></li><li data-test=\"ruleView-A\"><div data-test=\"ruleView-A-result\">Complete <span>1</span> of: <div><ul style=\"margin-top:5px;margin-bottom:5px\"><li><span><a href=\"#/courses/view/5cbdf4f167a5c324003b0bcd\" target=\"_blank\">CSC349A</a> <!-- -->-<!-- --> <!-- -->Numerical Analysis<!-- --> <span style=\"margin-left:5px\">(1.5)</span></span></li><li><span><a href=\"#/courses/view/5fd7df6ee63a160027dc713f\" target=\"_blank\">MATH348</a> <!-- -->-<!-- --> <!-- -->Numerical Methods<!-- --> <span style=\"margin-left:5px\">(1.5)</span></span></li></ul></div></div></li><li data-test=\"ruleView-E\"><div data-test=\"ruleView-E-result\">Complete <span>2</span> of: <div><ul style=\"margin-top:5px;margin-bottom:5px\"><li><span><a href=\"#/courses/view/634f20f2a51adb55db67bb43\" target=\"_blank\">CSC305</a> <!-- -->-<!-- --> <!-- -->Introduction to Computer Graphics<!-- --> <span style=\"margin-left:5px\">(1.5)</span></span></li><li><span><a href=\"#/courses/view/5cbdf4ef04ce072400155ecf\" target=\"_blank\">CSC322</a> <!-- -->-<!-- --> <!-- -->Logic and Programming<!-- --> <span style=\"margin-left:5px\">(1.5)</span></span></li><li><span><a href=\"#/courses/view/5cbdf4f067a5c324003b0bca\" target=\"_blank\">CSC330</a> <!-- -->-<!-- --> <!-- -->Programming Languages<!-- --> <span style=\"margin-left:5px\">(1.5)</span></span></li><li><span><a href=\"#/courses/view/5e502f5044bef625003d60a1\" target=\"_blank\">CSC350</a> <!-- -->-<!-- --> <!-- -->Computer Architecture<!-- --> <span style=\"margin-left:5px\">(1.5)</span></span></li><li><span><a href=\"#/courses/view/634f1b98705f4b6ffcb5e403\" target=\"_blank\">CSC360</a> <!-- -->-<!-- --> <!-- -->Operating Systems<!-- --> <span style=\"margin-left:5px\">(1.5)</span></span></li><li><span><a href=\"#/courses/view/5e50307b7ea20d2500081e92\" target=\"_blank\">CSC361</a> <!-- -->-<!-- --> <!-- -->Computer Communications and Networks<!-- --> <span style=\"margin-left:5px\">(1.5)</span></span></li><li><span><a href=\"#/courses/view/634f189b41b5edffbabee0ae\" target=\"_blank\">CSC370</a> <!-- -->-<!-- --> <!-- -->Database Systems<!-- --> <span style=\"margin-left:5px\">(1.5)</span></span></li></ul></div></div></li><li data-test=\"ruleView-C\"><div data-test=\"ruleView-C-result\">Complete <span>1</span> of: <div><ul style=\"margin-top:5px;margin-bottom:5px\"><li><span><a href=\"#/courses/view/5d1f6f9a89944f24002ad394\" target=\"_blank\">MATH212</a> <!-- -->-<!-- --> <!-- -->Introduction to Algebra<!-- --> <span style=\"margin-left:5px\">(1.5)</span></span></li><li><span><a href=\"#/courses/view/5d1f76e9fb68f3240022d7da\" target=\"_blank\">MATH236</a> <!-- -->-<!-- --> <!-- -->Introduction to Real Analysis<!-- --> <span style=\"margin-left:5px\">(1.5)</span></span></li></ul></div></div></li><li data-test=\"ruleView-D\"><div data-test=\"ruleView-D-result\">Complete <span>2</span> of: <div><ul style=\"margin-top:5px;margin-bottom:5px\"><li><span><a href=\"#/courses/view/5d1f6e7889944f24002ad2b9\" target=\"_blank\">MATH301</a> <!-- -->-<!-- --> <!-- -->Complex Variables<!-- --> <span style=\"margin-left:5px\">(1.5)</span></span></li><li><span><a href=\"#/courses/view/5d1f67c494e82e2400a22f89\" target=\"_blank\">MATH311</a> <!-- -->-<!-- --> <!-- -->Linear Algebra<!-- --> <span style=\"margin-left:5px\">(1.5)</span></span></li><li><span><a href=\"#/courses/view/6398fde995d9558075f89e4a\" target=\"_blank\">MATH320</a> <!-- -->-<!-- --> <!-- -->Graph Theory<!-- --> <span style=\"margin-left:5px\">(1.5)</span></span></li><li><span><a href=\"#/courses/view/63a0f7dc46e10966e1c7a850\" target=\"_blank\">MATH322</a> <!-- -->-<!-- --> <!-- -->Combinatorial Structures and Enumeration<!-- --> <span style=\"margin-left:5px\">(1.5)</span></span></li><li><span><a href=\"#/courses/view/62ba34de751b05697e258b01\" target=\"_blank\">MATH335</a> <!-- -->-<!-- --> <!-- -->Real Analysis<!-- --> <span style=\"margin-left:5px\">(1.5)</span></span></li><li><span><a href=\"#/courses/view/5d1f67c194e82e2400a22f87\" target=\"_blank\">MATH342</a> <!-- -->-<!-- --> <!-- -->Intermediate Ordinary Differential Equations<!-- --> <span style=\"margin-left:5px\">(1.5)</span></span></li><li><span><a href=\"#/courses/view/5d1f67c094e82e2400a22f85\" target=\"_blank\">MATH346</a> <!-- -->-<!-- --> <!-- -->Introduction to Partial Differential Equations<!-- --> <span style=\"margin-left:5px\">(1.5)</span></span></li><li><span><a href=\"#/courses/view/631faf8833d7631790d404f6\" target=\"_blank\">MATH347</a> <!-- -->-<!-- --> <!-- -->Introduction to Continuous Optimization<!-- --> <span style=\"margin-left:5px\">(1.5)</span></span></li><li><span><a href=\"#/courses/view/5f514b64be15e20026fac7e3\" target=\"_blank\">MATH352</a> <!-- -->-<!-- --> <!-- -->Introduction to Probability<!-- --> <span style=\"margin-left:5px\">(1.5)</span></span></li><li><span><a href=\"#/courses/view/6398d78c84f9cd246c49451c\" target=\"_blank\">MATH376</a> <!-- -->-<!-- --> <!-- -->Introduction to Mathematical Biology<!-- --> <span style=\"margin-left:5px\">(1.5)</span></span></li><li><span><a href=\"#/courses/view/5e5981d53f906f2500809cf5\" target=\"_blank\">MATH377</a> <!-- -->-<!-- --> <!-- -->Mathematical Modelling<!-- --> <span style=\"margin-left:5px\">(1.5)</span></span></li><li><span><a href=\"#/courses/view/5f514d74caee610026d3b11d\" target=\"_blank\">STAT350</a> <!-- -->-<!-- --> <!-- -->Mathematical Statistics I<!-- --> <span style=\"margin-left:5px\">(1.5)</span></span></li><li><span><a href=\"#/courses/view/62ba2b452434d327524ad015\" target=\"_blank\">STAT359</a> <!-- -->-<!-- --> <!-- -->Data Analysis<!-- --> <span style=\"margin-left:5px\">(1.5)</span></span></li></ul></div></div></li><li data-test=\"ruleView-F\"><div data-test=\"ruleView-F-result\">Complete <span>4.5</span> units of electives</div></li></ul></li></ul></div><div><section><div><header><div><h2>Note</h2></div><div><button aria-label=\"Collapse\"><i></i></button></div></header><div><div><ul><li data-test=\"ruleView-A\"><div data-test=\"ruleView-A-result\"><div>Either MATH 352 or STAT 350 may be used to satisfy the MATH requirement above, but not both.\\nEither MATH 376 or MATH 377 may be used to satisfy the MATH requirement above, but not both.</div></div></li></ul></div></div></div></section></div></div></section><section><header data-test=\"grouping-3-header\"><div><h2 data-testid=\"grouping-label\"><span>Year 4</span></h2></div><div><div><button aria-label=\"Collapse\"><i></i></button></div></div></header><div><div><ul><li><span>Complete <!-- -->all<!-- --> of the following</span><ul><li data-test=\"ruleView-A\"><div data-test=\"ruleView-A-result\">Complete <span>1</span> of: <div><ul style=\"margin-top:5px;margin-bottom:5px\"><li><span><a href=\"#/courses/view/5d1f6d99d2bc1524008cafd0\" target=\"_blank\">MATH413</a> <!-- -->-<!-- --> <!-- -->Applied Algebra<!-- --> <span style=\"margin-left:5px\">(1.5)</span></span></li><li><span><a href=\"#/courses/view/6399025092116d6967cd2cc8\" target=\"_blank\">MATH414</a> <!-- -->-<!-- --> <!-- -->Algebraic Methods in Combinatorics<!-- --> <span style=\"margin-left:5px\">(1.5)</span></span></li><li><span><a href=\"#/courses/view/639903f006cadd1a924d627d\" target=\"_blank\">MATH426</a> <!-- -->-<!-- --> <!-- -->Extremal Combinatorics<!-- --> <span style=\"margin-left:5px\">(1.5)</span></span></li><li><span><a href=\"#/courses/view/639904ed018a4a3653f451ae\" target=\"_blank\">MATH427</a> <!-- -->-<!-- --> <!-- -->Combinatorial Designs<!-- --> <span style=\"margin-left:5px\">(1.5)</span></span></li><li><span><a href=\"#/courses/view/639905eb182e6d06d54c5653\" target=\"_blank\">MATH428</a> <!-- -->-<!-- --> <!-- -->Discrete Optimization<!-- --> <span style=\"margin-left:5px\">(1.5)</span></span></li><li><span><a href=\"#/courses/view/5d1f789994e82e2400a23bc3\" target=\"_blank\">MATH442</a> <!-- -->-<!-- --> <!-- -->Advanced Ordinary Differential Equations<!-- --> <span style=\"margin-left:5px\">(1.5)</span></span></li><li><span><a href=\"#/courses/view/632e450a461da2ce5ddf2e4d\" target=\"_blank\">MATH446</a> <!-- -->-<!-- --> <!-- -->Advanced Partial Differential Equations<!-- --> <span style=\"margin-left:5px\">(1.5)</span></span></li><li><span><a href=\"#/courses/view/5d1f76f9fb68f3240022d7e1\" target=\"_blank\">MATH449</a> <!-- -->-<!-- --> <!-- -->Scientific Computing<!-- --> <span style=\"margin-left:5px\">(1.5)</span></span></li><li><span><a href=\"#/courses/view/5d1f6ca094e82e2400a23331\" target=\"_blank\">MATH451</a> <!-- -->-<!-- --> <!-- -->Probability<!-- --> <span style=\"margin-left:5px\">(1.5)</span></span></li><li><span><a href=\"#/courses/view/5d1f6a88fb68f3240022ce71\" target=\"_blank\">MATH452</a> <!-- -->-<!-- --> <!-- -->Stochastic Processes<!-- --> <span style=\"margin-left:5px\">(1.5)</span></span></li><li><span><a href=\"#/courses/view/6399069106cadd0f1b4d629f\" target=\"_blank\">MATH481</a> <!-- -->-<!-- --> <!-- -->Mathematical Logic<!-- --> <span style=\"margin-left:5px\">(1.5)</span></span></li><li><span><a href=\"#/courses/view/5d1f67ba89944f24002acd0f\" target=\"_blank\">MATH493</a> <!-- -->-<!-- --> <!-- -->Topics in Pure Mathematics<!-- --> <span style=\"margin-left:5px\">(1.5)</span></span></li></ul></div></div></li><li data-test=\"ruleView-B\"><div data-test=\"ruleView-B-result\">Complete <span>1</span> of: <div><ul style=\"margin-top:5px;margin-bottom:5px\"><li><span><a href=\"#/courses/view/61170afd7e95a0187446f34a\" target=\"_blank\">CSC422</a> <!-- -->-<!-- --> <!-- -->Graph Algorithms<!-- --> <span style=\"margin-left:5px\">(1.5)</span></span></li><li><span><a href=\"#/courses/view/61170bad7e95a0372a46f357\" target=\"_blank\">CSC423</a> <!-- -->-<!-- --> <!-- -->Randomized Algorithms<!-- --> <span style=\"margin-left:5px\">(1.5)</span></span></li><li><span><a href=\"#/courses/view/61170c62d7b1f000d13b1b75\" target=\"_blank\">CSC425</a> <!-- -->-<!-- --> <!-- -->Analysis of Algorithms<!-- --> <span style=\"margin-left:5px\">(1.5)</span></span></li><li><span><a href=\"#/courses/view/61170dae7bfd58753b3bbcaa\" target=\"_blank\">CSC426</a> <!-- -->-<!-- --> <!-- -->Computational Geometry<!-- --> <span style=\"margin-left:5px\">(1.5)</span></span></li><li><span><a href=\"#/courses/view/61170ea3d7b1f0a5833b1ba1\" target=\"_blank\">CSC429</a> <!-- -->-<!-- --> <!-- -->Cryptography<!-- --> <span style=\"margin-left:5px\">(1.5)</span></span></li><li><span><a href=\"#/courses/view/61170f7858dadc6bf7d25095\" target=\"_blank\">CSC445</a> <!-- -->-<!-- --> <!-- -->Operations Research: Linear Programming<!-- --> <span style=\"margin-left:5px\">(1.5)</span></span></li><li><span><a href=\"#/courses/view/61533241112b602b84cb4a96\" target=\"_blank\">CSC446</a> <!-- -->-<!-- --> <!-- -->Simulations in Operations Research<!-- --> <span style=\"margin-left:5px\">(1.5)</span></span></li><li><span><a href=\"#/courses/view/61533346112b602b13cb4aa6\" target=\"_blank\">CSC449</a> <!-- -->-<!-- --> <!-- -->Numerical Linear Algebra<!-- --> <span style=\"margin-left:5px\">(1.5)</span></span></li><li><span><a href=\"#/courses/view/5e503312d48ad32500889a0d\" target=\"_blank\">CSC482A</a> <!-- -->-<!-- --> <!-- -->Topics in Algorithms<!-- --> <span style=\"margin-left:5px\">(1.5)</span></span></li></ul></div></div></li><li data-test=\"ruleView-D\"><div data-test=\"ruleView-D-result\">Complete <span>3</span> units from <span>CSC</span> <span>or SENG</span> <!-- --> <span>300</span> - <span>499</span></div></li><li data-test=\"ruleView-E\"><div data-test=\"ruleView-E-result\">Complete <span>3</span> units from <span>MATH</span> <span>or STAT</span> <!-- --> <span>300</span> - <span>499</span></div></li><li data-test=\"ruleView-C\"><div data-test=\"ruleView-C-result\">Complete <span>6</span> units of electives</div></li></ul></li></ul></div><div></div></div></section></div>',\n",
       " 'specializations': [],\n",
       " 'notes': '',\n",
       " 'link': 'https://www.uvic.ca/calendar/future/undergrad/index.php#/programs/H1lm4T7AfN'}"
      ]
     },
     "execution_count": 5,
     "metadata": {},
     "output_type": "execute_result"
    }
   ],
   "source": [
    "degrees['BSC-CTSC']"
   ]
  },
  {
   "cell_type": "markdown",
   "metadata": {},
   "source": [
    "#### 4. Determine the number of required courses from each progam (Math, CSC, etc)"
   ]
  },
  {
   "cell_type": "code",
   "execution_count": 6,
   "metadata": {},
   "outputs": [
    {
     "data": {
      "text/plain": [
       "Counter({'MATH': 47,\n",
       "         'CSC': 24,\n",
       "         'STAT': 8,\n",
       "         'II': 3,\n",
       "         'ENSH': 2,\n",
       "         'SENG': 2,\n",
       "         'AWR': 1,\n",
       "         'ATWP': 1,\n",
       "         'III': 1,\n",
       "         'IV': 1})"
      ]
     },
     "execution_count": 6,
     "metadata": {},
     "output_type": "execute_result"
    }
   ],
   "source": [
    "Counter(re.findall(r'[A-Z]{2,4}', degrees['BSC-CTSC']['requirements']))"
   ]
  },
  {
   "cell_type": "markdown",
   "metadata": {},
   "source": [
    "#### 5. Parse the requirements to remove the HTML tags and store them in a file called requirements.txt"
   ]
  },
  {
   "cell_type": "code",
   "execution_count": 7,
   "metadata": {},
   "outputs": [],
   "source": [
    "# haha. if you do this let me know cause i want the code."
   ]
  }
 ],
 "metadata": {
  "kernelspec": {
   "display_name": "Python 3",
   "language": "python",
   "name": "python3"
  },
  "language_info": {
   "codemirror_mode": {
    "name": "ipython",
    "version": 3
   },
   "file_extension": ".py",
   "mimetype": "text/x-python",
   "name": "python",
   "nbconvert_exporter": "python",
   "pygments_lexer": "ipython3",
   "version": "3.10.8"
  },
  "orig_nbformat": 4
 },
 "nbformat": 4,
 "nbformat_minor": 2
}
