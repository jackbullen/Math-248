{
 "cells": [
  {
   "cell_type": "markdown",
   "metadata": {},
   "source": [
    "# Sum of two terms to the nth power\n",
    "\n",
    "$$ (x+y)^n = \\sum_{k=0}^{n} \\binom{n}{k} x^{n-k} y^k $$\n",
    "\n",
    "where\n",
    "\n",
    "$$ \\binom{n}{k} = \\frac{n!}{k!(n-k)!} $$"
   ]
  },
  {
   "cell_type": "markdown",
   "metadata": {},
   "source": [
    "Some things to notice\n",
    "\n",
    "- The power of the variable $z = xy$ in the sum is $n-k + k = n$.\n",
    "\n",
    "$$ (x+y)^n = \\sum_{k=0}^{n} \\binom{n}{k} z^n $$\n",
    "\n",
    "- Letting $x = y = 1$ we get\n",
    "\n",
    "$$ 2^n = \\sum_{k=0}^{n} \\binom{n}{k}$$"
   ]
  },
  {
   "cell_type": "code",
   "execution_count": null,
   "metadata": {},
   "outputs": [],
   "source": [
    "import math"
   ]
  },
  {
   "cell_type": "code",
   "execution_count": 5,
   "metadata": {},
   "outputs": [],
   "source": [
    "def factorial(n):\n",
    "    if n == 0:\n",
    "        return 1\n",
    "    return n * factorial(n - 1)\n",
    "\n",
    "def n_choose_k(n, k):\n",
    "    return factorial(n) / (factorial(k) * factorial(n - k))\n",
    "\n",
    "def binomial(x, y, n):\n",
    "    return sum([n_choose_k(n, k) * x**(n-k) * y**k for k in range(n + 1)])\n",
    "\n",
    "def direct_calc(x, y, n):\n",
    "    return (x+y)**n\n"
   ]
  },
  {
   "cell_type": "markdown",
   "metadata": {},
   "source": [
    "Let's test this with $(1 + 2)^3 = 3^3 = 27$"
   ]
  },
  {
   "cell_type": "code",
   "execution_count": 7,
   "metadata": {},
   "outputs": [
    {
     "name": "stdout",
     "output_type": "stream",
     "text": [
      "27.0\n"
     ]
    }
   ],
   "source": [
    "binomial(1, 2, 3) == direct_calc(1, 2, 3)\n",
    "print(binomial(1, 2, 3))"
   ]
  },
  {
   "cell_type": "markdown",
   "metadata": {},
   "source": [
    "**Proof:**\n",
    "\n",
    "We know that $(x+y)^n = (x+y)(x+y)(x+y)\\cdots(x+y)$. \n",
    "\n",
    "We can expand this out by multiplying out all the terms.  \n",
    "\n",
    "Each term will be of the form $x^{n-k}y^k$ where $k$ is the number of $y$'s in the term.  \n",
    "\n",
    "There are $n$ terms in the expansion.\n",
    "\n",
    "In making a choice of an x form each factor and multiplying them together, we get a binary string of length $n$ where each bit is either $x$ or $y$.\n",
    "\n",
    "If we don't simplify any of the producst, we have $2^n$ products.\n",
    "\n",
    "Each of these binary strings will have $k$ $y$'s and $n-k$ $x$'s. And thus form a term like $x^{n-k}y^k$.\n",
    "\n",
    "There are $\\binom{n}{k}$ such length n strings, with $k$ $y$'s and $n-k$ $x$'s, hence the coefficient of $x^{n-k}y^k$ is $\\binom{n}{k}$.\n"
   ]
  },
  {
   "cell_type": "code",
   "execution_count": 516,
   "metadata": {},
   "outputs": [],
   "source": [
    "def pascal(row_num, format = 'not quite a triangle'):\n",
    "    if format == 'not quite a triangle':\n",
    "        for n in range(0, row_num):\n",
    "            row = [n_choose_k(n, k) for k in range(n+1)]\n",
    "            for i in range(n):\n",
    "                print((' ')+f'{row[i]: {n}.0f}'+(' '), end = \" \")\n",
    "            print()\n",
    "        return\n",
    "    elif format == 'absolutely a triangle':\n",
    "        for n in range(0, row_num):\n",
    "            row = [n_choose_k(n, k) for k in range(n+1)]\n",
    "            for i, ro in enumerate(row):\n",
    "                spacing = ((3*(i-n)))*' '\n",
    "                print(spacing+f'{int(ro)}'+spacing, end = \" \")\n",
    "            print()\n",
    "    elif format == 'wow what a triangle':\n",
    "        # formats correctly up to n = 13, after taht there are 4 digits and would require more elifs, or a more elegant approach..\n",
    "        for n in range(0, row_num):\n",
    "                row = [n_choose_k(n, k) for k in range(n+1)]\n",
    "                spacing = (5*(row_num-n))*' '\n",
    "                print(spacing, end = \" \")\n",
    "                for i, ro in enumerate(row):\n",
    "                    if n < 5:\n",
    "                        print(f'{int(ro)}', end = 9*\" \")\n",
    "                    elif n < 9 and ro>9:\n",
    "                        print(f'{int(ro)}', end =8*\" \")\n",
    "                    elif n < 9:\n",
    "                        print(f'{int(ro)}', end = 9*\" \")\n",
    "                    elif n < 14 and 99<ro:\n",
    "                        print(f'{int(ro)}', end = 7*\" \")\n",
    "                    elif n < 14 and 9<ro<99:\n",
    "                        print(f'{int(ro)}', end = 8*\" \")\n",
    "                    elif n < 14:\n",
    "                        print(f'{int(ro)}', end = 9*\" \")\n",
    "                print()\n",
    "    "
   ]
  },
  {
   "cell_type": "code",
   "execution_count": 520,
   "metadata": {},
   "outputs": [
    {
     "name": "stdout",
     "output_type": "stream",
     "text": [
      "\n",
      "  1  \n",
      "  1    2  \n",
      "   1     3     3  \n",
      "    1      4      6      4  \n",
      "     1       5      10      10       5  \n",
      "      1        6       15       20       15        6  \n",
      "       1         7        21        35        35        21         7  \n",
      "        1          8         28         56         70         56         28          8  \n",
      "         1           9          36          84         126         126          84          36           9  \n",
      "          1           10           45          120          210          252          210          120           45           10  \n",
      "           1            11            55           165           330           462           462           330           165            55            11  \n",
      "            1             12             66            220            495            792            924            792            495            220             66             12  \n"
     ]
    }
   ],
   "source": [
    "pascal(13, format = 'not quite a triangle')"
   ]
  },
  {
   "cell_type": "code",
   "execution_count": 522,
   "metadata": {},
   "outputs": [
    {
     "name": "stdout",
     "output_type": "stream",
     "text": [
      "1 \n",
      "1 1 \n",
      "1 2 1 \n",
      "1 3 3 1 \n",
      "1 4 6 4 1 \n",
      "1 5 10 10 5 1 \n",
      "1 6 15 20 15 6 1 \n",
      "1 7 21 35 35 21 7 1 \n",
      "1 8 28 56 70 56 28 8 1 \n",
      "1 9 36 84 126 126 84 36 9 1 \n",
      "1 10 45 120 210 252 210 120 45 10 1 \n",
      "1 11 55 165 330 462 462 330 165 55 11 1 \n",
      "1 12 66 220 495 792 924 792 495 220 66 12 1 \n"
     ]
    }
   ],
   "source": [
    "pascal(13, format = 'absolutely a triangle')"
   ]
  },
  {
   "cell_type": "code",
   "execution_count": 521,
   "metadata": {},
   "outputs": [
    {
     "name": "stdout",
     "output_type": "stream",
     "text": [
      "                                                                  1         \n",
      "                                                             1         1         \n",
      "                                                        1         2         1         \n",
      "                                                   1         3         3         1         \n",
      "                                              1         4         6         4         1         \n",
      "                                         1         5         10        10        5         1         \n",
      "                                    1         6         15        20        15        6         1         \n",
      "                               1         7         21        35        35        21        7         1         \n",
      "                          1         8         28        56        70        56        28        8         1         \n",
      "                     1         9         36        84        126       126       84        36        9         1         \n",
      "                1         10        45        120       210       252       210       120       45        10        1         \n",
      "           1         11        55        165       330       462       462       330       165       55        11        1         \n",
      "      1         12        66        220       495       792       924       792       495       220       66        12        1         \n"
     ]
    }
   ],
   "source": [
    "pascal(13, format = 'wow what a triangle')"
   ]
  },
  {
   "cell_type": "markdown",
   "metadata": {},
   "source": [
    "This triangle indicates we have an identity for finding a number using the numbers above it.\n",
    "\n",
    "$$ \\binom{n}{k} = \\binom{n-1}{k-1} + \\binom{n-1}{k} $$"
   ]
  },
  {
   "cell_type": "code",
   "execution_count": 23,
   "metadata": {},
   "outputs": [
    {
     "name": "stdout",
     "output_type": "stream",
     "text": [
      "120.0\n"
     ]
    }
   ],
   "source": [
    "n_choose_k(10, 7) == n_choose_k(9, 6) + n_choose_k(9, 7)\n",
    "print(n_choose_k(10, 7))"
   ]
  },
  {
   "cell_type": "markdown",
   "metadata": {},
   "source": [
    "# Group Assignment\n",
    "\n",
    "**1.** Write a fucntion that solves word problems using the binomial theorem.  The function should take a string as input and return a string as output.  The input string should be a word problem that can be solved using the binomial theorem.  The output string should be the solution to the word problem.  The function should be able to solve word problems of the form \n",
    "\n",
    "- *What is the expansion of $(x+y)^{21}$?* \n",
    "\n",
    "- *What is the coefficient of the $xy^{n-1}$ term in the expansion of $(x+y)^n$?*  \n",
    "\n",
    "**2.** Using linear algebra, prove the binomial theorem.\n",
    "\n",
    "**3.** Using your function expand $(x+y)^5$. Find the coefficient of the $x^2y^7$ term in $(x + y)^{9}$."
   ]
  }
 ],
 "metadata": {
  "kernelspec": {
   "display_name": "Python 3",
   "language": "python",
   "name": "python3"
  },
  "language_info": {
   "codemirror_mode": {
    "name": "ipython",
    "version": 3
   },
   "file_extension": ".py",
   "mimetype": "text/x-python",
   "name": "python",
   "nbconvert_exporter": "python",
   "pygments_lexer": "ipython3",
   "version": "3.11.4"
  },
  "orig_nbformat": 4
 },
 "nbformat": 4,
 "nbformat_minor": 2
}
