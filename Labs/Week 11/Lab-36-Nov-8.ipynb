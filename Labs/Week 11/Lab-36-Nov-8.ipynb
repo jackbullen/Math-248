{
 "cells": [
  {
   "cell_type": "markdown",
   "metadata": {},
   "source": [
    "#"
   ]
  },
  {
   "cell_type": "code",
   "execution_count": null,
   "metadata": {},
   "outputs": [],
   "source": [
    "import numpy as mathematicalpython"
   ]
  },
  {
   "cell_type": "code",
   "execution_count": 1,
   "metadata": {},
   "outputs": [],
   "source": [
    "# Review\n",
    "\n",
    "# We have the quad function for numerical integration.\n",
    "# - quad means for quadrature = numerical integration.\n",
    "# - this function is coming from scipy.integrate"
   ]
  },
  {
   "cell_type": "markdown",
   "metadata": {},
   "source": [
    "```python\n",
    "from scipy.integrate import quad\n",
    "\n",
    "help(quad)\n",
    "```\n",
    "\n",
    "# `quad(func, a, b)`\n",
    "\n",
    "Compute a definite integral. \n",
    "\n",
    "Integrate func from `a` to `b` using a\n",
    "techniqu\n",
    "\n",
    "----\n",
    "\n",
    "\n",
    "Parameters\n",
    "----------\n",
    "- **func** : {callable, scipy.LowLevelCallable}\n",
    "\n",
    "    A Python function or method to integrate (must accept vector inputs).\n",
    "    \n",
    "- **a** : float\n",
    "    Lower limit of integration (use -scipy.inf for -infinity).\n",
    "- **b** : float\n",
    "    Upper limit of integration (use scipy.inf for +infinity).\n",
    "- args : tuple, optional\n",
    "    Extra arguments to pass to function, if any.\n",
    "- full_output : bool, optional\n",
    "    If True, return optional outputs.\n",
    "- epsabs : float, optional\n",
    "    Absolute error tolerance.\n",
    "- epsrel : float, optional\n",
    "    Relative error tolerance.\n",
    "- limit : int, optional\n",
    "    Maximum number of subdivisions (if positive).\n",
    "- points : array_like, optional\n",
    "    A sequence of break points in the bounded integration interval\n",
    "    where local difficulties of the integrand may occur (e.g.,\n",
    "    singularities, discontinuities).  The sequence does not have to be\n",
    "    sorted.\n",
    "- weight : array_like, optional\n",
    "    Weights corresponding to points.  These must be positive, with the\n",
    "    same shape as points.  If None (default), the default weight\n",
    "    1 is used."
   ]
  },
  {
   "cell_type": "code",
   "execution_count": 2,
   "metadata": {},
   "outputs": [],
   "source": [
    "# \\int_{0}^{\\frac{1}{10}} x^2\\ dx = \\frac{1}{300}"
   ]
  },
  {
   "cell_type": "code",
   "execution_count": 5,
   "metadata": {},
   "outputs": [
    {
     "data": {
      "text/plain": [
       "array([3.10723251])"
      ]
     },
     "execution_count": 5,
     "metadata": {},
     "output_type": "execute_result"
    }
   ],
   "source": [
    "from scipy.integrate import quad\n",
    "\n",
    "enforcer_cop_99284749 = lambda f,k: quad(f, 0, k)[0]\n",
    "\n",
    "from scipy.optimize import fsolve\n",
    "\n",
    "fsolve(lambda x: enforcer_cop_99284749(lambda t: t**2, x) - 10, 999)"
   ]
  },
  {
   "cell_type": "code",
   "execution_count": null,
   "metadata": {},
   "outputs": [],
   "source": [
    "# \\int_{0}^{3.10723251} x^2\\ dx = \\frac{10}{1}"
   ]
  },
  {
   "cell_type": "code",
   "execution_count": 14,
   "metadata": {},
   "outputs": [
    {
     "name": "stdout",
     "output_type": "stream",
     "text": [
      "AccuracyWarning\n",
      "BDF\n",
      "DOP853\n",
      "DenseOutput\n",
      "IntegrationWarning\n",
      "LSODA\n",
      "OdeSolution\n",
      "OdeSolver\n",
      "RK23\n",
      "RK45\n",
      "Radau\n",
      "complex_ode\n",
      "cumtrapz\n",
      "cumulative_trapezoid\n",
      "dblquad\n",
      "dop\n",
      "fixed_quad\n",
      "lsoda\n",
      "newton_cotes\n",
      "nquad\n",
      "ode\n",
      "odeint\n",
      "odepack\n",
      "qmc_quad\n",
      "quad\n",
      "quad_vec\n",
      "quadpack\n",
      "quadrature\n",
      "romb\n",
      "romberg\n",
      "simps\n",
      "simpson\n",
      "solve_bvp\n",
      "solve_ivp\n",
      "test\n",
      "tplquad\n",
      "trapezoid\n",
      "trapz\n",
      "vode\n"
     ]
    }
   ],
   "source": [
    "import scipy\n",
    "\n",
    "for thing in dir(scipy.integrate):\n",
    "    if thing[0] != '_':\n",
    "        print(thing)"
   ]
  },
  {
   "cell_type": "markdown",
   "metadata": {},
   "source": [
    "## SciPy Integration and ODE Solvers\n",
    "\n",
    "SciPy offers a wide range of integration methods to handle different types of problems, from simple integrals to complex differential equations. \n",
    "\n",
    "Choosing the right method depends on the specifics of the problem at hand.\n",
    "\n",
    "### Definite Integrals of Functions\n",
    "\n",
    "- `quad`: Use for single variable definite integrals over a finite interval.\n",
    "- `dblquad`, `tplquad`, `nquad`: Use these for double, triple, and N-dimensional integrals.\n",
    "\n",
    "### Gaussian Quadrature\n",
    "\n",
    "- `fixed_quad`: Use for integrating polynomials over a fixed interval.\n",
    "- `quadrature`: Use for adaptive Gaussian quadrature, especially for oscillatory integrals.\n",
    "\n",
    "### Simpson's and Trapezoidal Rules\n",
    "\n",
    "- `simps`, `simpson`: Use Simpson's rule for smooth functions where data points are available.\n",
    "- `cumtrapz`, `cumulative_trapezoid`: Use for cumulative integration of discrete data points using the trapezoidal rule.\n",
    "\n",
    "### Ordinary Differential Equations (ODEs)\n",
    "\n",
    "- `odeint`: A general-purpose integrator using LSODA (Adams/BDF method).\n",
    "- `solve_ivp`: A modern interface for initial value problems in ODEs, providing access to a variety of methods.\n",
    "\n",
    "### ODE Solver Methods\n",
    "\n",
    "- `RK23`, `RK45`: Explicit Runge-Kutta methods of different orders, suitable for non-stiff problems.\n",
    "- `Radau`, `BDF`: Implicit methods, used for stiff problems.\n",
    "- `LSODA`: Can switch between methods depending on the problem's stiffness.\n",
    "\n",
    "### Boundary Value Problems\n",
    "\n",
    "- `solve_bvp`: For solving boundary-value problems, useful when conditions at both ends of the interval are known."
   ]
  },
  {
   "cell_type": "code",
   "execution_count": 20,
   "metadata": {},
   "outputs": [
    {
     "data": {
      "text/plain": [
       "((2.6666666666666665, 2.9605947323337504e-14), 2.6666666666666665)"
      ]
     },
     "execution_count": 20,
     "metadata": {},
     "output_type": "execute_result"
    }
   ],
   "source": [
    "# let us try to get dbl, tpl, and n quad functions working.\n",
    "\n",
    "from scipy.integrate import dblquad, tplquad, nquad\n",
    "\n",
    "dblquad(lambda x, y: x**2 + y**2, -1, 1, -1, 1)"
   ]
  },
  {
   "cell_type": "markdown",
   "metadata": {},
   "source": [
    "$$\n",
    "\\begin{align*}\n",
    "& \\int_{R} x^2 + y^2 dA\\\\\n",
    "=& \\int_{-1}^1 \\frac{x^3}{3} + xy^2 \\bigg|_{-1}^1 dy\\\\\n",
    "=& \\frac{4}{3} + \\frac{4}{3}\n",
    "\\end{align*}\n",
    "$$"
   ]
  },
  {
   "cell_type": "code",
   "execution_count": 21,
   "metadata": {},
   "outputs": [
    {
     "data": {
      "text/plain": [
       "2.6666666666666665"
      ]
     },
     "execution_count": 21,
     "metadata": {},
     "output_type": "execute_result"
    }
   ],
   "source": [
    "4/3+4/3"
   ]
  },
  {
   "cell_type": "code",
   "execution_count": null,
   "metadata": {},
   "outputs": [],
   "source": [
    "# vline in latex for eval expression is \\bigg|_{a}^{s}"
   ]
  },
  {
   "cell_type": "code",
   "execution_count": 28,
   "metadata": {},
   "outputs": [
    {
     "name": "stderr",
     "output_type": "stream",
     "text": [
      "/Library/Frameworks/Python.framework/Versions/3.11/lib/python3.11/site-packages/scipy/integrate/_quadpack_py.py:1233: IntegrationWarning: The maximum number of subdivisions (50) has been achieved.\n",
      "  If increasing the limit yields no improvement it is advised to analyze \n",
      "  the integrand in order to determine the difficulties.  If the position of a \n",
      "  local difficulty can be determined (singularity, discontinuity) one will \n",
      "  probably gain from splitting up the interval and calling the integrator \n",
      "  on the subranges.  Perhaps a special-purpose integrator should be used.\n",
      "  quad_r = quad(f, low, high, args=args, full_output=self.full_output,\n"
     ]
    },
    {
     "ename": "KeyboardInterrupt",
     "evalue": "",
     "output_type": "error",
     "traceback": [
      "\u001b[0;31m---------------------------------------------------------------------------\u001b[0m",
      "\u001b[0;31mKeyboardInterrupt\u001b[0m                         Traceback (most recent call last)",
      "\u001b[1;32m/Users/jackbullen/Math-248/Labs/Week 11/Lab-36-Nov-8.ipynb Cell 13\u001b[0m line \u001b[0;36m1\n\u001b[1;32m      <a href='vscode-notebook-cell:/Users/jackbullen/Math-248/Labs/Week%2011/Lab-36-Nov-8.ipynb#X15sZmlsZQ%3D%3D?line=6'>7</a>\u001b[0m     \u001b[39mreturn\u001b[39;00m \u001b[39m1\u001b[39m \u001b[39mif\u001b[39;00m \u001b[39msum\u001b[39m(x\u001b[39m*\u001b[39m\u001b[39m*\u001b[39m\u001b[39m2\u001b[39m \u001b[39mfor\u001b[39;00m x \u001b[39min\u001b[39;00m args) \u001b[39m<\u001b[39m\u001b[39m=\u001b[39m R\u001b[39m*\u001b[39m\u001b[39m*\u001b[39m\u001b[39m2\u001b[39m \u001b[39melse\u001b[39;00m \u001b[39m0\u001b[39m\n\u001b[1;32m      <a href='vscode-notebook-cell:/Users/jackbullen/Math-248/Labs/Week%2011/Lab-36-Nov-8.ipynb#X15sZmlsZQ%3D%3D?line=8'>9</a>\u001b[0m \u001b[39m# integrand(0.4,0,0)\u001b[39;00m\n\u001b[0;32m---> <a href='vscode-notebook-cell:/Users/jackbullen/Math-248/Labs/Week%2011/Lab-36-Nov-8.ipynb#X15sZmlsZQ%3D%3D?line=10'>11</a>\u001b[0m nquad(integrand, limits)\n",
      "File \u001b[0;32m/Library/Frameworks/Python.framework/Versions/3.11/lib/python3.11/site-packages/scipy/integrate/_quadpack_py.py:1179\u001b[0m, in \u001b[0;36mnquad\u001b[0;34m(func, ranges, args, opts, full_output)\u001b[0m\n\u001b[1;32m   1177\u001b[0m \u001b[39melse\u001b[39;00m:\n\u001b[1;32m   1178\u001b[0m     opts \u001b[39m=\u001b[39m [opt \u001b[39mif\u001b[39;00m \u001b[39mcallable\u001b[39m(opt) \u001b[39melse\u001b[39;00m _OptFunc(opt) \u001b[39mfor\u001b[39;00m opt \u001b[39min\u001b[39;00m opts]\n\u001b[0;32m-> 1179\u001b[0m \u001b[39mreturn\u001b[39;00m _NQuad(func, ranges, opts, full_output)\u001b[39m.\u001b[39;49mintegrate(\u001b[39m*\u001b[39;49margs)\n",
      "File \u001b[0;32m/Library/Frameworks/Python.framework/Versions/3.11/lib/python3.11/site-packages/scipy/integrate/_quadpack_py.py:1233\u001b[0m, in \u001b[0;36m_NQuad.integrate\u001b[0;34m(self, *args, **kwargs)\u001b[0m\n\u001b[1;32m   1231\u001b[0m \u001b[39melse\u001b[39;00m:\n\u001b[1;32m   1232\u001b[0m     f \u001b[39m=\u001b[39m partial(\u001b[39mself\u001b[39m\u001b[39m.\u001b[39mintegrate, depth\u001b[39m=\u001b[39mdepth\u001b[39m+\u001b[39m\u001b[39m1\u001b[39m)\n\u001b[0;32m-> 1233\u001b[0m quad_r \u001b[39m=\u001b[39m quad(f, low, high, args\u001b[39m=\u001b[39;49margs, full_output\u001b[39m=\u001b[39;49m\u001b[39mself\u001b[39;49m\u001b[39m.\u001b[39;49mfull_output,\n\u001b[1;32m   1234\u001b[0m               \u001b[39m*\u001b[39;49m\u001b[39m*\u001b[39;49mopt)\n\u001b[1;32m   1235\u001b[0m value \u001b[39m=\u001b[39m quad_r[\u001b[39m0\u001b[39m]\n\u001b[1;32m   1236\u001b[0m abserr \u001b[39m=\u001b[39m quad_r[\u001b[39m1\u001b[39m]\n",
      "File \u001b[0;32m/Library/Frameworks/Python.framework/Versions/3.11/lib/python3.11/site-packages/scipy/integrate/_quadpack_py.py:465\u001b[0m, in \u001b[0;36mquad\u001b[0;34m(func, a, b, args, full_output, epsabs, epsrel, limit, points, weight, wvar, wopts, maxp1, limlst, complex_func)\u001b[0m\n\u001b[1;32m    462\u001b[0m     \u001b[39mreturn\u001b[39;00m retval\n\u001b[1;32m    464\u001b[0m \u001b[39mif\u001b[39;00m weight \u001b[39mis\u001b[39;00m \u001b[39mNone\u001b[39;00m:\n\u001b[0;32m--> 465\u001b[0m     retval \u001b[39m=\u001b[39m _quad(func, a, b, args, full_output, epsabs, epsrel, limit,\n\u001b[1;32m    466\u001b[0m                    points)\n\u001b[1;32m    467\u001b[0m \u001b[39melse\u001b[39;00m:\n\u001b[1;32m    468\u001b[0m     \u001b[39mif\u001b[39;00m points \u001b[39mis\u001b[39;00m \u001b[39mnot\u001b[39;00m \u001b[39mNone\u001b[39;00m:\n",
      "File \u001b[0;32m/Library/Frameworks/Python.framework/Versions/3.11/lib/python3.11/site-packages/scipy/integrate/_quadpack_py.py:577\u001b[0m, in \u001b[0;36m_quad\u001b[0;34m(func, a, b, args, full_output, epsabs, epsrel, limit, points)\u001b[0m\n\u001b[1;32m    575\u001b[0m \u001b[39mif\u001b[39;00m points \u001b[39mis\u001b[39;00m \u001b[39mNone\u001b[39;00m:\n\u001b[1;32m    576\u001b[0m     \u001b[39mif\u001b[39;00m infbounds \u001b[39m==\u001b[39m \u001b[39m0\u001b[39m:\n\u001b[0;32m--> 577\u001b[0m         \u001b[39mreturn\u001b[39;00m _quadpack\u001b[39m.\u001b[39;49m_qagse(func,a,b,args,full_output,epsabs,epsrel,limit)\n\u001b[1;32m    578\u001b[0m     \u001b[39melse\u001b[39;00m:\n\u001b[1;32m    579\u001b[0m         \u001b[39mreturn\u001b[39;00m _quadpack\u001b[39m.\u001b[39m_qagie(func,bound,infbounds,args,full_output,epsabs,epsrel,limit)\n",
      "File \u001b[0;32m/Library/Frameworks/Python.framework/Versions/3.11/lib/python3.11/site-packages/scipy/integrate/_quadpack_py.py:1233\u001b[0m, in \u001b[0;36m_NQuad.integrate\u001b[0;34m(self, *args, **kwargs)\u001b[0m\n\u001b[1;32m   1231\u001b[0m \u001b[39melse\u001b[39;00m:\n\u001b[1;32m   1232\u001b[0m     f \u001b[39m=\u001b[39m partial(\u001b[39mself\u001b[39m\u001b[39m.\u001b[39mintegrate, depth\u001b[39m=\u001b[39mdepth\u001b[39m+\u001b[39m\u001b[39m1\u001b[39m)\n\u001b[0;32m-> 1233\u001b[0m quad_r \u001b[39m=\u001b[39m quad(f, low, high, args\u001b[39m=\u001b[39;49margs, full_output\u001b[39m=\u001b[39;49m\u001b[39mself\u001b[39;49m\u001b[39m.\u001b[39;49mfull_output,\n\u001b[1;32m   1234\u001b[0m               \u001b[39m*\u001b[39;49m\u001b[39m*\u001b[39;49mopt)\n\u001b[1;32m   1235\u001b[0m value \u001b[39m=\u001b[39m quad_r[\u001b[39m0\u001b[39m]\n\u001b[1;32m   1236\u001b[0m abserr \u001b[39m=\u001b[39m quad_r[\u001b[39m1\u001b[39m]\n",
      "File \u001b[0;32m/Library/Frameworks/Python.framework/Versions/3.11/lib/python3.11/site-packages/scipy/integrate/_quadpack_py.py:465\u001b[0m, in \u001b[0;36mquad\u001b[0;34m(func, a, b, args, full_output, epsabs, epsrel, limit, points, weight, wvar, wopts, maxp1, limlst, complex_func)\u001b[0m\n\u001b[1;32m    462\u001b[0m     \u001b[39mreturn\u001b[39;00m retval\n\u001b[1;32m    464\u001b[0m \u001b[39mif\u001b[39;00m weight \u001b[39mis\u001b[39;00m \u001b[39mNone\u001b[39;00m:\n\u001b[0;32m--> 465\u001b[0m     retval \u001b[39m=\u001b[39m _quad(func, a, b, args, full_output, epsabs, epsrel, limit,\n\u001b[1;32m    466\u001b[0m                    points)\n\u001b[1;32m    467\u001b[0m \u001b[39melse\u001b[39;00m:\n\u001b[1;32m    468\u001b[0m     \u001b[39mif\u001b[39;00m points \u001b[39mis\u001b[39;00m \u001b[39mnot\u001b[39;00m \u001b[39mNone\u001b[39;00m:\n",
      "File \u001b[0;32m/Library/Frameworks/Python.framework/Versions/3.11/lib/python3.11/site-packages/scipy/integrate/_quadpack_py.py:577\u001b[0m, in \u001b[0;36m_quad\u001b[0;34m(func, a, b, args, full_output, epsabs, epsrel, limit, points)\u001b[0m\n\u001b[1;32m    575\u001b[0m \u001b[39mif\u001b[39;00m points \u001b[39mis\u001b[39;00m \u001b[39mNone\u001b[39;00m:\n\u001b[1;32m    576\u001b[0m     \u001b[39mif\u001b[39;00m infbounds \u001b[39m==\u001b[39m \u001b[39m0\u001b[39m:\n\u001b[0;32m--> 577\u001b[0m         \u001b[39mreturn\u001b[39;00m _quadpack\u001b[39m.\u001b[39;49m_qagse(func,a,b,args,full_output,epsabs,epsrel,limit)\n\u001b[1;32m    578\u001b[0m     \u001b[39melse\u001b[39;00m:\n\u001b[1;32m    579\u001b[0m         \u001b[39mreturn\u001b[39;00m _quadpack\u001b[39m.\u001b[39m_qagie(func,bound,infbounds,args,full_output,epsabs,epsrel,limit)\n",
      "File \u001b[0;32m/Library/Frameworks/Python.framework/Versions/3.11/lib/python3.11/site-packages/scipy/integrate/_quadpack_py.py:1233\u001b[0m, in \u001b[0;36m_NQuad.integrate\u001b[0;34m(self, *args, **kwargs)\u001b[0m\n\u001b[1;32m   1231\u001b[0m \u001b[39melse\u001b[39;00m:\n\u001b[1;32m   1232\u001b[0m     f \u001b[39m=\u001b[39m partial(\u001b[39mself\u001b[39m\u001b[39m.\u001b[39mintegrate, depth\u001b[39m=\u001b[39mdepth\u001b[39m+\u001b[39m\u001b[39m1\u001b[39m)\n\u001b[0;32m-> 1233\u001b[0m quad_r \u001b[39m=\u001b[39m quad(f, low, high, args\u001b[39m=\u001b[39;49margs, full_output\u001b[39m=\u001b[39;49m\u001b[39mself\u001b[39;49m\u001b[39m.\u001b[39;49mfull_output,\n\u001b[1;32m   1234\u001b[0m               \u001b[39m*\u001b[39;49m\u001b[39m*\u001b[39;49mopt)\n\u001b[1;32m   1235\u001b[0m value \u001b[39m=\u001b[39m quad_r[\u001b[39m0\u001b[39m]\n\u001b[1;32m   1236\u001b[0m abserr \u001b[39m=\u001b[39m quad_r[\u001b[39m1\u001b[39m]\n",
      "File \u001b[0;32m/Library/Frameworks/Python.framework/Versions/3.11/lib/python3.11/site-packages/scipy/integrate/_quadpack_py.py:465\u001b[0m, in \u001b[0;36mquad\u001b[0;34m(func, a, b, args, full_output, epsabs, epsrel, limit, points, weight, wvar, wopts, maxp1, limlst, complex_func)\u001b[0m\n\u001b[1;32m    462\u001b[0m     \u001b[39mreturn\u001b[39;00m retval\n\u001b[1;32m    464\u001b[0m \u001b[39mif\u001b[39;00m weight \u001b[39mis\u001b[39;00m \u001b[39mNone\u001b[39;00m:\n\u001b[0;32m--> 465\u001b[0m     retval \u001b[39m=\u001b[39m _quad(func, a, b, args, full_output, epsabs, epsrel, limit,\n\u001b[1;32m    466\u001b[0m                    points)\n\u001b[1;32m    467\u001b[0m \u001b[39melse\u001b[39;00m:\n\u001b[1;32m    468\u001b[0m     \u001b[39mif\u001b[39;00m points \u001b[39mis\u001b[39;00m \u001b[39mnot\u001b[39;00m \u001b[39mNone\u001b[39;00m:\n",
      "File \u001b[0;32m/Library/Frameworks/Python.framework/Versions/3.11/lib/python3.11/site-packages/scipy/integrate/_quadpack_py.py:577\u001b[0m, in \u001b[0;36m_quad\u001b[0;34m(func, a, b, args, full_output, epsabs, epsrel, limit, points)\u001b[0m\n\u001b[1;32m    575\u001b[0m \u001b[39mif\u001b[39;00m points \u001b[39mis\u001b[39;00m \u001b[39mNone\u001b[39;00m:\n\u001b[1;32m    576\u001b[0m     \u001b[39mif\u001b[39;00m infbounds \u001b[39m==\u001b[39m \u001b[39m0\u001b[39m:\n\u001b[0;32m--> 577\u001b[0m         \u001b[39mreturn\u001b[39;00m _quadpack\u001b[39m.\u001b[39;49m_qagse(func,a,b,args,full_output,epsabs,epsrel,limit)\n\u001b[1;32m    578\u001b[0m     \u001b[39melse\u001b[39;00m:\n\u001b[1;32m    579\u001b[0m         \u001b[39mreturn\u001b[39;00m _quadpack\u001b[39m.\u001b[39m_qagie(func,bound,infbounds,args,full_output,epsabs,epsrel,limit)\n",
      "\u001b[1;32m/Users/jackbullen/Math-248/Labs/Week 11/Lab-36-Nov-8.ipynb Cell 13\u001b[0m line \u001b[0;36m7\n\u001b[1;32m      <a href='vscode-notebook-cell:/Users/jackbullen/Math-248/Labs/Week%2011/Lab-36-Nov-8.ipynb#X15sZmlsZQ%3D%3D?line=5'>6</a>\u001b[0m \u001b[39mdef\u001b[39;00m \u001b[39mintegrand\u001b[39m(\u001b[39m*\u001b[39margs):\n\u001b[0;32m----> <a href='vscode-notebook-cell:/Users/jackbullen/Math-248/Labs/Week%2011/Lab-36-Nov-8.ipynb#X15sZmlsZQ%3D%3D?line=6'>7</a>\u001b[0m     \u001b[39mreturn\u001b[39;00m \u001b[39m1\u001b[39m \u001b[39mif\u001b[39;00m \u001b[39msum\u001b[39m(x\u001b[39m*\u001b[39m\u001b[39m*\u001b[39m\u001b[39m2\u001b[39m \u001b[39mfor\u001b[39;00m x \u001b[39min\u001b[39;00m args) \u001b[39m<\u001b[39m\u001b[39m=\u001b[39m R\u001b[39m*\u001b[39m\u001b[39m*\u001b[39m\u001b[39m2\u001b[39m \u001b[39melse\u001b[39;00m \u001b[39m0\u001b[39m\n",
      "\u001b[1;32m/Users/jackbullen/Math-248/Labs/Week 11/Lab-36-Nov-8.ipynb Cell 13\u001b[0m line \u001b[0;36m7\n\u001b[1;32m      <a href='vscode-notebook-cell:/Users/jackbullen/Math-248/Labs/Week%2011/Lab-36-Nov-8.ipynb#X15sZmlsZQ%3D%3D?line=5'>6</a>\u001b[0m \u001b[39mdef\u001b[39;00m \u001b[39mintegrand\u001b[39m(\u001b[39m*\u001b[39margs):\n\u001b[0;32m----> <a href='vscode-notebook-cell:/Users/jackbullen/Math-248/Labs/Week%2011/Lab-36-Nov-8.ipynb#X15sZmlsZQ%3D%3D?line=6'>7</a>\u001b[0m     \u001b[39mreturn\u001b[39;00m \u001b[39m1\u001b[39m \u001b[39mif\u001b[39;00m \u001b[39msum\u001b[39m(x\u001b[39m*\u001b[39m\u001b[39m*\u001b[39m\u001b[39m2\u001b[39m \u001b[39mfor\u001b[39;00m x \u001b[39min\u001b[39;00m args) \u001b[39m<\u001b[39m\u001b[39m=\u001b[39m R\u001b[39m*\u001b[39m\u001b[39m*\u001b[39m\u001b[39m2\u001b[39m \u001b[39melse\u001b[39;00m \u001b[39m0\u001b[39m\n",
      "\u001b[0;31mKeyboardInterrupt\u001b[0m: "
     ]
    }
   ],
   "source": [
    "R = 1\n",
    "n = 3\n",
    "\n",
    "limits = [(0, R)] * n\n",
    "\n",
    "def integrand(*args):\n",
    "    return 1 if sum(x**2 for x in args) <= R**2 else 0\n",
    "\n",
    "# integrand(0.4,0,0)\n",
    "\n",
    "nquad(integrand, limits)"
   ]
  },
  {
   "cell_type": "code",
   "execution_count": 76,
   "metadata": {},
   "outputs": [
    {
     "data": {
      "image/png": "[encoded data removed]",
      "text/latex": [
       "$\\displaystyle \\rho^{2} \\sin{\\left(\\phi \\right)}$"
      ],
      "text/plain": [
       " 2       \n",
       "ρ ⋅sin(φ)"
      ]
     },
     "execution_count": 76,
     "metadata": {},
     "output_type": "execute_result"
    }
   ],
   "source": [
    "from sympy import simplify, Matrix, symbols, diff, lambdify, sin, cos, init_printing\n",
    "init_printing()\n",
    "\n",
    "# use jacobian for spherical coords and compute the differential volume at a point x,y,z\n",
    "\n",
    "rho, theta, phi = symbols('rho theta phi')\n",
    "\n",
    "x = rho * sin(phi) * cos(theta)\n",
    "y = rho * sin(phi) * sin(theta)\n",
    "z = rho * cos(phi)\n",
    "\n",
    "D = Matrix([x, y, z]).jacobian([rho, phi, theta])\n",
    "\n",
    "simplify(D.det())"
   ]
  },
  {
   "cell_type": "code",
   "execution_count": 83,
   "metadata": {},
   "outputs": [],
   "source": [
    "d_area = lambdify((rho, phi, theta), D.det())"
   ]
  },
  {
   "cell_type": "code",
   "execution_count": 94,
   "metadata": {},
   "outputs": [
    {
     "data": {
      "image/png": "[encoded data removed]",
      "text/latex": [
       "$\\displaystyle \\left( 1.0, \\  0.999950000416665, \\  4.0\\right)$"
      ],
      "text/plain": [
       "(1.0, 0.9999500004166653, 4.0)"
      ]
     },
     "execution_count": 94,
     "metadata": {},
     "output_type": "execute_result"
    }
   ],
   "source": [
    "d_area(1, np.pi/2, 0), d_area(1, np.pi/2 + 0.01, 0), d_area(2, np.pi/2, np.pi/2)"
   ]
  },
  {
   "cell_type": "code",
   "execution_count": null,
   "metadata": {},
   "outputs": [],
   "source": [
    "# equations for rho, phi and theta in terms of x,y,z are\n",
    "rho = (x**2 + y**2 + z**2)**(1/2)\n",
    "phi = (x**2 + y**2)**(1/2)\n",
    "theta = np.atan2(y, x)"
   ]
  },
  {
   "cell_type": "code",
   "execution_count": 97,
   "metadata": {},
   "outputs": [],
   "source": [
    "# this code should compute the volume of a sphere of radius 1,\n",
    "# however, i dont think it is working since 122 is not closeto 4/3 pi\n",
    "\n",
    "from itertools import product\n",
    "mesh = np.linspace(-1, 1, 10)\n",
    "\n",
    "vol = 0\n",
    "for x,y,z in product(mesh, repeat=3):\n",
    "    if x**2 + y**2 + z**2 <= 1:\n",
    "        rho_ = (x**2 + y**2 + z**2)**(1/2)\n",
    "        phi_ = (x**2 + y**2)**(1/2)\n",
    "        theta_ = np.arctan2(y, x)\n",
    "        vol += d_area(rho_, phi_, theta_)\n",
    "        "
   ]
  },
  {
   "cell_type": "code",
   "execution_count": 98,
   "metadata": {},
   "outputs": [
    {
     "data": {
      "image/png": "[encoded data removed]",
      "text/latex": [
       "$\\displaystyle 122.620015164207$"
      ],
      "text/plain": [
       "122.62001516420689"
      ]
     },
     "execution_count": 98,
     "metadata": {},
     "output_type": "execute_result"
    }
   ],
   "source": [
    "vol"
   ]
  }
 ],
 "metadata": {
  "kernelspec": {
   "display_name": "Python 3",
   "language": "python",
   "name": "python3"
  },
  "language_info": {
   "codemirror_mode": {
    "name": "ipython",
    "version": 3
   },
   "file_extension": ".py",
   "mimetype": "text/x-python",
   "name": "python",
   "nbconvert_exporter": "python",
   "pygments_lexer": "ipython3",
   "version": "3.11.5"
  }
 },
 "nbformat": 4,
 "nbformat_minor": 2
}
