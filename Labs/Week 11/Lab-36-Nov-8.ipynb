{
 "cells": [
  {
   "cell_type": "markdown",
   "metadata": {},
   "source": [
    "#"
   ]
  },
  {
   "cell_type": "code",
   "execution_count": 3,
   "metadata": {},
   "outputs": [],
   "source": [
    "import numpy as np"
   ]
  },
  {
   "cell_type": "code",
   "execution_count": 5,
   "metadata": {},
   "outputs": [],
   "source": [
    "# Review\n",
    "\n",
    "# We have the quad function for numerical integration.\n",
    "# - quad means for quadrature = numerical integration.\n",
    "# - this function is coming from scipy.integrate"
   ]
  },
  {
   "cell_type": "markdown",
   "metadata": {},
   "source": [
    "```python\n",
    "from scipy.integrate import quad\n",
    "\n",
    "help(quad)\n",
    "```\n",
    "\n",
    "# `quad(func, a, b)`\n",
    "\n",
    "Compute a definite integral. \n",
    "\n",
    "Integrate func from `a` to `b` using a\n",
    "techniqu\n",
    "\n",
    "----\n",
    "\n",
    "\n",
    "Parameters\n",
    "----------\n",
    "- **func** : {callable, scipy.LowLevelCallable}\n",
    "\n",
    "    A Python function or method to integrate (must accept vector inputs).\n",
    "    \n",
    "- **a** : float\n",
    "    Lower limit of integration (use -scipy.inf for -infinity).\n",
    "- **b** : float\n",
    "    Upper limit of integration (use scipy.inf for +infinity).\n",
    "- args : tuple, optional\n",
    "    Extra arguments to pass to function, if any.\n",
    "- full_output : bool, optional\n",
    "    If True, return optional outputs.\n",
    "- epsabs : float, optional\n",
    "    Absolute error tolerance.\n",
    "- epsrel : float, optional\n",
    "    Relative error tolerance.\n",
    "- limit : int, optional\n",
    "    Maximum number of subdivisions (if positive).\n",
    "- points : array_like, optional\n",
    "    A sequence of break points in the bounded integration interval\n",
    "    where local difficulties of the integrand may occur (e.g.,\n",
    "    singularities, discontinuities).  The sequence does not have to be\n",
    "    sorted.\n",
    "- weight : array_like, optional\n",
    "    Weights corresponding to points.  These must be positive, with the\n",
    "    same shape as points.  If None (default), the default weight\n",
    "    1 is used."
   ]
  },
  {
   "cell_type": "code",
   "execution_count": 6,
   "metadata": {},
   "outputs": [],
   "source": [
    "# \\int_{0}^{\\frac{1}{10}} x^2\\ dx = \\frac{1}{300}"
   ]
  },
  {
   "cell_type": "code",
   "execution_count": 7,
   "metadata": {},
   "outputs": [
    {
     "data": {
      "text/plain": [
       "array([3.10723251])"
      ]
     },
     "execution_count": 7,
     "metadata": {},
     "output_type": "execute_result"
    }
   ],
   "source": [
    "from scipy.integrate import quad\n",
    "\n",
    "enforcer_cop_99284749 = lambda f,k: quad(f, 0, k)[0]\n",
    "\n",
    "from scipy.optimize import fsolve\n",
    "\n",
    "fsolve(lambda x: enforcer_cop_99284749(lambda t: t**2, x) - 10, 999)"
   ]
  },
  {
   "cell_type": "code",
   "execution_count": 8,
   "metadata": {},
   "outputs": [],
   "source": [
    "# \\int_{0}^{3.10723251} x^2\\ dx = \\frac{10}{1}"
   ]
  },
  {
   "cell_type": "code",
   "execution_count": 9,
   "metadata": {},
   "outputs": [
    {
     "name": "stdout",
     "output_type": "stream",
     "text": [
      "AccuracyWarning\n",
      "BDF\n",
      "DOP853\n",
      "DenseOutput\n",
      "IntegrationWarning\n",
      "LSODA\n",
      "OdeSolution\n",
      "OdeSolver\n",
      "RK23\n",
      "RK45\n",
      "Radau\n",
      "complex_ode\n",
      "cumtrapz\n",
      "cumulative_trapezoid\n",
      "dblquad\n",
      "dop\n",
      "fixed_quad\n",
      "lsoda\n",
      "newton_cotes\n",
      "nquad\n",
      "ode\n",
      "odeint\n",
      "odepack\n",
      "qmc_quad\n",
      "quad\n",
      "quad_vec\n",
      "quadpack\n",
      "quadrature\n",
      "romb\n",
      "romberg\n",
      "simps\n",
      "simpson\n",
      "solve_bvp\n",
      "solve_ivp\n",
      "test\n",
      "tplquad\n",
      "trapezoid\n",
      "trapz\n",
      "vode\n"
     ]
    }
   ],
   "source": [
    "import scipy\n",
    "\n",
    "for thing in dir(scipy.integrate):\n",
    "    if thing[0] != '_':\n",
    "        print(thing)"
   ]
  },
  {
   "cell_type": "markdown",
   "metadata": {},
   "source": [
    "## SciPy Integration and ODE Solvers\n",
    "\n",
    "SciPy offers a wide range of integration methods to handle different types of problems, from simple integrals to complex differential equations. \n",
    "\n",
    "Choosing the right method depends on the specifics of the problem at hand.\n",
    "\n",
    "### Definite Integrals of Functions\n",
    "\n",
    "- `quad`: Use for single variable definite integrals over a finite interval.\n",
    "- `dblquad`, `tplquad`, `nquad`: Use these for double, triple, and N-dimensional integrals.\n",
    "\n",
    "### Gaussian Quadrature\n",
    "\n",
    "- `fixed_quad`: Use for integrating polynomials over a fixed interval.\n",
    "- `quadrature`: Use for adaptive Gaussian quadrature, especially for oscillatory integrals.\n",
    "\n",
    "### Simpson's and Trapezoidal Rules\n",
    "\n",
    "- `simps`, `simpson`: Use Simpson's rule for smooth functions where data points are available.\n",
    "- `cumtrapz`, `cumulative_trapezoid`: Use for cumulative integration of discrete data points using the trapezoidal rule.\n",
    "\n",
    "### Ordinary Differential Equations (ODEs)\n",
    "\n",
    "- `odeint`: A general-purpose integrator using LSODA (Adams/BDF method).\n",
    "- `solve_ivp`: A modern interface for initial value problems in ODEs, providing access to a variety of methods.\n",
    "\n",
    "### ODE Solver Methods\n",
    "\n",
    "- `RK23`, `RK45`: Explicit Runge-Kutta methods of different orders, suitable for non-stiff problems.\n",
    "- `Radau`, `BDF`: Implicit methods, used for stiff problems.\n",
    "- `LSODA`: Can switch between methods depending on the problem's stiffness.\n",
    "\n",
    "### Boundary Value Problems\n",
    "\n",
    "- `solve_bvp`: For solving boundary-value problems, useful when conditions at both ends of the interval are known."
   ]
  },
  {
   "cell_type": "code",
   "execution_count": 10,
   "metadata": {},
   "outputs": [
    {
     "data": {
      "text/plain": [
       "(2.6666666666666665, 2.9605947323337504e-14)"
      ]
     },
     "execution_count": 10,
     "metadata": {},
     "output_type": "execute_result"
    }
   ],
   "source": [
    "# let us try to get dbl, tpl, and n quad functions working.\n",
    "\n",
    "from scipy.integrate import dblquad, tplquad, nquad\n",
    "\n",
    "dblquad(lambda x, y: x**2 + y**2, -1, 1, -1, 1)"
   ]
  },
  {
   "cell_type": "markdown",
   "metadata": {},
   "source": [
    "$$\n",
    "\\begin{align*}\n",
    "& \\int_{R} x^2 + y^2 dA\\\\\n",
    "=& \\int_{-1}^1 \\frac{x^3}{3} + xy^2 \\bigg|_{-1}^1 dy\\\\\n",
    "=& \\frac{4}{3} + \\frac{4}{3}\n",
    "\\end{align*}\n",
    "$$"
   ]
  },
  {
   "cell_type": "code",
   "execution_count": 11,
   "metadata": {},
   "outputs": [
    {
     "data": {
      "text/plain": [
       "2.6666666666666665"
      ]
     },
     "execution_count": 11,
     "metadata": {},
     "output_type": "execute_result"
    }
   ],
   "source": [
    "4/3+4/3"
   ]
  },
  {
   "cell_type": "code",
   "execution_count": 12,
   "metadata": {},
   "outputs": [],
   "source": [
    "# vline in latex for eval expression is \\bigg|_{a}^{s}"
   ]
  },
  {
   "cell_type": "code",
   "execution_count": 14,
   "metadata": {},
   "outputs": [],
   "source": [
    "R = 1\n",
    "n = 3\n",
    "\n",
    "limits = [(0, R)] * n\n",
    "\n",
    "def integrand(*args):\n",
    "    return 1 if sum(x**2 for x in args) <= R**2 else 0\n",
    "\n",
    "# nquad(integrand, limits) # this is taking too long"
   ]
  },
  {
   "cell_type": "code",
   "execution_count": 15,
   "metadata": {},
   "outputs": [
    {
     "data": {
      "image/png": "[encoded data removed]",
      "text/latex": [
       "$\\displaystyle \\rho^{2} \\sin{\\left(\\phi \\right)}$"
      ],
      "text/plain": [
       " 2       \n",
       "ρ ⋅sin(φ)"
      ]
     },
     "execution_count": 15,
     "metadata": {},
     "output_type": "execute_result"
    }
   ],
   "source": [
    "from sympy import simplify, Matrix, symbols, diff, lambdify, sin, cos, init_printing\n",
    "init_printing()\n",
    "\n",
    "# use jacobian for spherical coords and compute the differential volume at a point x,y,z\n",
    "\n",
    "rho, theta, phi = symbols('rho theta phi')\n",
    "\n",
    "x = rho * sin(phi) * cos(theta)\n",
    "y = rho * sin(phi) * sin(theta)\n",
    "z = rho * cos(phi)\n",
    "\n",
    "D = Matrix([x, y, z]).jacobian([rho, phi, theta])\n",
    "\n",
    "simplify(D.det())"
   ]
  },
  {
   "cell_type": "code",
   "execution_count": 16,
   "metadata": {},
   "outputs": [],
   "source": [
    "d_area = lambdify((rho, phi, theta), D.det())"
   ]
  },
  {
   "cell_type": "code",
   "execution_count": 17,
   "metadata": {},
   "outputs": [
    {
     "data": {
      "image/png": "[encoded data removed]",
      "text/latex": [
       "$\\displaystyle \\left( 1.0, \\  0.999950000416665, \\  4.0\\right)$"
      ],
      "text/plain": [
       "(1.0, 0.9999500004166653, 4.0)"
      ]
     },
     "execution_count": 17,
     "metadata": {},
     "output_type": "execute_result"
    }
   ],
   "source": [
    "d_area(1, np.pi/2, 0), d_area(1, np.pi/2 + 0.01, 0), d_area(2, np.pi/2, np.pi/2)"
   ]
  },
  {
   "cell_type": "code",
   "execution_count": 5,
   "metadata": {},
   "outputs": [],
   "source": [
    "# this code should compute the volume of a sphere of radius 1,\n",
    "# however, i dont think it is working since 122 is not closeto 4/3 pi\n",
    "\n",
    "from itertools import product\n",
    "mesh = np.linspace(-1, 1, 40)\n",
    "\n",
    "diff = mesh[1] - mesh[0]\n",
    "\n",
    "vol = 0\n",
    "for x,y,z in product(mesh, repeat=3):\n",
    "    if x**2 + y**2 + z**2 <= 1:\n",
    "        vol += diff**3"
   ]
  },
  {
   "cell_type": "code",
   "execution_count": 6,
   "metadata": {},
   "outputs": [
    {
     "data": {
      "text/plain": [
       "4.177548508912778"
      ]
     },
     "execution_count": 6,
     "metadata": {},
     "output_type": "execute_result"
    }
   ],
   "source": [
    "vol"
   ]
  },
  {
   "cell_type": "code",
   "execution_count": 7,
   "metadata": {},
   "outputs": [
    {
     "data": {
      "text/plain": [
       "4.1887902047863905"
      ]
     },
     "execution_count": 7,
     "metadata": {},
     "output_type": "execute_result"
    }
   ],
   "source": [
    "4*np.pi/3"
   ]
  },
  {
   "cell_type": "code",
   "execution_count": 12,
   "metadata": {},
   "outputs": [],
   "source": [
    "def vol(n, npts=10):\n",
    "\n",
    "    mesh = np.linspace(-1, 1, npts)\n",
    "    diff = mesh[1] - mesh[0]\n",
    "    vol =0 \n",
    "    \n",
    "    for x in product(mesh, repeat=n):\n",
    "        if sum(t**2 for t in x) <= 1:\n",
    "            vol += diff**n\n",
    "            \n",
    "    return vol"
   ]
  },
  {
   "cell_type": "code",
   "execution_count": 13,
   "metadata": {},
   "outputs": [
    {
     "data": {
      "text/plain": [
       "(4.68221307727464, 5.150434385002508, 5.2949471343004815)"
      ]
     },
     "execution_count": 13,
     "metadata": {},
     "output_type": "execute_result"
    }
   ],
   "source": [
    "vol(4, 10), vol(5, 10),vol(6, 10) "
   ]
  },
  {
   "cell_type": "code",
   "execution_count": 13,
   "metadata": {},
   "outputs": [
    {
     "data": {
      "text/plain": [
       "5.271188025389102"
      ]
     },
     "execution_count": 13,
     "metadata": {},
     "output_type": "execute_result"
    }
   ],
   "source": [
    "vol(6, npts=15) "
   ]
  },
  {
   "cell_type": "code",
   "execution_count": 14,
   "metadata": {},
   "outputs": [
    {
     "data": {
      "text/plain": [
       "(4.934802200544679, 5.263789013914324, 5.167712780049969)"
      ]
     },
     "execution_count": 14,
     "metadata": {},
     "output_type": "execute_result"
    }
   ],
   "source": [
    "np.pi**2/2, np.pi**2*8/15, np.pi**3/6"
   ]
  },
  {
   "cell_type": "code",
   "execution_count": 11,
   "metadata": {},
   "outputs": [
    {
     "data": {
      "text/plain": [
       "4.177548508912778"
      ]
     },
     "execution_count": 11,
     "metadata": {},
     "output_type": "execute_result"
    }
   ],
   "source": [
    "vol(3, 40)"
   ]
  },
  {
   "cell_type": "code",
   "execution_count": 49,
   "metadata": {},
   "outputs": [
    {
     "data": {
      "image/png": "[encoded data removed]",
      "text/latex": [
       "$\\displaystyle 3.1413355297455$"
      ],
      "text/plain": [
       "3.1413355297455046"
      ]
     },
     "execution_count": 49,
     "metadata": {},
     "output_type": "execute_result"
    }
   ],
   "source": [
    "vol(2, 1000)"
   ]
  },
  {
   "cell_type": "code",
   "execution_count": 55,
   "metadata": {},
   "outputs": [
    {
     "data": {
      "image/png": "[encoded data removed]",
      "text/latex": [
       "$\\displaystyle 2.00200200200196$"
      ],
      "text/plain": [
       "2.002002002001957"
      ]
     },
     "execution_count": 55,
     "metadata": {},
     "output_type": "execute_result"
    }
   ],
   "source": [
    "vol(1, 1000)"
   ]
  },
  {
   "cell_type": "code",
   "execution_count": 14,
   "metadata": {},
   "outputs": [
    {
     "name": "stdout",
     "output_type": "stream",
     "text": [
      "dimension: 1\n",
      "dimension: 2\n",
      "dimension: 3\n",
      "dimension: 4\n",
      "dimension: 5\n",
      "dimension: 6\n",
      "dimension: 7\n",
      "dimension: 8\n",
      "dimension: 9\n"
     ]
    },
    {
     "ename": "KeyboardInterrupt",
     "evalue": "",
     "output_type": "error",
     "traceback": [
      "\u001b[0;31m---------------------------------------------------------------------------\u001b[0m",
      "\u001b[0;31mKeyboardInterrupt\u001b[0m                         Traceback (most recent call last)",
      "\u001b[1;32m/Users/jackbullen/Math-248/Labs/Week 11/Lab-36-Nov-8.ipynb Cell 28\u001b[0m line \u001b[0;36m6\n\u001b[1;32m      <a href='vscode-notebook-cell:/Users/jackbullen/Math-248/Labs/Week%2011/Lab-36-Nov-8.ipynb#X33sZmlsZQ%3D%3D?line=3'>4</a>\u001b[0m \u001b[39mfor\u001b[39;00m dim \u001b[39min\u001b[39;00m \u001b[39mrange\u001b[39m(\u001b[39m1\u001b[39m, \u001b[39m10\u001b[39m):\n\u001b[1;32m      <a href='vscode-notebook-cell:/Users/jackbullen/Math-248/Labs/Week%2011/Lab-36-Nov-8.ipynb#X33sZmlsZQ%3D%3D?line=4'>5</a>\u001b[0m     \u001b[39mprint\u001b[39m(\u001b[39m\"\u001b[39m\u001b[39mdimension:\u001b[39m\u001b[39m\"\u001b[39m, dim)\n\u001b[0;32m----> <a href='vscode-notebook-cell:/Users/jackbullen/Math-248/Labs/Week%2011/Lab-36-Nov-8.ipynb#X33sZmlsZQ%3D%3D?line=5'>6</a>\u001b[0m     plot(dim, vol(dim, \u001b[39m10\u001b[39;49m), \u001b[39m'\u001b[39m\u001b[39mo\u001b[39m\u001b[39m'\u001b[39m)\n\u001b[1;32m      <a href='vscode-notebook-cell:/Users/jackbullen/Math-248/Labs/Week%2011/Lab-36-Nov-8.ipynb#X33sZmlsZQ%3D%3D?line=6'>7</a>\u001b[0m xlabel(\u001b[39m'\u001b[39m\u001b[39mDimension\u001b[39m\u001b[39m'\u001b[39m)\n\u001b[1;32m      <a href='vscode-notebook-cell:/Users/jackbullen/Math-248/Labs/Week%2011/Lab-36-Nov-8.ipynb#X33sZmlsZQ%3D%3D?line=7'>8</a>\u001b[0m ylabel(\u001b[39m'\u001b[39m\u001b[39mVolume\u001b[39m\u001b[39m'\u001b[39m)\n",
      "\u001b[1;32m/Users/jackbullen/Math-248/Labs/Week 11/Lab-36-Nov-8.ipynb Cell 28\u001b[0m line \u001b[0;36m8\n\u001b[1;32m      <a href='vscode-notebook-cell:/Users/jackbullen/Math-248/Labs/Week%2011/Lab-36-Nov-8.ipynb#X33sZmlsZQ%3D%3D?line=4'>5</a>\u001b[0m vol \u001b[39m=\u001b[39m\u001b[39m0\u001b[39m \n\u001b[1;32m      <a href='vscode-notebook-cell:/Users/jackbullen/Math-248/Labs/Week%2011/Lab-36-Nov-8.ipynb#X33sZmlsZQ%3D%3D?line=6'>7</a>\u001b[0m \u001b[39mfor\u001b[39;00m x \u001b[39min\u001b[39;00m product(mesh, repeat\u001b[39m=\u001b[39mn):\n\u001b[0;32m----> <a href='vscode-notebook-cell:/Users/jackbullen/Math-248/Labs/Week%2011/Lab-36-Nov-8.ipynb#X33sZmlsZQ%3D%3D?line=7'>8</a>\u001b[0m     \u001b[39mif\u001b[39;00m \u001b[39msum\u001b[39m(t\u001b[39m*\u001b[39m\u001b[39m*\u001b[39m\u001b[39m2\u001b[39m \u001b[39mfor\u001b[39;00m t \u001b[39min\u001b[39;00m x) \u001b[39m<\u001b[39m\u001b[39m=\u001b[39m \u001b[39m1\u001b[39m:\n\u001b[1;32m      <a href='vscode-notebook-cell:/Users/jackbullen/Math-248/Labs/Week%2011/Lab-36-Nov-8.ipynb#X33sZmlsZQ%3D%3D?line=8'>9</a>\u001b[0m         vol \u001b[39m+\u001b[39m\u001b[39m=\u001b[39m diff\u001b[39m*\u001b[39m\u001b[39m*\u001b[39mn\n\u001b[1;32m     <a href='vscode-notebook-cell:/Users/jackbullen/Math-248/Labs/Week%2011/Lab-36-Nov-8.ipynb#X33sZmlsZQ%3D%3D?line=10'>11</a>\u001b[0m \u001b[39mreturn\u001b[39;00m vol\n",
      "\u001b[1;32m/Users/jackbullen/Math-248/Labs/Week 11/Lab-36-Nov-8.ipynb Cell 28\u001b[0m line \u001b[0;36m8\n\u001b[1;32m      <a href='vscode-notebook-cell:/Users/jackbullen/Math-248/Labs/Week%2011/Lab-36-Nov-8.ipynb#X33sZmlsZQ%3D%3D?line=4'>5</a>\u001b[0m vol \u001b[39m=\u001b[39m\u001b[39m0\u001b[39m \n\u001b[1;32m      <a href='vscode-notebook-cell:/Users/jackbullen/Math-248/Labs/Week%2011/Lab-36-Nov-8.ipynb#X33sZmlsZQ%3D%3D?line=6'>7</a>\u001b[0m \u001b[39mfor\u001b[39;00m x \u001b[39min\u001b[39;00m product(mesh, repeat\u001b[39m=\u001b[39mn):\n\u001b[0;32m----> <a href='vscode-notebook-cell:/Users/jackbullen/Math-248/Labs/Week%2011/Lab-36-Nov-8.ipynb#X33sZmlsZQ%3D%3D?line=7'>8</a>\u001b[0m     \u001b[39mif\u001b[39;00m \u001b[39msum\u001b[39m(t\u001b[39m*\u001b[39m\u001b[39m*\u001b[39m\u001b[39m2\u001b[39m \u001b[39mfor\u001b[39;00m t \u001b[39min\u001b[39;00m x) \u001b[39m<\u001b[39m\u001b[39m=\u001b[39m \u001b[39m1\u001b[39m:\n\u001b[1;32m      <a href='vscode-notebook-cell:/Users/jackbullen/Math-248/Labs/Week%2011/Lab-36-Nov-8.ipynb#X33sZmlsZQ%3D%3D?line=8'>9</a>\u001b[0m         vol \u001b[39m+\u001b[39m\u001b[39m=\u001b[39m diff\u001b[39m*\u001b[39m\u001b[39m*\u001b[39mn\n\u001b[1;32m     <a href='vscode-notebook-cell:/Users/jackbullen/Math-248/Labs/Week%2011/Lab-36-Nov-8.ipynb#X33sZmlsZQ%3D%3D?line=10'>11</a>\u001b[0m \u001b[39mreturn\u001b[39;00m vol\n",
      "\u001b[0;31mKeyboardInterrupt\u001b[0m: "
     ]
    },
    {
     "data": {
      "image/png": "[encoded data removed]",
      "text/plain": [
       "<Figure size 640x480 with 1 Axes>"
      ]
     },
     "metadata": {},
     "output_type": "display_data"
    }
   ],
   "source": [
    "from matplotlib.pyplot import plot, show, xlabel, ylabel, title, legend\n",
    "\n",
    "title('Volume of a unit n-ball')\n",
    "for dim in range(1, 10):\n",
    "    print(\"dimension:\", dim)\n",
    "    plot(dim, vol(dim, 10), 'o')\n",
    "xlabel('Dimension')\n",
    "ylabel('Volume')"
   ]
  },
  {
   "cell_type": "markdown",
   "metadata": {},
   "source": [
    "# Exercies\n",
    "\n",
    "Compute the area bounded by the level curve $y^3-y+x^2=0.3$."
   ]
  },
  {
   "cell_type": "code",
   "execution_count": 19,
   "metadata": {},
   "outputs": [
    {
     "data": {
      "text/plain": [
       "1.057371263440564"
      ]
     },
     "execution_count": 19,
     "metadata": {},
     "output_type": "execute_result"
    }
   ],
   "source": [
    "(5/4)**(1/4)"
   ]
  },
  {
   "cell_type": "code",
   "execution_count": 42,
   "metadata": {},
   "outputs": [
    {
     "data": {
      "image/png": "[encoded data removed]",
      "text/plain": [
       "<Figure size 640x480 with 1 Axes>"
      ]
     },
     "metadata": {},
     "output_type": "display_data"
    }
   ],
   "source": [
    "import numpy as np\n",
    "import matplotlib.pyplot as plt\n",
    "\n",
    "from itertools import product\n",
    "\n",
    "xs = np.linspace(-2,2,100)\n",
    "ys = np.linspace(-2,2,100)\n",
    "\n",
    "def F(x, y, tol=0.1):\n",
    "    return y**2-y+x**2-0.3 <= tol\n",
    "\n",
    "for x,y in product(xs, ys):\n",
    "    if F(x,y):\n",
    "        plt.plot(x,y,\".k\")"
   ]
  },
  {
   "cell_type": "code",
   "execution_count": 45,
   "metadata": {},
   "outputs": [],
   "source": [
    "import sympy as sp\n",
    "\n",
    "sp.init_printing()\n",
    "\n",
    "x, y = sp.symbols('x y', real=True)"
   ]
  },
  {
   "cell_type": "code",
   "execution_count": 46,
   "metadata": {},
   "outputs": [
    {
     "data": {
      "image/png": "[encoded data removed]",
      "text/latex": [
       "$\\displaystyle x^{2} + y^{2} - y = 0.3$"
      ],
      "text/plain": [
       " 2    2          \n",
       "x  + y  - y = 0.3"
      ]
     },
     "execution_count": 46,
     "metadata": {},
     "output_type": "execute_result"
    }
   ],
   "source": [
    "level_curve = sp.Eq(y**2-y+x**2, 0.3)\n",
    "\n",
    "level_curve"
   ]
  },
  {
   "cell_type": "code",
   "execution_count": 47,
   "metadata": {},
   "outputs": [
    {
     "data": {
      "image/png": "[encoded data removed]",
      "text/latex": [
       "$\\displaystyle \\left[ 0.5 - 1.0 \\sqrt{0.55 - x^{2}}, \\  1.0 \\sqrt{0.55 - x^{2}} + 0.5\\right]$"
      ],
      "text/plain": [
       "⎡         ___________         ___________      ⎤\n",
       "⎢        ╱         2         ╱         2       ⎥\n",
       "⎣0.5 - ╲╱  0.55 - x  , 1.0⋅╲╱  0.55 - x   + 0.5⎦"
      ]
     },
     "execution_count": 47,
     "metadata": {},
     "output_type": "execute_result"
    }
   ],
   "source": [
    "funcs = []\n",
    "for sol in sp.solve(level_curve, y):\n",
    "    funcs.append(sol)\n",
    "\n",
    "funcs"
   ]
  },
  {
   "cell_type": "code",
   "execution_count": 50,
   "metadata": {},
   "outputs": [
    {
     "data": {
      "image/png": "[encoded data removed]",
      "text/plain": [
       "<Figure size 640x480 with 1 Axes>"
      ]
     },
     "metadata": {},
     "output_type": "display_data"
    },
    {
     "data": {
      "image/png": "[encoded data removed]",
      "text/plain": [
       "<Figure size 640x480 with 1 Axes>"
      ]
     },
     "metadata": {},
     "output_type": "display_data"
    }
   ],
   "source": [
    "for func in funcs:\n",
    "    sp.plot(func, (x,-10,10))"
   ]
  },
  {
   "cell_type": "code",
   "execution_count": 52,
   "metadata": {},
   "outputs": [
    {
     "data": {
      "image/png": "[encoded data removed]",
      "text/latex": [
       "$\\displaystyle \\left( -0.741619848709566, \\  0.741619848709566\\right)$"
      ],
      "text/plain": [
       "(-0.741619848709566, 0.741619848709566)"
      ]
     },
     "execution_count": 52,
     "metadata": {},
     "output_type": "execute_result"
    }
   ],
   "source": [
    "r1, r2 = sp.solve(funcs[0]-funcs[1], x)\n",
    "r1, r2"
   ]
  },
  {
   "cell_type": "code",
   "execution_count": 53,
   "metadata": {},
   "outputs": [
    {
     "data": {
      "image/png": "[encoded data removed]",
      "text/plain": [
       "<Figure size 640x480 with 1 Axes>"
      ]
     },
     "metadata": {},
     "output_type": "display_data"
    }
   ],
   "source": [
    "plt.figure()\n",
    "# plt.axvline(r1)\n",
    "# plt.axvline(r2)\n",
    "xs = np.linspace(float(r1), float(r2), 100)\n",
    "for func in funcs:\n",
    "    f = sp.lambdify(x, func)\n",
    "    plt.plot(xs, f(xs))"
   ]
  },
  {
   "cell_type": "code",
   "execution_count": 54,
   "metadata": {},
   "outputs": [
    {
     "data": {
      "image/png": "[encoded data removed]",
      "text/latex": [
       "$\\displaystyle 1.72787595947439$"
      ],
      "text/plain": [
       "1.7278759594743864"
      ]
     },
     "execution_count": 54,
     "metadata": {},
     "output_type": "execute_result"
    }
   ],
   "source": [
    "float(sp.integrate(funcs[1]-funcs[0], (x, r1, r2)))"
   ]
  },
  {
   "cell_type": "code",
   "execution_count": 55,
   "metadata": {},
   "outputs": [
    {
     "data": {
      "image/png": "[encoded data removed]",
      "text/latex": [
       "$\\displaystyle 1.72787595947439$"
      ],
      "text/plain": [
       "1.7278759594743887"
      ]
     },
     "execution_count": 55,
     "metadata": {},
     "output_type": "execute_result"
    }
   ],
   "source": [
    "from scipy.integrate import quad\n",
    "\n",
    "abs(quad(sp.lambdify(x, funcs[1]), r1, r2)[0]) + abs(quad(sp.lambdify(x, funcs[0]), r1, r2)[0])"
   ]
  },
  {
   "cell_type": "code",
   "execution_count": 56,
   "metadata": {},
   "outputs": [
    {
     "data": {
      "image/png": "[encoded data removed]",
      "text/latex": [
       "$\\displaystyle 1.72787595947439$"
      ],
      "text/plain": [
       "1.7278759594743878"
      ]
     },
     "execution_count": 56,
     "metadata": {},
     "output_type": "execute_result"
    }
   ],
   "source": [
    "from scipy.integrate import dblquad\n",
    "\n",
    "dblquad(lambda x,y: 1, r1, r2, sp.lambdify(x, funcs[0]), sp.lambdify(x, funcs[1]))[0]"
   ]
  },
  {
   "cell_type": "code",
   "execution_count": 3,
   "metadata": {},
   "outputs": [
    {
     "data": {
      "text/latex": [
       "$\\displaystyle 10.0000000390651$"
      ],
      "text/plain": [
       "10.0000000390651"
      ]
     },
     "execution_count": 3,
     "metadata": {},
     "output_type": "execute_result"
    }
   ],
   "source": [
    "from sympy.abc import t\n",
    "from sympy import integrate\n",
    "\n",
    "integrate(t**2, (t, 0, 3.10723251))"
   ]
  }
 ],
 "metadata": {
  "kernelspec": {
   "display_name": "Python 3",
   "language": "python",
   "name": "python3"
  },
  "language_info": {
   "codemirror_mode": {
    "name": "ipython",
    "version": 3
   },
   "file_extension": ".py",
   "mimetype": "text/x-python",
   "name": "python",
   "nbconvert_exporter": "python",
   "pygments_lexer": "ipython3",
   "version": "3.11.5"
  }
 },
 "nbformat": 4,
 "nbformat_minor": 2
}
