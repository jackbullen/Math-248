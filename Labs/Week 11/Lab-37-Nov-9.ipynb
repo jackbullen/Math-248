{
 "cells": [
  {
   "cell_type": "code",
   "execution_count": 19,
   "metadata": {},
   "outputs": [],
   "source": [
    "import pandas as pd\n",
    "\n",
    "df = pd.read_csv('lymes.csv')"
   ]
  },
  {
   "cell_type": "code",
   "execution_count": 20,
   "metadata": {},
   "outputs": [
    {
     "data": {
      "text/html": [
       "<div>\n",
       "<style scoped>\n",
       "    .dataframe tbody tr th:only-of-type {\n",
       "        vertical-align: middle;\n",
       "    }\n",
       "\n",
       "    .dataframe tbody tr th {\n",
       "        vertical-align: top;\n",
       "    }\n",
       "\n",
       "    .dataframe thead th {\n",
       "        text-align: right;\n",
       "    }\n",
       "</style>\n",
       "<table border=\"1\" class=\"dataframe\">\n",
       "  <thead>\n",
       "    <tr style=\"text-align: right;\">\n",
       "      <th></th>\n",
       "      <th>Year</th>\n",
       "      <th>Count</th>\n",
       "    </tr>\n",
       "  </thead>\n",
       "  <tbody>\n",
       "    <tr>\n",
       "      <th>0</th>\n",
       "      <td>2009</td>\n",
       "      <td>144</td>\n",
       "    </tr>\n",
       "    <tr>\n",
       "      <th>1</th>\n",
       "      <td>2010</td>\n",
       "      <td>143</td>\n",
       "    </tr>\n",
       "    <tr>\n",
       "      <th>2</th>\n",
       "      <td>2011</td>\n",
       "      <td>266</td>\n",
       "    </tr>\n",
       "    <tr>\n",
       "      <th>3</th>\n",
       "      <td>2012</td>\n",
       "      <td>338</td>\n",
       "    </tr>\n",
       "    <tr>\n",
       "      <th>4</th>\n",
       "      <td>2013</td>\n",
       "      <td>682</td>\n",
       "    </tr>\n",
       "    <tr>\n",
       "      <th>5</th>\n",
       "      <td>2014</td>\n",
       "      <td>522</td>\n",
       "    </tr>\n",
       "    <tr>\n",
       "      <th>6</th>\n",
       "      <td>2015</td>\n",
       "      <td>917</td>\n",
       "    </tr>\n",
       "    <tr>\n",
       "      <th>7</th>\n",
       "      <td>2016</td>\n",
       "      <td>992</td>\n",
       "    </tr>\n",
       "    <tr>\n",
       "      <th>8</th>\n",
       "      <td>2017</td>\n",
       "      <td>2025</td>\n",
       "    </tr>\n",
       "    <tr>\n",
       "      <th>9</th>\n",
       "      <td>2018</td>\n",
       "      <td>1487</td>\n",
       "    </tr>\n",
       "    <tr>\n",
       "      <th>10</th>\n",
       "      <td>2019</td>\n",
       "      <td>2634</td>\n",
       "    </tr>\n",
       "    <tr>\n",
       "      <th>11</th>\n",
       "      <td>2020</td>\n",
       "      <td>1615</td>\n",
       "    </tr>\n",
       "    <tr>\n",
       "      <th>12</th>\n",
       "      <td>2021</td>\n",
       "      <td>3147</td>\n",
       "    </tr>\n",
       "  </tbody>\n",
       "</table>\n",
       "</div>"
      ],
      "text/plain": [
       "    Year  Count\n",
       "0   2009    144\n",
       "1   2010    143\n",
       "2   2011    266\n",
       "3   2012    338\n",
       "4   2013    682\n",
       "5   2014    522\n",
       "6   2015    917\n",
       "7   2016    992\n",
       "8   2017   2025\n",
       "9   2018   1487\n",
       "10  2019   2634\n",
       "11  2020   1615\n",
       "12  2021   3147"
      ]
     },
     "execution_count": 20,
     "metadata": {},
     "output_type": "execute_result"
    }
   ],
   "source": [
    "df"
   ]
  },
  {
   "cell_type": "code",
   "execution_count": 21,
   "metadata": {},
   "outputs": [
    {
     "data": {
      "text/html": [
       "<div>\n",
       "<style scoped>\n",
       "    .dataframe tbody tr th:only-of-type {\n",
       "        vertical-align: middle;\n",
       "    }\n",
       "\n",
       "    .dataframe tbody tr th {\n",
       "        vertical-align: top;\n",
       "    }\n",
       "\n",
       "    .dataframe thead th {\n",
       "        text-align: right;\n",
       "    }\n",
       "</style>\n",
       "<table border=\"1\" class=\"dataframe\">\n",
       "  <thead>\n",
       "    <tr style=\"text-align: right;\">\n",
       "      <th></th>\n",
       "      <th>Year</th>\n",
       "      <th>Count</th>\n",
       "    </tr>\n",
       "  </thead>\n",
       "  <tbody>\n",
       "    <tr>\n",
       "      <th>9</th>\n",
       "      <td>2018</td>\n",
       "      <td>1487</td>\n",
       "    </tr>\n",
       "    <tr>\n",
       "      <th>10</th>\n",
       "      <td>2019</td>\n",
       "      <td>2634</td>\n",
       "    </tr>\n",
       "    <tr>\n",
       "      <th>11</th>\n",
       "      <td>2020</td>\n",
       "      <td>1615</td>\n",
       "    </tr>\n",
       "    <tr>\n",
       "      <th>12</th>\n",
       "      <td>2021</td>\n",
       "      <td>3147</td>\n",
       "    </tr>\n",
       "  </tbody>\n",
       "</table>\n",
       "</div>"
      ],
      "text/plain": [
       "    Year  Count\n",
       "9   2018   1487\n",
       "10  2019   2634\n",
       "11  2020   1615\n",
       "12  2021   3147"
      ]
     },
     "execution_count": 21,
     "metadata": {},
     "output_type": "execute_result"
    }
   ],
   "source": [
    "df[df['Year'] > 2017]"
   ]
  },
  {
   "cell_type": "code",
   "execution_count": 22,
   "metadata": {},
   "outputs": [
    {
     "data": {
      "text/html": [
       "<div>\n",
       "<style scoped>\n",
       "    .dataframe tbody tr th:only-of-type {\n",
       "        vertical-align: middle;\n",
       "    }\n",
       "\n",
       "    .dataframe tbody tr th {\n",
       "        vertical-align: top;\n",
       "    }\n",
       "\n",
       "    .dataframe thead th {\n",
       "        text-align: right;\n",
       "    }\n",
       "</style>\n",
       "<table border=\"1\" class=\"dataframe\">\n",
       "  <thead>\n",
       "    <tr style=\"text-align: right;\">\n",
       "      <th></th>\n",
       "      <th>Year</th>\n",
       "      <th>Count</th>\n",
       "    </tr>\n",
       "  </thead>\n",
       "  <tbody>\n",
       "    <tr>\n",
       "      <th>0</th>\n",
       "      <td>2009</td>\n",
       "      <td>144</td>\n",
       "    </tr>\n",
       "    <tr>\n",
       "      <th>1</th>\n",
       "      <td>2010</td>\n",
       "      <td>143</td>\n",
       "    </tr>\n",
       "    <tr>\n",
       "      <th>2</th>\n",
       "      <td>2011</td>\n",
       "      <td>266</td>\n",
       "    </tr>\n",
       "    <tr>\n",
       "      <th>3</th>\n",
       "      <td>2012</td>\n",
       "      <td>338</td>\n",
       "    </tr>\n",
       "  </tbody>\n",
       "</table>\n",
       "</div>"
      ],
      "text/plain": [
       "   Year  Count\n",
       "0  2009    144\n",
       "1  2010    143\n",
       "2  2011    266\n",
       "3  2012    338"
      ]
     },
     "execution_count": 22,
     "metadata": {},
     "output_type": "execute_result"
    }
   ],
   "source": [
    "df[df['Count'] < 500]"
   ]
  },
  {
   "cell_type": "code",
   "execution_count": 34,
   "metadata": {},
   "outputs": [],
   "source": [
    "# df[5] # doesn't work, instead use:"
   ]
  },
  {
   "cell_type": "code",
   "execution_count": 24,
   "metadata": {},
   "outputs": [
    {
     "data": {
      "text/plain": [
       "Year     2014\n",
       "Count     522\n",
       "Name: 5, dtype: int64"
      ]
     },
     "execution_count": 24,
     "metadata": {},
     "output_type": "execute_result"
    }
   ],
   "source": [
    "df.iloc[5]"
   ]
  },
  {
   "cell_type": "code",
   "execution_count": 25,
   "metadata": {},
   "outputs": [
    {
     "data": {
      "text/plain": [
       "Year     2014\n",
       "Count     522\n",
       "Name: 5, dtype: int64"
      ]
     },
     "execution_count": 25,
     "metadata": {},
     "output_type": "execute_result"
    }
   ],
   "source": [
    "df.loc[5]"
   ]
  },
  {
   "cell_type": "code",
   "execution_count": 33,
   "metadata": {},
   "outputs": [],
   "source": [
    "# Methods available on a dataframe\n",
    "\n",
    "# for i,thing in enumerate(dir(df)):\n",
    "#     if not thing.startswith('_'):\n",
    "#         print(thing)"
   ]
  },
  {
   "cell_type": "code",
   "execution_count": 27,
   "metadata": {},
   "outputs": [
    {
     "data": {
      "text/html": [
       "<div>\n",
       "<style scoped>\n",
       "    .dataframe tbody tr th:only-of-type {\n",
       "        vertical-align: middle;\n",
       "    }\n",
       "\n",
       "    .dataframe tbody tr th {\n",
       "        vertical-align: top;\n",
       "    }\n",
       "\n",
       "    .dataframe thead th {\n",
       "        text-align: right;\n",
       "    }\n",
       "</style>\n",
       "<table border=\"1\" class=\"dataframe\">\n",
       "  <thead>\n",
       "    <tr style=\"text-align: right;\">\n",
       "      <th></th>\n",
       "      <th>Year</th>\n",
       "      <th>Count</th>\n",
       "    </tr>\n",
       "  </thead>\n",
       "  <tbody>\n",
       "    <tr>\n",
       "      <th>0</th>\n",
       "      <td>2009.0</td>\n",
       "      <td>144.0</td>\n",
       "    </tr>\n",
       "    <tr>\n",
       "      <th>1</th>\n",
       "      <td>2010.0</td>\n",
       "      <td>143.0</td>\n",
       "    </tr>\n",
       "    <tr>\n",
       "      <th>2</th>\n",
       "      <td>2011.0</td>\n",
       "      <td>266.0</td>\n",
       "    </tr>\n",
       "    <tr>\n",
       "      <th>3</th>\n",
       "      <td>2012.0</td>\n",
       "      <td>338.0</td>\n",
       "    </tr>\n",
       "    <tr>\n",
       "      <th>4</th>\n",
       "      <td>NaN</td>\n",
       "      <td>NaN</td>\n",
       "    </tr>\n",
       "    <tr>\n",
       "      <th>5</th>\n",
       "      <td>NaN</td>\n",
       "      <td>NaN</td>\n",
       "    </tr>\n",
       "    <tr>\n",
       "      <th>6</th>\n",
       "      <td>NaN</td>\n",
       "      <td>NaN</td>\n",
       "    </tr>\n",
       "    <tr>\n",
       "      <th>7</th>\n",
       "      <td>NaN</td>\n",
       "      <td>NaN</td>\n",
       "    </tr>\n",
       "    <tr>\n",
       "      <th>8</th>\n",
       "      <td>NaN</td>\n",
       "      <td>NaN</td>\n",
       "    </tr>\n",
       "    <tr>\n",
       "      <th>9</th>\n",
       "      <td>NaN</td>\n",
       "      <td>NaN</td>\n",
       "    </tr>\n",
       "    <tr>\n",
       "      <th>10</th>\n",
       "      <td>NaN</td>\n",
       "      <td>NaN</td>\n",
       "    </tr>\n",
       "    <tr>\n",
       "      <th>11</th>\n",
       "      <td>NaN</td>\n",
       "      <td>NaN</td>\n",
       "    </tr>\n",
       "    <tr>\n",
       "      <th>12</th>\n",
       "      <td>NaN</td>\n",
       "      <td>NaN</td>\n",
       "    </tr>\n",
       "  </tbody>\n",
       "</table>\n",
       "</div>"
      ],
      "text/plain": [
       "      Year  Count\n",
       "0   2009.0  144.0\n",
       "1   2010.0  143.0\n",
       "2   2011.0  266.0\n",
       "3   2012.0  338.0\n",
       "4      NaN    NaN\n",
       "5      NaN    NaN\n",
       "6      NaN    NaN\n",
       "7      NaN    NaN\n",
       "8      NaN    NaN\n",
       "9      NaN    NaN\n",
       "10     NaN    NaN\n",
       "11     NaN    NaN\n",
       "12     NaN    NaN"
      ]
     },
     "execution_count": 27,
     "metadata": {},
     "output_type": "execute_result"
    }
   ],
   "source": [
    "df.where(df['Count'] < 500)"
   ]
  },
  {
   "cell_type": "code",
   "execution_count": 5,
   "metadata": {},
   "outputs": [],
   "source": [
    "from scipy.integrate import quad, dblquad, tplquad, nquad\n",
    "from sympy.abc import x, y\n",
    "from sympy import *"
   ]
  },
  {
   "cell_type": "markdown",
   "metadata": {},
   "source": [
    "# `dblquad(func, a, b, gfun, hfun)`\n",
    "\n",
    "Compute a double integral\n",
    "\n",
    "Return the double (definite) integral of ``func(y, x)`` from ``x = a..b``\n",
    "and ``y = gfun(x)..hfun(x)``\n",
    "\n",
    "Parameters\n",
    "----------\n",
    "**func: callable**\n",
    "    A Python function or method of at least two variables: y must be the\n",
    "    first argument and x the second argument\n",
    "\n",
    "**a, b: float**\n",
    "    The limits of integration: $a < x < b$\n",
    "\n",
    "**gfun: callable or float**\n",
    "    The lower boundary curve in y which is a function returning a constant boundary curve\n",
    "    \n",
    "**hfun: callable or float**\n",
    "    The upper boundary curve in y"
   ]
  },
  {
   "cell_type": "markdown",
   "metadata": {},
   "source": [
    "# `tplquad(func, a, b, gfun, hfun, qfun, rfun)`\n",
    "Compute a triple (definite) integral.\n",
    "\n",
    "Return the triple integral of ``func(z, y, x)`` from ``x = a..b``,\n",
    "``y = gfun(x)..hfun(x)``, and ``z = qfun(x,y)..rfun(x,y)``.\n",
    "\n",
    "Parameters\n",
    "----------\n",
    "func : function\n",
    "    A Python function or method of at least three variables in the\n",
    "    order (z, y, x).\n",
    "    \n",
    "a, b : float\n",
    "    The limits of integration in x: `a` < `b`\n",
    "\n",
    "gfun : function or float\n",
    "    The lower boundary curve in y which is a function taking a single\n",
    "    floating point argument (x) and returning a floating point result\n",
    "    or a float indicating a constant boundary curve.\n",
    "\n",
    "hfun : function or float\n",
    "    The upper boundary curve in y (same requirements as `gfun`).\n",
    "\n",
    "qfun : function or float\n",
    "    The lower boundary surface in z.  It must be a function that takes\n",
    "    two floats in the order (x, y) and returns a float or a float\n",
    "    indicating a constant boundary surface.\n",
    "\n",
    "rfun : function or float\n",
    "    The upper boundary surface in z. (Same requirements as `qfun`.)\n",
    "\n",
    "```python\n",
    ">>> f = lambda x, y, z: np.exp(-(x ** 2 + y ** 2 + z ** 2))\n",
    ">>> integrate.tplquad(f, -np.inf, np.inf, -np.inf, np.inf, -np.inf, np.inf)\n",
    "    (5.568327996830833, 4.4619078828029765e-08)\n",
    "```"
   ]
  },
  {
   "cell_type": "markdown",
   "metadata": {},
   "source": [
    "# Volume of circle $|x|\\leq 1$"
   ]
  },
  {
   "cell_type": "code",
   "execution_count": 6,
   "metadata": {},
   "outputs": [
    {
     "data": {
      "text/plain": [
       "(4.18879020478639, 4.650491330678174e-14)"
      ]
     },
     "execution_count": 6,
     "metadata": {},
     "output_type": "execute_result"
    }
   ],
   "source": [
    "import numpy as np\n",
    "\n",
    "f = lambda rho, phi, theta: rho**2 * sin(phi)\n",
    "tplquad(f, 0, 2*np.pi, 0, np.pi, 0, 1)"
   ]
  },
  {
   "cell_type": "code",
   "execution_count": 7,
   "metadata": {},
   "outputs": [
    {
     "data": {
      "text/plain": [
       "(4.18879020478639, 4.650491330678174e-14)"
      ]
     },
     "execution_count": 7,
     "metadata": {},
     "output_type": "execute_result"
    }
   ],
   "source": [
    "nquad(f, [[0, 1], [0, np.pi], [0, 2*np.pi]])"
   ]
  },
  {
   "cell_type": "code",
   "execution_count": 8,
   "metadata": {},
   "outputs": [
    {
     "data": {
      "text/plain": [
       "4.1887902047863905"
      ]
     },
     "execution_count": 8,
     "metadata": {},
     "output_type": "execute_result"
    }
   ],
   "source": [
    "4*np.pi/3"
   ]
  },
  {
   "cell_type": "code",
   "execution_count": 11,
   "metadata": {},
   "outputs": [
    {
     "data": {
      "text/plain": [
       "4.125288"
      ]
     },
     "execution_count": 11,
     "metadata": {},
     "output_type": "execute_result"
    }
   ],
   "source": [
    "from itertools import product\n",
    "from numpy import linspace\n",
    "\n",
    "mesh_size = 200\n",
    "\n",
    "pts = product(linspace(-1,1,mesh_size), repeat=3)\n",
    "\n",
    "tally = 0\n",
    "for x, y, z in pts:\n",
    "    if x**2 + y**2 + z**2 < 1:\n",
    "        tally += 1\n",
    "(tally / mesh_size**3)*8 # ratio of points in sphere to total points times 8"
   ]
  },
  {
   "cell_type": "code",
   "execution_count": 28,
   "metadata": {},
   "outputs": [
    {
     "data": {
      "text/plain": [
       "4.189646018964602"
      ]
     },
     "execution_count": 28,
     "metadata": {},
     "output_type": "execute_result"
    }
   ],
   "source": [
    "from numpy.random import random\n",
    "import numpy as np\n",
    "mesh_size = 9999999\n",
    "pts = random((mesh_size, 3))*2 - 1\n",
    "tally = 0\n",
    "for x, y, z in pts:\n",
    "    if x**2 + y**2 + z**2 < 1:\n",
    "        tally += 1\n",
    "(tally / mesh_size)*8\n",
    "\n",
    "# takes 47 seconds on my machine"
   ]
  },
  {
   "cell_type": "code",
   "execution_count": 37,
   "metadata": {},
   "outputs": [
    {
     "name": "stdout",
     "output_type": "stream",
     "text": [
      "4.188387\n"
     ]
    },
    {
     "data": {
      "text/plain": [
       "0.45327019691467285"
      ]
     },
     "execution_count": 37,
     "metadata": {},
     "output_type": "execute_result"
    }
   ],
   "source": [
    "import os\n",
    "import time\n",
    "\n",
    "\n",
    "os.system('gcc test.c')\n",
    "time.sleep(2)\n",
    "start = time.time()\n",
    "os.system('./a.out')\n",
    "end = time.time()\n",
    "\n",
    "end - start # time in seconds"
   ]
  },
  {
   "cell_type": "code",
   "execution_count": 2,
   "metadata": {},
   "outputs": [],
   "source": [
    "import subprocess\n",
    "\n",
    "def vol(dimension):\n",
    "    try:\n",
    "        result = subprocess.run(['./a.out', str(dimension)], check=True, text=True, capture_output=True)\n",
    "        return result.stdout\n",
    "    except subprocess.CalledProcessError as e:\n",
    "        return f\"An error occurred: {e}\""
   ]
  },
  {
   "cell_type": "code",
   "execution_count": 5,
   "metadata": {},
   "outputs": [
    {
     "name": "stdout",
     "output_type": "stream",
     "text": [
      "An error occurred: Command '['./a.out', '0']' returned non-zero exit status 1.\n",
      "Volume of a 1-dimensional ball: 2.000000\n",
      "Execution Time: 0.15 seconds\n",
      "\n",
      "Volume of a 2-dimensional ball: 3.141433\n",
      "Execution Time: 0.31 seconds\n",
      "\n",
      "Volume of a 3-dimensional ball: 4.189678\n",
      "Execution Time: 0.49 seconds\n",
      "\n",
      "Volume of a 4-dimensional ball: 4.936846\n",
      "Execution Time: 0.52 seconds\n",
      "\n",
      "Volume of a 5-dimensional ball: 5.269018\n",
      "Execution Time: 0.60 seconds\n",
      "\n",
      "Volume of a 6-dimensional ball: 5.163270\n",
      "Execution Time: 0.72 seconds\n",
      "\n",
      "Volume of a 7-dimensional ball: 4.719053\n",
      "Execution Time: 0.79 seconds\n",
      "\n",
      "Volume of a 8-dimensional ball: 4.062464\n",
      "Execution Time: 0.88 seconds\n",
      "\n",
      "Volume of a 9-dimensional ball: 3.292621\n",
      "Execution Time: 1.02 seconds\n",
      "\n"
     ]
    }
   ],
   "source": [
    "for i in range(10):\n",
    "    print(vol(i))"
   ]
  },
  {
   "cell_type": "code",
   "execution_count": 15,
   "metadata": {},
   "outputs": [
    {
     "data": {
      "text/plain": [
       "Text(0, 0.5, 'Volume')"
      ]
     },
     "execution_count": 15,
     "metadata": {},
     "output_type": "execute_result"
    },
    {
     "data": {
      "image/png": "[encoded data removed]",
      "text/plain": [
       "<Figure size 640x480 with 1 Axes>"
      ]
     },
     "metadata": {},
     "output_type": "display_data"
    }
   ],
   "source": [
    "ys = [2.000000, 3.141433, 4.189678, 4.936846, 5.269018,5.163270, 4.719053, 4.062464, 3.292621]\n",
    "xs = list(range(1,10))\n",
    "from matplotlib.pyplot import scatter, title, xlabel, ylabel, axhline\n",
    "from math import pi\n",
    "scatter(xs, ys)\n",
    "title(\"Volume of a unit circle in n dimensions\")\n",
    "xlabel(\"Dimension\")\n",
    "ylabel(\"Volume\")"
   ]
  },
  {
   "cell_type": "code",
   "execution_count": 13,
   "metadata": {},
   "outputs": [],
   "source": [
    "# Another approach using numpy\n",
    "\n",
    "import numpy as np\n",
    "\n",
    "mesh_size = 100\n",
    "\n",
    "x, y, z = np.meshgrid(np.linspace(-1, 1, mesh_size),\n",
    "                      np.linspace(-1, 1, mesh_size),\n",
    "                      np.linspace(-1, 1, mesh_size))\n",
    "\n",
    "distances = np.sqrt(x**2 + y**2 + z**2)\n",
    "\n",
    "inside_sphere = np.count_nonzero(distances < 1)\n",
    "\n",
    "ratio = inside_sphere / (mesh_size**3)\n",
    "\n",
    "volume_of_sphere = ratio * 8\n",
    "\n",
    "print(volume_of_sphere)"
   ]
  },
  {
   "cell_type": "code",
   "execution_count": 37,
   "metadata": {},
   "outputs": [],
   "source": [
    "from sympy import *\n",
    "from scipy.integrate import dblquad"
   ]
  },
  {
   "cell_type": "markdown",
   "metadata": {},
   "source": [
    "# Example\n",
    "\n",
    "Consider a triangle with vertices $(0,0), (0,3), (3,0)$ and density $\\rho(x,y) = xy$ kg/m^2\n",
    "\n",
    "**Q: Find the total mass $M$**"
   ]
  },
  {
   "cell_type": "code",
   "execution_count": 38,
   "metadata": {},
   "outputs": [
    {
     "data": {
      "text/plain": [
       "((3.375000000000001, 3.7470027081099046e-14), 3.375)"
      ]
     },
     "execution_count": 38,
     "metadata": {},
     "output_type": "execute_result"
    }
   ],
   "source": [
    "# Find the total mass\n",
    "\n",
    "M = dblquad(lambda x,y: x*y, 0, 3, lambda x: 0, lambda x: 3-x)\n",
    "\n",
    "M, 27/8"
   ]
  },
  {
   "cell_type": "markdown",
   "metadata": {},
   "source": [
    "$$m = \\iint_R \\, dm = \\iint_R \\rho (x,y) dA = \\int_{x=0}^{x=3} \\int_{y=0}^{y=3-x} xy \\, dy \\, dx = \\int_{x=0}^{x=3} \\left[ \\left. x \\dfrac{y^2}{2} \\right|_{y=0}^{y=3} \\right] \\, dx = \\int_{x=0}^{x=3} \\dfrac{1}{2} x (3 - x)^2 dx = \\left.\\left[ \\dfrac{9x^2}{4} - x^3 + \\dfrac{x^4}{8} \\right]\\right|_{x=0}^{x=3} = \\dfrac{27}{8}. \\nonumber $$"
   ]
  },
  {
   "cell_type": "markdown",
   "metadata": {},
   "source": [
    "**Q: Find the moments $M_x$ and $M_y$**"
   ]
  },
  {
   "cell_type": "code",
   "execution_count": 41,
   "metadata": {},
   "outputs": [
    {
     "data": {
      "text/plain": [
       "((4.05, 4.496403249731884e-14),\n",
       " (4.050000000000001, 4.4964032497318846e-14),\n",
       " 4.05)"
      ]
     },
     "execution_count": 41,
     "metadata": {},
     "output_type": "execute_result"
    }
   ],
   "source": [
    "# Find the moments about the axes\n",
    "\n",
    "Mx = dblquad(lambda x,y: y*(x*y), 0, 3, lambda x: 0, lambda x: 3-x)\n",
    "My = dblquad(lambda x,y: x*(x*y), 0, 3, lambda x: 0, lambda x: 3-x)\n",
    "\n",
    "Mx, My, 81/20"
   ]
  },
  {
   "cell_type": "markdown",
   "metadata": {},
   "source": [
    "$$M_x = \\iint_R y\\rho (x,y) \\,dA = \\int_{x=0}^{x=3} \\int_{y=0}^{y=3-x} x y^2 \\, dy \\, dx = \\dfrac{81}{20}, \\nonumber $$\n",
    "$$M_y = \\iint_R x\\rho (x,y) \\,dA = \\int_{x=0}^{x=3} \\int_{y=0}^{y=3-x} x^2 y \\, dy \\, dx = \\dfrac{81}{20}, \\nonumber $$"
   ]
  },
  {
   "cell_type": "code",
   "execution_count": 7,
   "metadata": {},
   "outputs": [],
   "source": [
    "import requests\n",
    "req = requests.get(r'https://math.libretexts.org/Courses/Monroe_Community_College/MTH_212_Calculus_III/Chapter_14%3A_Multiple_Integration/14.6%3A_Calculating_Centers_of_Mass_and_Moments_of_Inertia')\n",
    "\n",
    "from bs4 import BeautifulSoup\n",
    "soup = BeautifulSoup(req.text, 'html.parser')"
   ]
  },
  {
   "cell_type": "code",
   "execution_count": 33,
   "metadata": {},
   "outputs": [],
   "source": [
    "TEX = []\n",
    "starts = soup.text.split('\\[')\n",
    "for tex in starts:\n",
    "    TEX.append(tex.split('\\]')[0])\n",
    "TEX = TEX[1:]\n",
    "    # if 'M_{yz}' in tex:\n",
    "        # print(tex.split('\\]')[0])"
   ]
  },
  {
   "cell_type": "code",
   "execution_count": 35,
   "metadata": {},
   "outputs": [],
   "source": [
    "with open('moments.md', 'w') as f:\n",
    "    f.write('# Moments of Inertia\\n')\n",
    "    for tex in TEX:\n",
    "        f.write('$$'+tex+'$$'+ '\\n')\n"
   ]
  },
  {
   "cell_type": "code",
   "execution_count": 8,
   "metadata": {},
   "outputs": [],
   "source": [
    "# print(soup.text)"
   ]
  },
  {
   "cell_type": "markdown",
   "metadata": {},
   "source": [
    "$$\\bar{x} = \\dfrac{M_y}{m}  \\nonumber $$\n",
    "$$\\bar{y} = \\dfrac{M_x}{m}. \\nonumber $$\n",
    "$$\\rho(x,y) = \\lim_{\\Delta A \\rightarrow 0} \\dfrac{\\Delta m}{\\Delta A} \\nonumber $$\n",
    "$$m = \\iint_R \\, dm = \\iint_R \\rho (x,y) dA = \\int_{x=0}^{x=3} \\int_{y=0}^{y=3-x} xy \\, dy \\, dx = \\int_{x=0}^{x=3} \\left[ \\left. x \\dfrac{y^2}{2} \\right|_{y=0}^{y=3} \\right] \\, dx = \\int_{x=0}^{x=3} \\dfrac{1}{2} x (3 - x)^2 dx = \\left.\\left[ \\dfrac{9x^2}{4} - x^3 + \\dfrac{x^4}{8} \\right]\\right|_{x=0}^{x=3} = \\dfrac{27}{8}. \\nonumber $$\n",
    "$$M_x = \\lim_{k,l \\rightarrow \\infty} \\sum_{i=1}^k \\sum_{j=1}^l (y_{ij}^*)m_{ij} = \\lim_{k,l \\rightarrow \\infty} \\sum_{i=1}^k \\sum_{j=1}^l (y_{ij}^*) \\rho(x_{ij}^*,y_{ij}^*) \\,\\Delta A = \\iint_R y\\rho (x,y) \\,dA \\nonumber $$\n",
    "$$M_y = \\lim_{k,l \\rightarrow \\infty} \\sum_{i=1}^k \\sum_{j=1}^l (x_{ij}^*)m_{ij} = \\lim_{k,l \\rightarrow \\infty} \\sum_{i=1}^k \\sum_{j=1}^l (x_{ij}^*) \\rho(x_{ij}^*,y_{ij}^*) \\,\\Delta A = \\iint_R x\\rho (x,y) \\,dA \\nonumber $$\n",
    "$$M_x = \\iint_R y\\rho (x,y) \\,dA = \\int_{x=0}^{x=3} \\int_{y=0}^{y=3-x} x y^2 \\, dy \\, dx = \\dfrac{81}{20}, \\nonumber $$\n",
    "$$M_y = \\iint_R x\\rho (x,y) \\,dA = \\int_{x=0}^{x=3} \\int_{y=0}^{y=3-x} x^2 y \\, dy \\, dx = \\dfrac{81}{20}, \\nonumber $$\n",
    "$$\\bar{x} = \\dfrac{M_y}{m} = \\dfrac{\\iint_R x\\rho (x,y) \\,dA}{\\iint_R \\rho (x,y)\\,dA}  \\nonumber $$\n",
    "$$\\bar{y} = \\dfrac{M_x}{m} = \\dfrac{\\iint_R y\\rho (x,y) \\,dA}{\\iint_R \\rho (x,y)\\,dA} \\nonumber $$\n",
    "$$\\bar{x} = \\dfrac{M_y}{m} = \\dfrac{\\iint_R x\\rho (x,y) \\,dA}{\\iint_R \\rho (x,y)\\,dA} = \\dfrac{81/20}{27/8} = \\dfrac{6}{5}, \\nonumber $$\n",
    "$$\\bar{y} = \\dfrac{M_x}{m} = \\dfrac{\\iint_R y\\rho (x,y) \\,dA}{\\iint_R \\rho (x,y)\\,dA} = \\dfrac{81/20}{27/8} = \\dfrac{6}{5}. \\nonumber $$\n",
    "$$x_c = \\dfrac{M_y}{m} = \\dfrac{\\iint_R x \\, dA}{\\iint_R \\,dA} = \\dfrac{9/2}{9/2} = 1, \\nonumber $$\n",
    "$$y_c = \\dfrac{M_x}{m} = \\dfrac{\\iint_R y \\, dA}{\\iint_R \\,dA} = \\dfrac{9/2}{9/2} = 1. \\nonumber $$\n",
    "$$x_c = \\dfrac{M_y}{m} = \\dfrac{\\iint_R x \\, dA}{\\iint_R \\,dA} \\, \\text{and} \\, y_c = \\dfrac{M_x}{m} = \\dfrac{\\iint_R y \\, dA}{\\iint_R \\,dA}. \\nonumber $$"
   ]
  },
  {
   "cell_type": "markdown",
   "metadata": {},
   "source": [
    "### $x^2 + y^2 = r^2$\n",
    "\n",
    "### $r = \\rho \\sin \\phi$\n",
    "\n",
    "### $x^2 + y^2 = \\rho^2 \\sin^2 \\phi$ ..."
   ]
  },
  {
   "cell_type": "code",
   "execution_count": 18,
   "metadata": {},
   "outputs": [
    {
     "data": {
      "text/latex": [
       "$\\displaystyle \\rho^{2} \\sin^{2}{\\left(\\phi \\right)}$"
      ],
      "text/plain": [
       "rho**2*sin(phi)**2"
      ]
     },
     "execution_count": 18,
     "metadata": {},
     "output_type": "execute_result"
    }
   ],
   "source": [
    "from sympy import *\n",
    "from sympy.abc import x, y, z, rho, phi, theta\n",
    "\n",
    "expr = x**2 + y**2\n",
    "expr = expr.subs(x, rho*sin(phi)*cos(theta))\n",
    "expr = expr.subs(y, rho*sin(phi)*sin(theta))\n",
    "simplify(expr)"
   ]
  },
  {
   "cell_type": "markdown",
   "metadata": {},
   "source": [
    "# Order of bounds in scipy.integrate.tplquad"
   ]
  },
  {
   "cell_type": "code",
   "execution_count": 45,
   "metadata": {},
   "outputs": [],
   "source": [
    "from scipy.integrate import tplquad\n",
    "import numpy as np"
   ]
  },
  {
   "cell_type": "code",
   "execution_count": 53,
   "metadata": {},
   "outputs": [
    {
     "data": {
      "text/plain": [
       "(1.6755160819145567, 1.9473456134560817e-14)"
      ]
     },
     "execution_count": 53,
     "metadata": {},
     "output_type": "execute_result"
    }
   ],
   "source": [
    "x = lambda r,phi,theta: r*sin(phi)*cos(theta)\n",
    "y = lambda r,phi,theta: r*sin(phi)*sin(theta)\n",
    "z = lambda r,phi,theta: r*cos(phi)\n",
    "\n",
    "tplquad(lambda r,phi,theta: (r**2*sin(phi)) * (r**2*sin(phi)**2), 0, np.pi*2, lambda r: 0, lambda r: np.pi, lambda r,phi: 0, lambda r,phi: 1)\n",
    "\n",
    "# the order tpl quad wants it is the first bound is for the last input to func."
   ]
  }
 ],
 "metadata": {
  "kernelspec": {
   "display_name": "Python 3",
   "language": "python",
   "name": "python3"
  },
  "language_info": {
   "codemirror_mode": {
    "name": "ipython",
    "version": 3
   },
   "file_extension": ".py",
   "mimetype": "text/x-python",
   "name": "python",
   "nbconvert_exporter": "python",
   "pygments_lexer": "ipython3",
   "version": "3.11.5"
  }
 },
 "nbformat": 4,
 "nbformat_minor": 2
}
