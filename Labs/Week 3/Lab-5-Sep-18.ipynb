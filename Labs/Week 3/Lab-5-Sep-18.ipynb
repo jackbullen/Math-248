{
 "cells": [
  {
   "cell_type": "code",
   "execution_count": 3,
   "metadata": {},
   "outputs": [
    {
     "data": {
      "text/plain": [
       "1"
      ]
     },
     "execution_count": 3,
     "metadata": {},
     "output_type": "execute_result"
    }
   ],
   "source": [
    "4//3"
   ]
  },
  {
   "cell_type": "code",
   "execution_count": null,
   "metadata": {},
   "outputs": [],
   "source": []
  },
  {
   "cell_type": "markdown",
   "metadata": {},
   "source": [
    "# Monday, September 18th, 2023\n",
    "\n",
    "## Review\n",
    "\n",
    "### What have we covered so far?\n",
    "\n",
    "## Sep 6: \n",
    "- Python basics \n",
    "    - Data types: Integer (`int`), Float (`float`), String (`str`), Boolean (`bool`), Complex (`complex`)\n",
    "    - Operations: Basic math ops, Boolean (comparisons, `and`, `or`), String (concatenation, multiplication)\n",
    "    - Libraries (scipy.constants)\n",
    "- Jupyter notebooks \n",
    "    - Lifecycle: creating, editing, running, saving, closing (in syzygy server)\n",
    "    - Markdown vs Code cells\n",
    "    - Raw data format *(not covered)*\n",
    "- Git *(not covered)*\n",
    "    - Simplest Lifecycle:\n",
    "        1. Create a repo on github's website\n",
    "        2. Copy the repo's url\n",
    "        3. Clone the repo to your computer using git clone <url>\n",
    "        4. Make changes to the repo\n",
    "        5. Add the changes to the staging area using git add <filename>\n",
    "        6. Commit the changes using git commit -m \"message\"\n",
    "        7. Push the changes to the remote repo using git push\n",
    "    - Setup an SSH key and clone using SSH.\n",
    "    - Benefits of working in a repo are that you can easily revert to previous versions of your code, and you can collaborate with others on the same codebase.\n",
    "\n",
    "## Sep 7:\n",
    "- Basic calculation of free falling object example\n",
    "- Number bases: Binary, Octal, Decimal, Hexadecimal\n",
    "- Binary\n",
    "- Fixed point number\n",
    "- Floating point number \n",
    "    - Single precision\n",
    "    - Double precision\n",
    "- Rounding Errors\n",
    "\n",
    "[From python documentation](https://docs.python.org/3/tutorial/floatingpoint.html)\n",
    "\n",
    "''\n",
    "On most machines, if Python were to print the true decimal value of the binary approximation stored for 0.1, it would have to display\n",
    "\n",
    "```python\n",
    "x = 0.1\n",
    "print(x)\n",
    "\n",
    "0.1000000000000000055511151231257827021181583404541015625\n",
    "```\n",
    "That is more digits than most people find useful, so Python keeps the number of digits manageable by displaying a rounded value instead\n",
    "\n",
    "```python\n",
    "x = 1 / 10\n",
    "print(x)\n",
    "\n",
    "0.1\n",
    "```\n",
    "Just remember, even though the printed result looks like the exact value of 1/10, the actual stored value is the nearest representable binary fraction.\n",
    "''\n",
    "\n",
    "Which is why it's not always important to worry about your result be 0 or 1e-9. It's more important to know that it's close to 0.\n",
    "\n",
    "## Sep 11:\n",
    "- Case study: Final size of an epidemic\n",
    "- Importing libraries and functions from libraries\n",
    "- Reading docstrings using `help()`\n",
    "- Root finding with tangent lines\n",
    "- `while` loop\n",
    "\n",
    "Worthwhile revisiting the modelling for final size of epidemic.\n",
    "\n",
    "```Java\n",
    "Depending on your interests, you may want to spend some more time working on the number systems from Sep 7th or studying final size of epidemic from Sep 11th.\n",
    "```\n",
    "\n",
    "## Sep 13:\n",
    "- Convergence of Newton's method\n",
    "- `for` loop\n",
    "- `if`, `elif`, and `else` statements\n",
    "- Truncation error\n",
    "- Root finding with secant line\n",
    "\n",
    "## Sep 14:\n",
    "- Python functions (defining, calling, arguments, default arguments, return values)\n",
    "- Looking at root_scalar function from scipy.optimize for root finding\n",
    "\n",
    "## Sep 18:\n",
    "- What did we learn?\n",
    "- Case study: Modelling epidemics (SIR)\n",
    "- Python lists (indexing)\n",
    "- Numpy arrays (like vectors)\n",
    "- Numpy matrix"
   ]
  },
  {
   "cell_type": "markdown",
   "metadata": {},
   "source": [
    "# 1. Slicing lists, arrays, and matrices"
   ]
  },
  {
   "cell_type": "code",
   "execution_count": 5,
   "metadata": {},
   "outputs": [
    {
     "data": {
      "text/plain": [
       "matrix([[1, 2, 3],\n",
       "        [4, 5, 6],\n",
       "        [7, 8, 9]])"
      ]
     },
     "execution_count": 5,
     "metadata": {},
     "output_type": "execute_result"
    }
   ],
   "source": [
    "import numpy as np\n",
    "\n",
    "X = np.matrix([[1, 2, 3], [4, 5, 6], [7, 8, 9]])\n",
    "X"
   ]
  },
  {
   "cell_type": "code",
   "execution_count": 8,
   "metadata": {},
   "outputs": [
    {
     "data": {
      "text/plain": [
       "matrix([[4, 5, 6]])"
      ]
     },
     "execution_count": 8,
     "metadata": {},
     "output_type": "execute_result"
    }
   ],
   "source": [
    "# slice second row of X\n",
    "\n",
    "X[1, :]"
   ]
  },
  {
   "cell_type": "code",
   "execution_count": 9,
   "metadata": {},
   "outputs": [
    {
     "data": {
      "text/plain": [
       "matrix([[1],\n",
       "        [4],\n",
       "        [7]])"
      ]
     },
     "execution_count": 9,
     "metadata": {},
     "output_type": "execute_result"
    }
   ],
   "source": [
    "# slice first column of X\n",
    "\n",
    "X[:, 0]"
   ]
  },
  {
   "cell_type": "markdown",
   "metadata": {},
   "source": [
    "the return is a numpy.matrix"
   ]
  },
  {
   "cell_type": "markdown",
   "metadata": {},
   "source": [
    "# 2. Solving SIR model with scipy.integrate.solve_ivp"
   ]
  },
  {
   "cell_type": "markdown",
   "metadata": {},
   "source": [
    "### Equations\n",
    "\n",
    "$$\\frac{dS}{dt} = -\\frac{\\beta S I}{N}$$\n",
    "\n",
    "$$\\frac{dI}{dt} = \\frac{\\beta S I}{N} - \\gamma I$$\n",
    "\n",
    "$$\\frac{dR}{dt} = \\gamma I$$\n",
    "\n",
    "### Parameters\n",
    "\n",
    "* $\\beta$ is the average number of contacts per person per time, multiplied by the probability of disease transmission in a contact between a susceptible and an infectious subject.\n",
    "\n",
    "* $\\gamma$ is the removal rate, i.e. the average number of recovered or deceased people per time.\n",
    "\n",
    "### Example\n",
    "\n",
    "Let's assume that $\\beta = 0.2$ and $\\gamma = 0.1$."
   ]
  },
  {
   "cell_type": "code",
   "execution_count": 10,
   "metadata": {},
   "outputs": [],
   "source": [
    "beta = 0.2\n",
    "gamma = 0.1\n",
    "\n",
    "def dS(S, I):\n",
    "    return -beta*S*I\n",
    "\n",
    "def dI(S, I):\n",
    "    return beta*S*I - gamma*I\n",
    "\n",
    "def dR(I):\n",
    "    return gamma*I"
   ]
  },
  {
   "cell_type": "code",
   "execution_count": 14,
   "metadata": {},
   "outputs": [
    {
     "data": {
      "text/plain": [
       "<matplotlib.legend.Legend at 0x127a204d0>"
      ]
     },
     "execution_count": 14,
     "metadata": {},
     "output_type": "execute_result"
    },
    {
     "data": {
      "image/png": "[encoded data removed]",
      "text/plain": [
       "<Figure size 640x480 with 1 Axes>"
      ]
     },
     "metadata": {},
     "output_type": "display_data"
    }
   ],
   "source": [
    "from scipy.integrate import solve_ivp\n",
    "from matplotlib.pyplot import plot, legend, grid, xlabel, title, figure\n",
    "\n",
    "def SIR(t, y):\n",
    "    S, I, R = y\n",
    "    return [dS(S, I), dI(S, I), dR(I)]\n",
    "\n",
    "y0 = [0.99, 0.01, 0]\n",
    "t = np.linspace(0, 128, 1000)\n",
    "\n",
    "sol = solve_ivp(SIR, [0, 128], y0, t_eval=t)\n",
    "\n",
    "figure()\n",
    "title('Susceptible, Infected, and Recovered Population Densities')\n",
    "xlabel('Time (units)')\n",
    "plot(sol.t, sol.y[0], label='S(t)')\n",
    "plot(sol.t, sol.y[1], label='I(t)')\n",
    "plot(sol.t, sol.y[2], label='R(t)')\n",
    "grid()\n",
    "legend()"
   ]
  }
 ],
 "metadata": {
  "kernelspec": {
   "display_name": "Python 3",
   "language": "python",
   "name": "python3"
  },
  "language_info": {
   "codemirror_mode": {
    "name": "ipython",
    "version": 3
   },
   "file_extension": ".py",
   "mimetype": "text/x-python",
   "name": "python",
   "nbconvert_exporter": "python",
   "pygments_lexer": "ipython3",
   "version": "3.11.4"
  },
  "orig_nbformat": 4
 },
 "nbformat": 4,
 "nbformat_minor": 2
}
