{
 "cells": [
  {
   "cell_type": "markdown",
   "metadata": {},
   "source": [
    " ## LaTeX {bmatrix}\n",
    "\n",
    "**Polynomial interpolation example**\n",
    "\n",
    "With n+1 points $(x_0, y_0), (x_1, y_1), \\dots, (x_n, y_n), (x_{n+1}, y_{n+1})$, there is a uniqie polynomial of degree $n$ that passes through all the points.\n",
    "\n",
    "To do this consider all of the equations that result from plugging in the points into the polynomial we are searching for.\n",
    "\n",
    "The following is the resulting matrix equation\n",
    "\n",
    "$$\n",
    "\\begin{bmatrix}\n",
    "1 & x_0 & x_0^2 & \\cdots & x_0^n \\\\\n",
    "1 & x_1 & x_1^2 & \\cdots & x_1^n \\\\\n",
    "\\vdots & \\vdots & \\vdots & \\ddots & \\vdots \\\\\n",
    "1 & x_n & x_n^2 & \\dots & x_n^n\n",
    "\\end{bmatrix}\n",
    "\n",
    "\\begin{bmatrix}\n",
    "a_0\\\\\n",
    "a_1\\\\\n",
    "\\vdots\\\\\n",
    "a_n\n",
    "\\end{bmatrix}\n",
    "\n",
    "=\n",
    "\n",
    "\\begin{bmatrix}\n",
    "y_0\\\\\n",
    "y_1\\\\\n",
    "\\vdots\\\\\n",
    "y_n\n",
    "\\end{bmatrix}\n",
    "$$\n",
    "\n",
    "Then the coefficients are given by\n",
    "\n",
    "$$\n",
    "\n",
    "inverse vandermonde matrix \\times y = \\textbf{a} \n",
    "\n",
    "$$\n",
    "\n",
    "So we can use \n",
    "\n",
    "```latex\n",
    "\\begin{bmatrix}\n",
    "1 & x_0 & x_0^2 & \\cdots & x_0^n \\\\\n",
    "1 & x_1 & x_1^2 & \\cdots & x_1^n \\\\\n",
    "\\vdots & \\vdots & \\vdots & \\ddots & \\vdots \\\\\n",
    "1 & x_n & x_n^2 & \\dots & x_n^n\n",
    "\\end{bmatrix}\n",
    "\n",
    "\\begin{bmatrix}\n",
    "a_0\\\\\n",
    "a_1\\\\\n",
    "\\vdots\\\\\n",
    "a_n\n",
    "\\end{bmatrix}\n",
    "\n",
    "=\n",
    "\n",
    "\\begin{bmatrix}\n",
    "y_0\\\\\n",
    "y_1\\\\\n",
    "\\vdots\\\\\n",
    "y_n\n",
    "\\end{bmatrix}\n",
    "```\n",
    "\n",
    "Like for the first point\n",
    "\n",
    "$$\n",
    "a_0 + a_1x_0 + a_2x_0^2 + \\cdots + a_nx_0^n = y_0 \\\\\n",
    "$$"
   ]
  },
  {
   "cell_type": "code",
   "execution_count": 2,
   "metadata": {},
   "outputs": [],
   "source": [
    "import matplotlib.pyplot as plt\n",
    "\n",
    "import numpy as np\n",
    "\n",
    "import scipy as sp"
   ]
  },
  {
   "cell_type": "markdown",
   "metadata": {},
   "source": [
    "# Group assignments"
   ]
  },
  {
   "cell_type": "markdown",
   "metadata": {},
   "source": [
    "## Problem 1\n",
    "\n",
    "**a)** Write a function that solves a system *Ax = b* by computing the inverse of *A* and multiplying by it on the left."
   ]
  },
  {
   "cell_type": "code",
   "execution_count": 12,
   "metadata": {},
   "outputs": [],
   "source": [
    "solve = lambda A, b: np.matmul(np.linalg.inv(A), b)"
   ]
  },
  {
   "cell_type": "markdown",
   "metadata": {},
   "source": [
    "\n",
    "**a)** Write a function that takes in a list of points and returns the matrix on the far left in above equations.\n"
   ]
  },
  {
   "cell_type": "code",
   "execution_count": 15,
   "metadata": {},
   "outputs": [],
   "source": [
    "def vandermonde(X, n):\n",
    "    M = []\n",
    "    for pt in X:\n",
    "        M.append([pt[0]**i for i in range(n)])\n",
    "\n",
    "    return np.matrix(M), np.array([x[1] for x in X])"
   ]
  },
  {
   "cell_type": "markdown",
   "metadata": {},
   "source": [
    "\n",
    "**b)** Use your functions to find the coefficients of the polynomial that passes through the points $(0, 1), (1, -3), (2, 34), (3, -8)$.\n"
   ]
  },
  {
   "cell_type": "code",
   "execution_count": 16,
   "metadata": {},
   "outputs": [
    {
     "data": {
      "text/plain": [
       "matrix([[ 0.        ,  7.83333333, -7.5       ,  1.66666667]])"
      ]
     },
     "execution_count": 16,
     "metadata": {},
     "output_type": "execute_result"
    }
   ],
   "source": [
    "pts = np.array([\n",
    "                [0,0],\n",
    "                [1,2],\n",
    "                [2,-1],\n",
    "                [3,1]\n",
    "])\n",
    "\n",
    "M, y = vandermonde(pts, 4)\n",
    "\n",
    "# M.shape, y.shape\n",
    "solve = lambda A, b: np.matmul(np.linalg.inv(A), b)\n",
    "a = solve(M, y.T)[0,:]\n",
    "\n",
    "a"
   ]
  },
  {
   "cell_type": "code",
   "execution_count": 17,
   "metadata": {},
   "outputs": [
    {
     "data": {
      "text/plain": [
       "[<matplotlib.lines.Line2D at 0x11f5e6a10>]"
      ]
     },
     "execution_count": 17,
     "metadata": {},
     "output_type": "execute_result"
    },
    {
     "data": {
      "image/png": "[encoded data removed]",
      "text/plain": [
       "<Figure size 640x480 with 1 Axes>"
      ]
     },
     "metadata": {},
     "output_type": "display_data"
    }
   ],
   "source": [
    "cubic = lambda x: a[0,0] + a[0,1]*x + a[0,2]*x**2 + a[0,3]*x**3\n",
    "\n",
    "for pt in pts:\n",
    "    plt.scatter(*pt)\n",
    "\n",
    "xs = np.linspace(-0.1,3.1, 1000)\n",
    "plt.plot(xs, cubic(xs))"
   ]
  },
  {
   "cell_type": "markdown",
   "metadata": {},
   "source": [
    "\n",
    "**c)** Plot the resulting polynomial and points."
   ]
  },
  {
   "cell_type": "markdown",
   "metadata": {},
   "source": [
    "```latex\n",
    "\\left[\\begin{array}{cc}\n",
    "0.5 & 0.3 & 0\\\\\n",
    "0.3 & 0.3 & 0.4\\\\\n",
    "0.2 & 0.4 & 0.6 \\\\\n",
    "\\end{array}\\right]\n",
    "```"
   ]
  },
  {
   "cell_type": "markdown",
   "metadata": {},
   "source": [
    "## Problem 2\n",
    "\n",
    "**a)** Find the eigenvalues and eigenvectors of the above matrix"
   ]
  },
  {
   "cell_type": "code",
   "execution_count": 8,
   "metadata": {},
   "outputs": [
    {
     "data": {
      "text/plain": [
       "(array([ 1.        ,  0.44494897, -0.04494897]),\n",
       " matrix([[-0.343559  , -0.76688827,  0.44872717],\n",
       "         [-0.57259833,  0.14072662, -0.81511137],\n",
       "         [-0.74437783,  0.62616165,  0.3663842 ]]))"
      ]
     },
     "execution_count": 8,
     "metadata": {},
     "output_type": "execute_result"
    }
   ],
   "source": [
    "eig = np.linalg.eig(\n",
    "    \n",
    "    np.matrix([\n",
    "        \n",
    "                    [0.5,     0.3,      0],\n",
    "                    [0.3,     0.3,      0.4],\n",
    "                    [0.2,     0.4,      0.6]\n",
    "\n",
    "    ])\n",
    "\n",
    ")\n",
    "\n",
    "eig\n"
   ]
  },
  {
   "cell_type": "markdown",
   "metadata": {},
   "source": [
    "**b)** Find the multiplicities of the eigenvalues\n"
   ]
  },
  {
   "cell_type": "code",
   "execution_count": 9,
   "metadata": {},
   "outputs": [
    {
     "data": {
      "text/plain": [
       "(0.9999999999999997, 0.44494897427831803, -0.04494897427831783)"
      ]
     },
     "execution_count": 9,
     "metadata": {},
     "output_type": "execute_result"
    }
   ],
   "source": [
    "v1, v2, v3 = eig[0][0], eig[0][1], eig[0][2]\n",
    "\n",
    "v1, v2, v3"
   ]
  },
  {
   "cell_type": "markdown",
   "metadata": {},
   "source": [
    "each multiplicity 1."
   ]
  },
  {
   "cell_type": "markdown",
   "metadata": {},
   "source": [
    "**c)** Diagonalize the matrix"
   ]
  },
  {
   "cell_type": "markdown",
   "metadata": {},
   "source": [
    "## Problem 3\n",
    "\n",
    "**Find eigen values of $100\\times 100$ random sparse matrix with density $\\delta = 0.07$ with only real part.**"
   ]
  },
  {
   "cell_type": "code",
   "execution_count": 60,
   "metadata": {},
   "outputs": [
    {
     "data": {
      "text/plain": [
       "(array([0.        , 0.        , 0.        , 0.        , 0.        ,\n",
       "        0.        , 0.        , 0.        , 0.        , 0.        ,\n",
       "        0.        , 0.        , 0.        , 0.        , 0.        ,\n",
       "        0.        , 0.        , 0.        , 0.        , 0.        ,\n",
       "        0.        , 0.        , 0.        , 0.        , 0.        ,\n",
       "        0.        , 0.        , 0.        , 0.        , 0.        ,\n",
       "        0.        , 0.        , 0.        , 0.        , 0.        ,\n",
       "        0.        , 0.        , 0.        , 0.        , 0.        ,\n",
       "        0.        , 0.        , 0.        , 0.        , 0.        ,\n",
       "        0.        , 0.        , 0.        , 0.        , 0.        ,\n",
       "        0.        , 0.        , 0.        , 0.        , 0.        ,\n",
       "        0.        , 0.        , 0.        , 0.        , 0.        ,\n",
       "        0.        , 0.        , 0.        , 0.        , 0.        ,\n",
       "        0.        , 0.        , 0.        , 0.        , 0.        ,\n",
       "        0.        , 0.        , 0.        , 0.20268873, 0.        ,\n",
       "        0.        , 0.        , 0.        , 0.        , 0.        ,\n",
       "        0.        , 0.        , 0.        , 0.        , 0.        ,\n",
       "        0.        , 0.        , 0.        , 0.        , 0.        ,\n",
       "        0.        , 0.        , 0.        , 0.        , 0.        ,\n",
       "        0.        , 0.        , 0.        , 0.        , 0.        ]),\n",
       " matrix([[0.0000000e+000, 2.0816299e-289, 0.0000000e+000, ...,\n",
       "          0.0000000e+000, 0.0000000e+000, 0.0000000e+000],\n",
       "         [0.0000000e+000, 0.0000000e+000, 0.0000000e+000, ...,\n",
       "          0.0000000e+000, 0.0000000e+000, 0.0000000e+000],\n",
       "         [0.0000000e+000, 0.0000000e+000, 0.0000000e+000, ...,\n",
       "          0.0000000e+000, 0.0000000e+000, 0.0000000e+000],\n",
       "         ...,\n",
       "         [0.0000000e+000, 0.0000000e+000, 0.0000000e+000, ...,\n",
       "          0.0000000e+000, 0.0000000e+000, 0.0000000e+000],\n",
       "         [0.0000000e+000, 0.0000000e+000, 0.0000000e+000, ...,\n",
       "          0.0000000e+000, 0.0000000e+000, 0.0000000e+000],\n",
       "         [0.0000000e+000, 0.0000000e+000, 0.0000000e+000, ...,\n",
       "          0.0000000e+000, 0.0000000e+000, 0.0000000e+000]]))"
      ]
     },
     "execution_count": 60,
     "metadata": {},
     "output_type": "execute_result"
    }
   ],
   "source": [
    "n = 100\n",
    "delta = 0.01\n",
    "\n",
    "M = np.matrix(sp.sparse.random(n, n, density=delta).todense())\n",
    "\n",
    "eig = np.linalg.eig(M)\n",
    "\n",
    "# print(len(eig[0]), eig[1])\n",
    "\n",
    "eig\n"
   ]
  },
  {
   "cell_type": "code",
   "execution_count": 42,
   "metadata": {},
   "outputs": [
    {
     "data": {
      "text/plain": [
       "matrix([[ 0.38539007,  0.48051786, -0.23810603, ...,  1.3243284 ,\n",
       "         -0.3139668 ,  0.27825138],\n",
       "        [ 0.04854377,  1.2520638 , -0.3232999 , ..., -0.30267143,\n",
       "         -1.7946745 ,  0.31474864],\n",
       "        [-0.6328586 , -0.31504244, -1.9212642 , ...,  0.4511366 ,\n",
       "         -0.29971704,  0.7211655 ],\n",
       "        ...,\n",
       "        [-2.1651495 ,  0.5135541 , -0.58034873, ..., -0.07275424,\n",
       "          0.83004785,  0.18806699],\n",
       "        [ 0.58192694,  0.6041867 ,  0.29024678, ..., -0.32531783,\n",
       "         -1.114467  ,  0.26784477],\n",
       "        [ 0.9041132 ,  0.5268954 ,  0.49515083, ...,  0.5409978 ,\n",
       "          0.73956305, -1.0598836 ]], dtype=float32)"
      ]
     },
     "execution_count": 42,
     "metadata": {},
     "output_type": "execute_result"
    }
   ],
   "source": [
    "import torch"
   ]
  },
  {
   "cell_type": "code",
   "execution_count": 62,
   "metadata": {},
   "outputs": [
    {
     "data": {
      "text/plain": [
       "(array([-10.8032255 +0.j        ,  -8.7065325 +5.582551j  ,\n",
       "         -8.7065325 -5.582551j  ,  10.552449  +0.j        ,\n",
       "          9.392356  +3.034623j  ,   9.392356  -3.034623j  ,\n",
       "          9.442246  +0.j        ,   8.36862   +4.2403092j ,\n",
       "          8.36862   -4.2403092j ,  -7.7953734 +4.936213j  ,\n",
       "         -7.7953734 -4.936213j  ,  -9.022195  +0.j        ,\n",
       "         -8.158013  +4.191192j  ,  -8.158013  -4.191192j  ,\n",
       "          7.2007275 +5.2820168j ,   7.2007275 -5.2820168j ,\n",
       "         -1.1946042 +9.163854j  ,  -1.1946042 -9.163854j  ,\n",
       "          1.4029789 +8.981472j  ,   1.4029789 -8.981472j  ,\n",
       "          4.5799103 +7.3520975j ,   4.5799103 -7.3520975j ,\n",
       "         -4.031423  +7.6139946j ,  -4.031423  -7.6139946j ,\n",
       "          7.801221  +1.3005162j ,   7.801221  -1.3005162j ,\n",
       "          3.76578   +7.4900484j ,   3.76578   -7.4900484j ,\n",
       "          0.25799686+8.6198845j ,   0.25799686-8.6198845j ,\n",
       "         -7.7416954 +2.169975j  ,  -7.7416954 -2.169975j  ,\n",
       "          5.7267222 +5.697587j  ,   5.7267222 -5.697587j  ,\n",
       "         -7.7115617 +1.054662j  ,  -7.7115617 -1.054662j  ,\n",
       "         -1.983037  +7.7950096j ,  -1.983037  -7.7950096j ,\n",
       "         -5.285403  +5.641067j  ,  -5.285403  -5.641067j  ,\n",
       "          7.1725545 +0.j        ,  -3.7696497 +6.703162j  ,\n",
       "         -3.7696497 -6.703162j  ,   4.7250037 +6.100693j  ,\n",
       "          4.7250037 -6.100693j  ,  -0.21302782+7.699061j  ,\n",
       "         -0.21302782-7.699061j  ,   1.2063183 +7.613997j  ,\n",
       "          1.2063183 -7.613997j  ,  -6.0558214 +3.815888j  ,\n",
       "         -6.0558214 -3.815888j  ,  -2.2471564 +6.6327796j ,\n",
       "         -2.2471564 -6.6327796j ,   5.9240637 +3.0063863j ,\n",
       "          5.9240637 -3.0063863j ,   3.3929317 +5.4781523j ,\n",
       "          3.3929317 -5.4781523j ,   5.88395   +0.j        ,\n",
       "          2.066229  +6.1480274j ,   2.066229  -6.1480274j ,\n",
       "         -4.0993824 +4.484587j  ,  -4.0993824 -4.484587j  ,\n",
       "          4.805546  +3.7126856j ,   4.805546  -3.7126856j ,\n",
       "         -5.473554  +2.0093827j ,  -5.473554  -2.0093827j ,\n",
       "          4.948542  +0.j        ,   4.5970616 +3.1502302j ,\n",
       "          4.5970616 -3.1502302j ,  -0.5505822 +5.481828j  ,\n",
       "         -0.5505822 -5.481828j  ,  -4.743008  +0.9704792j ,\n",
       "         -4.743008  -0.9704792j ,   1.4167328 +4.9529862j ,\n",
       "          1.4167328 -4.9529862j ,  -2.8265762 +3.822498j  ,\n",
       "         -2.8265762 -3.822498j  ,  -3.6641824 +2.5912075j ,\n",
       "         -3.6641824 -2.5912075j ,   2.9669185 +3.3864388j ,\n",
       "          2.9669185 -3.3864388j ,  -0.07958012+4.401809j  ,\n",
       "         -0.07958012-4.401809j  ,  -2.942616  +3.0744476j ,\n",
       "         -2.942616  -3.0744476j ,   2.2501638 +3.4080055j ,\n",
       "          2.2501638 -3.4080055j ,   1.5948895 +3.6528988j ,\n",
       "          1.5948895 -3.6528988j ,   2.9226716 +0.31216937j,\n",
       "          2.9226716 -0.31216937j,  -2.741889  +1.03666j   ,\n",
       "         -2.741889  -1.03666j   ,  -0.5138649 +3.1128244j ,\n",
       "         -0.5138649 -3.1128244j ,   0.98052126+1.2679489j ,\n",
       "          0.98052126-1.2679489j ,  -1.4657989 +1.0182277j ,\n",
       "         -1.4657989 -1.0182277j ,   0.35244069+0.j        ],\n",
       "       dtype=complex64),\n",
       " matrix([[ 0.00787747+0.j        ,  0.12508346+0.04190757j,\n",
       "           0.12508346-0.04190757j, ...,  0.15494058+0.01274554j,\n",
       "           0.15494058-0.01274554j,  0.12356965+0.j        ],\n",
       "         [-0.05653105+0.j        ,  0.0356834 +0.0550173j ,\n",
       "           0.0356834 -0.0550173j , ...,  0.01969106+0.01981968j,\n",
       "           0.01969106-0.01981968j, -0.04788197+0.j        ],\n",
       "         [ 0.04171605+0.j        , -0.05277986+0.00111609j,\n",
       "          -0.05277986-0.00111609j, ...,  0.08661819-0.02234414j,\n",
       "           0.08661819+0.02234414j, -0.13529387+0.j        ],\n",
       "         ...,\n",
       "         [-0.12222777+0.j        ,  0.06187465-0.1037837j ,\n",
       "           0.06187465+0.1037837j , ...,  0.1046574 +0.05594776j,\n",
       "           0.1046574 -0.05594776j,  0.15714693+0.j        ],\n",
       "         [ 0.04882719+0.j        , -0.12244042+0.08433897j,\n",
       "          -0.12244042-0.08433897j, ...,  0.03894198-0.03051234j,\n",
       "           0.03894198+0.03051234j,  0.06900048+0.j        ],\n",
       "         [ 0.00985066+0.j        , -0.02974716-0.01573806j,\n",
       "          -0.02974716+0.01573806j, ...,  0.07428369+0.01642998j,\n",
       "           0.07428369-0.01642998j, -0.05559035+0.j        ]],\n",
       "        dtype=complex64))"
      ]
     },
     "execution_count": 62,
     "metadata": {},
     "output_type": "execute_result"
    }
   ],
   "source": [
    "M = np.matrix(torch.randn(n,n))\n",
    "eig = np.linalg.eig(M)\n",
    "\n",
    "# print(len(eig[0]), eig[1])\n",
    "\n",
    "eig\n"
   ]
  },
  {
   "cell_type": "code",
   "execution_count": null,
   "metadata": {},
   "outputs": [],
   "source": []
  }
 ],
 "metadata": {
  "kernelspec": {
   "display_name": "Python 3",
   "language": "python",
   "name": "python3"
  },
  "language_info": {
   "codemirror_mode": {
    "name": "ipython",
    "version": 3
   },
   "file_extension": ".py",
   "mimetype": "text/x-python",
   "name": "python",
   "nbconvert_exporter": "python",
   "pygments_lexer": "ipython3",
   "version": "3.11.4"
  },
  "orig_nbformat": 4
 },
 "nbformat": 4,
 "nbformat_minor": 2
}
