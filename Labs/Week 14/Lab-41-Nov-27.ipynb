{
 "cells": [
  {
   "cell_type": "code",
   "execution_count": 1,
   "metadata": {},
   "outputs": [],
   "source": [
    "def is_prime(x):\n",
    "\t'''\n",
    "        Return True if x is prime, False otherwise\n",
    "\t'''\n",
    "\tfor i in range(2, x):\n",
    "\t\tif x % i == 0:\n",
    "\t\t\treturn False\n",
    "\treturn True\n",
    "\n",
    "def get_primes(n):\n",
    "    '''\n",
    "        Return a list of primes less than n\n",
    "    '''\n",
    "    primes = []\n",
    "    non_primes = []\n",
    "    for i in range(2, n):\n",
    "        if is_prime(i):\n",
    "            primes.append(i)\n",
    "        else:\n",
    "            non_primes.append(i)\n",
    "    return primes"
   ]
  },
  {
   "cell_type": "code",
   "execution_count": 5,
   "metadata": {},
   "outputs": [
    {
     "data": {
      "text/plain": [
       "15"
      ]
     },
     "execution_count": 5,
     "metadata": {},
     "output_type": "execute_result"
    }
   ],
   "source": [
    "len(get_primes(50))"
   ]
  },
  {
   "cell_type": "code",
   "execution_count": 30,
   "metadata": {},
   "outputs": [
    {
     "data": {
      "text/plain": [
       "False"
      ]
     },
     "execution_count": 30,
     "metadata": {},
     "output_type": "execute_result"
    }
   ],
   "source": [
    "divides(5, 2)"
   ]
  },
  {
   "cell_type": "code",
   "execution_count": 27,
   "metadata": {},
   "outputs": [],
   "source": [
    "def divides(a, b):\n",
    "\t'''\n",
    "\t\tReturn True or False if b divides a or not.\n",
    "\t'''\n",
    "\tif a % b == 0:\n",
    "\t\treturn True\n",
    "\treturn False\n",
    "\t\n",
    "\n",
    "def gcd(a, b):\n",
    "\t\"\"\"\n",
    "\t\tReturn gcd(a,b) via brute force\n",
    "\t\"\"\"\n",
    "\tlower = min([a,b])\n",
    "\n",
    "\t# Loop over all numbers less than lower and check divisibility \n",
    "\tfor i in range(lower, 1, -1):\n",
    "\t\tif divides(a, i) and divides(b, i):\n",
    "\t\t\treturn i\n",
    "\treturn 1\n",
    "\n",
    "def division_algorithm(a, b):\n",
    "\t\"\"\"\n",
    "\t\tReturn gcd(a,b) via the division algorithm\n",
    "\t\"\"\"\n",
    "\tlower = min([a,b])\n",
    "\tupper = max([a,b])\n",
    "\n",
    "\tb, a = lower, upper\n",
    "\t\n",
    "\tq = a // b\n",
    "\tr = a - b*q\n",
    "\t\n",
    "\ta = b\n",
    "\tb = r\n",
    "\n",
    "\twhile (r != 0):\n",
    "\t\tq = a // b\n",
    "\t\tr = a - b*q\n",
    "\n",
    "\t\ta = b\n",
    "\t\tb = r\n",
    "\t\t\n",
    "\treturn a"
   ]
  },
  {
   "cell_type": "code",
   "execution_count": 45,
   "metadata": {},
   "outputs": [
    {
     "data": {
      "text/plain": [
       "1"
      ]
     },
     "execution_count": 45,
     "metadata": {},
     "output_type": "execute_result"
    }
   ],
   "source": [
    "# verify fermats\n",
    "(7**(19-1)) % 19"
   ]
  },
  {
   "cell_type": "code",
   "execution_count": 54,
   "metadata": {},
   "outputs": [
    {
     "name": "stdout",
     "output_type": "stream",
     "text": [
      "Wilson is trustworthy points +1. Total WILSON POINTS = 1\n",
      "Wilson is trustworthy points +1. Total WILSON POINTS = 2\n",
      "Wilson is trustworthy points +1. Total WILSON POINTS = 3\n",
      "Wilson is trustworthy points +1. Total WILSON POINTS = 4\n",
      "Wilson is trustworthy points +1. Total WILSON POINTS = 5\n",
      "Wilson is trustworthy points +1. Total WILSON POINTS = 6\n",
      "Wilson is trustworthy points +1. Total WILSON POINTS = 7\n",
      "Wilson is trustworthy points +1. Total WILSON POINTS = 8\n",
      "Wilson is trustworthy points +1. Total WILSON POINTS = 9\n",
      "Wilson is trustworthy points +1. Total WILSON POINTS = 10\n",
      "Wilson is trustworthy points +1. Total WILSON POINTS = 11\n",
      "Wilson is trustworthy points +1. Total WILSON POINTS = 12\n",
      "Wilson is trustworthy points +1. Total WILSON POINTS = 13\n",
      "Wilson is trustworthy points +1. Total WILSON POINTS = 14\n",
      "Wilson is trustworthy points +1. Total WILSON POINTS = 15\n",
      "Wilson is trustworthy points +1. Total WILSON POINTS = 16\n",
      "Wilson is trustworthy points +1. Total WILSON POINTS = 17\n",
      "Wilson is trustworthy points +1. Total WILSON POINTS = 18\n",
      "Wilson is trustworthy points +1. Total WILSON POINTS = 19\n",
      "Wilson is trustworthy points +1. Total WILSON POINTS = 20\n",
      "Wilson is trustworthy points +1. Total WILSON POINTS = 21\n",
      "Wilson is trustworthy points +1. Total WILSON POINTS = 22\n",
      "Wilson is trustworthy points +1. Total WILSON POINTS = 23\n",
      "Wilson is trustworthy points +1. Total WILSON POINTS = 24\n",
      "Wilson is trustworthy points +1. Total WILSON POINTS = 25\n"
     ]
    }
   ],
   "source": [
    "# verify wilsons\n",
    "\n",
    "def factorial(n):\n",
    "    if n == 1:\n",
    "        return 1\n",
    "    return factorial(n-1) * n\n",
    "\n",
    "def test_wilson(p):\n",
    "    return factorial(p-1) % p == -1 % p\n",
    "\n",
    "ps = get_primes(100)\n",
    "\n",
    "ct = 0\n",
    "for p in ps:\n",
    "    if test_wilson(p):\n",
    "        ct+=1\n",
    "        print(f\"Wilson {ct}\")"
   ]
  },
  {
   "cell_type": "code",
   "execution_count": 55,
   "metadata": {},
   "outputs": [
    {
     "data": {
      "text/plain": [
       "25"
      ]
     },
     "execution_count": 55,
     "metadata": {},
     "output_type": "execute_result"
    }
   ],
   "source": [
    "len(get_primes (100)) "
   ]
  },
  {
   "cell_type": "code",
   "execution_count": 56,
   "metadata": {},
   "outputs": [
    {
     "name": "stdout",
     "output_type": "stream",
     "text": [
      "wilson is trustorthy\n"
     ]
    }
   ],
   "source": [
    "print(\"wilson is trustorthy\")"
   ]
  },
  {
   "cell_type": "code",
   "execution_count": 39,
   "metadata": {},
   "outputs": [],
   "source": [
    "# Euler's product formula says these should be equal\n",
    "\n",
    "def totient(n):\n",
    "    tally = 0\n",
    "    for i in range(1, n):\n",
    "        if gcd(i,n) == 1:\n",
    "            tally += 1\n",
    "    return tally\n",
    "\n",
    "def product_formula(n):\n",
    "    tally = n\n",
    "    for p in get_primes(n):\n",
    "        if divides(n, p):\n",
    "            tally *= (1 - 1/p)\n",
    "    return int(tally)"
   ]
  },
  {
   "cell_type": "code",
   "execution_count": 47,
   "metadata": {},
   "outputs": [
    {
     "data": {
      "text/plain": [
       "49"
      ]
     },
     "execution_count": 47,
     "metadata": {},
     "output_type": "execute_result"
    }
   ],
   "source": [
    "from sympy.abc import t\n",
    "from sympy import lambdify, integrate, log\n",
    "\n",
    "def Li(x):\n",
    "    f = 1 / log(t)\n",
    "    return int(integrate(f, (t, 2, x)))\n",
    "\n",
    "Li(200)"
   ]
  },
  {
   "cell_type": "code",
   "execution_count": 3,
   "metadata": {},
   "outputs": [
    {
     "data": {
      "text/plain": [
       "[<matplotlib.lines.Line2D at 0x116f18590>]"
      ]
     },
     "execution_count": 3,
     "metadata": {},
     "output_type": "execute_result"
    },
    {
     "data": {
      "image/png": "[encoded data removed]",
      "text/plain": [
       "<Figure size 640x480 with 1 Axes>"
      ]
     },
     "metadata": {},
     "output_type": "display_data"
    }
   ],
   "source": [
    "import matplotlib.pyplot as plt\n",
    "import numpy as np\n",
    "\n",
    "plt.grid()\n",
    "plt.axis('equal')\n",
    "\n",
    "xs = np.linspace(0.1, 1000, 1000)\n",
    "ys = xs / np.log(xs)\n",
    "\n",
    "for i in range(1000):\n",
    "    plt.plot(i, len(get_primes(i)), '.')\n",
    "\n",
    "plt.plot(xs, ys)"
   ]
  },
  {
   "cell_type": "code",
   "execution_count": 51,
   "metadata": {},
   "outputs": [
    {
     "ename": "KeyboardInterrupt",
     "evalue": "",
     "output_type": "error",
     "traceback": [
      "\u001b[0;31m---------------------------------------------------------------------------\u001b[0m",
      "\u001b[0;31mKeyboardInterrupt\u001b[0m                         Traceback (most recent call last)",
      "\u001b[1;32m/Users/jackbullen/Math-248/Labs/Week 14/Lab-41-Nov-27.ipynb Cell 6\u001b[0m line \u001b[0;36m2\n\u001b[1;32m      <a href='vscode-notebook-cell:/Users/jackbullen/Math-248/Labs/Week%2014/Lab-41-Nov-27.ipynb#X13sZmlsZQ%3D%3D?line=0'>1</a>\u001b[0m \u001b[39mfor\u001b[39;00m i \u001b[39min\u001b[39;00m \u001b[39mrange\u001b[39m(\u001b[39m2\u001b[39m, \u001b[39m10000\u001b[39m):\n\u001b[0;32m----> <a href='vscode-notebook-cell:/Users/jackbullen/Math-248/Labs/Week%2014/Lab-41-Nov-27.ipynb#X13sZmlsZQ%3D%3D?line=1'>2</a>\u001b[0m     pi_x \u001b[39m=\u001b[39m \u001b[39mlen\u001b[39m(get_primes(i))\n\u001b[1;32m      <a href='vscode-notebook-cell:/Users/jackbullen/Math-248/Labs/Week%2014/Lab-41-Nov-27.ipynb#X13sZmlsZQ%3D%3D?line=3'>4</a>\u001b[0m     plt\u001b[39m.\u001b[39mplot(i, pi_x \u001b[39m/\u001b[39m (i \u001b[39m/\u001b[39m np\u001b[39m.\u001b[39mlog(i)), \u001b[39m'\u001b[39m\u001b[39m.\u001b[39m\u001b[39m'\u001b[39m)\n",
      "\u001b[1;32m/Users/jackbullen/Math-248/Labs/Week 14/Lab-41-Nov-27.ipynb Cell 6\u001b[0m line \u001b[0;36m1\n\u001b[1;32m     <a href='vscode-notebook-cell:/Users/jackbullen/Math-248/Labs/Week%2014/Lab-41-Nov-27.ipynb#X13sZmlsZQ%3D%3D?line=14'>15</a>\u001b[0m non_primes \u001b[39m=\u001b[39m []\n\u001b[1;32m     <a href='vscode-notebook-cell:/Users/jackbullen/Math-248/Labs/Week%2014/Lab-41-Nov-27.ipynb#X13sZmlsZQ%3D%3D?line=15'>16</a>\u001b[0m \u001b[39mfor\u001b[39;00m i \u001b[39min\u001b[39;00m \u001b[39mrange\u001b[39m(\u001b[39m2\u001b[39m, n):\n\u001b[0;32m---> <a href='vscode-notebook-cell:/Users/jackbullen/Math-248/Labs/Week%2014/Lab-41-Nov-27.ipynb#X13sZmlsZQ%3D%3D?line=16'>17</a>\u001b[0m     \u001b[39mif\u001b[39;00m is_prime(i):\n\u001b[1;32m     <a href='vscode-notebook-cell:/Users/jackbullen/Math-248/Labs/Week%2014/Lab-41-Nov-27.ipynb#X13sZmlsZQ%3D%3D?line=17'>18</a>\u001b[0m         primes\u001b[39m.\u001b[39mappend(i)\n\u001b[1;32m     <a href='vscode-notebook-cell:/Users/jackbullen/Math-248/Labs/Week%2014/Lab-41-Nov-27.ipynb#X13sZmlsZQ%3D%3D?line=18'>19</a>\u001b[0m     \u001b[39melse\u001b[39;00m:\n",
      "\u001b[1;32m/Users/jackbullen/Math-248/Labs/Week 14/Lab-41-Nov-27.ipynb Cell 6\u001b[0m line \u001b[0;36m6\n\u001b[1;32m      <a href='vscode-notebook-cell:/Users/jackbullen/Math-248/Labs/Week%2014/Lab-41-Nov-27.ipynb#X13sZmlsZQ%3D%3D?line=1'>2</a>\u001b[0m \u001b[39m\t\u001b[39m\u001b[39m'''\u001b[39;00m\n\u001b[1;32m      <a href='vscode-notebook-cell:/Users/jackbullen/Math-248/Labs/Week%2014/Lab-41-Nov-27.ipynb#X13sZmlsZQ%3D%3D?line=2'>3</a>\u001b[0m \u001b[39m        Return True if x is prime, False otherwise\u001b[39;00m\n\u001b[1;32m      <a href='vscode-notebook-cell:/Users/jackbullen/Math-248/Labs/Week%2014/Lab-41-Nov-27.ipynb#X13sZmlsZQ%3D%3D?line=3'>4</a>\u001b[0m \u001b[39m\t'''\u001b[39;00m\n\u001b[1;32m      <a href='vscode-notebook-cell:/Users/jackbullen/Math-248/Labs/Week%2014/Lab-41-Nov-27.ipynb#X13sZmlsZQ%3D%3D?line=4'>5</a>\u001b[0m \t\u001b[39mfor\u001b[39;00m i \u001b[39min\u001b[39;00m \u001b[39mrange\u001b[39m(\u001b[39m2\u001b[39m, x):\n\u001b[0;32m----> <a href='vscode-notebook-cell:/Users/jackbullen/Math-248/Labs/Week%2014/Lab-41-Nov-27.ipynb#X13sZmlsZQ%3D%3D?line=5'>6</a>\u001b[0m \t\t\u001b[39mif\u001b[39;00m x \u001b[39m%\u001b[39m i \u001b[39m==\u001b[39m \u001b[39m0\u001b[39m:\n\u001b[1;32m      <a href='vscode-notebook-cell:/Users/jackbullen/Math-248/Labs/Week%2014/Lab-41-Nov-27.ipynb#X13sZmlsZQ%3D%3D?line=6'>7</a>\u001b[0m \t\t\t\u001b[39mreturn\u001b[39;00m \u001b[39mFalse\u001b[39;00m\n\u001b[1;32m      <a href='vscode-notebook-cell:/Users/jackbullen/Math-248/Labs/Week%2014/Lab-41-Nov-27.ipynb#X13sZmlsZQ%3D%3D?line=7'>8</a>\u001b[0m \t\u001b[39mreturn\u001b[39;00m \u001b[39mTrue\u001b[39;00m\n",
      "\u001b[0;31mKeyboardInterrupt\u001b[0m: "
     ]
    },
    {
     "data": {
      "image/png": "[encoded data removed]",
      "text/plain": [
       "<Figure size 640x480 with 1 Axes>"
      ]
     },
     "metadata": {},
     "output_type": "display_data"
    }
   ],
   "source": [
    "for i in range(2, 10000):\n",
    "    pi_x = len(get_primes(i))\n",
    "\n",
    "    plt.plot(i, pi_x / (i / np.log(i)), '.')"
   ]
  },
  {
   "cell_type": "code",
   "execution_count": 11,
   "metadata": {},
   "outputs": [
    {
     "data": {
      "image/png": "[encoded data removed]",
      "text/plain": [
       "<Figure size 640x480 with 1 Axes>"
      ]
     },
     "metadata": {},
     "output_type": "display_data"
    }
   ],
   "source": [
    "for i in range(500):\n",
    "    plt.plot(i, totient(i), '.')"
   ]
  },
  {
   "cell_type": "markdown",
   "metadata": {},
   "source": [
    "# The Demise of Euler\n",
    "\n",
    "Euler conjectured that (excepting trivial cases)\n",
    "\n",
    "\n",
    "$$\\sum_{i=0}^k{x_i^n} = z^n$$\n",
    "\n",
    "has non-trivial solutions iff $k \\geq n$."
   ]
  },
  {
   "cell_type": "code",
   "execution_count": 52,
   "metadata": {},
   "outputs": [
    {
     "name": "stdout",
     "output_type": "stream",
     "text": [
      "Looking at n = 4\n",
      "--------------------\n",
      "Trying k = 1\n",
      "Trying k = 2\n",
      "Trying k = 3\n"
     ]
    },
    {
     "ename": "KeyboardInterrupt",
     "evalue": "",
     "output_type": "error",
     "traceback": [
      "\u001b[0;31m---------------------------------------------------------------------------\u001b[0m",
      "\u001b[0;31mKeyboardInterrupt\u001b[0m                         Traceback (most recent call last)",
      "\u001b[1;32m/Users/jackbullen/Math-248/Labs/Week 14/Lab-41-Nov-27.ipynb Cell 9\u001b[0m line \u001b[0;36m1\n\u001b[1;32m     <a href='vscode-notebook-cell:/Users/jackbullen/Math-248/Labs/Week%2014/Lab-41-Nov-27.ipynb#X10sZmlsZQ%3D%3D?line=15'>16</a>\u001b[0m             \u001b[39mif\u001b[39;00m \u001b[39mlen\u001b[39m(X) \u001b[39m==\u001b[39m \u001b[39m1\u001b[39m \u001b[39mand\u001b[39;00m X[\u001b[39m0\u001b[39m] \u001b[39m==\u001b[39m z:\n\u001b[1;32m     <a href='vscode-notebook-cell:/Users/jackbullen/Math-248/Labs/Week%2014/Lab-41-Nov-27.ipynb#X10sZmlsZQ%3D%3D?line=16'>17</a>\u001b[0m                 \u001b[39m# skip trivial cases\u001b[39;00m\n\u001b[1;32m     <a href='vscode-notebook-cell:/Users/jackbullen/Math-248/Labs/Week%2014/Lab-41-Nov-27.ipynb#X10sZmlsZQ%3D%3D?line=17'>18</a>\u001b[0m                 \u001b[39mcontinue\u001b[39;00m\n\u001b[0;32m---> <a href='vscode-notebook-cell:/Users/jackbullen/Math-248/Labs/Week%2014/Lab-41-Nov-27.ipynb#X10sZmlsZQ%3D%3D?line=18'>19</a>\u001b[0m             \u001b[39mif\u001b[39;00m test_conjecture(X, z, n):\n\u001b[1;32m     <a href='vscode-notebook-cell:/Users/jackbullen/Math-248/Labs/Week%2014/Lab-41-Nov-27.ipynb#X10sZmlsZQ%3D%3D?line=19'>20</a>\u001b[0m                 \u001b[39mprint\u001b[39m(\u001b[39m\"\u001b[39m\u001b[39mTrue for:\u001b[39m\u001b[39m\"\u001b[39m, \u001b[39m'\u001b[39m\u001b[39mn =\u001b[39m\u001b[39m'\u001b[39m, n,\u001b[39m'\u001b[39m\u001b[39mX =\u001b[39m\u001b[39m'\u001b[39m, X, \u001b[39m'\u001b[39m\u001b[39mz =\u001b[39m\u001b[39m'\u001b[39m, z)\n\u001b[1;32m     <a href='vscode-notebook-cell:/Users/jackbullen/Math-248/Labs/Week%2014/Lab-41-Nov-27.ipynb#X10sZmlsZQ%3D%3D?line=20'>21</a>\u001b[0m \u001b[39mprint\u001b[39m()\n",
      "\u001b[1;32m/Users/jackbullen/Math-248/Labs/Week 14/Lab-41-Nov-27.ipynb Cell 9\u001b[0m line \u001b[0;36m4\n\u001b[1;32m      <a href='vscode-notebook-cell:/Users/jackbullen/Math-248/Labs/Week%2014/Lab-41-Nov-27.ipynb#X10sZmlsZQ%3D%3D?line=2'>3</a>\u001b[0m \u001b[39mdef\u001b[39;00m \u001b[39mtest_conjecture\u001b[39m(X, z, n):\n\u001b[0;32m----> <a href='vscode-notebook-cell:/Users/jackbullen/Math-248/Labs/Week%2014/Lab-41-Nov-27.ipynb#X10sZmlsZQ%3D%3D?line=3'>4</a>\u001b[0m     \u001b[39mreturn\u001b[39;00m \u001b[39msum\u001b[39m(\u001b[39mlist\u001b[39m(\u001b[39mmap\u001b[39m(\u001b[39mlambda\u001b[39;00m x: x\u001b[39m*\u001b[39m\u001b[39m*\u001b[39mn, X))) \u001b[39m==\u001b[39m z\u001b[39m*\u001b[39m\u001b[39m*\u001b[39mn\n",
      "\u001b[1;32m/Users/jackbullen/Math-248/Labs/Week 14/Lab-41-Nov-27.ipynb Cell 9\u001b[0m line \u001b[0;36m4\n\u001b[1;32m      <a href='vscode-notebook-cell:/Users/jackbullen/Math-248/Labs/Week%2014/Lab-41-Nov-27.ipynb#X10sZmlsZQ%3D%3D?line=2'>3</a>\u001b[0m \u001b[39mdef\u001b[39;00m \u001b[39mtest_conjecture\u001b[39m(X, z, n):\n\u001b[0;32m----> <a href='vscode-notebook-cell:/Users/jackbullen/Math-248/Labs/Week%2014/Lab-41-Nov-27.ipynb#X10sZmlsZQ%3D%3D?line=3'>4</a>\u001b[0m     \u001b[39mreturn\u001b[39;00m \u001b[39msum\u001b[39m(\u001b[39mlist\u001b[39m(\u001b[39mmap\u001b[39m(\u001b[39mlambda\u001b[39;00m x: x\u001b[39m*\u001b[39m\u001b[39m*\u001b[39mn, X))) \u001b[39m==\u001b[39m z\u001b[39m*\u001b[39m\u001b[39m*\u001b[39mn\n",
      "\u001b[0;31mKeyboardInterrupt\u001b[0m: "
     ]
    }
   ],
   "source": [
    "from itertools import product\n",
    "\n",
    "def test_conjecture(X, z, n):\n",
    "    return sum(list(map(lambda x: x**n, X))) == z**n\n",
    "\t\n",
    "pows = [4, 5, 6]\n",
    "dom = list(range(27, 145))\n",
    "\n",
    "for n in pows:\n",
    "    print(\"Looking at n =\", n)\n",
    "    print(\"-\"*20)\n",
    "    for k in range(1, n):\n",
    "        print(\"Trying k =\", k)\n",
    "        for X in product(dom, repeat=k):\n",
    "            for z in range(max(X), max(X)+10):\n",
    "                if len(X) == 1 and X[0] == z:\n",
    "                    # skip trivial cases\n",
    "                    continue\n",
    "                if test_conjecture(X, z, n):\n",
    "                    print(\"True for:\", 'n =', n,'X =', X, 'z =', z)\n",
    "    print()"
   ]
  },
  {
   "cell_type": "code",
   "execution_count": 62,
   "metadata": {},
   "outputs": [
    {
     "data": {
      "text/plain": [
       "True"
      ]
     },
     "execution_count": 62,
     "metadata": {},
     "output_type": "execute_result"
    }
   ],
   "source": [
    "27**5 + 84**5 + 110**5 + 133**5 == 144**5"
   ]
  },
  {
   "cell_type": "code",
   "execution_count": 59,
   "metadata": {},
   "outputs": [
    {
     "data": {
      "text/plain": [
       "True"
      ]
     },
     "execution_count": 59,
     "metadata": {},
     "output_type": "execute_result"
    }
   ],
   "source": [
    "# the counterexample for n = 5, found in 1966 is:\n",
    "\n",
    "# if conjecture holds, then only non-trivial solutions should return True,\n",
    "# so the following should return False\n",
    "\n",
    "test_conjecture([27, 84, 110, 133], 144, 5) "
   ]
  },
  {
   "cell_type": "code",
   "execution_count": 63,
   "metadata": {},
   "outputs": [
    {
     "data": {
      "text/plain": [
       "(61917364224, 61917364224)"
      ]
     },
     "execution_count": 63,
     "metadata": {},
     "output_type": "execute_result"
    }
   ],
   "source": [
    "X = [27, 84, 110, 133]\n",
    "sum(list(map(lambda x: x**5, X))), 144**5"
   ]
  },
  {
   "cell_type": "markdown",
   "metadata": {},
   "source": [
    "Apparently in 2016 some dude proved an upper bound of $\\pi (x) - li(x)$.\n",
    "\n",
    "$$\n",
    "|\\pi (x) - li(x)| \\leq 0.2795 \\frac{x}{\\log x}^{3/4} \\exp \\left( - \\sqrt{\\frac{\\log x}{6.455}} \\right)\n",
    "$$\n",
    "\n",
    "for $x \\geq 229$."
   ]
  },
  {
   "cell_type": "code",
   "execution_count": 54,
   "metadata": {},
   "outputs": [
    {
     "name": "stdout",
     "output_type": "stream",
     "text": [
      "x= 229 6 7.185120919740817 True\n",
      "x= 230 5 7.209507753081839 True\n",
      "x= 231 5 7.23387553816645 True\n",
      "x= 232 6 7.2582243798090085 True\n",
      "x= 233 6 7.282554381792182 True\n",
      "x= 234 5 7.306865646881508 True\n",
      "x= 235 5 7.331158276839695 True\n",
      "x= 236 5 7.355432372440623 True\n",
      "x= 237 6 7.379688033483136 True\n",
      "x= 238 6 7.403925358804554 True\n",
      "x= 239 6 7.428144446293964 True\n",
      "x= 240 5 7.452345392905238 True\n",
      "x= 241 5 7.47652829466987 True\n",
      "x= 242 4 7.500693246709535 True\n",
      "x= 243 5 7.524840343248453 True\n",
      "x= 244 5 7.548969677625536 True\n",
      "x= 245 5 7.573081342306299 True\n",
      "x= 246 5 7.597175428894591 True\n",
      "x= 247 5 7.6212520281441005 True\n",
      "x= 248 6 7.645311229969676 True\n",
      "x= 249 6 7.669353123458438 True\n",
      "x= 250 6 7.6933777968807044 True\n",
      "x= 251 6 7.717385337700737 True\n",
      "x= 252 5 7.7413758325872895 True\n",
      "x= 253 5 7.7653493674239975 True\n",
      "x= 254 6 7.789306027319556 True\n",
      "x= 255 6 7.81324589661777 True\n",
      "x= 256 6 7.837169058907399 True\n",
      "x= 257 6 7.861075597031859 True\n",
      "x= 258 5 7.884965593098757 True\n",
      "x= 259 6 7.908839128489261 True\n",
      "x= 260 6 7.93269628386732 True\n",
      "x= 261 6 7.956537139188728 True\n",
      "x= 262 6 7.980361773710055 True\n",
      "x= 263 6 8.004170265997402 True\n",
      "x= 264 5 8.027962693935049 True\n",
      "x= 265 6 8.05173913473392 True\n",
      "x= 266 6 8.075499664939958 True\n",
      "x= 267 6 8.099244360442336 True\n",
      "x= 268 6 8.122973296481534 True\n",
      "x= 269 6 8.1466865476573 True\n",
      "x= 270 6 8.170384187936486 True\n",
      "x= 271 6 8.194066290660743 True\n",
      "x= 272 5 8.217732928554103 True\n",
      "x= 273 5 8.241384173730456 True\n",
      "x= 274 5 8.265020097700878 True\n",
      "x= 275 5 8.28864077138088 True\n",
      "x= 276 6 8.312246265097514 True\n",
      "x= 277 6 8.335836648596377 True\n",
      "x= 278 5 8.359411991048532 True\n",
      "x= 279 5 8.382972361057277 True\n",
      "x= 280 5 8.406517826664848 True\n",
      "x= 281 5 8.430048455359 True\n",
      "x= 282 5 8.453564314079486 True\n",
      "x= 283 5 8.477065469224472 True\n",
      "x= 284 4 8.500551986656784 True\n",
      "x= 285 4 8.524023931710136 True\n",
      "x= 286 4 8.547481369195225 True\n",
      "x= 287 5 8.570924363405732 True\n",
      "x= 288 5 8.594352978124254 True\n",
      "x= 289 5 8.617767276628134 True\n",
      "x= 290 5 8.641167321695198 True\n",
      "x= 291 5 8.664553175609429 True\n",
      "x= 292 5 8.687924900166541 True\n",
      "x= 293 6 8.711282556679464 True\n",
      "x= 294 5 8.734626205983778 True\n",
      "x= 295 5 8.757955908443037 True\n",
      "x= 296 5 8.78127172395403 True\n",
      "x= 297 5 8.804573711951958 True\n",
      "x= 298 5 8.827861931415558 True\n",
      "x= 299 6 8.851136440872123 True\n",
      "x= 300 6 8.87439729840247 True\n",
      "x= 301 6 8.897644561645823 True\n",
      "x= 302 6 8.920878287804648 True\n",
      "x= 303 6 8.944098533649397 True\n",
      "x= 304 7 8.967305355523196 True\n",
      "x= 305 7 8.990498809346466 True\n",
      "x= 306 7 9.013678950621472 True\n",
      "x= 307 7 9.036845834436821 True\n",
      "x= 308 6 9.059999515471892 True\n",
      "x= 309 6 9.083140048001184 True\n",
      "x= 310 7 9.106267485898652 True\n",
      "x= 311 7 9.129381882641926 True\n",
      "x= 312 6 9.152483291316512 True\n",
      "x= 313 6 9.175571764619928 True\n",
      "x= 314 5 9.198647354865757 True\n",
      "x= 315 5 9.221710113987683 True\n",
      "x= 316 6 9.244760093543457 True\n",
      "x= 317 6 9.267797344718785 True\n",
      "x= 318 5 9.29082191833121 True\n",
      "x= 319 5 9.313833864833896 True\n",
      "x= 320 5 9.336833234319393 True\n",
      "x= 321 5 9.359820076523338 True\n",
      "x= 322 6 9.382794440828114 True\n",
      "x= 323 6 9.40575637626644 True\n",
      "x= 324 6 9.428705931524942 True\n",
      "x= 325 6 9.451643154947657 True\n",
      "x= 326 6 9.474568094539501 True\n",
      "x= 327 7 9.497480797969684 True\n",
      "x= 328 7 9.520381312575081 True\n",
      "x= 329 7 9.543269685363569 True\n",
      "x= 330 7 9.566145963017304 True\n",
      "x= 331 7 9.58901019189597 True\n",
      "x= 332 6 9.611862418039978 True\n",
      "x= 333 7 9.634702687173629 True\n",
      "x= 334 7 9.657531044708227 True\n",
      "x= 335 7 9.680347535745168 True\n",
      "x= 336 7 9.703152205078966 True\n",
      "x= 337 7 9.725945097200263 True\n",
      "x= 338 6 9.748726256298795 True\n",
      "x= 339 7 9.77149572626631 True\n",
      "x= 340 7 9.79425355069945 True\n",
      "x= 341 7 9.816999772902623 True\n",
      "x= 342 7 9.839734435890803 True\n",
      "x= 343 7 9.862457582392308 True\n",
      "x= 344 7 9.88516925485156 True\n",
      "x= 345 8 9.907869495431784 True\n",
      "x= 346 8 9.930558346017696 True\n",
      "x= 347 8 9.953235848218135 True\n",
      "x= 348 7 9.975902043368684 True\n",
      "x= 349 7 9.998556972534253 True\n",
      "x= 350 6 10.021200676511615 True\n",
      "x= 351 7 10.043833195831931 True\n",
      "x= 352 7 10.066454570763238 True\n",
      "x= 353 7 10.089064841312899 True\n",
      "x= 354 6 10.111664047230034 True\n",
      "x= 355 6 10.134252228007913 True\n",
      "x= 356 7 10.156829422886323 True\n",
      "x= 357 7 10.179395670853914 True\n",
      "x= 358 7 10.201951010650493 True\n",
      "x= 359 7 10.224495480769338 True\n",
      "x= 360 6 10.24702911945942 True\n",
      "x= 361 6 10.269551964727652 True\n",
      "x= 362 7 10.292064054341093 True\n",
      "x= 363 7 10.314565425829112 True\n",
      "x= 364 7 10.337056116485549 True\n",
      "x= 365 7 10.359536163370835 True\n",
      "x= 366 7 10.382005603314099 True\n",
      "x= 367 7 10.404464472915235 True\n",
      "x= 368 7 10.426912808546968 True\n",
      "x= 369 7 10.44935064635686 True\n",
      "x= 370 7 10.471778022269337 True\n",
      "x= 371 7 10.494194971987655 True\n",
      "x= 372 7 10.516601530995867 True\n",
      "x= 373 7 10.538997734560752 True\n",
      "x= 374 7 10.56138361773373 True\n",
      "x= 375 7 10.58375921535276 True\n",
      "x= 376 7 10.606124562044192 True\n",
      "x= 377 7 10.62847969222464 True\n",
      "x= 378 7 10.650824640102796 True\n",
      "x= 379 7 10.673159439681232 True\n",
      "x= 380 7 10.695484124758194 True\n",
      "x= 381 7 10.717798728929367 True\n",
      "x= 382 7 10.740103285589617 True\n",
      "x= 383 7 10.76239782793473 True\n",
      "x= 384 6 10.7846823889631 True\n",
      "x= 385 6 10.806957001477429 True\n",
      "x= 386 7 10.8292216980864 True\n",
      "x= 387 7 10.85147651120632 True\n",
      "x= 388 7 10.873721473062753 True\n",
      "x= 389 7 10.89595661569214 True\n",
      "x= 390 6 10.918181970943388 True\n",
      "x= 391 6 10.940397570479462 True\n",
      "x= 392 7 10.96260344577893 True\n",
      "x= 393 7 10.98479962813752 True\n",
      "x= 394 7 11.006986148669641 True\n",
      "x= 395 7 11.02916303830991 True\n",
      "x= 396 7 11.051330327814615 True\n",
      "x= 397 7 11.073488047763227 True\n",
      "x= 398 7 11.095636228559847 True\n",
      "x= 399 7 11.11777490043465 True\n",
      "x= 400 7 11.139904093445328 True\n",
      "x= 401 7 11.162023837478491 True\n",
      "x= 402 6 11.184134162251087 True\n",
      "x= 403 6 11.206235097311772 True\n",
      "x= 404 7 11.228326672042277 True\n",
      "x= 405 7 11.250408915658793 True\n",
      "x= 406 7 11.272481857213283 True\n",
      "x= 407 7 11.294545525594824 True\n",
      "x= 408 7 11.316599949530918 True\n",
      "x= 409 7 11.338645157588797 True\n",
      "x= 410 7 11.360681178176705 True\n",
      "x= 411 7 11.382708039545172 True\n",
      "x= 412 7 11.404725769788266 True\n",
      "x= 413 7 11.426734396844868 True\n",
      "x= 414 7 11.448733948499871 True\n",
      "x= 415 7 11.47072445238542 True\n",
      "x= 416 8 11.492705935982112 True\n",
      "x= 417 8 11.51467842662021 True\n",
      "x= 418 8 11.536641951480803 True\n",
      "x= 419 8 11.55859653759699 True\n",
      "x= 420 7 11.580542211855043 True\n",
      "x= 421 7 11.60247900099555 True\n",
      "x= 422 7 11.62440693161454 True\n",
      "x= 423 7 11.646326030164637 True\n",
      "x= 424 7 11.668236322956142 True\n",
      "x= 425 7 11.690137836158147 True\n",
      "x= 426 7 11.712030595799638 True\n",
      "x= 427 7 11.733914627770554 True\n",
      "x= 428 8 11.755789957822866 True\n",
      "x= 429 8 11.777656611571643 True\n",
      "x= 430 8 11.79951461449608 True\n",
      "x= 431 8 11.821363991940556 True\n",
      "x= 432 7 11.84320476911565 True\n",
      "x= 433 7 11.865036971099157 True\n",
      "x= 434 7 11.886860622837103 True\n",
      "x= 435 7 11.908675749144729 True\n",
      "x= 436 7 11.930482374707488 True\n",
      "x= 437 7 11.952280524082026 True\n",
      "x= 438 7 11.974070221697126 True\n",
      "x= 439 7 11.995851491854706 True\n",
      "x= 440 7 12.017624358730725 True\n",
      "x= 441 7 12.039388846376156 True\n",
      "x= 442 7 12.061144978717895 True\n",
      "x= 443 7 12.082892779559689 True\n",
      "x= 444 6 12.104632272583068 True\n",
      "x= 445 6 12.126363481348202 True\n",
      "x= 446 7 12.148086429294844 True\n",
      "x= 447 7 12.169801139743198 True\n",
      "x= 448 7 12.191507635894787 True\n",
      "x= 449 7 12.213205940833332 True\n",
      "x= 450 6 12.234896077525619 True\n",
      "x= 451 6 12.256578068822344 True\n",
      "x= 452 7 12.27825193745895 True\n",
      "x= 453 7 12.299917706056489 True\n",
      "x= 454 7 12.32157539712242 True\n",
      "x= 455 7 12.34322503305146 True\n",
      "x= 456 7 12.364866636126365 True\n",
      "x= 457 7 12.386500228518772 True\n",
      "x= 458 6 12.40812583228997 True\n",
      "x= 459 7 12.429743469391695 True\n",
      "x= 460 7 12.451353161666924 True\n",
      "x= 461 7 12.472954930850646 True\n",
      "x= 462 6 12.494548798570623 True\n",
      "x= 463 6 12.516134786348164 True\n",
      "x= 464 5 12.537712915598872 True\n",
      "x= 465 6 12.559283207633388 True\n",
      "x= 466 6 12.580845683658147 True\n",
      "x= 467 6 12.602400364776093 True\n",
      "x= 468 5 12.623947271987426 True\n",
      "x= 469 5 12.645486426190303 True\n",
      "x= 470 5 12.66701784818156 True\n",
      "x= 471 6 12.688541558657427 True\n",
      "x= 472 6 12.710057578214226 True\n",
      "x= 473 6 12.731565927349042 True\n",
      "x= 474 6 12.753066626460452 True\n",
      "x= 475 6 12.774559695849183 True\n",
      "x= 476 6 12.79604515571878 True\n",
      "x= 477 7 12.8175230261763 True\n",
      "x= 478 7 12.838993327232957 True\n",
      "x= 479 7 12.860456078804791 True\n",
      "x= 480 6 12.881911300713305 True\n",
      "x= 481 6 12.903359012686131 True\n",
      "x= 482 6 12.924799234357662 True\n",
      "x= 483 7 12.946231985269677 True\n",
      "x= 484 7 12.967657284871985 True\n",
      "x= 485 7 12.98907515252304 True\n",
      "x= 486 7 13.010485607490564 True\n",
      "x= 487 7 13.031888668952154 True\n",
      "x= 488 6 13.053284355995892 True\n",
      "x= 489 7 13.074672687620948 True\n",
      "x= 490 7 13.09605368273818 True\n",
      "x= 491 7 13.117427360170707 True\n",
      "x= 492 6 13.138793738654535 True\n",
      "x= 493 6 13.160152836839076 True\n",
      "x= 494 6 13.181504673287797 True\n",
      "x= 495 6 13.202849266478731 True\n",
      "x= 496 7 13.224186634805074 True\n",
      "x= 497 7 13.24551679657574 True\n",
      "x= 498 7 13.266839770015915 True\n",
      "x= 499 7 13.288155573267602 True\n",
      "x= 500 6 13.30946422439019 True\n",
      "x= 501 6 13.330765741360974 True\n",
      "x= 502 7 13.352060142075699 True\n",
      "x= 503 7 13.373347444349095 True\n",
      "x= 504 6 13.394627665915404 True\n",
      "x= 505 6 13.415900824428912 True\n",
      "x= 506 6 13.437166937464447 True\n",
      "x= 507 6 13.45842602251793 True\n",
      "x= 508 7 13.479678097006836 True\n",
      "x= 509 7 13.500923178270753 True\n",
      "x= 510 6 13.522161283571837 True\n",
      "x= 511 6 13.543392430095354 True\n",
      "x= 512 6 13.564616634950136 True\n",
      "x= 513 6 13.585833915169093 True\n",
      "x= 514 7 13.607044287709696 True\n",
      "x= 515 7 13.628247769454447 True\n",
      "x= 516 7 13.64944437721137 True\n",
      "x= 517 7 13.670634127714473 True\n",
      "x= 518 7 13.69181703762423 True\n",
      "x= 519 7 13.71299312352803 True\n",
      "x= 520 8 13.734162401940656 True\n",
      "x= 521 8 13.755324889304742 True\n",
      "x= 522 7 13.776480601991206 True\n",
      "x= 523 7 13.797629556299725 True\n",
      "x= 524 6 13.818771768459174 True\n",
      "x= 525 6 13.83990725462806 True\n",
      "x= 526 6 13.861036030894976 True\n",
      "x= 527 7 13.88215811327903 True\n",
      "x= 528 7 13.90327351773027 True\n",
      "x= 529 7 13.924382260130134 True\n",
      "x= 530 7 13.945484356291843 True\n",
      "x= 531 7 13.966579821960865 True\n",
      "x= 532 7 13.987668672815294 True\n",
      "x= 533 8 14.008750924466291 True\n",
      "x= 534 8 14.029826592458475 True\n",
      "x= 535 8 14.050895692270363 True\n",
      "x= 536 8 14.071958239314736 True\n",
      "x= 537 8 14.093014248939074 True\n",
      "x= 538 8 14.114063736425942 True\n",
      "x= 539 9 14.135106716993379 True\n",
      "x= 540 9 14.156143205795292 True\n",
      "x= 541 9 14.177173217921876 True\n",
      "x= 542 8 14.198196768399939 True\n",
      "x= 543 8 14.219213872193352 True\n",
      "x= 544 8 14.240224544203382 True\n",
      "x= 545 8 14.261228799269091 True\n",
      "x= 546 9 14.282226652167708 True\n",
      "x= 547 9 14.30321811761499 True\n",
      "x= 548 8 14.32420321026561 True\n",
      "x= 549 8 14.345181944713499 True\n",
      "x= 550 8 14.366154335492226 True\n",
      "x= 551 8 14.387120397075348 True\n",
      "x= 552 9 14.408080143876784 True\n",
      "x= 553 9 14.429033590251143 True\n",
      "x= 554 9 14.449980750494095 True\n",
      "x= 555 9 14.470921638842718 True\n",
      "x= 556 9 14.491856269475837 True\n",
      "x= 557 9 14.512784656514365 True\n",
      "x= 558 9 14.533706814021661 True\n",
      "x= 559 9 14.554622756003853 True\n",
      "x= 560 9 14.575532496410185 True\n",
      "x= 561 9 14.59643604913332 True\n",
      "x= 562 9 14.617333428009722 True\n",
      "x= 563 9 14.638224646819939 True\n",
      "x= 564 8 14.659109719288955 True\n",
      "x= 565 9 14.679988659086494 True\n",
      "x= 566 9 14.700861479827351 True\n",
      "x= 567 9 14.721728195071725 True\n",
      "x= 568 9 14.742588818325492 True\n",
      "x= 569 9 14.76344336304057 True\n",
      "x= 570 8 14.78429184261519 True\n",
      "x= 571 9 14.80513427039423 True\n",
      "x= 572 8 14.82597065966951 True\n",
      "x= 573 8 14.846801023680085 True\n",
      "x= 574 8 14.867625375612583 True\n",
      "x= 575 8 14.888443728601459 True\n",
      "x= 576 8 14.909256095729326 True\n",
      "x= 577 9 14.930062490027234 True\n",
      "x= 578 8 14.950862924474976 True\n",
      "x= 579 8 14.971657412001361 True\n",
      "x= 580 8 14.992445965484514 True\n",
      "x= 581 8 15.01322859775216 True\n",
      "x= 582 8 15.034005321581915 True\n",
      "x= 583 8 15.054776149701562 True\n",
      "x= 584 9 15.075541094789312 True\n",
      "x= 585 9 15.096300169474132 True\n",
      "x= 586 9 15.117053386335975 True\n",
      "x= 587 9 15.137800757906053 True\n",
      "x= 588 8 15.158542296667166 True\n",
      "x= 589 8 15.17927801505389 True\n",
      "x= 590 9 15.20000792545292 True\n",
      "x= 591 9 15.22073204020328 True\n",
      "x= 592 9 15.241450371596631 True\n",
      "x= 593 9 15.262162931877493 True\n",
      "x= 594 8 15.28286973324354 True\n",
      "x= 595 8 15.303570787845837 True\n",
      "x= 596 9 15.324266107789107 True\n",
      "x= 597 9 15.344955705131975 True\n",
      "x= 598 9 15.365639591887248 True\n",
      "x= 599 9 15.386317780022122 True\n",
      "x= 600 8 15.406990281458476 True\n",
      "x= 601 8 15.427657108073094 True\n",
      "x= 602 7 15.448318271697914 True\n",
      "x= 603 8 15.468973784120271 True\n",
      "x= 604 8 15.489623657083163 True\n",
      "x= 605 8 15.510267902285445 True\n",
      "x= 606 8 15.530906531382128 True\n",
      "x= 607 8 15.551539555984542 True\n",
      "x= 608 7 15.572166987660651 True\n",
      "x= 609 8 15.592788837935236 True\n",
      "x= 610 8 15.613405118290137 True\n",
      "x= 611 8 15.634015840164489 True\n",
      "x= 612 8 15.654621014954945 True\n",
      "x= 613 8 15.675220654015922 True\n",
      "x= 614 7 15.695814768659803 True\n",
      "x= 615 7 15.716403370157165 True\n",
      "x= 616 8 15.736986469737019 True\n",
      "x= 617 8 15.757564078587016 True\n",
      "x= 618 7 15.778136207853676 True\n",
      "x= 619 7 15.798702868642575 True\n",
      "x= 620 6 15.819264072018628 True\n",
      "x= 621 6 15.83981982900624 True\n",
      "x= 622 7 15.86037015058954 True\n",
      "x= 623 7 15.88091504771261 True\n",
      "x= 624 7 15.901454531279667 True\n",
      "x= 625 7 15.921988612155308 True\n",
      "x= 626 7 15.942517301164672 True\n",
      "x= 627 7 15.963040609093689 True\n",
      "x= 628 8 15.98355854668927 True\n",
      "x= 629 8 16.004071124659497 True\n",
      "x= 630 8 16.024578353673835 True\n",
      "x= 631 8 16.045080244363355 True\n",
      "x= 632 7 16.065576807320884 True\n",
      "x= 633 7 16.086068053101258 True\n",
      "x= 634 7 16.106553992221475 True\n",
      "x= 635 8 16.12703463516092 True\n",
      "x= 636 8 16.147509992361538 True\n",
      "x= 637 8 16.167980074228048 True\n",
      "x= 638 8 16.188444891128107 True\n",
      "x= 639 8 16.20890445339253 True\n",
      "x= 640 8 16.22935877131547 True\n",
      "x= 641 9 16.24980785515457 True\n",
      "x= 642 8 16.270251715131224 True\n",
      "x= 643 8 16.29069036143068 True\n",
      "x= 644 7 16.31112380420228 True\n",
      "x= 645 7 16.33155205355963 True\n",
      "x= 646 7 16.351975119580768 True\n",
      "x= 647 7 16.37239301230836 True\n",
      "x= 648 7 16.39280574174987 True\n",
      "x= 649 7 16.413213317877727 True\n",
      "x= 650 7 16.433615750629542 True\n",
      "x= 651 7 16.454013049908234 True\n",
      "x= 652 7 16.474405225582235 True\n",
      "x= 653 7 16.49479228748566 True\n",
      "x= 654 7 16.515174245418464 True\n",
      "x= 655 7 16.535551109146645 True\n",
      "x= 656 7 16.555922888402364 True\n",
      "x= 657 7 16.576289592884166 True\n",
      "x= 658 7 16.596651232257113 True\n",
      "x= 659 7 16.617007816152963 True\n",
      "x= 660 6 16.637359354170332 True\n",
      "x= 661 7 16.657705855874887 True\n",
      "x= 662 6 16.67804733079944 True\n",
      "x= 663 6 16.69838378844418 True\n",
      "x= 664 6 16.718715238276815 True\n",
      "x= 665 6 16.73904168973271 True\n"
     ]
    },
    {
     "ename": "KeyboardInterrupt",
     "evalue": "",
     "output_type": "error",
     "traceback": [
      "\u001b[0;31m---------------------------------------------------------------------------\u001b[0m",
      "\u001b[0;31mKeyboardInterrupt\u001b[0m                         Traceback (most recent call last)",
      "\u001b[1;32m/Users/jackbullen/Math-248/Labs/Week 14/Lab-41-Nov-27.ipynb Cell 12\u001b[0m line \u001b[0;36m1\n\u001b[1;32m     <a href='vscode-notebook-cell:/Users/jackbullen/Math-248/Labs/Week%2014/Lab-41-Nov-27.ipynb#X15sZmlsZQ%3D%3D?line=11'>12</a>\u001b[0m     \u001b[39mreturn\u001b[39;00m \u001b[39mlen\u001b[39m(get_primes(x))    \n\u001b[1;32m     <a href='vscode-notebook-cell:/Users/jackbullen/Math-248/Labs/Week%2014/Lab-41-Nov-27.ipynb#X15sZmlsZQ%3D%3D?line=13'>14</a>\u001b[0m \u001b[39mfor\u001b[39;00m x \u001b[39min\u001b[39;00m \u001b[39mrange\u001b[39m(\u001b[39m229\u001b[39m, \u001b[39m229\u001b[39m\u001b[39m+\u001b[39m\u001b[39m1000\u001b[39m):\n\u001b[0;32m---> <a href='vscode-notebook-cell:/Users/jackbullen/Math-248/Labs/Week%2014/Lab-41-Nov-27.ipynb#X15sZmlsZQ%3D%3D?line=14'>15</a>\u001b[0m     \u001b[39mprint\u001b[39m(\u001b[39m'\u001b[39m\u001b[39mx=\u001b[39m\u001b[39m'\u001b[39m, x, \u001b[39mabs\u001b[39m(pi(x) \u001b[39m-\u001b[39m li(x)), rhs(x), \u001b[39mabs\u001b[39m(pi(x) \u001b[39m-\u001b[39m li(x)) \u001b[39m<\u001b[39m rhs(x))\n",
      "\u001b[1;32m/Users/jackbullen/Math-248/Labs/Week 14/Lab-41-Nov-27.ipynb Cell 12\u001b[0m line \u001b[0;36m9\n\u001b[1;32m      <a href='vscode-notebook-cell:/Users/jackbullen/Math-248/Labs/Week%2014/Lab-41-Nov-27.ipynb#X15sZmlsZQ%3D%3D?line=6'>7</a>\u001b[0m \u001b[39mdef\u001b[39;00m \u001b[39mli\u001b[39m(x):\n\u001b[1;32m      <a href='vscode-notebook-cell:/Users/jackbullen/Math-248/Labs/Week%2014/Lab-41-Nov-27.ipynb#X15sZmlsZQ%3D%3D?line=7'>8</a>\u001b[0m     f \u001b[39m=\u001b[39m \u001b[39m1\u001b[39m \u001b[39m/\u001b[39m log(t)\n\u001b[0;32m----> <a href='vscode-notebook-cell:/Users/jackbullen/Math-248/Labs/Week%2014/Lab-41-Nov-27.ipynb#X15sZmlsZQ%3D%3D?line=8'>9</a>\u001b[0m     \u001b[39mreturn\u001b[39;00m \u001b[39mint\u001b[39m(integrate(f, (t, \u001b[39m0\u001b[39;49m, x)))\n",
      "File \u001b[0;32m/Library/Frameworks/Python.framework/Versions/3.11/lib/python3.11/site-packages/sympy/integrals/integrals.py:1567\u001b[0m, in \u001b[0;36mintegrate\u001b[0;34m(meijerg, conds, risch, heurisch, manual, *args, **kwargs)\u001b[0m\n\u001b[1;32m   1564\u001b[0m integral \u001b[39m=\u001b[39m Integral(\u001b[39m*\u001b[39margs, \u001b[39m*\u001b[39m\u001b[39m*\u001b[39mkwargs)\n\u001b[1;32m   1566\u001b[0m \u001b[39mif\u001b[39;00m \u001b[39misinstance\u001b[39m(integral, Integral):\n\u001b[0;32m-> 1567\u001b[0m     \u001b[39mreturn\u001b[39;00m integral\u001b[39m.\u001b[39;49mdoit(\u001b[39m*\u001b[39;49m\u001b[39m*\u001b[39;49mdoit_flags)\n\u001b[1;32m   1568\u001b[0m \u001b[39melse\u001b[39;00m:\n\u001b[1;32m   1569\u001b[0m     new_args \u001b[39m=\u001b[39m [a\u001b[39m.\u001b[39mdoit(\u001b[39m*\u001b[39m\u001b[39m*\u001b[39mdoit_flags) \u001b[39mif\u001b[39;00m \u001b[39misinstance\u001b[39m(a, Integral) \u001b[39melse\u001b[39;00m a\n\u001b[1;32m   1570\u001b[0m         \u001b[39mfor\u001b[39;00m a \u001b[39min\u001b[39;00m integral\u001b[39m.\u001b[39margs]\n",
      "File \u001b[0;32m/Library/Frameworks/Python.framework/Versions/3.11/lib/python3.11/site-packages/sympy/integrals/integrals.py:499\u001b[0m, in \u001b[0;36mIntegral.doit\u001b[0;34m(self, **hints)\u001b[0m\n\u001b[1;32m    497\u001b[0m \u001b[39mif\u001b[39;00m reps:\n\u001b[1;32m    498\u001b[0m     undo \u001b[39m=\u001b[39m {v: k \u001b[39mfor\u001b[39;00m k, v \u001b[39min\u001b[39;00m reps\u001b[39m.\u001b[39mitems()}\n\u001b[0;32m--> 499\u001b[0m     did \u001b[39m=\u001b[39m \u001b[39mself\u001b[39;49m\u001b[39m.\u001b[39;49mxreplace(reps)\u001b[39m.\u001b[39;49mdoit(\u001b[39m*\u001b[39;49m\u001b[39m*\u001b[39;49mhints)\n\u001b[1;32m    500\u001b[0m     \u001b[39mif\u001b[39;00m \u001b[39misinstance\u001b[39m(did, \u001b[39mtuple\u001b[39m):  \u001b[39m# when separate=True\u001b[39;00m\n\u001b[1;32m    501\u001b[0m         did \u001b[39m=\u001b[39m \u001b[39mtuple\u001b[39m([i\u001b[39m.\u001b[39mxreplace(undo) \u001b[39mfor\u001b[39;00m i \u001b[39min\u001b[39;00m did])\n",
      "File \u001b[0;32m/Library/Frameworks/Python.framework/Versions/3.11/lib/python3.11/site-packages/sympy/integrals/integrals.py:612\u001b[0m, in \u001b[0;36mIntegral.doit\u001b[0;34m(self, **hints)\u001b[0m\n\u001b[1;32m    610\u001b[0m     antideriv \u001b[39m=\u001b[39m \u001b[39mNone\u001b[39;00m\n\u001b[1;32m    611\u001b[0m \u001b[39melse\u001b[39;00m:\n\u001b[0;32m--> 612\u001b[0m     antideriv \u001b[39m=\u001b[39m \u001b[39mself\u001b[39;49m\u001b[39m.\u001b[39;49m_eval_integral(\n\u001b[1;32m    613\u001b[0m         function, xab[\u001b[39m0\u001b[39;49m], \u001b[39m*\u001b[39;49m\u001b[39m*\u001b[39;49meval_kwargs)\n\u001b[1;32m    614\u001b[0m     \u001b[39mif\u001b[39;00m antideriv \u001b[39mis\u001b[39;00m \u001b[39mNone\u001b[39;00m \u001b[39mand\u001b[39;00m meijerg \u001b[39mis\u001b[39;00m \u001b[39mTrue\u001b[39;00m:\n\u001b[1;32m    615\u001b[0m         ret \u001b[39m=\u001b[39m try_meijerg(function, xab)\n",
      "File \u001b[0;32m/Library/Frameworks/Python.framework/Versions/3.11/lib/python3.11/site-packages/sympy/integrals/integrals.py:967\u001b[0m, in \u001b[0;36mIntegral._eval_integral\u001b[0;34m(self, f, x, meijerg, risch, manual, heurisch, conds, final)\u001b[0m\n\u001b[1;32m    960\u001b[0m \u001b[39mif\u001b[39;00m i:\n\u001b[1;32m    961\u001b[0m     \u001b[39m# There was a nonelementary integral. Try integrating it.\u001b[39;00m\n\u001b[1;32m    962\u001b[0m \n\u001b[1;32m    963\u001b[0m     \u001b[39m# if no part of the NonElementaryIntegral is integrated by\u001b[39;00m\n\u001b[1;32m    964\u001b[0m     \u001b[39m# the Risch algorithm, then use the original function to\u001b[39;00m\n\u001b[1;32m    965\u001b[0m     \u001b[39m# integrate, instead of re-written one\u001b[39;00m\n\u001b[1;32m    966\u001b[0m     \u001b[39mif\u001b[39;00m result \u001b[39m==\u001b[39m \u001b[39m0\u001b[39m:\n\u001b[0;32m--> 967\u001b[0m         \u001b[39mreturn\u001b[39;00m NonElementaryIntegral(f, x)\u001b[39m.\u001b[39;49mdoit(risch\u001b[39m=\u001b[39;49m\u001b[39mFalse\u001b[39;49;00m)\n\u001b[1;32m    968\u001b[0m     \u001b[39melse\u001b[39;00m:\n\u001b[1;32m    969\u001b[0m         \u001b[39mreturn\u001b[39;00m result \u001b[39m+\u001b[39m i\u001b[39m.\u001b[39mdoit(risch\u001b[39m=\u001b[39m\u001b[39mFalse\u001b[39;00m)\n",
      "File \u001b[0;32m/Library/Frameworks/Python.framework/Versions/3.11/lib/python3.11/site-packages/sympy/integrals/integrals.py:612\u001b[0m, in \u001b[0;36mIntegral.doit\u001b[0;34m(self, **hints)\u001b[0m\n\u001b[1;32m    610\u001b[0m     antideriv \u001b[39m=\u001b[39m \u001b[39mNone\u001b[39;00m\n\u001b[1;32m    611\u001b[0m \u001b[39melse\u001b[39;00m:\n\u001b[0;32m--> 612\u001b[0m     antideriv \u001b[39m=\u001b[39m \u001b[39mself\u001b[39;49m\u001b[39m.\u001b[39;49m_eval_integral(\n\u001b[1;32m    613\u001b[0m         function, xab[\u001b[39m0\u001b[39;49m], \u001b[39m*\u001b[39;49m\u001b[39m*\u001b[39;49meval_kwargs)\n\u001b[1;32m    614\u001b[0m     \u001b[39mif\u001b[39;00m antideriv \u001b[39mis\u001b[39;00m \u001b[39mNone\u001b[39;00m \u001b[39mand\u001b[39;00m meijerg \u001b[39mis\u001b[39;00m \u001b[39mTrue\u001b[39;00m:\n\u001b[1;32m    615\u001b[0m         ret \u001b[39m=\u001b[39m try_meijerg(function, xab)\n",
      "File \u001b[0;32m/Library/Frameworks/Python.framework/Versions/3.11/lib/python3.11/site-packages/sympy/integrals/integrals.py:1084\u001b[0m, in \u001b[0;36mIntegral._eval_integral\u001b[0;34m(self, f, x, meijerg, risch, manual, heurisch, conds, final)\u001b[0m\n\u001b[1;32m   1082\u001b[0m \u001b[39mtry\u001b[39;00m:\n\u001b[1;32m   1083\u001b[0m     \u001b[39mif\u001b[39;00m conds \u001b[39m==\u001b[39m \u001b[39m'\u001b[39m\u001b[39mpiecewise\u001b[39m\u001b[39m'\u001b[39m:\n\u001b[0;32m-> 1084\u001b[0m         h \u001b[39m=\u001b[39m heurisch_wrapper(g, x, hints\u001b[39m=\u001b[39;49m[])\n\u001b[1;32m   1085\u001b[0m     \u001b[39melse\u001b[39;00m:\n\u001b[1;32m   1086\u001b[0m         h \u001b[39m=\u001b[39m heurisch_(g, x, hints\u001b[39m=\u001b[39m[])\n",
      "File \u001b[0;32m/Library/Frameworks/Python.framework/Versions/3.11/lib/python3.11/site-packages/sympy/integrals/heurisch.py:143\u001b[0m, in \u001b[0;36mheurisch_wrapper\u001b[0;34m(f, x, rewrite, hints, mappings, retries, degree_offset, unnecessary_permutations, _try_heurisch)\u001b[0m\n\u001b[1;32m    140\u001b[0m \u001b[39mif\u001b[39;00m \u001b[39mnot\u001b[39;00m f\u001b[39m.\u001b[39mhas_free(x):\n\u001b[1;32m    141\u001b[0m     \u001b[39mreturn\u001b[39;00m f\u001b[39m*\u001b[39mx\n\u001b[0;32m--> 143\u001b[0m res \u001b[39m=\u001b[39m heurisch(f, x, rewrite, hints, mappings, retries, degree_offset,\n\u001b[1;32m    144\u001b[0m                unnecessary_permutations, _try_heurisch)\n\u001b[1;32m    145\u001b[0m \u001b[39mif\u001b[39;00m \u001b[39mnot\u001b[39;00m \u001b[39misinstance\u001b[39m(res, Basic):\n\u001b[1;32m    146\u001b[0m     \u001b[39mreturn\u001b[39;00m res\n",
      "File \u001b[0;32m/Library/Frameworks/Python.framework/Versions/3.11/lib/python3.11/site-packages/sympy/integrals/heurisch.py:749\u001b[0m, in \u001b[0;36mheurisch\u001b[0;34m(f, x, rewrite, hints, mappings, retries, degree_offset, unnecessary_permutations, _try_heurisch)\u001b[0m\n\u001b[1;32m    745\u001b[0m     more_free \u001b[39m=\u001b[39m Fd\u001b[39m.\u001b[39mxreplace(\u001b[39mdict\u001b[39m(\u001b[39mzip\u001b[39m(V, (Dummy() \u001b[39mfor\u001b[39;00m _ \u001b[39min\u001b[39;00m V)))\n\u001b[1;32m    746\u001b[0m         )\u001b[39m.\u001b[39mfree_symbols \u001b[39m&\u001b[39m Fd\u001b[39m.\u001b[39mfree_symbols\n\u001b[1;32m    747\u001b[0m \u001b[39mif\u001b[39;00m \u001b[39mnot\u001b[39;00m more_free:\n\u001b[1;32m    748\u001b[0m     \u001b[39m# all free generators are identified in V\u001b[39;00m\n\u001b[0;32m--> 749\u001b[0m     solution \u001b[39m=\u001b[39m _integrate(\u001b[39m'\u001b[39;49m\u001b[39mQ\u001b[39;49m\u001b[39m'\u001b[39;49m)\n\u001b[1;32m    751\u001b[0m     \u001b[39mif\u001b[39;00m solution \u001b[39mis\u001b[39;00m \u001b[39mNone\u001b[39;00m:\n\u001b[1;32m    752\u001b[0m         solution \u001b[39m=\u001b[39m _integrate()\n",
      "File \u001b[0;32m/Library/Frameworks/Python.framework/Versions/3.11/lib/python3.11/site-packages/sympy/integrals/heurisch.py:730\u001b[0m, in \u001b[0;36mheurisch.<locals>._integrate\u001b[0;34m(field)\u001b[0m\n\u001b[1;32m    728\u001b[0m ring \u001b[39m=\u001b[39m PolyRing(V, coeff_ring)\n\u001b[1;32m    729\u001b[0m \u001b[39mtry\u001b[39;00m:\n\u001b[0;32m--> 730\u001b[0m     numer \u001b[39m=\u001b[39m ring\u001b[39m.\u001b[39;49mfrom_expr(raw_numer)\n\u001b[1;32m    731\u001b[0m \u001b[39mexcept\u001b[39;00m \u001b[39mValueError\u001b[39;00m:\n\u001b[1;32m    732\u001b[0m     \u001b[39mraise\u001b[39;00m PolynomialError\n",
      "File \u001b[0;32m/Library/Frameworks/Python.framework/Versions/3.11/lib/python3.11/site-packages/sympy/polys/rings.py:397\u001b[0m, in \u001b[0;36mPolyRing.from_expr\u001b[0;34m(self, expr)\u001b[0m\n\u001b[1;32m    394\u001b[0m mapping \u001b[39m=\u001b[39m \u001b[39mdict\u001b[39m(\u001b[39mlist\u001b[39m(\u001b[39mzip\u001b[39m(\u001b[39mself\u001b[39m\u001b[39m.\u001b[39msymbols, \u001b[39mself\u001b[39m\u001b[39m.\u001b[39mgens)))\n\u001b[1;32m    396\u001b[0m \u001b[39mtry\u001b[39;00m:\n\u001b[0;32m--> 397\u001b[0m     poly \u001b[39m=\u001b[39m \u001b[39mself\u001b[39;49m\u001b[39m.\u001b[39;49m_rebuild_expr(expr, mapping)\n\u001b[1;32m    398\u001b[0m \u001b[39mexcept\u001b[39;00m CoercionFailed:\n\u001b[1;32m    399\u001b[0m     \u001b[39mraise\u001b[39;00m \u001b[39mValueError\u001b[39;00m(\u001b[39m\"\u001b[39m\u001b[39mexpected an expression convertible to a polynomial in \u001b[39m\u001b[39m%s\u001b[39;00m\u001b[39m, got \u001b[39m\u001b[39m%s\u001b[39;00m\u001b[39m\"\u001b[39m \u001b[39m%\u001b[39m (\u001b[39mself\u001b[39m, expr))\n",
      "File \u001b[0;32m/Library/Frameworks/Python.framework/Versions/3.11/lib/python3.11/site-packages/sympy/polys/rings.py:391\u001b[0m, in \u001b[0;36mPolyRing._rebuild_expr\u001b[0;34m(self, expr, mapping)\u001b[0m\n\u001b[1;32m    388\u001b[0m         \u001b[39melse\u001b[39;00m:\n\u001b[1;32m    389\u001b[0m             \u001b[39mreturn\u001b[39;00m \u001b[39mself\u001b[39m\u001b[39m.\u001b[39mground_new(domain\u001b[39m.\u001b[39mconvert(expr))\n\u001b[0;32m--> 391\u001b[0m \u001b[39mreturn\u001b[39;00m _rebuild(sympify(expr))\n",
      "File \u001b[0;32m/Library/Frameworks/Python.framework/Versions/3.11/lib/python3.11/site-packages/sympy/polys/rings.py:379\u001b[0m, in \u001b[0;36mPolyRing._rebuild_expr.<locals>._rebuild\u001b[0;34m(expr)\u001b[0m\n\u001b[1;32m    377\u001b[0m     \u001b[39mreturn\u001b[39;00m generator\n\u001b[1;32m    378\u001b[0m \u001b[39melif\u001b[39;00m expr\u001b[39m.\u001b[39mis_Add:\n\u001b[0;32m--> 379\u001b[0m     \u001b[39mreturn\u001b[39;00m reduce(add, \u001b[39mlist\u001b[39m(\u001b[39mmap\u001b[39m(_rebuild, expr\u001b[39m.\u001b[39margs)))\n\u001b[1;32m    380\u001b[0m \u001b[39melif\u001b[39;00m expr\u001b[39m.\u001b[39mis_Mul:\n\u001b[1;32m    381\u001b[0m     \u001b[39mreturn\u001b[39;00m reduce(mul, \u001b[39mlist\u001b[39m(\u001b[39mmap\u001b[39m(_rebuild, expr\u001b[39m.\u001b[39margs)))\n",
      "File \u001b[0;32m/Library/Frameworks/Python.framework/Versions/3.11/lib/python3.11/site-packages/sympy/polys/rings.py:381\u001b[0m, in \u001b[0;36mPolyRing._rebuild_expr.<locals>._rebuild\u001b[0;34m(expr)\u001b[0m\n\u001b[1;32m    379\u001b[0m     \u001b[39mreturn\u001b[39;00m reduce(add, \u001b[39mlist\u001b[39m(\u001b[39mmap\u001b[39m(_rebuild, expr\u001b[39m.\u001b[39margs)))\n\u001b[1;32m    380\u001b[0m \u001b[39melif\u001b[39;00m expr\u001b[39m.\u001b[39mis_Mul:\n\u001b[0;32m--> 381\u001b[0m     \u001b[39mreturn\u001b[39;00m reduce(mul, \u001b[39mlist\u001b[39m(\u001b[39mmap\u001b[39m(_rebuild, expr\u001b[39m.\u001b[39margs)))\n\u001b[1;32m    382\u001b[0m \u001b[39melse\u001b[39;00m:\n\u001b[1;32m    383\u001b[0m     \u001b[39m# XXX: Use as_base_exp() to handle Pow(x, n) and also exp(n)\u001b[39;00m\n\u001b[1;32m    384\u001b[0m     \u001b[39m# XXX: E can be a generator e.g. sring([exp(2)]) -> ZZ[E]\u001b[39;00m\n\u001b[1;32m    385\u001b[0m     base, exp \u001b[39m=\u001b[39m expr\u001b[39m.\u001b[39mas_base_exp()\n",
      "File \u001b[0;32m/Library/Frameworks/Python.framework/Versions/3.11/lib/python3.11/site-packages/sympy/polys/rings.py:379\u001b[0m, in \u001b[0;36mPolyRing._rebuild_expr.<locals>._rebuild\u001b[0;34m(expr)\u001b[0m\n\u001b[1;32m    377\u001b[0m     \u001b[39mreturn\u001b[39;00m generator\n\u001b[1;32m    378\u001b[0m \u001b[39melif\u001b[39;00m expr\u001b[39m.\u001b[39mis_Add:\n\u001b[0;32m--> 379\u001b[0m     \u001b[39mreturn\u001b[39;00m reduce(add, \u001b[39mlist\u001b[39m(\u001b[39mmap\u001b[39m(_rebuild, expr\u001b[39m.\u001b[39margs)))\n\u001b[1;32m    380\u001b[0m \u001b[39melif\u001b[39;00m expr\u001b[39m.\u001b[39mis_Mul:\n\u001b[1;32m    381\u001b[0m     \u001b[39mreturn\u001b[39;00m reduce(mul, \u001b[39mlist\u001b[39m(\u001b[39mmap\u001b[39m(_rebuild, expr\u001b[39m.\u001b[39margs)))\n",
      "File \u001b[0;32m/Library/Frameworks/Python.framework/Versions/3.11/lib/python3.11/site-packages/sympy/polys/rings.py:381\u001b[0m, in \u001b[0;36mPolyRing._rebuild_expr.<locals>._rebuild\u001b[0;34m(expr)\u001b[0m\n\u001b[1;32m    379\u001b[0m     \u001b[39mreturn\u001b[39;00m reduce(add, \u001b[39mlist\u001b[39m(\u001b[39mmap\u001b[39m(_rebuild, expr\u001b[39m.\u001b[39margs)))\n\u001b[1;32m    380\u001b[0m \u001b[39melif\u001b[39;00m expr\u001b[39m.\u001b[39mis_Mul:\n\u001b[0;32m--> 381\u001b[0m     \u001b[39mreturn\u001b[39;00m reduce(mul, \u001b[39mlist\u001b[39m(\u001b[39mmap\u001b[39m(_rebuild, expr\u001b[39m.\u001b[39margs)))\n\u001b[1;32m    382\u001b[0m \u001b[39melse\u001b[39;00m:\n\u001b[1;32m    383\u001b[0m     \u001b[39m# XXX: Use as_base_exp() to handle Pow(x, n) and also exp(n)\u001b[39;00m\n\u001b[1;32m    384\u001b[0m     \u001b[39m# XXX: E can be a generator e.g. sring([exp(2)]) -> ZZ[E]\u001b[39;00m\n\u001b[1;32m    385\u001b[0m     base, exp \u001b[39m=\u001b[39m expr\u001b[39m.\u001b[39mas_base_exp()\n",
      "    \u001b[0;31m[... skipping similar frames: PolyRing._rebuild_expr.<locals>._rebuild at line 379 (1 times), PolyRing._rebuild_expr.<locals>._rebuild at line 381 (1 times)]\u001b[0m\n",
      "File \u001b[0;32m/Library/Frameworks/Python.framework/Versions/3.11/lib/python3.11/site-packages/sympy/polys/rings.py:379\u001b[0m, in \u001b[0;36mPolyRing._rebuild_expr.<locals>._rebuild\u001b[0;34m(expr)\u001b[0m\n\u001b[1;32m    377\u001b[0m     \u001b[39mreturn\u001b[39;00m generator\n\u001b[1;32m    378\u001b[0m \u001b[39melif\u001b[39;00m expr\u001b[39m.\u001b[39mis_Add:\n\u001b[0;32m--> 379\u001b[0m     \u001b[39mreturn\u001b[39;00m reduce(add, \u001b[39mlist\u001b[39m(\u001b[39mmap\u001b[39m(_rebuild, expr\u001b[39m.\u001b[39margs)))\n\u001b[1;32m    380\u001b[0m \u001b[39melif\u001b[39;00m expr\u001b[39m.\u001b[39mis_Mul:\n\u001b[1;32m    381\u001b[0m     \u001b[39mreturn\u001b[39;00m reduce(mul, \u001b[39mlist\u001b[39m(\u001b[39mmap\u001b[39m(_rebuild, expr\u001b[39m.\u001b[39margs)))\n",
      "File \u001b[0;32m/Library/Frameworks/Python.framework/Versions/3.11/lib/python3.11/site-packages/sympy/polys/rings.py:381\u001b[0m, in \u001b[0;36mPolyRing._rebuild_expr.<locals>._rebuild\u001b[0;34m(expr)\u001b[0m\n\u001b[1;32m    379\u001b[0m     \u001b[39mreturn\u001b[39;00m reduce(add, \u001b[39mlist\u001b[39m(\u001b[39mmap\u001b[39m(_rebuild, expr\u001b[39m.\u001b[39margs)))\n\u001b[1;32m    380\u001b[0m \u001b[39melif\u001b[39;00m expr\u001b[39m.\u001b[39mis_Mul:\n\u001b[0;32m--> 381\u001b[0m     \u001b[39mreturn\u001b[39;00m reduce(mul, \u001b[39mlist\u001b[39;49m(\u001b[39mmap\u001b[39;49m(_rebuild, expr\u001b[39m.\u001b[39;49margs)))\n\u001b[1;32m    382\u001b[0m \u001b[39melse\u001b[39;00m:\n\u001b[1;32m    383\u001b[0m     \u001b[39m# XXX: Use as_base_exp() to handle Pow(x, n) and also exp(n)\u001b[39;00m\n\u001b[1;32m    384\u001b[0m     \u001b[39m# XXX: E can be a generator e.g. sring([exp(2)]) -> ZZ[E]\u001b[39;00m\n\u001b[1;32m    385\u001b[0m     base, exp \u001b[39m=\u001b[39m expr\u001b[39m.\u001b[39mas_base_exp()\n",
      "File \u001b[0;32m/Library/Frameworks/Python.framework/Versions/3.11/lib/python3.11/site-packages/sympy/polys/rings.py:1118\u001b[0m, in \u001b[0;36mPolyElement.__mul__\u001b[0;34m(p1, p2)\u001b[0m\n\u001b[1;32m   1116\u001b[0m     \u001b[39mfor\u001b[39;00m exp2, v2 \u001b[39min\u001b[39;00m p2it:\n\u001b[1;32m   1117\u001b[0m         exp \u001b[39m=\u001b[39m monomial_mul(exp1, exp2)\n\u001b[0;32m-> 1118\u001b[0m         p[exp] \u001b[39m=\u001b[39m get(exp, zero) \u001b[39m+\u001b[39m v1\u001b[39m*\u001b[39;49mv2\n\u001b[1;32m   1119\u001b[0m p\u001b[39m.\u001b[39mstrip_zero()\n\u001b[1;32m   1120\u001b[0m \u001b[39mreturn\u001b[39;00m p\n",
      "File \u001b[0;32m/Library/Frameworks/Python.framework/Versions/3.11/lib/python3.11/site-packages/sympy/polys/rings.py:1114\u001b[0m, in \u001b[0;36mPolyElement.__mul__\u001b[0;34m(p1, p2)\u001b[0m\n\u001b[1;32m   1112\u001b[0m zero \u001b[39m=\u001b[39m ring\u001b[39m.\u001b[39mdomain\u001b[39m.\u001b[39mzero\n\u001b[1;32m   1113\u001b[0m monomial_mul \u001b[39m=\u001b[39m ring\u001b[39m.\u001b[39mmonomial_mul\n\u001b[0;32m-> 1114\u001b[0m p2it \u001b[39m=\u001b[39m \u001b[39mlist\u001b[39m(p2\u001b[39m.\u001b[39mitems())\n\u001b[1;32m   1115\u001b[0m \u001b[39mfor\u001b[39;00m exp1, v1 \u001b[39min\u001b[39;00m p1\u001b[39m.\u001b[39mitems():\n\u001b[1;32m   1116\u001b[0m     \u001b[39mfor\u001b[39;00m exp2, v2 \u001b[39min\u001b[39;00m p2it:\n",
      "\u001b[0;31mKeyboardInterrupt\u001b[0m: "
     ]
    }
   ],
   "source": [
    "def rhs(x):\n",
    "    return 0.2795 * (x / np.log(x)**(3/4)) * np.exp(-np.sqrt(np.log(x)/6.455))\n",
    "\n",
    "from sympy.abc import t\n",
    "from sympy import lambdify, integrate, log\n",
    "\n",
    "def li(x):\n",
    "    f = 1 / log(t)\n",
    "    return int(integrate(f, (t, 0, x)))\n",
    "\n",
    "def pi(x):\n",
    "    return len(get_primes(x))    \n",
    "\n",
    "for x in range(229, 229+1000):\n",
    "    print('x=', x, abs(pi(x) - li(x)), rhs(x), abs(pi(x) - li(x)) < rhs(x))"
   ]
  },
  {
   "cell_type": "code",
   "execution_count": 14,
   "metadata": {},
   "outputs": [
    {
     "ename": "NameError",
     "evalue": "name 'li' is not defined",
     "output_type": "error",
     "traceback": [
      "\u001b[0;31m---------------------------------------------------------------------------\u001b[0m",
      "\u001b[0;31mNameError\u001b[0m                                 Traceback (most recent call last)",
      "\u001b[1;32m/Users/jackbullen/Math-248/Labs/Week 14/Lab-41-Nov-27.ipynb Cell 16\u001b[0m line \u001b[0;36m8\n\u001b[1;32m      <a href='vscode-notebook-cell:/Users/jackbullen/Math-248/Labs/Week%2014/Lab-41-Nov-27.ipynb#X20sZmlsZQ%3D%3D?line=3'>4</a>\u001b[0m Li \u001b[39m=\u001b[39m integrate(\u001b[39m1\u001b[39m\u001b[39m/\u001b[39mlog(t), (t, \u001b[39m2\u001b[39m, x))\n\u001b[1;32m      <a href='vscode-notebook-cell:/Users/jackbullen/Math-248/Labs/Week%2014/Lab-41-Nov-27.ipynb#X20sZmlsZQ%3D%3D?line=5'>6</a>\u001b[0m Li_ \u001b[39m=\u001b[39m lambdify(x, Li)\n\u001b[0;32m----> <a href='vscode-notebook-cell:/Users/jackbullen/Math-248/Labs/Week%2014/Lab-41-Nov-27.ipynb#X20sZmlsZQ%3D%3D?line=7'>8</a>\u001b[0m Li_(\u001b[39m1\u001b[39;49m)\n",
      "File \u001b[0;32m<lambdifygenerated-4>:2\u001b[0m, in \u001b[0;36m_lambdifygenerated\u001b[0;34m(x)\u001b[0m\n\u001b[1;32m      1\u001b[0m \u001b[39mdef\u001b[39;00m \u001b[39m_lambdifygenerated\u001b[39m(x):\n\u001b[0;32m----> 2\u001b[0m     \u001b[39mreturn\u001b[39;00m li(x) \u001b[39m-\u001b[39m li(\u001b[39m2\u001b[39m)\n",
      "\u001b[0;31mNameError\u001b[0m: name 'li' is not defined"
     ]
    }
   ],
   "source": [
    "from sympy import integrate, log, lambdify\n",
    "from sympy.abc import t, x\n",
    "\n",
    "Li = integrate(1/log(t), (t, 2, x))\n",
    "\n",
    "Li_ = lambdify(x, Li)\n",
    "\n",
    "Li_(1)"
   ]
  },
  {
   "cell_type": "code",
   "execution_count": 23,
   "metadata": {},
   "outputs": [],
   "source": [
    "from scipy.integrate import quad\n",
    "\n",
    "def Li(x):\n",
    "    return quad(lambda t: 1 / log(t), 2, x)[0]\n",
    "\n",
    "ys = list(map(lambda x: Li(x), xs))"
   ]
  },
  {
   "cell_type": "code",
   "execution_count": 26,
   "metadata": {},
   "outputs": [
    {
     "data": {
      "text/plain": [
       "<matplotlib.legend.Legend at 0x11f823a50>"
      ]
     },
     "execution_count": 26,
     "metadata": {},
     "output_type": "execute_result"
    },
    {
     "data": {
      "image/png": "[encoded data removed]",
      "text/plain": [
       "<Figure size 640x480 with 1 Axes>"
      ]
     },
     "metadata": {},
     "output_type": "display_data"
    }
   ],
   "source": [
    "import numpy as np \n",
    "import matplotlib.pyplot as plt\n",
    "from sympy import li\n",
    "\n",
    "xs = np.arange(3,400,10)\n",
    "\n",
    "\n",
    "ys = list(map(lambda x: Li(x), xs))\n",
    "plt.plot(xs, ys, label='Li(x)')\n",
    "\n",
    "plt.plot(xs, np.array(list(map(lambda x: x / np.log(x), xs))), label='hmm idk')\n",
    "plt.plot(xs, np.array(list(map(lambda x: len(get_primes(x)), xs))), label='pi(x)')\n",
    "\n",
    "plt.legend()"
   ]
  },
  {
   "cell_type": "code",
   "execution_count": null,
   "metadata": {},
   "outputs": [],
   "source": []
  }
 ],
 "metadata": {
  "kernelspec": {
   "display_name": "Python 3",
   "language": "python",
   "name": "python3"
  },
  "language_info": {
   "codemirror_mode": {
    "name": "ipython",
    "version": 3
   },
   "file_extension": ".py",
   "mimetype": "text/x-python",
   "name": "python",
   "nbconvert_exporter": "python",
   "pygments_lexer": "ipython3",
   "version": "3.11.5"
  }
 },
 "nbformat": 4,
 "nbformat_minor": 2
}
